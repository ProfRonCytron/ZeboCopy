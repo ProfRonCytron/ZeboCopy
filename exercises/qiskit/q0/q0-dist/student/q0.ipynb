{
 "cells": [
  {
   "cell_type": "code",
   "execution_count": null,
   "id": "c7f38e6b",
   "metadata": {
    "deletable": false,
    "editable": false
   },
   "outputs": [],
   "source": [
    "# Initialize Otter\n",
    "import otter\n",
    "grader = otter.Notebook(\"q0.ipynb\")"
   ]
  },
  {
   "cell_type": "markdown",
   "id": "32b8a37b",
   "metadata": {},
   "source": [
    "# Qiskit Assignment 0\n",
    "## Introduction to Qiskit\n",
    "Welcome to your first Qiskit assignment! Qiskit is IBM's open-source SDK for working with quantum computers. We will be using Qiskit for programming assignments this semester. This assignment will help you begin to familarize yourself with the assignment workflow.\n",
    "\n",
    "### Learning Objectives\n",
    "1. Get familiar with Qiskit\n",
    "2. Understand the difference between classical and quantum bits\n",
    "3. Build simple quantum circuits\n",
    "4. Run your circuit on a quantum computer\n",
    "\n",
    "### Resources\n",
    "Qiskit assignments are designed to be collaborative and open internet. Where possible, links to helpful resources will be embedded within questions. Generally, you're free to discuss these questions with TAs and peers, but write your own solutions. There may be additional restrictions on, for example, what gates you may be allowed to use to solve each problem. To ensure compliance with course policies and assignment instructions, we reserve the right to inspect your code."
   ]
  },
  {
   "cell_type": "markdown",
   "id": "353674ce",
   "metadata": {},
   "source": [
    "**NAME**: REPLACE WITH YOUR NAME\n",
    "\n",
    "**STUDENT ID**: REPLACE WITH YOUR STUDENT ID"
   ]
  },
  {
   "cell_type": "code",
   "execution_count": 1,
   "id": "5edcc442",
   "metadata": {},
   "outputs": [],
   "source": [
    "# Import Qiskit and other needed packages\n",
    "from qiskit import *\n",
    "from qiskit.visualization import plot_histogram\n",
    "from qiskit.quantum_info import Statevector\n",
    "from qiskit_textbook.tools import array_to_latex\n",
    "import numpy as np\n",
    "import pprint"
   ]
  },
  {
   "cell_type": "markdown",
   "id": "37e99e7a",
   "metadata": {},
   "source": [
    "#### Task 1 - Building a Circuit (20 pts)\n",
    "Using Qiskit's [QuantumCircuit class](https://qiskit.org/documentation/stubs/qiskit.circuit.QuantumCircuit.html?highlight=quantumcircuit), fill in the `simpleCircuit()` function to return a circuit with 1 qubit and 1 classical bit that performs a measurement."
   ]
  },
  {
   "cell_type": "code",
   "execution_count": 2,
   "id": "35592812",
   "metadata": {
    "tags": []
   },
   "outputs": [],
   "source": [
    "def simpleCircuit():\n",
    "    ..."
   ]
  },
  {
   "cell_type": "code",
   "execution_count": null,
   "id": "0cdf4248",
   "metadata": {
    "deletable": false,
    "editable": false
   },
   "outputs": [],
   "source": [
    "grader.check(\"q1\")"
   ]
  },
  {
   "cell_type": "markdown",
   "id": "cfff0142",
   "metadata": {},
   "source": [
    "<!-- BEGIN QUESTION -->\n",
    "\n",
    "#### Task 2 - Drawing Circuits (20 pts)\n",
    "We can visualize circuits using the QuantumCircuit's [draw method](https://qiskit.org/documentation/stubs/qiskit.circuit.QuantumCircuit.draw.html#qiskit.circuit.QuantumCircuit.draw).\n",
    "Draw your circuit from Task 1 using the matplotlib format."
   ]
  },
  {
   "cell_type": "code",
   "execution_count": 7,
   "id": "c01ad42c",
   "metadata": {
    "tags": []
   },
   "outputs": [],
   "source": [
    "# Draw your circuit in this cell\n",
    "\n",
    "..."
   ]
  },
  {
   "cell_type": "markdown",
   "id": "73d66f78",
   "metadata": {},
   "source": [
    "<!-- END QUESTION -->\n",
    "\n",
    "#### Task 3 - Simulating Circuits and Getting Results (10 pts)\n",
    "Circuits aren't very helpful unless we can run them and observe the outputs.\n",
    "We will use the [qasm simulator](https://qiskit.org/documentation/stubs/qiskit.providers.aer.QasmSimulator.html) to simulate our circuit on a quantum machine.\n",
    "\n",
    "Using [the Qiskit docs](https://qiskit.org/documentation/apidoc/execute.html), execute a job that runs your simpleCircuit 468 times. Do the results match what we'd expect from this circuit?"
   ]
  },
  {
   "cell_type": "code",
   "execution_count": 8,
   "id": "2f6ef118",
   "metadata": {
    "tags": []
   },
   "outputs": [],
   "source": [
    "qc = simpleCircuit()\n",
    "qasm_sim = BasicAer.get_backend(\"qasm_simulator\")\n",
    "\n",
    "...\n",
    "\n",
    "counts = job.result().get_counts()\n",
    "\n",
    "# This loop displays a state with zero probability \n",
    "# on the histogram for the purpose of \n",
    "# comparison with the next section.\n",
    "for state in ['0','1']:\n",
    "    if state not in counts:\n",
    "        counts[state] = 0\n",
    "        \n",
    "plot_histogram(counts)"
   ]
  },
  {
   "cell_type": "code",
   "execution_count": null,
   "id": "4bac22db",
   "metadata": {
    "deletable": false,
    "editable": false
   },
   "outputs": [],
   "source": [
    "grader.check(\"q3\")"
   ]
  },
  {
   "cell_type": "markdown",
   "id": "06913b77",
   "metadata": {},
   "source": [
    "<!-- BEGIN QUESTION -->\n",
    "\n",
    "#### Task 4 - Running Your Circuit on a Quantum Computer (20 pts)\n",
    "Now let's compare our results from the simulator with the results from a real quantum device.\n",
    "*(What should we expect to see?)*\n",
    "\n",
    "Create an account with [IBM Quantum](https://quantum-computing.ibm.com/login) and paste your API token into the code block below. After running the `save_account` method, you may remove your token to keep it private from Gradescope. Credentials will be saved to your computer and calling `load_account` is sufficient to retrieve them."
   ]
  },
  {
   "cell_type": "code",
   "execution_count": 10,
   "id": "54997210",
   "metadata": {},
   "outputs": [],
   "source": [
    "# IBMQ.save_account('replace with your token and uncomment the first time')"
   ]
  },
  {
   "cell_type": "code",
   "execution_count": 11,
   "id": "afb2988c",
   "metadata": {},
   "outputs": [],
   "source": [
    "IBMQ.load_account()"
   ]
  },
  {
   "cell_type": "markdown",
   "id": "535b0e93",
   "metadata": {},
   "source": [
    "The code block below lists some info about the available IBM quantum devices and queues."
   ]
  },
  {
   "cell_type": "code",
   "execution_count": 12,
   "id": "2cbc9a1e",
   "metadata": {},
   "outputs": [],
   "source": [
    "provider = IBMQ.get_provider(hub='ibm-q')\n",
    "for backend in provider.backends():\n",
    "    status = backend.status().to_dict()\n",
    "    if status['operational'] and status['status_msg'] == 'active':\n",
    "        if 'simulator' not in status['backend_name']:\n",
    "            print(pprint.pformat(status))"
   ]
  },
  {
   "cell_type": "markdown",
   "id": "e32fbfae",
   "metadata": {},
   "source": [
    "Choose one of the backends from above and insert its name into the code block below. Running this code block will execuete your circuit on an IBM quantum device. **Note: It may take a while for your job to complete based on queue times.** Use the generated link to check your job's status."
   ]
  },
  {
   "cell_type": "code",
   "execution_count": 13,
   "id": "f0887fb8",
   "metadata": {},
   "outputs": [],
   "source": [
    "ibmqc = provider.get_backend('replace with a backend_name')\n",
    "job = execute(simpleCircuit(), ibmqc, shots=468)\n",
    "print(\"Check job status here:\", \"https://quantum-computing.ibm.com/jobs/\" + job.job_id())\n",
    "res = job.result()\n",
    "counts = res.get_counts()\n",
    "plot_histogram(counts)"
   ]
  },
  {
   "cell_type": "markdown",
   "id": "f1629b79",
   "metadata": {},
   "source": [
    "Do you see the same results as the qasm simulator? Why or why not?"
   ]
  },
  {
   "cell_type": "markdown",
   "id": "3d33b1ec",
   "metadata": {},
   "source": [
    "_Type your answer here, replacing this text._"
   ]
  },
  {
   "cell_type": "markdown",
   "id": "eaa23091",
   "metadata": {},
   "source": [
    "<!-- END QUESTION -->\n",
    "\n",
    "#### Task 5 - Another Circuit (15 pts)\n",
    "We now turn to Qiskit's [Pauli X gate](https://qiskit.org/textbook/ch-states/single-qubit-gates.html#xgate) so that we can prepare qubits in the $|1\\rangle$ state.\n",
    "\n",
    "There is also a brief discussion of this gate at the end of `lecture 1: Background`.\n",
    "\n",
    "- Fill in the below function to return a new QuantumCircuit with 2 qubits and 2 classical bits.\n",
    "- Prepare the first qubit in state $|0\\rangle$ and the second in state $|1\\rangle$\n",
    "- Perform a measurement onto each respective classical bit.\n",
    "- Draw the circuit using `draw()` and matplotlib"
   ]
  },
  {
   "cell_type": "code",
   "execution_count": 15,
   "id": "319121bb",
   "metadata": {
    "tags": []
   },
   "outputs": [],
   "source": [
    "def opposites():\n",
    "    ..."
   ]
  },
  {
   "cell_type": "code",
   "execution_count": 16,
   "id": "2ae7d315",
   "metadata": {
    "tags": []
   },
   "outputs": [],
   "source": [
    "# Draw your circuit in this cell\n",
    "\n",
    "..."
   ]
  },
  {
   "cell_type": "code",
   "execution_count": null,
   "id": "259e2386",
   "metadata": {
    "deletable": false,
    "editable": false
   },
   "outputs": [],
   "source": [
    "grader.check(\"q5\")"
   ]
  },
  {
   "cell_type": "markdown",
   "id": "4bf815d7",
   "metadata": {},
   "source": [
    "#### Task 6 - More Counts (15 pts)\n",
    "\n",
    "Think about what output you expect to see from this circuit. \n",
    "- Run your circuit on the qasm simulator 468 times\n",
    "- Store the measurement results in `counts_oppo`\n",
    "\n",
    "Note that the following cell uses Qiskit's [`reverse_bits()`](https://qiskit.org/documentation/stubs/qiskit.circuit.QuantumCircuit.reverse_bits.html#qiskit.circuit.QuantumCircuit.reverse_bits) function. This flips the ordering of qubits a multi-qubit circuit and changes the [endianness](https://en.wikipedia.org/wiki/Endianness) of the resulting statevector, $|01\\rangle$. The reasons for this will become clear in the upcoming lectures and notebook assignments."
   ]
  },
  {
   "cell_type": "code",
   "execution_count": 21,
   "id": "ead4d9c6",
   "metadata": {
    "tags": []
   },
   "outputs": [],
   "source": [
    "qc = opposites().reverse_bits()\n",
    "qasm_sim = BasicAer.get_backend(\"qasm_simulator\")\n",
    "\n",
    "...\n",
    "\n",
    "for state in ['00','01','10','11']:\n",
    "    if state not in counts_oppo:\n",
    "        counts_oppo[state] = 0\n",
    "plot_histogram(counts_oppo)"
   ]
  },
  {
   "cell_type": "code",
   "execution_count": null,
   "id": "b030edb3",
   "metadata": {
    "deletable": false,
    "editable": false
   },
   "outputs": [],
   "source": [
    "grader.check(\"q6\")"
   ]
  },
  {
   "cell_type": "markdown",
   "id": "1072a486",
   "metadata": {},
   "source": [
    "## Conclusion\n",
    "This is the general workflow of building and running quantum circuits. We will introduce more qubits and gates as needed to solve problems.\n",
    "\n",
    "Next time: the unitary gate and single qubit circuits!"
   ]
  },
  {
   "cell_type": "markdown",
   "id": "776ccf32",
   "metadata": {
    "deletable": false,
    "editable": false
   },
   "source": [
    "---\n",
    "\n",
    "To double-check your work, the cell below will rerun all of the autograder tests."
   ]
  },
  {
   "cell_type": "code",
   "execution_count": null,
   "id": "3474e20a",
   "metadata": {
    "deletable": false,
    "editable": false
   },
   "outputs": [],
   "source": [
    "grader.check_all()"
   ]
  },
  {
   "cell_type": "markdown",
   "id": "63483db2",
   "metadata": {
    "deletable": false,
    "editable": false
   },
   "source": [
    "## Submission\n",
    "\n",
    "Make sure you have run all cells in your notebook in order before running the cell below, so that all images/graphs appear in the output. The cell below will generate a zip file for you to submit. **Please save before exporting!**"
   ]
  },
  {
   "cell_type": "code",
   "execution_count": null,
   "id": "f8878927",
   "metadata": {
    "deletable": false,
    "editable": false
   },
   "outputs": [],
   "source": [
    "# Save your notebook first, then run this cell to export your submission.\n",
    "grader.export(pdf=False)"
   ]
  },
  {
   "cell_type": "markdown",
   "id": "ce055fb6",
   "metadata": {},
   "source": [
    " "
   ]
  }
 ],
 "metadata": {
  "kernelspec": {
   "display_name": "Python 3",
   "language": "python",
   "name": "python3"
  },
  "language_info": {
   "codemirror_mode": {
    "name": "ipython",
    "version": 3
   },
   "file_extension": ".py",
   "mimetype": "text/x-python",
   "name": "python",
   "nbconvert_exporter": "python",
   "pygments_lexer": "ipython3",
   "version": "3.7.0"
  },
  "otter": {
   "tests": {
    "q1": {
     "name": "q1",
     "points": 20,
     "suites": [
      {
       "cases": [
        {
         "code": ">>> simpleCircuit().num_clbits == 1\nTrue",
         "failure_message": "Number of classical bits does not match expected.",
         "hidden": false,
         "locked": false,
         "points": 5
        },
        {
         "code": ">>> simpleCircuit().num_qubits == 1\nTrue",
         "failure_message": "Number of qubits does not match expected.",
         "hidden": false,
         "locked": false,
         "points": 5
        },
        {
         "code": ">>> def testMeasurementPerformedSimple():\n...     ops = simpleCircuit().count_ops()\n...     if 'measure' not in ops:\n...         return False\n...     return ops['measure'] == 1\n>>> \n>>> testMeasurementPerformedSimple()\nTrue",
         "failure_message": "Remember to perform a measurement.",
         "hidden": false,
         "locked": false,
         "points": 5
        },
        {
         "code": ">>> def testProbabilitiesSimple():\n...     qc = simpleCircuit()\n...     job = execute(qc, BasicAer.get_backend('statevector_simulator'), shots=1)\n...     return list(job.result().get_statevector(qc)) == [1,0]\n>>> \n>>> testProbabilitiesSimple()\nTrue",
         "failure_message": "Got unexpected state.",
         "hidden": false,
         "locked": false,
         "points": 5
        }
       ],
       "scored": true,
       "setup": "",
       "teardown": "",
       "type": "doctest"
      }
     ]
    },
    "q3": {
     "name": "q3",
     "points": 10,
     "suites": [
      {
       "cases": [
        {
         "code": ">>> '0' in counts and counts['0'] == 468\nTrue",
         "hidden": false,
         "locked": false,
         "points": 10
        }
       ],
       "scored": true,
       "setup": "",
       "teardown": "",
       "type": "doctest"
      }
     ]
    },
    "q5": {
     "name": "q5",
     "points": 15,
     "suites": [
      {
       "cases": [
        {
         "code": ">>> opposites().num_clbits == 2\nTrue",
         "failure_message": "Unexpected number of classical bits.",
         "hidden": false,
         "locked": false,
         "points": 3
        },
        {
         "code": ">>> opposites().num_qubits == 2\nTrue",
         "failure_message": "Unexpected number of qubits.",
         "hidden": false,
         "locked": false,
         "points": 3
        },
        {
         "code": ">>> def testMeasurementsPerformedOpposites():\n...     ops = opposites().count_ops()\n...     if 'measure' not in ops:\n...         return False\n...     return ops['measure'] == 2\n>>> \n>>> testMeasurementsPerformedOpposites()\nTrue",
         "failure_message": "Measured unexpected state.",
         "hidden": false,
         "locked": false,
         "points": 4
        },
        {
         "code": ">>> def testProbabilitiesOpposites():\n...     qc = opposites().reverse_bits()\n...     job = execute(qc, BasicAer.get_backend('statevector_simulator'), shots=10)\n...     return list(job.result().get_statevector(qc)) == [0, 1, 0, 0]\n>>> \n>>> testProbabilitiesOpposites()\nTrue",
         "failure_message": "Measured unexpected state.",
         "hidden": false,
         "locked": false,
         "points": 5
        }
       ],
       "scored": true,
       "setup": "",
       "teardown": "",
       "type": "doctest"
      }
     ]
    },
    "q6": {
     "name": "q6",
     "points": 15,
     "suites": [
      {
       "cases": [
        {
         "code": ">>> '01' in counts_oppo and counts_oppo['01'] == 468\nTrue",
         "hidden": false,
         "locked": false,
         "points": 15
        }
       ],
       "scored": true,
       "setup": "",
       "teardown": "",
       "type": "doctest"
      }
     ]
    }
   }
  }
 },
 "nbformat": 4,
 "nbformat_minor": 5
}
