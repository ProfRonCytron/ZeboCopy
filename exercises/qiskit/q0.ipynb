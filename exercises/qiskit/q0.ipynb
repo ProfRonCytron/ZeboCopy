{
 "cells": [
  {
   "cell_type": "markdown",
   "id": "rural-portfolio",
   "metadata": {},
   "source": [
    "```\n",
    "BEGIN ASSIGNMENT\n",
    "requirements: requirements.txt\n",
    "solutions_pdf: true\n",
    "export_cell:\n",
    "    instructions: \"Custom submission instructions go here!\"\n",
    "generate: \n",
    "    pdf: true\n",
    "    zips: false\n",
    "```"
   ]
  },
  {
   "cell_type": "markdown",
   "id": "spare-advancement",
   "metadata": {},
   "source": [
    "# Qiskit Assignment 0\n",
    "## Intro to Qiskit and Your First Quantum Circuit\n",
    "Welcome to your first Qiskit assignment! Qiskit is IBM's open-source SDK for working with quantum computers. We will be using Qiskit for the majority of programming assignments this semester. This assignment will help you begin to familarize yourself with the Qiskit workflow.\n",
    "\n",
    "### Learning Objectives\n",
    "1. Become familiar with using the Qiskit package\n",
    "2. Understand the difference between classical and quantum bits\n",
    "3. Build simple quantum circuits, implement gates, and perform measurement\n",
    "4. Run your own quantum circuit on a real quantum device\n",
    "\n",
    "### Helpful Resources\n",
    "- https://qiskit.org/learn\n",
    "- https://qiskit.org/textbook/ch-appendix/linear_algebra.html\n",
    "- https://qiskit.org/textbook/ch-prerequisites/python-and-jupyter-notebooks.html"
   ]
  },
  {
   "cell_type": "code",
   "execution_count": null,
   "id": "legitimate-explosion",
   "metadata": {},
   "outputs": [],
   "source": [
    "#Import Qiskit and other needed packages\n",
    "from qiskit import *\n",
    "from qiskit.visualization import plot_histogram\n",
    "from qiskit.quantum_info import Statevector\n",
    "import numpy as np\n",
    "import pprint"
   ]
  },
  {
   "cell_type": "markdown",
   "id": "secure-secondary",
   "metadata": {},
   "source": [
    "#### Task 1 - Building Circuits\n",
    "Read about Quantum Circuits [here](https://qiskit.org/documentation/stubs/qiskit.circuit.QuantumCircuit.html?highlight=quantumcircuit)\n",
    "\n",
    "Complete the function `simpleCircuit()` below.\n",
    "\n",
    "```\n",
    "BEGIN QUESTION\n",
    "name: q1\n",
    "```"
   ]
  },
  {
   "cell_type": "code",
   "execution_count": null,
   "id": "prescription-inventory",
   "metadata": {},
   "outputs": [],
   "source": [
    "def simpleCircuit():\n",
    "    '''\n",
    "    This method should return a QuantumCircuit object with 1 quantum bit and 1 classical bit.\n",
    "    The circuit should also perform a measurement.\n",
    "    '''\n",
    "    qc = QuantumCircuit(1,1) # SOLUTION \n",
    "    qc.measure(0,0)\n",
    "    return qc"
   ]
  },
  {
   "cell_type": "code",
   "execution_count": null,
   "id": "sophisticated-bundle",
   "metadata": {},
   "outputs": [],
   "source": [
    "## TEST ##\n",
    "solution_qc = QuantumCircuit(1,1)\n",
    "student_qc = simpleCircuit().copy()\n",
    "student_qc.remove_final_measurements()\n",
    "Statevector.from_instruction(student_qc).equiv(Statevector.from_instruction(solution_qc))"
   ]
  },
  {
   "cell_type": "markdown",
   "id": "cleared-malawi",
   "metadata": {},
   "source": [
    "#### Task 2 - Drawing Circuits\n",
    "We can visualize circuits using the QuantumCircuit's [draw method](https://qiskit.org/documentation/stubs/qiskit.circuit.QuantumCircuit.html?highlight=quantumcircuit#qiskit.circuit.QuantumCircuit.draw).\n",
    "Draw your circuit from Task 1 using the matplotlib."
   ]
  },
  {
   "cell_type": "markdown",
   "id": "federal-surprise",
   "metadata": {},
   "source": [
    "```\n",
    "BEGIN QUESTION\n",
    "name: q2\n",
    "manual: true\n",
    "```"
   ]
  },
  {
   "cell_type": "code",
   "execution_count": null,
   "id": "caroline-annotation",
   "metadata": {},
   "outputs": [],
   "source": [
    "simpleCircuit().draw(output='mpl') # SOLUTION"
   ]
  },
  {
   "cell_type": "markdown",
   "id": "duplicate-geography",
   "metadata": {},
   "source": [
    "Note: We typically use matplotlib to draw our circuits because it's nicer to look at."
   ]
  },
  {
   "cell_type": "markdown",
   "id": "appropriate-mixture",
   "metadata": {},
   "source": [
    "#### Task 3 - Running Circuits and Getting Results\n",
    "Circuits aren't very helpful unless we can run them and observe the outputs.\n",
    "We will use the [qasm simulator](https://qiskit.org/documentation/stubs/qiskit.providers.aer.QasmSimulator.html) to simulate our circuit on an ideal quantum machine. (Remember real quantum devices are noisy!) \n",
    "\n",
    "We provide a circuit below named qc. We also provide code for execueting the circuit on the qasm backend and plotting the results in a histogram. However currently the circuit only execuetes once. Use this [resource](https://qiskit.org/documentation/tutorials/circuits/1_getting_started_with_qiskit.html#OpenQASM-backend) to modify the below code so that the circuit execuetes 1024 times.\n",
    "\n",
    "*(What should we expect to observe as our circuit's output?)*\n",
    "\n",
    "```\n",
    "BEGIN QUESTION\n",
    "name: q3\n",
    "manual: true\n",
    "```"
   ]
  },
  {
   "cell_type": "code",
   "execution_count": null,
   "id": "scheduled-hypothetical",
   "metadata": {},
   "outputs": [],
   "source": [
    "qc = QuantumCircuit(1,1)\n",
    "qc.measure(0,0)\n",
    "\n",
    "qasm_sim = BasicAer.get_backend(\"qasm_simulator\")\n",
    "\n",
    "job = execute(qc, qasm_sim, shots=1)\n",
    "counts = job.result().get_counts()\n",
    "\n",
    "plot_histogram(counts)"
   ]
  },
  {
   "cell_type": "markdown",
   "id": "speaking-bulgaria",
   "metadata": {},
   "source": [
    "#### Task 4 - Running Your Circuit on a Real Quantum Device\n",
    "Now let's compare our results from the simulator with the results from a real quantum device.\n",
    "*(What should we expect to see?)*\n",
    "\n",
    "If you have not done so already, create an account at [IBM Q](https://www.ibm.com/quantum-computing/) and paste your token into the code block below. After running the `save_account` method be sure to delete your token before uploading this assignment to Gradescope!"
   ]
  },
  {
   "cell_type": "code",
   "execution_count": null,
   "id": "brazilian-standard",
   "metadata": {},
   "outputs": [],
   "source": [
    "# IBMQ.save_account('replace with your token and uncomment the first time')\n",
    "IBMQ.load_account()"
   ]
  },
  {
   "cell_type": "markdown",
   "id": "included-expansion",
   "metadata": {},
   "source": [
    "The code block below lists some info about the available IBM quantum devices and queues. (Note: We can also use the [least_busy](https://qiskit.org/documentation/stubs/qiskit.providers.ibmq.least_busy.html) method to help us find a suitable device)"
   ]
  },
  {
   "cell_type": "code",
   "execution_count": null,
   "id": "speaking-november",
   "metadata": {},
   "outputs": [],
   "source": [
    "provider = IBMQ.get_provider(hub='ibm-q')\n",
    "for backend in provider.backends():\n",
    "    status = backend.status().to_dict()\n",
    "    if status['operational'] and status['status_msg']=='active':\n",
    "        print( pprint.pformat(backend.status().to_dict()) )"
   ]
  },
  {
   "cell_type": "markdown",
   "id": "governing-industry",
   "metadata": {},
   "source": [
    "Choose one of the backends from above and insert its name into the code block below. Running this code block will execuete your circuit on an IBM quantum device. You should see the job appear on the IBM Q website. Note: It may take a while for your job to complete based on queue times.\n",
    "\n",
    "```\n",
    "BEGIN QUESTION\n",
    "name: q4\n",
    "manual: true\n",
    "```"
   ]
  },
  {
   "cell_type": "code",
   "execution_count": null,
   "id": "shaped-justice",
   "metadata": {},
   "outputs": [],
   "source": [
    "ibmqc = provider.get_backend('BACKEND NAME HERE')\n",
    "job = execute(qc, ibmqc, shots=500)\n",
    "res = job.result()\n",
    "counts = res.get_counts()\n",
    "plot_histogram(counts)"
   ]
  },
  {
   "cell_type": "markdown",
   "id": "provincial-edinburgh",
   "metadata": {},
   "source": [
    "Do you see the same results as the qasm simulator? Why or why not?\n",
    "\n",
    "```\n",
    "BEGIN QUESTION\n",
    "name: q5\n",
    "manual: true\n",
    "```"
   ]
  },
  {
   "cell_type": "markdown",
   "id": "baking-contents",
   "metadata": {},
   "source": [
    "#### Task 5 - 2 qubits\n",
    "We now introduce Qiskit's [Pauli X gate](https://qiskit.org/textbook/ch-states/single-qubit-gates.html#xgate) so that we can prepare qubits in the one state.\n",
    "\n",
    "Below create a new QuantumCircuit with 2 qubits and 2 classical bits. Prepare the first qubit in state zero and the second qubit in state one. Don't forget to measure! \n",
    "\n",
    "```\n",
    "BEGIN QUESTION\n",
    "name: q6\n",
    "manual: true\n",
    "```"
   ]
  },
  {
   "cell_type": "code",
   "execution_count": null,
   "id": "confidential-primary",
   "metadata": {},
   "outputs": [],
   "source": [
    "qc = QuantumCircuit(2,2)# BEGIN SOLUTION\n",
    "qc.x(1)\n",
    "qc.measure(0,0)\n",
    "qc.measure(1,1)\n",
    "# END SOLUTION"
   ]
  },
  {
   "cell_type": "code",
   "execution_count": null,
   "id": "transsexual-budapest",
   "metadata": {},
   "outputs": [],
   "source": [
    "# TEST\n",
    "solution_qc = QuantumCircuit(2,2)\n",
    "solution_qc.x(1)\n",
    "student_qc = qc.copy()\n",
    "student_qc.remove_final_measurements()\n",
    "Statevector.from_instruction(student_qc).equiv(Statevector.from_instruction(solution_qc))"
   ]
  },
  {
   "cell_type": "markdown",
   "id": "colored-state",
   "metadata": {},
   "source": [
    "Think about what output you expect to see from this circuit. Write down your expectation. Now run your circuit on the qasm simulator and plot the resulting histogram. (Hint: See Task 4 for help on running your circuit!)\n"
   ]
  },
  {
   "cell_type": "code",
   "execution_count": null,
   "id": "detailed-literature",
   "metadata": {},
   "outputs": [],
   "source": [
    "# BEGIN SOLUTION\n",
    "qasm_sim = BasicAer.get_backend(\"qasm_simulator\")\n",
    "\n",
    "job = execute(qc, qasm_sim, shots=1024)\n",
    "counts = job.result().get_counts()\n",
    "\n",
    "plot_histogram(counts)\n",
    "# END SOLUTION"
   ]
  },
  {
   "cell_type": "markdown",
   "id": "hidden-teens",
   "metadata": {},
   "source": [
    "Were there any differences between your prediction and the qasm simulator's results? \n",
    "\n",
    "Note: Qiskit uses a different convention than most textbooks when listing its qubits. $q_0$ in your circuit is the bit on the far right in the result. See this [video](https://www.youtube.com/watch?v=EiqHj3_Avps) by Qiskit for more information on qubit ordering."
   ]
  },
  {
   "cell_type": "markdown",
   "id": "monetary-battery",
   "metadata": {},
   "source": [
    "## Conclusion\n",
    "This is the general workflow of building and running quantum circuits. We will introduce more qubits and gates as needed to solve problems.\n",
    "\n",
    "Note: Some assignments will include an \"Extension Ideas\" section. The purpose of this section is to provide students with further topics to investigate if desired. These topics are completely optional."
   ]
  },
  {
   "cell_type": "markdown",
   "id": "desperate-hamburg",
   "metadata": {},
   "source": [
    "### Extension Ideas\n",
    "- Practice using the CNOT and Hadamard gates\n",
    "- Create a function that given a circuit runs that circuit with all possible basis inputs and returns the results"
   ]
  }
 ],
 "metadata": {
  "kernelspec": {
   "display_name": "Python 3",
   "language": "python",
   "name": "python3"
  },
  "language_info": {
   "codemirror_mode": {
    "name": "ipython",
    "version": 3
   },
   "file_extension": ".py",
   "mimetype": "text/x-python",
   "name": "python",
   "nbconvert_exporter": "python",
   "pygments_lexer": "ipython3",
   "version": "3.8.3"
  }
 },
 "nbformat": 4,
 "nbformat_minor": 5
}
