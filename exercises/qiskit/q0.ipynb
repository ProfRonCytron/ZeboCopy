{
 "cells": [
  {
   "cell_type": "raw",
   "id": "f5cdd943",
   "metadata": {},
   "source": [
    "# ASSIGNMENT CONFIG\n",
    "generate:\n",
    "    token: xxxyyy                  # required\n",
    "    course_id: 280928              # required\n",
    "    assignment_id: 1489113          # required\n",
    "    filtering: true              # true is the default  \n",
    "    pagebreaks: true\n",
    "    show_stdout: true\n",
    "    show_hidden: true\n",
    "\n",
    "export_cell:                     # whether to include an Otter export cell in the output notebooks\n",
    "    instructions: ''             # additional submission instructions to include in the export cell\n",
    "    pdf: false                   # whether to include a PDF of the notebook in the generated zip file\n",
    "    filtering: true              # whether the generated PDF should be filtered\n",
    "    pagebreaks: true             # whether to include page breaks in the PDF\n",
    "    run_tests: false             # whether to run student submissions against local tests during export\n",
    "\n",
    "template_pdf: true"
   ]
  },
  {
   "cell_type": "markdown",
   "id": "spare-advancement",
   "metadata": {},
   "source": [
    "# Qiskit Assignment 0\n",
    "## Introduction to Qiskit\n",
    "Welcome to your first Qiskit assignment! Qiskit is IBM's open-source SDK for working with quantum computers. We will be using Qiskit for programming assignments this semester. This assignment will help you begin to familarize yourself with the assignment workflow.\n",
    "\n",
    "### Learning Objectives\n",
    "1. Get familiar with Qiskit\n",
    "2. Understand the difference between classical and quantum bits\n",
    "3. Build simple quantum circuits\n",
    "4. Run your circuit on a quantum computer\n",
    "\n",
    "### Resources\n",
    "Qiskit assignments are designed to be collaborative and open internet. Where possible, links to helpful resources will be embedded within questions. Generally, you're free to discuss these questions with TAs and peers, but don't copy answers from each other. There may be additional restrictions on, for example, what gates you may be allowed to use to solve each problem. To ensure compliance with course policies and assignment instructions, we reserve the right to inspect your code."
   ]
  },
  {
   "cell_type": "code",
   "execution_count": null,
   "id": "legitimate-explosion",
   "metadata": {},
   "outputs": [],
   "source": [
    "# Import Qiskit and other needed packages\n",
    "from qiskit import *\n",
    "from qiskit.visualization import plot_histogram\n",
    "from qiskit.quantum_info import Statevector\n",
    "from qiskit_textbook.tools import array_to_latex\n",
    "import numpy as np\n",
    "import pprint"
   ]
  },
  {
   "cell_type": "raw",
   "id": "a0469427",
   "metadata": {},
   "source": [
    "# BEGIN QUESTION\n",
    "name: q1\n",
    "points: 20\n",
    "manual: false"
   ]
  },
  {
   "cell_type": "markdown",
   "id": "secure-secondary",
   "metadata": {},
   "source": [
    "#### Task 1 - Building a Circuit\n",
    "Using Qiskit's [QuantumCircuit class](https://qiskit.org/documentation/stubs/qiskit.circuit.QuantumCircuit.html?highlight=quantumcircuit), fill in the `simpleCircuit()` function to return a circuit with 1 qubit and 1 classical bit that performs a measurement."
   ]
  },
  {
   "cell_type": "raw",
   "id": "3a238496",
   "metadata": {},
   "source": [
    "# BEGIN SOLUTION"
   ]
  },
  {
   "cell_type": "code",
   "execution_count": null,
   "id": "prescription-inventory",
   "metadata": {},
   "outputs": [],
   "source": [
    "def simpleCircuit():\n",
    "    # BEGIN SOLUTION\n",
    "    qc = QuantumCircuit(1,1)\n",
    "    qc.measure(0,0)\n",
    "    # END SOLUTION\n",
    "    return qc"
   ]
  },
  {
   "cell_type": "raw",
   "id": "c6b8615f",
   "metadata": {},
   "source": [
    "# END SOLUTION"
   ]
  },
  {
   "cell_type": "raw",
   "id": "2f02f000",
   "metadata": {},
   "source": [
    "# BEGIN TESTS "
   ]
  },
  {
   "cell_type": "code",
   "execution_count": null,
   "id": "074c000c",
   "metadata": {},
   "outputs": [],
   "source": [
    "\"\"\" # BEGIN TEST CONFIG\n",
    "hidden: false\n",
    "points: 3\n",
    "success_message: Passed the first test!\n",
    "failure_message: Number of classical bits does not match expected.\n",
    "\"\"\" # END TEST CONFIG\n",
    "simpleCircuit().num_clbits == 1"
   ]
  },
  {
   "cell_type": "code",
   "execution_count": null,
   "id": "16439c1e",
   "metadata": {},
   "outputs": [],
   "source": [
    "\"\"\" # BEGIN TEST CONFIG\n",
    "hidden: false\n",
    "points: 3\n",
    "failure_message: Number of qubits does not match expected.\n",
    "\"\"\" # END TEST CONFIG\n",
    "simpleCircuit().num_qubits == 1"
   ]
  },
  {
   "cell_type": "code",
   "execution_count": null,
   "id": "de8da64f",
   "metadata": {},
   "outputs": [],
   "source": [
    "\"\"\" # BEGIN TEST CONFIG\n",
    "hidden: false\n",
    "points: 4\n",
    "failure_message: Remember to perform a measurement.\n",
    "\"\"\" # END TEST CONFIG\n",
    "def testMeasurementPerformedSimple():\n",
    "    ops = simpleCircuit().count_ops()\n",
    "    if 'measure' not in ops:\n",
    "        return False\n",
    "    return ops['measure'] == 1\n",
    "\n",
    "testMeasurementPerformedSimple()"
   ]
  },
  {
   "cell_type": "code",
   "execution_count": null,
   "id": "c939459f",
   "metadata": {},
   "outputs": [],
   "source": [
    "\"\"\" # BEGIN TEST CONFIG\n",
    "hidden: false\n",
    "points: 5\n",
    "failure_message: Measured unexpected state.\n",
    "\"\"\" # END TEST CONFIG\n",
    "def testProbabilitiesSimple():\n",
    "    qc = simpleCircuit()\n",
    "    job = execute(qc, BasicAer.get_backend('statevector_simulator'), shots=1)\n",
    "    return list(job.result().get_statevector(qc)) == [1,0]\n",
    "\n",
    "testProbabilitiesSimple()"
   ]
  },
  {
   "cell_type": "code",
   "execution_count": null,
   "id": "sophisticated-bundle",
   "metadata": {},
   "outputs": [],
   "source": [
    "\"\"\" # BEGIN TEST CONFIG\n",
    "hidden: true\n",
    "points: 5\n",
    "\"\"\" # END TEST CONFIG\n",
    "def testSolutionSimple(student_qc):\n",
    "    solution_qc = QuantumCircuit(1,1)\n",
    "    student_qc = simpleCircuit()\n",
    "    student_qc.remove_final_measurements()\n",
    "    return Statevector.from_instruction(student_qc).equiv(Statevector.from_instruction(solution_qc))\n",
    "\n",
    "testSolutionSimple(simpleCircuit())"
   ]
  },
  {
   "cell_type": "raw",
   "id": "f9126e72",
   "metadata": {},
   "source": [
    "# END TESTS"
   ]
  },
  {
   "cell_type": "raw",
   "id": "7c34782c",
   "metadata": {},
   "source": [
    "# END QUESTION"
   ]
  },
  {
   "cell_type": "raw",
   "id": "50e12033",
   "metadata": {},
   "source": [
    "# BEGIN QUESTION\n",
    "name: q2\n",
    "points: 20\n",
    "manual: true"
   ]
  },
  {
   "cell_type": "markdown",
   "id": "cleared-malawi",
   "metadata": {},
   "source": [
    "#### Task 2 - Drawing Circuits\n",
    "We can visualize circuits using the QuantumCircuit's [draw method](https://qiskit.org/documentation/stubs/qiskit.circuit.QuantumCircuit.draw.html#qiskit.circuit.QuantumCircuit.draw).\n",
    "Draw your circuit from Task 1 using the matplotlib format."
   ]
  },
  {
   "cell_type": "raw",
   "id": "1aa3443d",
   "metadata": {},
   "source": [
    "# BEGIN SOLUTION"
   ]
  },
  {
   "cell_type": "code",
   "execution_count": null,
   "id": "caroline-annotation",
   "metadata": {},
   "outputs": [],
   "source": [
    "# BEGIN SOLUTION\n",
    "simpleCircuit().draw(output='mpl')\n",
    "# END SOLUTION"
   ]
  },
  {
   "cell_type": "markdown",
   "id": "e1c390e6",
   "metadata": {},
   "source": [
    "We typically use matplotlib to draw our circuits because it produces color figures that are nicer than the default."
   ]
  },
  {
   "cell_type": "raw",
   "id": "50534e99",
   "metadata": {},
   "source": [
    "# END SOLUTION"
   ]
  },
  {
   "cell_type": "raw",
   "id": "6eda5d77",
   "metadata": {},
   "source": [
    "# END QUESTION"
   ]
  },
  {
   "cell_type": "raw",
   "id": "44be5246",
   "metadata": {},
   "source": [
    "# BEGIN QUESTION\n",
    "name: q3\n",
    "points: 10\n",
    "manual: false"
   ]
  },
  {
   "cell_type": "markdown",
   "id": "appropriate-mixture",
   "metadata": {},
   "source": [
    "#### Task 3 - Simulating Circuits and Getting Results\n",
    "Circuits aren't very helpful unless we can run them and observe the outputs.\n",
    "We will use the [qasm simulator](https://qiskit.org/documentation/stubs/qiskit.providers.aer.QasmSimulator.html) to simulate our circuit on a quantum machine.\n",
    "\n",
    "Using [the Qiskit docs](https://qiskit.org/documentation/apidoc/execute.html), execute a job that runs your simpleCircuit 468 times.\n",
    "\n",
    "*(What should we expect to observe from the measurement?)*"
   ]
  },
  {
   "cell_type": "raw",
   "id": "ac4a94ae",
   "metadata": {},
   "source": [
    "# BEGIN SOLUTION"
   ]
  },
  {
   "cell_type": "code",
   "execution_count": null,
   "id": "scheduled-hypothetical",
   "metadata": {},
   "outputs": [],
   "source": [
    "qc = simpleCircuit()\n",
    "qasm_sim = BasicAer.get_backend(\"qasm_simulator\")\n",
    "\n",
    "# BEGIN SOLUTION\n",
    "job = execute(qc, qasm_sim, shots=468)\n",
    "# END SOLUTION\n",
    "\n",
    "counts = job.result().get_counts()\n",
    "\n",
    "# This loop displays a state with zero probability \n",
    "# on the histogram for the purpose of \n",
    "# comparison with the next section.\n",
    "for state in ['0','1']:\n",
    "    if state not in counts:\n",
    "        counts[state] = 0\n",
    "        \n",
    "plot_histogram(counts)"
   ]
  },
  {
   "cell_type": "raw",
   "id": "2670e1f1",
   "metadata": {},
   "source": [
    "# END SOLUTION"
   ]
  },
  {
   "cell_type": "raw",
   "id": "152d049d",
   "metadata": {},
   "source": [
    "# BEGIN TESTS"
   ]
  },
  {
   "cell_type": "code",
   "execution_count": null,
   "id": "10732052",
   "metadata": {},
   "outputs": [],
   "source": [
    "\"\"\" # BEGIN TEST CONFIG\n",
    "hidden: true\n",
    "points: 10\n",
    "\"\"\" # END TEST CONFIG\n",
    "counts == {'0': 468}"
   ]
  },
  {
   "cell_type": "raw",
   "id": "2e848582",
   "metadata": {},
   "source": [
    "# END TESTS"
   ]
  },
  {
   "cell_type": "raw",
   "id": "17596d60",
   "metadata": {},
   "source": [
    "# END QUESTION"
   ]
  },
  {
   "cell_type": "raw",
   "id": "1f490b1b",
   "metadata": {},
   "source": [
    "# BEGIN QUESTION\n",
    "name: q4\n",
    "points: 20\n",
    "manual: true"
   ]
  },
  {
   "cell_type": "markdown",
   "id": "speaking-bulgaria",
   "metadata": {},
   "source": [
    "#### Task 4 - Running Your Circuit on a Quantum Computer\n",
    "Now let's compare our results from the simulator with the results from a real quantum device.\n",
    "*(What should we expect to see?)*\n",
    "\n",
    "Create an account with [IBM Quantum](https://quantum-computing.ibm.com/login) and paste your API token into the code block below. After running the `save_account` method, you may remove your token to keep it private from Gradescope. Credentials will be saved to your computer and calling `load_account` is sufficient to retrieve them."
   ]
  },
  {
   "cell_type": "code",
   "execution_count": null,
   "id": "ff985808",
   "metadata": {},
   "outputs": [],
   "source": [
    "# IBMQ.save_account('replace with your token and uncomment the first time')"
   ]
  },
  {
   "cell_type": "code",
   "execution_count": null,
   "id": "brazilian-standard",
   "metadata": {},
   "outputs": [],
   "source": [
    "IBMQ.load_account()"
   ]
  },
  {
   "cell_type": "markdown",
   "id": "included-expansion",
   "metadata": {},
   "source": [
    "The code block below lists some info about the available IBM quantum devices and queues."
   ]
  },
  {
   "cell_type": "code",
   "execution_count": null,
   "id": "speaking-november",
   "metadata": {},
   "outputs": [],
   "source": [
    "provider = IBMQ.get_provider(hub='ibm-q')\n",
    "for backend in provider.backends():\n",
    "    status = backend.status().to_dict()\n",
    "    if status['operational'] and status['status_msg'] == 'active':\n",
    "        if 'simulator' not in status['backend_name']:\n",
    "            print(pprint.pformat(status))"
   ]
  },
  {
   "cell_type": "markdown",
   "id": "governing-industry",
   "metadata": {},
   "source": [
    "Choose one of the backends from above and insert its name into the code block below. Running this code block will execuete your circuit on an IBM quantum device. **Note: It may take a while for your job to complete based on queue times.** Use the generated link to check your job's status."
   ]
  },
  {
   "cell_type": "code",
   "execution_count": null,
   "id": "shaped-justice",
   "metadata": {},
   "outputs": [],
   "source": [
    "ibmqc = provider.get_backend('replace with a backend_name')\n",
    "job = execute(simpleCircuit(), ibmqc, shots=468)\n",
    "print(\"Check job status here:\", \"https://quantum-computing.ibm.com/jobs/\" + job.job_id())\n",
    "res = job.result()\n",
    "counts = res.get_counts()\n",
    "plot_histogram(counts)"
   ]
  },
  {
   "cell_type": "markdown",
   "id": "fdb9f351",
   "metadata": {},
   "source": [
    "Do you see the same results as the qasm simulator? Why or why not?"
   ]
  },
  {
   "cell_type": "raw",
   "id": "b587462e",
   "metadata": {},
   "source": [
    "\n",
    "\n",
    "*provide your answer here*\n",
    "\n"
   ]
  },
  {
   "cell_type": "raw",
   "id": "41bf1bab",
   "metadata": {},
   "source": [
    "# END QUESTION"
   ]
  },
  {
   "cell_type": "raw",
   "id": "deed2251",
   "metadata": {},
   "source": [
    "# BEGIN QUESTION\n",
    "name: q5\n",
    "points: 15\n",
    "manual: false"
   ]
  },
  {
   "cell_type": "markdown",
   "id": "baking-contents",
   "metadata": {},
   "source": [
    "#### Task 5 - Another Circuit\n",
    "We now turn to Qiskit's [Pauli X gate](https://qiskit.org/textbook/ch-states/single-qubit-gates.html#xgate) so that we can prepare qubits in the $|1\\rangle$ state.\n",
    "\n",
    "There is also a brief discussion of this gate at the end of `lecture 1: Background`.\n",
    "\n",
    "- Fill in the below function to return a new QuantumCircuit with 2 qubits and 2 classical bits.\n",
    "- Prepare the first qubit in state $|0\\rangle$ and the second in state $|1\\rangle$\n",
    "- Perform a measurement onto each respective classical bit.\n",
    "- Draw the circuit using `draw()` and matplotlib"
   ]
  },
  {
   "cell_type": "raw",
   "id": "a303fc6e",
   "metadata": {},
   "source": [
    "# BEGIN SOLUTION"
   ]
  },
  {
   "cell_type": "code",
   "execution_count": null,
   "id": "confidential-primary",
   "metadata": {},
   "outputs": [],
   "source": [
    "def opposites():\n",
    "    qc = None\n",
    "    # BEGIN SOLUTION\n",
    "    qc = QuantumCircuit(2,2)\n",
    "    qc.x(1)\n",
    "    qc.measure(0,0)\n",
    "    qc.measure(1,1)\n",
    "    # END SOLUTION\n",
    "    return qc"
   ]
  },
  {
   "cell_type": "code",
   "execution_count": null,
   "id": "d1999e3a",
   "metadata": {},
   "outputs": [],
   "source": [
    "# Draw your circuit in this cell\n",
    "\n",
    "# BEGIN SOLUTION\n",
    "opposites().draw(output='mpl')\n",
    "# END SOLUTION"
   ]
  },
  {
   "cell_type": "raw",
   "id": "147f0a30",
   "metadata": {},
   "source": [
    "# END SOLUTION"
   ]
  },
  {
   "cell_type": "raw",
   "id": "9ae37ec5",
   "metadata": {},
   "source": [
    "# BEGIN TESTS"
   ]
  },
  {
   "cell_type": "code",
   "execution_count": null,
   "id": "931c2a2b",
   "metadata": {},
   "outputs": [],
   "source": [
    "\"\"\" # BEGIN TEST CONFIG\n",
    "hidden: false\n",
    "points: 3\n",
    "failure_message: Unexpected number of classical bits.\n",
    "\"\"\" # END TEST CONFIG\n",
    "opposites().num_clbits == 2"
   ]
  },
  {
   "cell_type": "code",
   "execution_count": null,
   "id": "073f8933",
   "metadata": {},
   "outputs": [],
   "source": [
    "\"\"\" # BEGIN TEST CONFIG\n",
    "hidden: false\n",
    "points: 3\n",
    "failure_message: Unexpected number of qubits.\n",
    "\"\"\" # END TEST CONFIG\n",
    "opposites().num_qubits == 2"
   ]
  },
  {
   "cell_type": "code",
   "execution_count": null,
   "id": "e48048b8",
   "metadata": {},
   "outputs": [],
   "source": [
    "\"\"\" # BEGIN TEST CONFIG\n",
    "hidden: false\n",
    "points: 4\n",
    "failure_message: Measured unexpected state.\n",
    "\"\"\" # END TEST CONFIG\n",
    "def testMeasurementsPerformedOpposites():\n",
    "    ops = opposites().count_ops()\n",
    "    if 'measure' not in ops:\n",
    "        return False\n",
    "    return ops['measure'] == 2\n",
    "\n",
    "testMeasurementsPerformedOpposites()"
   ]
  },
  {
   "cell_type": "code",
   "execution_count": null,
   "id": "e30122ef",
   "metadata": {},
   "outputs": [],
   "source": [
    "\"\"\" # BEGIN TEST CONFIG\n",
    "hidden: false\n",
    "points: 5\n",
    "failure_message: Measured unexpected state.\n",
    "\"\"\" # END TEST CONFIG\n",
    "def testProbabilitiesOpposites():\n",
    "    qc = opposites().reverse_bits()\n",
    "    job = execute(qc, BasicAer.get_backend('statevector_simulator'), shots=10)\n",
    "    return list(job.result().get_statevector(qc)) == [0, 1, 0, 0]\n",
    "\n",
    "testProbabilitiesOpposites()"
   ]
  },
  {
   "cell_type": "raw",
   "id": "692f1f83",
   "metadata": {},
   "source": [
    "# END TESTS"
   ]
  },
  {
   "cell_type": "raw",
   "id": "a7c1b901",
   "metadata": {},
   "source": [
    "# END QUESTION"
   ]
  },
  {
   "cell_type": "raw",
   "id": "eeb652d4",
   "metadata": {},
   "source": [
    "# BEGIN QUESTION\n",
    "name: q6\n",
    "points: 1\n",
    "manual: false"
   ]
  },
  {
   "cell_type": "markdown",
   "id": "colored-state",
   "metadata": {},
   "source": [
    "Think about what output you expect to see from this circuit. \n",
    "- Run your circuit on the qasm simulator 468 times\n",
    "- Store the measurement results in `counts`"
   ]
  },
  {
   "cell_type": "raw",
   "id": "c5abc375",
   "metadata": {},
   "source": [
    "# BEGIN SOLUTION"
   ]
  },
  {
   "cell_type": "code",
   "execution_count": null,
   "id": "detailed-literature",
   "metadata": {},
   "outputs": [],
   "source": [
    "qc = opposites().reverse_bits()\n",
    "qasm_sim = BasicAer.get_backend(\"qasm_simulator\")\n",
    "\n",
    "# BEGIN SOLUTION\n",
    "job = execute(qc, qasm_sim, shots=468)\n",
    "counts = job.result().get_counts()\n",
    "# END SOLUTION\n",
    "\n",
    "for state in ['00','01','10','11']:\n",
    "    if state not in counts:\n",
    "        counts[state] = 0\n",
    "plot_histogram(counts)"
   ]
  },
  {
   "cell_type": "markdown",
   "id": "5d1a127f",
   "metadata": {},
   "source": [
    "Note that the previous cell uses Qiskit's [`reverse_bits()`](https://qiskit.org/documentation/stubs/qiskit.circuit.QuantumCircuit.reverse_bits.html#qiskit.circuit.QuantumCircuit.reverse_bits) function. This flips the ordering of qubits your a circuit and changes the [endianness](https://en.wikipedia.org/wiki/Endianness) of the resulting statevector, $|01\\rangle$. The reasons for this will become clearer in the upcoming lectures and notebook assignments."
   ]
  },
  {
   "cell_type": "raw",
   "id": "94ebb0ab",
   "metadata": {},
   "source": [
    "# END SOLUTION"
   ]
  },
  {
   "cell_type": "raw",
   "id": "b08d8748",
   "metadata": {},
   "source": [
    "# BEGIN TESTS"
   ]
  },
  {
   "cell_type": "code",
   "execution_count": null,
   "id": "56983b92",
   "metadata": {},
   "outputs": [],
   "source": [
    "\"\"\" # BEGIN TEST CONFIG\n",
    "hidden: true\n",
    "points: 15\n",
    "\"\"\" # END TEST CONFIG\n",
    "counts['01'] == 468"
   ]
  },
  {
   "cell_type": "raw",
   "id": "2683ab4a",
   "metadata": {},
   "source": [
    "# END TESTS"
   ]
  },
  {
   "cell_type": "raw",
   "id": "fb02d05c",
   "metadata": {},
   "source": [
    "# END QUESTION"
   ]
  },
  {
   "cell_type": "markdown",
   "id": "monetary-battery",
   "metadata": {},
   "source": [
    "## Conclusion\n",
    "This is the general workflow of building and running quantum circuits. We will introduce more qubits and gates as needed to solve problems.\n",
    "\n",
    "Next time: the unitary gate and single qubit circuits!"
   ]
  },
  {
   "cell_type": "markdown",
   "id": "desperate-hamburg",
   "metadata": {},
   "source": [
    "### Extension Ideas\n",
    "- Build a circuit using the CNOT and Hadamard gates\n",
    "- Create a function that, given a circuit, runs that circuit with all possible basis inputs and returns the results"
   ]
  }
 ],
 "metadata": {
  "kernelspec": {
   "display_name": "Python 3",
   "language": "python",
   "name": "python3"
  },
  "language_info": {
   "codemirror_mode": {
    "name": "ipython",
    "version": 3
   },
   "file_extension": ".py",
   "mimetype": "text/x-python",
   "name": "python",
   "nbconvert_exporter": "python",
   "pygments_lexer": "ipython3",
   "version": "3.7.0"
  }
 },
 "nbformat": 4,
 "nbformat_minor": 5
}
