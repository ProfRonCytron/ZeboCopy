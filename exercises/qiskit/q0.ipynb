{
 "cells": [
  {
   "cell_type": "markdown",
   "id": "rural-portfolio",
   "metadata": {},
   "source": [
    "# Qiskit Assignment 0\n",
    "## Intro to Qiskit and Your First Quantum Circuit\n",
    "Welcome to your first Qiskit assignment...etc\n",
    "\n",
    "### Learning Objectives\n",
    "1. Become familiar with using the Qiskit package\n",
    "2. Understand the difference between classical and quantum bits\n",
    "3. Build simple quantum circuits, implement gates, and perform measurement\n",
    "4. Run your own quantum circuit on a real quantum device\n",
    "\n",
    "### Helpful Resources\n",
    "- https://qiskit.org/learn\n",
    "- https://qiskit.org/textbook/ch-appendix/linear_algebra.html\n",
    "- https://qiskit.org/textbook/ch-prerequisites/python-and-jupyter-notebooks.html\n",
    "- etc..."
   ]
  },
  {
   "cell_type": "code",
   "execution_count": 1,
   "id": "legitimate-explosion",
   "metadata": {},
   "outputs": [],
   "source": [
    "#Import Qiskit and other needed packages\n",
    "from qiskit import *\n",
    "from qiskit.visualization import plot_histogram\n",
    "import numpy as np\n",
    "import pprint"
   ]
  },
  {
   "cell_type": "markdown",
   "id": "secure-secondary",
   "metadata": {},
   "source": [
    "#### Task 1 - Building Circuits\n",
    "Read about Quantum Circuits [here](https://qiskit.org/documentation/stubs/qiskit.circuit.QuantumCircuit.html?highlight=quantumcircuit)\n",
    "\n",
    "Create a circuit with 1 quantum bit and 1 classical bit and perform a measurement."
   ]
  },
  {
   "cell_type": "code",
   "execution_count": 2,
   "id": "prescription-inventory",
   "metadata": {},
   "outputs": [
    {
     "data": {
      "text/plain": [
       "<qiskit.circuit.instructionset.InstructionSet at 0x27ae3560970>"
      ]
     },
     "execution_count": 2,
     "metadata": {},
     "output_type": "execute_result"
    }
   ],
   "source": [
    "#Sample\n",
    "#qc = ?\n",
    "\n",
    "#Answer\n",
    "qc = QuantumCircuit(1,1)\n",
    "qc.measure(0,0)"
   ]
  },
  {
   "cell_type": "markdown",
   "id": "cleared-malawi",
   "metadata": {},
   "source": [
    "We can visualize circuits using the QuantumCircuit's [draw method](https://qiskit.org/documentation/stubs/qiskit.circuit.QuantumCircuit.html?highlight=quantumcircuit#qiskit.circuit.QuantumCircuit.draw)\n",
    "#### Task 2 - Drawing Circuits\n",
    "Draw your circuit from Task 1 using ascii art and matplotlib."
   ]
  },
  {
   "cell_type": "code",
   "execution_count": 3,
   "id": "caroline-annotation",
   "metadata": {},
   "outputs": [
    {
     "data": {
      "text/html": [
       "<pre style=\"word-wrap: normal;white-space: pre;background: #fff0;line-height: 1.1;font-family: &quot;Courier New&quot;,Courier,monospace\">     ┌─┐\n",
       "q_0: ┤M├\n",
       "     └╥┘\n",
       "c: 1/═╩═\n",
       "      0 </pre>"
      ],
      "text/plain": [
       "     ┌─┐\n",
       "q_0: ┤M├\n",
       "     └╥┘\n",
       "c: 1/═╩═\n",
       "      0 "
      ]
     },
     "execution_count": 3,
     "metadata": {},
     "output_type": "execute_result"
    }
   ],
   "source": [
    "#Sample\n",
    "\n",
    "#Answer\n",
    "qc.draw()"
   ]
  },
  {
   "cell_type": "code",
   "execution_count": 5,
   "id": "proprietary-generator",
   "metadata": {},
   "outputs": [
    {
     "name": "stdout",
     "output_type": "stream",
     "text": [
      "1\n"
     ]
    }
   ],
   "source": [
    "#Sample\n",
    "\n",
    "#Answer\n",
    "qc.draw(output='mpl')"
   ]
  },
  {
   "cell_type": "markdown",
   "id": "duplicate-geography",
   "metadata": {},
   "source": [
    "Note: We typically use matplotlib to draw our circuits because... it's nicer to look at generally."
   ]
  },
  {
   "cell_type": "markdown",
   "id": "appropriate-mixture",
   "metadata": {},
   "source": [
    "#### Task 3 - Running Circuits and Getting Results\n",
    "Circuits aren't very helpful unless we can run them and observe the outputs.\n",
    "We will use the [qasm simulator](https://qiskit.org/documentation/stubs/qiskit.providers.aer.QasmSimulator.html) to simulate our circuit on an ideal quantum machine. (Remember real quantum devices are noisy!)\n",
    "\n",
    "Use Qiskit's documentation to run your circuit 1024 times and plot the results.\n",
    "*(What should we expect to observe as our circuit's output?)*"
   ]
  },
  {
   "cell_type": "code",
   "execution_count": 14,
   "id": "determined-texture",
   "metadata": {},
   "outputs": [
    {
     "data": {
      "image/png": "[encoded data removed]",
      "text/plain": [
       "<Figure size 504x360 with 1 Axes>"
      ]
     },
     "execution_count": 14,
     "metadata": {},
     "output_type": "execute_result"
    }
   ],
   "source": [
    "#Answer\n",
    "qasm_sim = Aer.get_backend('qasm_simulator') #We first get the simulator\n",
    "shots = 1024 #shots is the number of times we want to run our circuit\n",
    "qobj = assemble(qc, shots=shots) #we then turn our circuit into something the simulator can run\n",
    "results = qasm_sim.run(qobj).result()\n",
    "counts = results.get_counts()\n",
    "plot_histogram(counts)"
   ]
  },
  {
   "cell_type": "markdown",
   "id": "entire-genealogy",
   "metadata": {},
   "source": [
    "You should see 0 with 100% probability. Recall qubits are initialized in the zero state."
   ]
  },
  {
   "cell_type": "markdown",
   "id": "speaking-bulgaria",
   "metadata": {},
   "source": [
    "#### Task 4 - Running Your Circuit on a Real Quantum Device\n",
    "Now let's compare our results from the simulator with the results from a real quantum device.\n",
    "*(What should we expect to see?)*<br>\n",
    "If you have not done so already, create an account at [IBM Q](https://www.ibm.com/quantum-computing/) and paste your token into the code block below."
   ]
  },
  {
   "cell_type": "code",
   "execution_count": 15,
   "id": "brazilian-standard",
   "metadata": {},
   "outputs": [
    {
     "name": "stderr",
     "output_type": "stream",
     "text": [
      "ibmqfactory.load_account:WARNING:2021-06-14 16:21:27,615: Credentials are already in use. The existing account in the session will be replaced.\n"
     ]
    },
    {
     "data": {
      "text/plain": [
       "<AccountProvider for IBMQ(hub='ibm-q', group='open', project='main')>"
      ]
     },
     "execution_count": 15,
     "metadata": {},
     "output_type": "execute_result"
    }
   ],
   "source": [
    "# IBMQ.save_account('replace with your token and uncomment the first time')\n",
    "IBMQ.load_account()"
   ]
  },
  {
   "cell_type": "markdown",
   "id": "included-expansion",
   "metadata": {},
   "source": [
    "The code block below lists some info about the available IBM quantum devices and queues. (Note: We can also use the [least_busy](https://qiskit.org/documentation/stubs/qiskit.providers.ibmq.least_busy.html) method to help us find a suitable device)"
   ]
  },
  {
   "cell_type": "code",
   "execution_count": 16,
   "id": "speaking-november",
   "metadata": {},
   "outputs": [
    {
     "name": "stdout",
     "output_type": "stream",
     "text": [
      "{'backend_name': 'ibmq_qasm_simulator',\n",
      " 'backend_version': '0.1.547',\n",
      " 'operational': True,\n",
      " 'pending_jobs': 0,\n",
      " 'status_msg': 'active'}\n",
      "{'backend_name': 'ibmqx2',\n",
      " 'backend_version': '2.3.6',\n",
      " 'operational': True,\n",
      " 'pending_jobs': 2,\n",
      " 'status_msg': 'active'}\n",
      "{'backend_name': 'ibmq_16_melbourne',\n",
      " 'backend_version': '2.3.24',\n",
      " 'operational': True,\n",
      " 'pending_jobs': 13,\n",
      " 'status_msg': 'active'}\n",
      "{'backend_name': 'ibmq_armonk',\n",
      " 'backend_version': '2.4.10',\n",
      " 'operational': True,\n",
      " 'pending_jobs': 1,\n",
      " 'status_msg': 'active'}\n",
      "{'backend_name': 'ibmq_athens',\n",
      " 'backend_version': '1.3.19',\n",
      " 'operational': True,\n",
      " 'pending_jobs': 21,\n",
      " 'status_msg': 'active'}\n",
      "{'backend_name': 'ibmq_santiago',\n",
      " 'backend_version': '1.3.22',\n",
      " 'operational': True,\n",
      " 'pending_jobs': 30,\n",
      " 'status_msg': 'active'}\n",
      "{'backend_name': 'ibmq_lima',\n",
      " 'backend_version': '1.0.11',\n",
      " 'operational': True,\n",
      " 'pending_jobs': 24,\n",
      " 'status_msg': 'active'}\n",
      "{'backend_name': 'ibmq_belem',\n",
      " 'backend_version': '1.0.12',\n",
      " 'operational': True,\n",
      " 'pending_jobs': 6,\n",
      " 'status_msg': 'active'}\n",
      "{'backend_name': 'ibmq_quito',\n",
      " 'backend_version': '1.1.2',\n",
      " 'operational': True,\n",
      " 'pending_jobs': 9,\n",
      " 'status_msg': 'active'}\n",
      "{'backend_name': 'simulator_statevector',\n",
      " 'backend_version': '0.1.547',\n",
      " 'operational': True,\n",
      " 'pending_jobs': 0,\n",
      " 'status_msg': 'active'}\n",
      "{'backend_name': 'simulator_mps',\n",
      " 'backend_version': '0.1.547',\n",
      " 'operational': True,\n",
      " 'pending_jobs': 0,\n",
      " 'status_msg': 'active'}\n",
      "{'backend_name': 'simulator_extended_stabilizer',\n",
      " 'backend_version': '0.1.547',\n",
      " 'operational': True,\n",
      " 'pending_jobs': 0,\n",
      " 'status_msg': 'active'}\n",
      "{'backend_name': 'simulator_stabilizer',\n",
      " 'backend_version': '0.1.547',\n",
      " 'operational': True,\n",
      " 'pending_jobs': 0,\n",
      " 'status_msg': 'active'}\n",
      "{'backend_name': 'ibmq_manila',\n",
      " 'backend_version': '1.0.1',\n",
      " 'operational': True,\n",
      " 'pending_jobs': 2,\n",
      " 'status_msg': 'active'}\n"
     ]
    }
   ],
   "source": [
    "provider = IBMQ.get_provider(hub='ibm-q')\n",
    "for backend in provider.backends():\n",
    "    status = backend.status().to_dict()\n",
    "    if status['operational'] and status['status_msg']=='active':\n",
    "        print( pprint.pformat(backend.status().to_dict()) )"
   ]
  },
  {
   "cell_type": "markdown",
   "id": "governing-industry",
   "metadata": {},
   "source": [
    "Choose one of these backends and insert its name into the code block below. Running this code block will execuete your circuit on an IBM quantum device. You should see the job appear on the IBM Q website. Note: It may take a while for your job to complete based on queue times."
   ]
  },
  {
   "cell_type": "code",
   "execution_count": 17,
   "id": "shaped-justice",
   "metadata": {},
   "outputs": [
    {
     "data": {
      "image/png": "[encoded data removed]",
      "text/plain": [
       "<Figure size 504x360 with 1 Axes>"
      ]
     },
     "execution_count": 17,
     "metadata": {},
     "output_type": "execute_result"
    }
   ],
   "source": [
    "ibmqc = provider.get_backend('ibmq_manila')\n",
    "job = execute(qc, ibmqc, shots=500)\n",
    "res = job.result()\n",
    "counts = res.get_counts()\n",
    "plot_histogram(counts)"
   ]
  },
  {
   "cell_type": "markdown",
   "id": "provincial-edinburgh",
   "metadata": {},
   "source": [
    "Do you see the same results as the qasm simulator? Why or why not?"
   ]
  },
  {
   "cell_type": "markdown",
   "id": "baking-contents",
   "metadata": {},
   "source": [
    "#### Task 5 - 2 qubits\n",
    "We now introduce Qiskit's [Pauli X gate](https://qiskit.org/textbook/ch-states/single-qubit-gates.html#xgate) so that we can prepare qubits in state one.\n",
    "\n",
    "Below create a new QuantumCircuit with 2 qubits and 2 classical bits. Prepare the first qubit in state zero and the second qubit in state one. Draw your complete circuit. Don't forget to measure! "
   ]
  },
  {
   "cell_type": "code",
   "execution_count": 22,
   "id": "transsexual-budapest",
   "metadata": {},
   "outputs": [
    {
     "data": {
      "image/png": "[encoded data removed]",
      "text/plain": [
       "<Figure size 267.052x204.68 with 1 Axes>"
      ]
     },
     "execution_count": 22,
     "metadata": {},
     "output_type": "execute_result"
    }
   ],
   "source": [
    "#Answer\n",
    "qc2 = QuantumCircuit(2,2)\n",
    "qc2.x(1)\n",
    "qc2.measure(range(0,2),range(0,2))\n",
    "qc2.draw(output='mpl')"
   ]
  },
  {
   "cell_type": "markdown",
   "id": "colored-state",
   "metadata": {},
   "source": [
    "Think about what output you expect to see from this circuit. Write down your expectation. Now run your circuit on the qasm simulator and compare the results."
   ]
  },
  {
   "cell_type": "code",
   "execution_count": 23,
   "id": "detailed-literature",
   "metadata": {},
   "outputs": [
    {
     "data": {
      "image/png": "[encoded data removed]",
      "text/plain": [
       "<Figure size 504x360 with 1 Axes>"
      ]
     },
     "execution_count": 23,
     "metadata": {},
     "output_type": "execute_result"
    }
   ],
   "source": [
    "#Answer\n",
    "shots = 1024 \n",
    "qobj = assemble(qc2, shots=shots) \n",
    "results = qasm_sim.run(qobj).result()\n",
    "counts = results.get_counts()\n",
    "plot_histogram(counts)"
   ]
  },
  {
   "cell_type": "markdown",
   "id": "hidden-teens",
   "metadata": {},
   "source": [
    "Were there any differences between your prediction and the qasm simulator's results? If so, don't feel bad! Qiskit uses a slightly different convention when listing its qubits. $q_0$ in your circuit is the bit on the far right in the result. ADD BETTER EXPLANATION HERE... There are some strategies to list the results in a more conventional ordering but for this class we want to ?? See this [video](https://www.youtube.com/watch?v=EiqHj3_Avps) by Qiskit for more info on qubit ordering."
   ]
  },
  {
   "cell_type": "markdown",
   "id": "monetary-battery",
   "metadata": {},
   "source": [
    "#### Conclusion\n",
    "This is the general workflow of building and running quantum circuits. We will introduce more qubits and gates as needed to solve problems."
   ]
  },
  {
   "cell_type": "markdown",
   "id": "desperate-hamburg",
   "metadata": {},
   "source": [
    "### Extension Ideas\n",
    "- Play around with CNOT and H gates\n",
    "- Introduce statevector backend?\n",
    "- Create a function that given a circuit runs that circuit with all possible basis inputs and returns the results (harder)"
   ]
  },
  {
   "cell_type": "code",
   "execution_count": null,
   "id": "bulgarian-scholarship",
   "metadata": {},
   "outputs": [],
   "source": []
  }
 ],
 "metadata": {
  "kernelspec": {
   "display_name": "Python 3",
   "language": "python",
   "name": "python3"
  },
  "language_info": {
   "codemirror_mode": {
    "name": "ipython",
    "version": 3
   },
   "file_extension": ".py",
   "mimetype": "text/x-python",
   "name": "python",
   "nbconvert_exporter": "python",
   "pygments_lexer": "ipython3",
   "version": "3.8.3"
  }
 },
 "nbformat": 4,
 "nbformat_minor": 5
}
