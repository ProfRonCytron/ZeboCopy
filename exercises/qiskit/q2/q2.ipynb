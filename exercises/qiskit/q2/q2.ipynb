{
 "cells": [
  {
   "cell_type": "raw",
   "id": "310e4a65",
   "metadata": {},
   "source": [
    "# ASSIGNMENT CONFIG\n",
    "generate:\n",
    "    token: 8654j6ett3xjTQHqUK3Jyw                  # required\n",
    "    course_id: 280928              # required\n",
    "    assignment_id: 1734052          # required\n",
    "    filtering: true              # true is the default  \n",
    "    pagebreaks: true\n",
    "    show_stdout: true\n",
    "    show_hidden: true\n",
    "requirements: # for building the autograder, in addition to the stuff required by otter\n",
    "    - qiskit\n",
    "    - pylatexenc\n",
    "    - git+https://github.com/qiskit-community/qiskit-textbook.git#egg=qiskit_textbook&subdirectory=qiskit-textbook-src\n",
    "export_cell:                     # whether to include an Otter export cell in the output notebooks\n",
    "    instructions: ''             # additional submission instructions to include in the export cell\n",
    "    pdf: false                   # whether to include a PDF of the notebook in the generated zip file\n",
    "    filtering: true              # whether the generated PDF should be filtered\n",
    "    pagebreaks: true             # whether to include page breaks in the PDF\n",
    "    run_tests: false             # whether to run student submissions against local tests during export\n",
    "template_pdf: true\n",
    "solutions_pdf: true"
   ]
  },
  {
   "cell_type": "markdown",
   "id": "bc76da90",
   "metadata": {},
   "source": [
    "# Qiskit Assignment 2\n",
    "\n",
    "## Elitzur-Vaidman Bomb\n",
    "Today you will be implementing the EV Bomb experiment."
   ]
  },
  {
   "cell_type": "markdown",
   "id": "a4ec29b1",
   "metadata": {},
   "source": [
    "**NAME**: REPLACE WITH YOUR NAME\n",
    "\n",
    "**STUDENT ID**: REPLACE WITH YOUR STUDENT ID"
   ]
  },
  {
   "cell_type": "code",
   "execution_count": 245,
   "id": "reported-confidentiality",
   "metadata": {},
   "outputs": [],
   "source": [
    "from qiskit import *\n",
    "from qiskit.quantum_info import Statevector\n",
    "from qiskit.visualization import plot_histogram\n",
    "import random\n",
    "import numpy as np\n",
    "import math\n",
    "import matplotlib.pyplot as plt\n",
    "import re"
   ]
  },
  {
   "cell_type": "raw",
   "id": "99194058",
   "metadata": {},
   "source": [
    "# BEGIN QUESTION\n",
    "name: Task 1\n",
    "points: 1\n",
    "manual: false"
   ]
  },
  {
   "cell_type": "markdown",
   "id": "78b5b5be",
   "metadata": {},
   "source": [
    "#### Task 1 - Establishing a Lower Bound\n",
    "First let's compute the number of iterations through the loop we need to be arbitrarily confident that there won't be an explosion during our experiment. Write a function `compute_iterations` that takes an input `probability`, *in decimal form*, and returns `n`, the number of iterations needed to be (`probability`$\\times 100$)% confident that there will **not** be an explosion. Round $n$ to the next highest integer. "
   ]
  },
  {
   "cell_type": "raw",
   "id": "4428435c",
   "metadata": {},
   "source": [
    "# BEGIN SOLUTION"
   ]
  },
  {
   "cell_type": "code",
   "execution_count": 199,
   "id": "strategic-angel",
   "metadata": {},
   "outputs": [],
   "source": [
    "def compute_iterations(probability):\n",
    "    # BEGIN SOLUTION\n",
    "    n = (np.pi**2) / (4*(1-probability))\n",
    "    n = round(n)\n",
    "    return n\n",
    "    # END SOLUTION"
   ]
  },
  {
   "cell_type": "raw",
   "id": "fff71b5e",
   "metadata": {},
   "source": [
    "# END SOLUTION"
   ]
  },
  {
   "cell_type": "raw",
   "id": "6c8eaec6",
   "metadata": {},
   "source": [
    "# BEGIN TESTS"
   ]
  },
  {
   "cell_type": "code",
   "execution_count": 200,
   "id": "pursuant-shakespeare",
   "metadata": {},
   "outputs": [
    {
     "data": {
      "text/plain": [
       "True"
      ]
     },
     "execution_count": 200,
     "metadata": {},
     "output_type": "execute_result"
    }
   ],
   "source": [
    "compute_iterations(0.5) == 5"
   ]
  },
  {
   "cell_type": "code",
   "execution_count": 201,
   "id": "anticipated-sender",
   "metadata": {},
   "outputs": [
    {
     "data": {
      "text/plain": [
       "True"
      ]
     },
     "execution_count": 201,
     "metadata": {},
     "output_type": "execute_result"
    }
   ],
   "source": [
    "compute_iterations(0.99) == 247"
   ]
  },
  {
   "cell_type": "code",
   "execution_count": 202,
   "id": "e3c06aa9",
   "metadata": {},
   "outputs": [
    {
     "data": {
      "text/plain": [
       "True"
      ]
     },
     "execution_count": 202,
     "metadata": {},
     "output_type": "execute_result"
    }
   ],
   "source": [
    "compute_iterations(0.99473) == 468"
   ]
  },
  {
   "cell_type": "code",
   "execution_count": 205,
   "id": "f106069a",
   "metadata": {},
   "outputs": [
    {
     "data": {
      "text/plain": [
       "True"
      ]
     },
     "execution_count": 205,
     "metadata": {},
     "output_type": "execute_result"
    }
   ],
   "source": [
    "# HIDDEN\n",
    "def testComputeIterations():\n",
    "    for n in range(1,1000):\n",
    "        probability = n / 1000\n",
    "        solution_ans = round((np.pi**2) / (4*(1-probability)))\n",
    "        student_ans = compute_iterations(probability)\n",
    "        if student_ans != solution_ans:\n",
    "            return False\n",
    "    return True\n",
    "\n",
    "testComputeIterations() == True"
   ]
  },
  {
   "cell_type": "raw",
   "id": "1f7c7908",
   "metadata": {},
   "source": [
    "# END TESTS"
   ]
  },
  {
   "cell_type": "raw",
   "id": "deefe7d7",
   "metadata": {},
   "source": [
    "# END QUESTION"
   ]
  },
  {
   "cell_type": "raw",
   "id": "ff242d5f",
   "metadata": {},
   "source": [
    "# BEGIN QUESTION\n",
    "name: Task 2\n",
    "points: 1\n",
    "manual: false"
   ]
  },
  {
   "cell_type": "markdown",
   "id": "incorrect-sword",
   "metadata": {},
   "source": [
    "#### Task 2 - Computing Theta\n",
    "We know the number of iterations we need to be arbitrarily confident the bomb won't explode. Now let's calculate the angle we need to rotate through at each step of iteration, $\\theta$. Write a function `compute_theta(n)` that takes `n` as input and returns $\\theta$. Round $\\theta$ to the nearest 5 decimal places."
   ]
  },
  {
   "cell_type": "raw",
   "id": "5d1fb09b",
   "metadata": {},
   "source": [
    "# BEGIN SOLUTION"
   ]
  },
  {
   "cell_type": "code",
   "execution_count": 206,
   "id": "mighty-mother",
   "metadata": {},
   "outputs": [],
   "source": [
    "def compute_theta(n):\n",
    "    # BEGIN SOLUTION\n",
    "    theta = np.pi/n\n",
    "    theta = round(theta,5)\n",
    "    return theta\n",
    "    # END SOLUTION"
   ]
  },
  {
   "cell_type": "raw",
   "id": "ff034a6e",
   "metadata": {},
   "source": [
    "# END SOLUTION"
   ]
  },
  {
   "cell_type": "raw",
   "id": "020c0880",
   "metadata": {},
   "source": [
    "# BEGIN TESTS"
   ]
  },
  {
   "cell_type": "code",
   "execution_count": 207,
   "id": "d2b57f72",
   "metadata": {},
   "outputs": [
    {
     "data": {
      "text/plain": [
       "True"
      ]
     },
     "execution_count": 207,
     "metadata": {},
     "output_type": "execute_result"
    }
   ],
   "source": [
    "rounding_re = re.compile(r\"^([\\d]{1}).([\\d]{5})$\")\n",
    "\n",
    "def testNumDecimalPlaces():\n",
    "    theta = compute_theta(10)\n",
    "    success = True\n",
    "    return False if rounding_re.match(str(theta)) is None else True\n",
    "  \n",
    "testNumDecimalPlaces()"
   ]
  },
  {
   "cell_type": "code",
   "execution_count": 208,
   "id": "188abe06",
   "metadata": {},
   "outputs": [
    {
     "data": {
      "text/plain": [
       "True"
      ]
     },
     "execution_count": 208,
     "metadata": {},
     "output_type": "execute_result"
    }
   ],
   "source": [
    "compute_theta(15) == 0.20944 and compute_theta(25) == 0.12566"
   ]
  },
  {
   "cell_type": "code",
   "execution_count": 209,
   "id": "118c9fd9",
   "metadata": {},
   "outputs": [
    {
     "data": {
      "text/plain": [
       "True"
      ]
     },
     "execution_count": 209,
     "metadata": {},
     "output_type": "execute_result"
    }
   ],
   "source": [
    "# HIDDEN\n",
    "def testComputeTheta():\n",
    "    for n in range(1,1000):\n",
    "        solution_ans = round(np.pi/n,5)\n",
    "        student_ans = compute_theta(n)\n",
    "        if student_ans != solution_ans:\n",
    "            return False\n",
    "    return True\n",
    "\n",
    "testComputeTheta() == True"
   ]
  },
  {
   "cell_type": "raw",
   "id": "4f64bc44",
   "metadata": {},
   "source": [
    "# END TESTS"
   ]
  },
  {
   "cell_type": "raw",
   "id": "82873f0a",
   "metadata": {},
   "source": [
    "# END QUESTION"
   ]
  },
  {
   "cell_type": "raw",
   "id": "c47e465c",
   "metadata": {},
   "source": [
    "# BEGIN QUESTION\n",
    "name: Task 3\n",
    "points: 1\n",
    "manual: false"
   ]
  },
  {
   "cell_type": "markdown",
   "id": "monthly-executive",
   "metadata": {},
   "source": [
    "#### Task 3 - Rotation\n",
    "Write a function `rotate(qc,theta)` that takes an input QuantumCircuit `qc`, an input `theta`, and applies a gate to `qc`'s qubit which rotates the state by $\\theta$ radians around the $y$-axis of the Bloch sphere."
   ]
  },
  {
   "cell_type": "raw",
   "id": "13c4b975",
   "metadata": {},
   "source": [
    "# BEGIN SOLUTION"
   ]
  },
  {
   "cell_type": "code",
   "execution_count": 210,
   "id": "brief-concord",
   "metadata": {},
   "outputs": [],
   "source": [
    "def rotate(qc, theta):\n",
    "    # BEGIN SOLUTION\n",
    "    qc.ry(theta,0)\n",
    "    # END SOLUTION\n",
    "    return qc"
   ]
  },
  {
   "cell_type": "raw",
   "id": "2c31e556",
   "metadata": {},
   "source": [
    "# END SOLUTION"
   ]
  },
  {
   "cell_type": "raw",
   "id": "1f05f15f",
   "metadata": {},
   "source": [
    "# BEGIN TESTS"
   ]
  },
  {
   "cell_type": "code",
   "execution_count": 211,
   "id": "5bd20dbf",
   "metadata": {},
   "outputs": [
    {
     "data": {
      "text/plain": [
       "True"
      ]
     },
     "execution_count": 211,
     "metadata": {},
     "output_type": "execute_result"
    }
   ],
   "source": [
    "def testProbabilities1():\n",
    "    qc = genQC(1)\n",
    "    theta = np.pi\n",
    "    qc_rot = rotate(qc, theta).reverse_bits()\n",
    "    job = execute(qc_rot, BasicAer.get_backend('statevector_simulator'), shots=10)\n",
    "    return list(job.result().get_statevector(qc))\n",
    "\n",
    "testProbabilities1()  == [0,1]"
   ]
  },
  {
   "cell_type": "code",
   "execution_count": 212,
   "id": "d03d6792",
   "metadata": {},
   "outputs": [
    {
     "data": {
      "text/plain": [
       "True"
      ]
     },
     "execution_count": 212,
     "metadata": {},
     "output_type": "execute_result"
    }
   ],
   "source": [
    "def testProbabilities2():\n",
    "    qc = genQC(1)\n",
    "    theta = np.pi / 2\n",
    "    qc_rot = rotate(qc, theta).reverse_bits()\n",
    "    job = execute(qc_rot, BasicAer.get_backend('statevector_simulator'), shots=10)\n",
    "    return list(job.result().get_statevector(qc))\n",
    "\n",
    "testProbabilities2() == [1/np.sqrt(2), 1/np.sqrt(2)]"
   ]
  },
  {
   "cell_type": "code",
   "execution_count": 213,
   "id": "b39a05c5",
   "metadata": {},
   "outputs": [
    {
     "data": {
      "text/plain": [
       "True"
      ]
     },
     "execution_count": 213,
     "metadata": {},
     "output_type": "execute_result"
    }
   ],
   "source": [
    "def testProbabilities3():\n",
    "    qc = genQC(1)\n",
    "    theta = 2* np.pi / 3\n",
    "    qc_rot = rotate(qc, theta).reverse_bits()\n",
    "    job = execute(qc_rot, BasicAer.get_backend('statevector_simulator'), shots=10)\n",
    "    return [round(num, 5) for num in job.result().get_statevector().real]\n",
    "\n",
    "testProbabilities3() == [round(num, 5) for num in [1/2, np.sqrt(3)/2]]"
   ]
  },
  {
   "cell_type": "code",
   "execution_count": 217,
   "id": "0206a3eb",
   "metadata": {},
   "outputs": [
    {
     "data": {
      "text/plain": [
       "True"
      ]
     },
     "execution_count": 217,
     "metadata": {},
     "output_type": "execute_result"
    }
   ],
   "source": [
    "# HIDDEN\n",
    "em = BasicAer.get_backend(\"qasm_simulator\")\n",
    "passing = True\n",
    "\n",
    "for i in range(360):\n",
    "    theta = i * np.pi/180\n",
    "    qc_student = rotate(genQC(1), theta)\n",
    "    \n",
    "    qc_solution = genQC(1)\n",
    "    qc_solution.u(theta, 0, 0, getQR(qc_solution))\n",
    "    \n",
    "    if not Statevector.from_instruction(qc_student).equiv(Statevector.from_instruction(qc_solution)):\n",
    "        passing = False\n",
    "        break\n",
    "\n",
    "passing == True"
   ]
  },
  {
   "cell_type": "raw",
   "id": "62dfad32",
   "metadata": {},
   "source": [
    "# END TESTS"
   ]
  },
  {
   "cell_type": "raw",
   "id": "523232f8",
   "metadata": {},
   "source": [
    "# END QUESTION"
   ]
  },
  {
   "cell_type": "markdown",
   "id": "legal-starter",
   "metadata": {},
   "source": [
    "We use the below method `bomb_oracle()` to randomly decide to include a bomb or not in our experiment."
   ]
  },
  {
   "cell_type": "code",
   "execution_count": 123,
   "id": "cathedral-keeping",
   "metadata": {},
   "outputs": [],
   "source": [
    "random.seed(468)\n",
    "\n",
    "def bomb_oracle():\n",
    "    if random.random() < 0.5:\n",
    "        return \"bomb\"\n",
    "    else:\n",
    "        return \"empty\""
   ]
  },
  {
   "cell_type": "markdown",
   "id": "6d47e2e2",
   "metadata": {},
   "source": [
    "We have provided some other helper methods below. \n",
    "\n",
    "`genQC(n)` generates a QuantumCircuit with 1 qubit and n classical bits. \n",
    "\n",
    "`identity(qc)` applies an identity gate to `qc`'s qubit. \n",
    "\n",
    "`measure(qc, i=0)` applies a measurment from `qc`'s qubit to the $i$th classical bit."
   ]
  },
  {
   "cell_type": "code",
   "execution_count": 115,
   "id": "d9f00654",
   "metadata": {},
   "outputs": [],
   "source": [
    "def genQC(n):\n",
    "    qc = QuantumCircuit()\n",
    "    qr = QuantumRegister(1,'qr')\n",
    "    cr = ClassicalRegister(n, 'step')\n",
    "    rs = ClassicalRegister(1, 'result')\n",
    "    qc.add_register(qr)\n",
    "    qc.add_register(cr)\n",
    "    qc.add_register(rs)\n",
    "    return qc\n",
    "\n",
    "def identity(qc):\n",
    "    qr = getQR(qc)\n",
    "    qc.id(qr)\n",
    "    return qc\n",
    "\n",
    "def measure(qc, i=0):\n",
    "    qr = getQR(qc)\n",
    "    cr = getCR(qc, i)\n",
    "    qc.measure(qr,cr)\n",
    "    return qc\n",
    "\n",
    "def getQR(qc):\n",
    "    return qc.qregs[0]\n",
    "\n",
    "def getCR(qc, i):\n",
    "    return qc.cregs[0][i]"
   ]
  },
  {
   "cell_type": "raw",
   "id": "20204ee3",
   "metadata": {},
   "source": [
    "# BEGIN QUESTION\n",
    "name: Task 4\n",
    "points: 1\n",
    "manual: true"
   ]
  },
  {
   "cell_type": "markdown",
   "id": "interior-publisher",
   "metadata": {},
   "source": [
    "#### Task 4  - Putting Things Together\n",
    "We are now ready to build the full circuit. Write a function `gen_circuit(probability, bomb)` which takes a `probability` that the bomb won't explode, `bomb`--the result of a call to `bomb_oracle()`, and returns a circuit representing the standard EV bomb implementation. For our experiment, we will represent the bomb being present with a measurement and the bomb being absent with an identity. \n",
    "\n",
    "Hint: use the provided functions and previous tasks to help build your circuit. Refer to the end of lecture for a description of the implementation."
   ]
  },
  {
   "cell_type": "raw",
   "id": "bf66db1f",
   "metadata": {},
   "source": [
    "# BEGIN SOLUTION"
   ]
  },
  {
   "cell_type": "code",
   "execution_count": 196,
   "id": "balanced-athletics",
   "metadata": {},
   "outputs": [],
   "source": [
    "def gen_circuit(probability, bomb):\n",
    "    # BEGIN SOLUTION\n",
    "    n = compute_iterations(probability)\n",
    "    angle = compute_theta(n)\n",
    "    qc = genQC(n)\n",
    "    \n",
    "    for i in range(n):\n",
    "        rotate(qc, angle)\n",
    "        if bomb == \"bomb\":\n",
    "            measure(qc,i)\n",
    "        else:\n",
    "            identity(qc)\n",
    "    \n",
    "    # END SOLUTION\n",
    "    # Add one final measurement without rotation\n",
    "    # to the result register\n",
    "    qc.measure(getQR(qc), qc.cregs[1])\n",
    "    return qc"
   ]
  },
  {
   "cell_type": "code",
   "execution_count": 218,
   "id": "0f0f0921",
   "metadata": {},
   "outputs": [
    {
     "data": {
      "image/png": "[encoded data removed]",
      "text/plain": [
       "<Figure size 661.42x204.68 with 1 Axes>"
      ]
     },
     "execution_count": 218,
     "metadata": {},
     "output_type": "execute_result"
    }
   ],
   "source": [
    "# Draw a bomb circuit here having probability == 0.5\n",
    "# BEGIN SOLUTION\n",
    "qc = gen_circuit(0.45, \"bomb\")\n",
    "qc.draw(output='mpl')\n",
    "# END SOLUTION"
   ]
  },
  {
   "cell_type": "code",
   "execution_count": 219,
   "id": "ad96b7c3",
   "metadata": {},
   "outputs": [
    {
     "data": {
      "image/png": "[encoded data removed]",
      "text/plain": [
       "<Figure size 781.82x204.68 with 1 Axes>"
      ]
     },
     "execution_count": 219,
     "metadata": {},
     "output_type": "execute_result"
    }
   ],
   "source": [
    "# Draw an empty circuit here having probability == 0.5\n",
    "# BEGIN SOLUTION\n",
    "qc = gen_circuit(0.5, \"empty\")\n",
    "qc.draw(output='mpl')\n",
    "# END SOLUTION"
   ]
  },
  {
   "cell_type": "raw",
   "id": "55414f4a",
   "metadata": {},
   "source": [
    "# END SOLUTION"
   ]
  },
  {
   "cell_type": "raw",
   "id": "e37041f6",
   "metadata": {},
   "source": [
    "# END QUESTION"
   ]
  },
  {
   "cell_type": "raw",
   "id": "fb05bd13",
   "metadata": {},
   "source": [
    "# BEGIN QUESTION\n",
    "name: Task 5\n",
    "points: 1\n",
    "manual: true"
   ]
  },
  {
   "cell_type": "markdown",
   "id": "headed-phenomenon",
   "metadata": {},
   "source": [
    "#### Task 5  - Testing our Circuit\n",
    "Run the code below a few times and observe the output. Run each circuit a few times and observe the output. \n",
    "- What does measuring $|0\\rangle$ or $|1\\rangle$ each tell us about the the presence of a bomb?\n",
    "- Does your circuit blow up a reasonable percentage of the time? Save a chart in your notebook that shows this ratio and describe it in your response below."
   ]
  },
  {
   "cell_type": "code",
   "execution_count": 258,
   "id": "b3c4ca66",
   "metadata": {},
   "outputs": [
    {
     "data": {
      "image/png": "[encoded data removed]",
      "text/plain": [
       "<Figure size 432x288 with 1 Axes>"
      ]
     },
     "metadata": {
      "needs_background": "light"
     },
     "output_type": "display_data"
    }
   ],
   "source": [
    "qasm_sim = BasicAer.get_backend(\"qasm_simulator\")\n",
    "\n",
    "def em(qc, shots=1024):\n",
    "    job = execute(qc, qasm_sim, shots=shots)\n",
    "    counts = job.result().get_counts()\n",
    "    return counts\n",
    "\n",
    "def run_circuit(percentage,bomb):\n",
    "    qc = gen_circuit(percentage,bomb)\n",
    "    qc.draw(output=\"mpl\")\n",
    "    counts = em(qc)\n",
    "    n = compute_iterations(percentage)\n",
    "    \n",
    "    zeros_key = \"0 \" + \"0\"*n\n",
    "    one_key = \"1 \"+\"0\"*n\n",
    "    \n",
    "    predicted_bomb = 0\n",
    "    predicted_no_bomb = 0\n",
    "    blew_up = 0\n",
    "\n",
    "    if zeros_key in counts:\n",
    "        predicted_bomb = counts[zeros_key]\n",
    "    if one_key in counts:\n",
    "        predicted_no_bomb = counts[one_key]\n",
    "        \n",
    "    blew_up = 1024 - predicted_bomb - predicted_no_bomb\n",
    "    \n",
    "    y = np.arange(3)\n",
    "    plt.bar(y, [predicted_bomb, predicted_no_bomb, blew_up])\n",
    "    plt.ylabel(\"Shots\")\n",
    "    plt.xticks(y, [\"Predicted Bomb\", \"Predicted No Bomb\", \"Blew Up\"])\n",
    "    if bomb == \"bomb\":\n",
    "        plt.title(\"EV Experiment Results with Bomb\")\n",
    "    else:\n",
    "        plt.title(\"EV Experiment Results with No Bomb\")\n",
    "    plt.show()\n",
    "    \n",
    "    return None\n",
    "\n",
    "bomb = bomb_oracle()\n",
    "run_circuit(0.9, bomb)"
   ]
  },
  {
   "cell_type": "raw",
   "id": "66f7d41f",
   "metadata": {},
   "source": [
    "# BEGIN SOLUTION"
   ]
  },
  {
   "cell_type": "markdown",
   "id": "9a85eb92",
   "metadata": {},
   "source": [
    "$|1\\rangle$ represents the case of no bomb present. $|0\\rangle$ represents the expected state when a bomb is present. If there is a bomb, we'd see it according to the probability established for the trial.\n",
    "\n",
    "The chart shows that roughly 100 out of 1024 trials resulted in an explosion with a bomb present. This is aligned with the probability set for the experiment."
   ]
  },
  {
   "cell_type": "raw",
   "id": "09ac6263",
   "metadata": {},
   "source": [
    "# END SOLUTION"
   ]
  },
  {
   "cell_type": "raw",
   "id": "04bef9ba",
   "metadata": {},
   "source": [
    "# END QUESTION"
   ]
  },
  {
   "cell_type": "raw",
   "id": "6b2c23a8",
   "metadata": {},
   "source": [
    "# BEGIN QUESTION"
   ]
  },
  {
   "cell_type": "raw",
   "id": "aa074a41",
   "metadata": {},
   "source": [
    "# BEGIN QUESTION\n",
    "name: Task 6A\n",
    "points: 1\n",
    "manual: true"
   ]
  },
  {
   "cell_type": "markdown",
   "id": "18099489",
   "metadata": {},
   "source": [
    "#### Task 6 (6A, 6B) - EV Bomb on an IBM Quantum Computer\n",
    "Finally, let's run this circuit on a real IBM quantum computer. In the cell below, run your EV bomb circuit on a machine with at least 5 qubits. Set the probability to be `0.9` and ensure the presence of a bomb."
   ]
  },
  {
   "cell_type": "raw",
   "id": "0e0813bb",
   "metadata": {},
   "source": [
    "# BEGIN SOLUTION"
   ]
  },
  {
   "cell_type": "code",
   "execution_count": 257,
   "id": "3c4c5337",
   "metadata": {},
   "outputs": [
    {
     "name": "stderr",
     "output_type": "stream",
     "text": [
      "ibmqfactory.load_account:WARNING:2021-12-28 13:54:48,955: Credentials are already in use. The existing account in the session will be replaced.\n"
     ]
    },
    {
     "name": "stdout",
     "output_type": "stream",
     "text": [
      "Check job status here: https://quantum-computing.ibm.com/jobs/61cb5d7c0e8ecb850119ddaf\n"
     ]
    },
    {
     "data": {
      "image/png": "[encoded data removed]",
      "text/plain": [
       "<Figure size 432x288 with 1 Axes>"
      ]
     },
     "metadata": {
      "needs_background": "light"
     },
     "output_type": "display_data"
    }
   ],
   "source": [
    "# run your circuit here\n",
    "\n",
    "# BEGIN SOLUTION\n",
    "IBMQ.load_account()\n",
    "ibmqc = IBMQ.get_provider(hub='ibm-q').get_backend('ibmq_lima')\n",
    "job = execute(gen_circuit(.9, \"bomb\"), ibmqc, shots=1024)\n",
    "print(\"Check job status here:\", \"https://quantum-computing.ibm.com/jobs/\" + job.job_id())\n",
    "res = job.result()\n",
    "counts = res.get_counts()\n",
    "plot_histogram(counts)\n",
    "# END SOLUTION\n",
    "\n",
    "n = compute_iterations(.9)\n",
    "zeros_key = \"0 \" + \"0\"*n\n",
    "one_key = \"1 \"+ \"0\"*n\n",
    "\n",
    "predicted_bomb = 0\n",
    "predicted_no_bomb = 0\n",
    "blew_up = 0\n",
    "\n",
    "if zeros_key in counts:\n",
    "    predicted_bomb = counts[zeros_key]\n",
    "if one_key in counts:\n",
    "    predicted_no_bomb = counts[one_key]\n",
    "\n",
    "blew_up = 1024 - predicted_bomb - predicted_no_bomb\n",
    "\n",
    "y = np.arange(3)\n",
    "plt.bar(y, [predicted_bomb, predicted_no_bomb, blew_up])\n",
    "plt.ylabel(\"Shots\")\n",
    "plt.xticks(y, [\"Predicted Bomb\", \"Predicted No Bomb\", \"Blew Up\"])\n",
    "plt.title(\"EV Experiment Results with Bomb\")\n",
    "plt.show()"
   ]
  },
  {
   "cell_type": "raw",
   "id": "5290e0cc",
   "metadata": {},
   "source": [
    "# END SOLUTION"
   ]
  },
  {
   "cell_type": "raw",
   "id": "9f448932",
   "metadata": {},
   "source": [
    "# END QUESTION"
   ]
  },
  {
   "cell_type": "raw",
   "id": "a4db3322",
   "metadata": {},
   "source": [
    "# BEGIN QUESTION\n",
    "name: Task 6B\n",
    "points: 1\n",
    "manual: true"
   ]
  },
  {
   "cell_type": "markdown",
   "id": "88dd24c8",
   "metadata": {},
   "source": [
    "Did your circuit blow up a reasonable percentage of the time on the quantum computer? Save a chart in your notebook that shows this ratio and describe it in your response below. Was there any difference between the simulator and quantum computer results?"
   ]
  },
  {
   "cell_type": "raw",
   "id": "23b6353b",
   "metadata": {},
   "source": [
    "# BEGIN SOLUTION"
   ]
  },
  {
   "cell_type": "markdown",
   "id": "a6248af3",
   "metadata": {},
   "source": [
    "The ratio looks similar although there were about twice as many explosions when running on the quantum computer (at least when this solution was made) as in the simulator."
   ]
  },
  {
   "cell_type": "raw",
   "id": "1451e479",
   "metadata": {},
   "source": [
    "# END SOLUTION"
   ]
  },
  {
   "cell_type": "raw",
   "id": "4c2d005f",
   "metadata": {},
   "source": [
    "# END QUESTION"
   ]
  },
  {
   "cell_type": "markdown",
   "id": "78a8335d",
   "metadata": {},
   "source": [
    "Next time: multi-qubit circuits!"
   ]
  }
 ],
 "metadata": {
  "kernelspec": {
   "display_name": "Python 3",
   "language": "python",
   "name": "python3"
  },
  "language_info": {
   "codemirror_mode": {
    "name": "ipython",
    "version": 3
   },
   "file_extension": ".py",
   "mimetype": "text/x-python",
   "name": "python",
   "nbconvert_exporter": "python",
   "pygments_lexer": "ipython3",
   "version": "3.7.0"
  }
 },
 "nbformat": 4,
 "nbformat_minor": 5
}
