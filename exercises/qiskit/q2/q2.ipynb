{
 "cells": [
  {
   "cell_type": "raw",
   "id": "310e4a65",
   "metadata": {},
   "source": [
    "# ASSIGNMENT CONFIG\n",
    "generate:\n",
    "    token: 8654j6ett3xjTQHqUK3Jyw                  # required\n",
    "    course_id: 342915              # required\n",
    "    assignment_id: 1837965          # required\n",
    "    filtering: true              # true is the default  \n",
    "    pagebreaks: true\n",
    "    show_stdout: true\n",
    "    show_hidden: true\n",
    "requirements: # for building the autograder, in addition to the stuff required by otter\n",
    "    - qiskit\n",
    "    - pylatexenc\n",
    "    - git+https://github.com/qiskit-community/qiskit-textbook.git#egg=qiskit_textbook&subdirectory=qiskit-textbook-src\n",
    "export_cell:                     # whether to include an Otter export cell in the output notebooks\n",
    "    instructions: ''             # additional submission instructions to include in the export cell\n",
    "    pdf: false                   # whether to include a PDF of the notebook in the generated zip file\n",
    "    filtering: true              # whether the generated PDF should be filtered\n",
    "    pagebreaks: true             # whether to include page breaks in the PDF\n",
    "    run_tests: false             # whether to run student submissions against local tests during export\n",
    "template_pdf: true\n",
    "solutions_pdf: true"
   ]
  },
  {
   "cell_type": "markdown",
   "id": "bc76da90",
   "metadata": {},
   "source": [
    "# Qiskit Assignment 2\n",
    "\n",
    "## Elitzur-Vaidman Bomb\n",
    "\n",
    "### Learning Objectives\n",
    "1. Implement the EV Bomb experiment\n",
    "2. Run the experiment on an IBM quantum computer\n",
    "\n",
    "### Resources\n",
    "Qiskit assignments are designed to be collaborative and open internet. Where possible, links to useful documentation will be embedded within questions. You're free to discuss these tasks with TAs and peers, but do write your own solutions. For some questions, there may be additional restrictions on the ways you can solve them. To ensure compliance with course policies and assignment instructions, we reserve the right to inspect your code."
   ]
  },
  {
   "cell_type": "markdown",
   "id": "a4ec29b1",
   "metadata": {},
   "source": [
    "**NAME**: REPLACE WITH YOUR NAME\n",
    "\n",
    "**STUDENT ID**: REPLACE WITH YOUR STUDENT ID"
   ]
  },
  {
   "cell_type": "code",
   "execution_count": 1,
   "id": "reported-confidentiality",
   "metadata": {},
   "outputs": [],
   "source": [
    "from qiskit import *\n",
    "from qiskit.quantum_info import Statevector\n",
    "from qiskit.visualization import plot_histogram\n",
    "import random\n",
    "import numpy as np\n",
    "import math\n",
    "import matplotlib.pyplot as plt\n",
    "import re"
   ]
  },
  {
   "cell_type": "raw",
   "id": "99194058",
   "metadata": {},
   "source": [
    "# BEGIN QUESTION\n",
    "name: Task 1\n",
    "points: 10\n",
    "manual: false"
   ]
  },
  {
   "cell_type": "markdown",
   "id": "78b5b5be",
   "metadata": {},
   "source": [
    "#### Task 1 - Establishing the Required Iterations (10 pts)\n",
    "First let's compute the number of iterations through the loop we need to be arbitrarily confident that there won't be an explosion during our experiment. \n",
    "- write a function `compute_iterations` that takes an input `probability`, *in decimal form*\n",
    "- return `n`, the number of iterations needed to be (`probability`$\\times 100$)% confident that there will **not** be an explosion\n",
    "- round $n$ to the next highest integer. "
   ]
  },
  {
   "cell_type": "raw",
   "id": "4428435c",
   "metadata": {},
   "source": [
    "# BEGIN SOLUTION"
   ]
  },
  {
   "cell_type": "code",
   "execution_count": 2,
   "id": "strategic-angel",
   "metadata": {},
   "outputs": [],
   "source": [
    "def compute_iterations(probability):\n",
    "    # BEGIN SOLUTION\n",
    "    n = (np.pi**2) / (4*(1-probability))\n",
    "    return round(n)\n",
    "    # END SOLUTION"
   ]
  },
  {
   "cell_type": "raw",
   "id": "fff71b5e",
   "metadata": {},
   "source": [
    "# END SOLUTION"
   ]
  },
  {
   "cell_type": "raw",
   "id": "6c8eaec6",
   "metadata": {},
   "source": [
    "# BEGIN TESTS"
   ]
  },
  {
   "cell_type": "code",
   "execution_count": 3,
   "id": "pursuant-shakespeare",
   "metadata": {},
   "outputs": [
    {
     "data": {
      "text/plain": [
       "True"
      ]
     },
     "execution_count": 3,
     "metadata": {},
     "output_type": "execute_result"
    }
   ],
   "source": [
    "\"\"\" # BEGIN TEST CONFIG\n",
    "hidden: false\n",
    "points: 1\n",
    "failure_message: Wrong answer.\n",
    "\"\"\" # END TEST CONFIG\n",
    "compute_iterations(0.5) == 5"
   ]
  },
  {
   "cell_type": "code",
   "execution_count": 4,
   "id": "anticipated-sender",
   "metadata": {},
   "outputs": [
    {
     "data": {
      "text/plain": [
       "True"
      ]
     },
     "execution_count": 4,
     "metadata": {},
     "output_type": "execute_result"
    }
   ],
   "source": [
    "\"\"\" # BEGIN TEST CONFIG\n",
    "hidden: false\n",
    "points: 1\n",
    "failure_message: Wrong answer.\n",
    "\"\"\" # END TEST CONFIG\n",
    "compute_iterations(0.99) == 247"
   ]
  },
  {
   "cell_type": "code",
   "execution_count": 5,
   "id": "e3c06aa9",
   "metadata": {},
   "outputs": [
    {
     "data": {
      "text/plain": [
       "True"
      ]
     },
     "execution_count": 5,
     "metadata": {},
     "output_type": "execute_result"
    }
   ],
   "source": [
    "\"\"\" # BEGIN TEST CONFIG\n",
    "hidden: false\n",
    "points: 1\n",
    "failure_message: Wrong answer.\n",
    "\"\"\" # END TEST CONFIG\n",
    "compute_iterations(0.99473) == 468"
   ]
  },
  {
   "cell_type": "code",
   "execution_count": 6,
   "id": "f106069a",
   "metadata": {},
   "outputs": [
    {
     "data": {
      "text/plain": [
       "True"
      ]
     },
     "execution_count": 6,
     "metadata": {},
     "output_type": "execute_result"
    }
   ],
   "source": [
    "\"\"\" # BEGIN TEST CONFIG\n",
    "hidden: true\n",
    "points: 7\n",
    "failure_message: Wrong answer.\n",
    "\"\"\" # END TEST CONFIG\n",
    "def testComputeIterations():\n",
    "    for n in range(1,1000):\n",
    "        probability = n / 1000\n",
    "        solution_ans = round((np.pi**2) / (4*(1-probability)))\n",
    "        student_ans = compute_iterations(probability)\n",
    "        if student_ans != solution_ans:\n",
    "            return False\n",
    "    return True\n",
    "\n",
    "testComputeIterations()"
   ]
  },
  {
   "cell_type": "raw",
   "id": "1f7c7908",
   "metadata": {},
   "source": [
    "# END TESTS"
   ]
  },
  {
   "cell_type": "raw",
   "id": "deefe7d7",
   "metadata": {},
   "source": [
    "# END QUESTION"
   ]
  },
  {
   "cell_type": "raw",
   "id": "ff242d5f",
   "metadata": {},
   "source": [
    "# BEGIN QUESTION\n",
    "name: Task 2\n",
    "points: 10\n",
    "manual: false"
   ]
  },
  {
   "cell_type": "markdown",
   "id": "incorrect-sword",
   "metadata": {},
   "source": [
    "#### Task 2 - Computing Theta (10 pts)\n",
    "We know the number of iterations we need to be arbitrarily confident the bomb won't explode. Now let's calculate the angle we need to rotate through at each step of iteration, $\\theta$. \n",
    "- write a function `compute_theta` that takes `n` as input\n",
    "- return $\\theta$, rounded to the nearest `5` decimal places."
   ]
  },
  {
   "cell_type": "raw",
   "id": "5d1fb09b",
   "metadata": {},
   "source": [
    "# BEGIN SOLUTION"
   ]
  },
  {
   "cell_type": "code",
   "execution_count": 7,
   "id": "mighty-mother",
   "metadata": {},
   "outputs": [],
   "source": [
    "def compute_theta(n):\n",
    "    # BEGIN SOLUTION\n",
    "    theta = round(np.pi/n,5)\n",
    "    return theta\n",
    "    # END SOLUTION"
   ]
  },
  {
   "cell_type": "raw",
   "id": "ff034a6e",
   "metadata": {},
   "source": [
    "# END SOLUTION"
   ]
  },
  {
   "cell_type": "raw",
   "id": "020c0880",
   "metadata": {},
   "source": [
    "# BEGIN TESTS"
   ]
  },
  {
   "cell_type": "code",
   "execution_count": 8,
   "id": "d2b57f72",
   "metadata": {},
   "outputs": [
    {
     "data": {
      "text/plain": [
       "True"
      ]
     },
     "execution_count": 8,
     "metadata": {},
     "output_type": "execute_result"
    }
   ],
   "source": [
    "\"\"\" # BEGIN TEST CONFIG\n",
    "hidden: false\n",
    "points: 1\n",
    "failure_message: Wrong number of decimal places.\n",
    "\"\"\" # END TEST CONFIG\n",
    "rounding_re = re.compile(r\"^([\\d]{1}).([\\d]{5})$\")\n",
    "def testNumDecimalPlaces():\n",
    "    theta = compute_theta(10)\n",
    "    success = True\n",
    "    return False if rounding_re.match(str(theta)) is None else True\n",
    "  \n",
    "testNumDecimalPlaces()"
   ]
  },
  {
   "cell_type": "code",
   "execution_count": 9,
   "id": "188abe06",
   "metadata": {},
   "outputs": [
    {
     "data": {
      "text/plain": [
       "True"
      ]
     },
     "execution_count": 9,
     "metadata": {},
     "output_type": "execute_result"
    }
   ],
   "source": [
    "\"\"\" # BEGIN TEST CONFIG\n",
    "hidden: false\n",
    "points: 1\n",
    "failure_message: Wrong answer.\n",
    "\"\"\" # END TEST CONFIG\n",
    "compute_theta(15) == 0.20944"
   ]
  },
  {
   "cell_type": "code",
   "execution_count": 10,
   "id": "f31d34ae",
   "metadata": {},
   "outputs": [
    {
     "data": {
      "text/plain": [
       "True"
      ]
     },
     "execution_count": 10,
     "metadata": {},
     "output_type": "execute_result"
    }
   ],
   "source": [
    "\"\"\" # BEGIN TEST CONFIG\n",
    "hidden: false\n",
    "points: 1\n",
    "failure_message: Wrong answer.\n",
    "\"\"\" # END TEST CONFIG\n",
    "compute_theta(25) == 0.12566"
   ]
  },
  {
   "cell_type": "code",
   "execution_count": 11,
   "id": "118c9fd9",
   "metadata": {},
   "outputs": [
    {
     "data": {
      "text/plain": [
       "True"
      ]
     },
     "execution_count": 11,
     "metadata": {},
     "output_type": "execute_result"
    }
   ],
   "source": [
    "\"\"\" # BEGIN TEST CONFIG\n",
    "hidden: true\n",
    "points: 7\n",
    "failure_message: Wrong answer.\n",
    "\"\"\" # END TEST CONFIG\n",
    "def testComputeTheta():\n",
    "    for n in range(1,1000):\n",
    "        solution_ans = round(np.pi/n,5)\n",
    "        student_ans = compute_theta(n)\n",
    "        if student_ans != solution_ans:\n",
    "            return False\n",
    "    return True\n",
    "\n",
    "testComputeTheta()"
   ]
  },
  {
   "cell_type": "raw",
   "id": "4f64bc44",
   "metadata": {},
   "source": [
    "# END TESTS"
   ]
  },
  {
   "cell_type": "raw",
   "id": "82873f0a",
   "metadata": {},
   "source": [
    "# END QUESTION"
   ]
  },
  {
   "cell_type": "raw",
   "id": "c47e465c",
   "metadata": {},
   "source": [
    "# BEGIN QUESTION\n",
    "name: Task 3\n",
    "points: 10\n",
    "manual: false"
   ]
  },
  {
   "cell_type": "markdown",
   "id": "monthly-executive",
   "metadata": {},
   "source": [
    "#### Task 3 - Rotation (10 pts)\n",
    "- write a function `rotate` that takes an input QuantumCircuit `qc` and an input `theta`\n",
    "- rotate the state on the first qubit by `theta` radians about the $y$-axis of the Bloch sphere\n",
    "- return the modified circuit"
   ]
  },
  {
   "cell_type": "raw",
   "id": "13c4b975",
   "metadata": {},
   "source": [
    "# BEGIN SOLUTION"
   ]
  },
  {
   "cell_type": "code",
   "execution_count": 12,
   "id": "brief-concord",
   "metadata": {},
   "outputs": [],
   "source": [
    "def rotate(qc, theta):\n",
    "    # BEGIN SOLUTION\n",
    "    qc.ry(theta, 0)\n",
    "    return qc\n",
    "    # END SOLUTION"
   ]
  },
  {
   "cell_type": "raw",
   "id": "2c31e556",
   "metadata": {},
   "source": [
    "# END SOLUTION"
   ]
  },
  {
   "cell_type": "raw",
   "id": "1f05f15f",
   "metadata": {},
   "source": [
    "# BEGIN TESTS"
   ]
  },
  {
   "cell_type": "code",
   "execution_count": 13,
   "id": "5bd20dbf",
   "metadata": {},
   "outputs": [
    {
     "data": {
      "text/plain": [
       "True"
      ]
     },
     "execution_count": 13,
     "metadata": {},
     "output_type": "execute_result"
    }
   ],
   "source": [
    "\"\"\" # BEGIN TEST CONFIG\n",
    "hidden: false\n",
    "points: 1\n",
    "failure_message: Wrong answer.\n",
    "\"\"\" # END TEST CONFIG\n",
    "def testProbabilities1():\n",
    "    qc = QuantumCircuit(1,1)\n",
    "    theta = np.pi\n",
    "    qc_rot = rotate(qc, theta).reverse_bits()\n",
    "    job = execute(qc_rot, BasicAer.get_backend('statevector_simulator'), shots=10)\n",
    "    return list(job.result().get_statevector(qc))\n",
    "\n",
    "testProbabilities1()  == [0,1]"
   ]
  },
  {
   "cell_type": "code",
   "execution_count": 14,
   "id": "d03d6792",
   "metadata": {},
   "outputs": [
    {
     "data": {
      "text/plain": [
       "True"
      ]
     },
     "execution_count": 14,
     "metadata": {},
     "output_type": "execute_result"
    }
   ],
   "source": [
    "\"\"\" # BEGIN TEST CONFIG\n",
    "hidden: false\n",
    "points: 1\n",
    "failure_message: Wrong answer.\n",
    "\"\"\" # END TEST CONFIG\n",
    "def testProbabilities2():\n",
    "    qc = QuantumCircuit(1,1)\n",
    "    theta = np.pi / 2\n",
    "    qc_rot = rotate(qc, theta).reverse_bits()\n",
    "    job = execute(qc_rot, BasicAer.get_backend('statevector_simulator'), shots=10)\n",
    "    return list(job.result().get_statevector(qc))\n",
    "\n",
    "testProbabilities2() == [1/np.sqrt(2), 1/np.sqrt(2)]"
   ]
  },
  {
   "cell_type": "code",
   "execution_count": 15,
   "id": "b39a05c5",
   "metadata": {},
   "outputs": [
    {
     "data": {
      "text/plain": [
       "True"
      ]
     },
     "execution_count": 15,
     "metadata": {},
     "output_type": "execute_result"
    }
   ],
   "source": [
    "\"\"\" # BEGIN TEST CONFIG\n",
    "hidden: false\n",
    "points: 1\n",
    "failure_message: Wrong answer.\n",
    "\"\"\" # END TEST CONFIG\n",
    "def testProbabilities3():\n",
    "    qc = QuantumCircuit(1,1)\n",
    "    theta = 2 * np.pi / 3\n",
    "    qc_rot = rotate(qc, theta).reverse_bits()\n",
    "    job = execute(qc_rot, BasicAer.get_backend('statevector_simulator'), shots=10)\n",
    "    return [round(num, 5) for num in job.result().get_statevector().real]\n",
    "\n",
    "testProbabilities3() == [round(num, 5) for num in [1/2, np.sqrt(3)/2]]"
   ]
  },
  {
   "cell_type": "code",
   "execution_count": 16,
   "id": "0206a3eb",
   "metadata": {},
   "outputs": [
    {
     "data": {
      "text/plain": [
       "True"
      ]
     },
     "execution_count": 16,
     "metadata": {},
     "output_type": "execute_result"
    }
   ],
   "source": [
    "\"\"\" # BEGIN TEST CONFIG\n",
    "hidden: true\n",
    "points: 7\n",
    "failure_message: Wrong answer.\n",
    "\"\"\" # END TEST CONFIG\n",
    "def testProbabilitiesHidden():\n",
    "    em = BasicAer.get_backend(\"qasm_simulator\")\n",
    "    passing = True\n",
    "    for i in range(360):\n",
    "        theta = i * np.pi/180\n",
    "        qc_student = rotate(QuantumCircuit(1,1), theta)\n",
    "        qc_solution = QuantumCircuit(1,1)\n",
    "        qc_solution.u(theta, 0, 0, 0)\n",
    "        equivalent = Statevector.from_instruction(qc_student).equiv(Statevector.from_instruction(qc_solution))\n",
    "        if not equivalent:\n",
    "            passing = False\n",
    "    return passing\n",
    "\n",
    "testProbabilitiesHidden()"
   ]
  },
  {
   "cell_type": "raw",
   "id": "62dfad32",
   "metadata": {},
   "source": [
    "# END TESTS"
   ]
  },
  {
   "cell_type": "raw",
   "id": "523232f8",
   "metadata": {},
   "source": [
    "# END QUESTION"
   ]
  },
  {
   "cell_type": "markdown",
   "id": "legal-starter",
   "metadata": {},
   "source": [
    "We provide the below method `bomb_oracle` to randomly decide to include a bomb or not in our experiment."
   ]
  },
  {
   "cell_type": "code",
   "execution_count": 17,
   "id": "cathedral-keeping",
   "metadata": {},
   "outputs": [],
   "source": [
    "random.seed(468)\n",
    "\n",
    "def bomb_oracle():\n",
    "    if random.random() < 0.5:\n",
    "        return \"bomb\"\n",
    "    else:\n",
    "        return \"empty\""
   ]
  },
  {
   "cell_type": "raw",
   "id": "20204ee3",
   "metadata": {},
   "source": [
    "# BEGIN QUESTION\n",
    "name: Task 4\n",
    "points: 40\n",
    "manual: true"
   ]
  },
  {
   "cell_type": "markdown",
   "id": "interior-publisher",
   "metadata": {},
   "source": [
    "#### Task 4  - Putting Things Together (40 pts)\n",
    "We are now ready to build the full circuit.\n",
    "- complete the function `gen_circuit` which takes in a probability that the bomb \\*won't\\* explode and the result of a call to `bomb_oracle`\n",
    "- return a circuit representing the standard EV bomb implementation \n",
    "\n",
    "For our experiment, we will represent the presence of a bomb with a measurement and its absence with an [identity gate](https://qiskit.org/documentation/tutorials/circuits/3_summary_of_quantum_operations.html#Identity-gate). At the end of the circuit, remember to perform a final measurement to the result bit.\n",
    "\n",
    "**Hints**: \n",
    "- use the previous tasks to help build your circuit\n",
    "- make sure to consider both the `bomb` and `empty` cases\n",
    "- in the case of a bomb, perform trial measurements to a distinct `step` bit\n",
    "- refer to the end of the `08` lecture for a description of the implementation"
   ]
  },
  {
   "cell_type": "raw",
   "id": "bf66db1f",
   "metadata": {},
   "source": [
    "# BEGIN SOLUTION"
   ]
  },
  {
   "cell_type": "code",
   "execution_count": 18,
   "id": "balanced-athletics",
   "metadata": {},
   "outputs": [],
   "source": [
    "def gen_circuit(probability, bomb):\n",
    "    n = compute_iterations(probability)\n",
    "    qc = QuantumCircuit(QuantumRegister(1,'qr'), \n",
    "                        ClassicalRegister(n, 'step'), \n",
    "                        ClassicalRegister(1, 'result')\n",
    "                       )\n",
    "    # You fill in the rest!\n",
    "    # BEGIN SOLUTION\n",
    "    angle = compute_theta(n)\n",
    "    for i in range(n):\n",
    "        rotate(qc, angle)\n",
    "        if bomb == \"bomb\":\n",
    "            qc.measure(0,i)\n",
    "        else:\n",
    "            qc.id(0)\n",
    "            \n",
    "    qc.measure(0,n)\n",
    "    return qc\n",
    "    # END SOLUTION"
   ]
  },
  {
   "cell_type": "code",
   "execution_count": 19,
   "id": "0f0f0921",
   "metadata": {},
   "outputs": [
    {
     "data": {
      "image/png": "[encoded data removed]",
      "text/plain": [
       "<Figure size 781.82x204.68 with 1 Axes>"
      ]
     },
     "execution_count": 19,
     "metadata": {},
     "output_type": "execute_result"
    }
   ],
   "source": [
    "# Draw a bomb circuit here having probability == 0.5\n",
    "# BEGIN SOLUTION\n",
    "qc = gen_circuit(0.5, \"bomb\")\n",
    "qc.draw(output='mpl')\n",
    "# END SOLUTION"
   ]
  },
  {
   "cell_type": "code",
   "execution_count": 20,
   "id": "ad96b7c3",
   "metadata": {},
   "outputs": [
    {
     "data": {
      "image/png": "[encoded data removed]",
      "text/plain": [
       "<Figure size 781.82x204.68 with 1 Axes>"
      ]
     },
     "execution_count": 20,
     "metadata": {},
     "output_type": "execute_result"
    }
   ],
   "source": [
    "# Draw an empty circuit here having probability == 0.5\n",
    "# BEGIN SOLUTION\n",
    "qc = gen_circuit(0.5, \"empty\")\n",
    "qc.draw(output='mpl')\n",
    "# END SOLUTION"
   ]
  },
  {
   "cell_type": "raw",
   "id": "55414f4a",
   "metadata": {},
   "source": [
    "# END SOLUTION"
   ]
  },
  {
   "cell_type": "raw",
   "id": "e37041f6",
   "metadata": {},
   "source": [
    "# END QUESTION"
   ]
  },
  {
   "cell_type": "markdown",
   "id": "8097a421",
   "metadata": {},
   "source": [
    "For the next task, run the code below a few times and observe the output. "
   ]
  },
  {
   "cell_type": "code",
   "execution_count": 22,
   "id": "b3c4ca66",
   "metadata": {},
   "outputs": [
    {
     "data": {
      "image/png": "[encoded data removed]",
      "text/plain": [
       "<Figure size 432x288 with 1 Axes>"
      ]
     },
     "metadata": {
      "needs_background": "light"
     },
     "output_type": "display_data"
    }
   ],
   "source": [
    "qasm_sim = BasicAer.get_backend(\"qasm_simulator\")\n",
    "\n",
    "def em(qc, shots=1024):\n",
    "    job = execute(qc, qasm_sim, shots=shots)\n",
    "    counts = job.result().get_counts()\n",
    "    return counts\n",
    "\n",
    "def run_circuit(percentage,bomb):\n",
    "    qc = gen_circuit(percentage,bomb)\n",
    "    counts = em(qc)\n",
    "    n = compute_iterations(percentage)\n",
    "    \n",
    "    zeros_key = \"0 \" + \"0\"*n\n",
    "    one_key = \"1 \"+\"0\"*n\n",
    "    \n",
    "    predicted_bomb = 0\n",
    "    predicted_no_bomb = 0\n",
    "    blew_up = 0\n",
    "\n",
    "    if zeros_key in counts:\n",
    "        predicted_bomb = counts[zeros_key]\n",
    "    if one_key in counts:\n",
    "        predicted_no_bomb = counts[one_key]\n",
    "        \n",
    "    blew_up = 1024 - predicted_bomb - predicted_no_bomb\n",
    "    \n",
    "    y = np.arange(3)\n",
    "    plt.bar(y, [predicted_bomb, predicted_no_bomb, blew_up])\n",
    "    plt.ylabel(\"Shots\")\n",
    "    plt.xticks(y, [\"Predicted Bomb\", \"Predicted No Bomb\", \"Blew Up\"])\n",
    "    if bomb == \"bomb\":\n",
    "        plt.title(\"EV Experiment Results with Bomb\")\n",
    "    else:\n",
    "        plt.title(\"EV Experiment Results with No Bomb\")\n",
    "    plt.show()\n",
    "    \n",
    "    return None\n",
    "\n",
    "bomb = bomb_oracle()\n",
    "run_circuit(0.9, bomb)"
   ]
  },
  {
   "cell_type": "raw",
   "id": "6dbedc31",
   "metadata": {},
   "source": [
    "# BEGIN QUESTION\n",
    "name: Task 5\n",
    "points: 10\n",
    "manual: true"
   ]
  },
  {
   "cell_type": "markdown",
   "id": "b66dcf1e",
   "metadata": {},
   "source": [
    "#### Task 5  - Testing your Circuit (10 pts)\n",
    "- what does measuring $|0\\rangle$ or $|1\\rangle$ each tell us about the the presence or absence of a bomb?\n",
    "- does your circuit blow up a reasonable percentage of the time? (What would be a reasonable percentage?)\n",
    "\n",
    "Be sure to save a chart in your notebook that shows this ratio for a \"bomb\" circuit. Describe it in your response below."
   ]
  },
  {
   "cell_type": "raw",
   "id": "66f7d41f",
   "metadata": {},
   "source": [
    "# BEGIN SOLUTION"
   ]
  },
  {
   "cell_type": "markdown",
   "id": "9a85eb92",
   "metadata": {},
   "source": [
    "$|1\\rangle$ represents the case of no bomb present. $|0\\rangle$ represents the expected state when a bomb is present. If there is a bomb, we'd see it according to the 1 minus the probability parameter for the function.\n",
    "\n",
    "The chart shows that roughly 100 out of 1024 trials resulted in an explosion with a bomb present. This is aligned with the probability set for the experiment where we wanted to not blow up 90% of the time."
   ]
  },
  {
   "cell_type": "raw",
   "id": "09ac6263",
   "metadata": {},
   "source": [
    "# END SOLUTION"
   ]
  },
  {
   "cell_type": "raw",
   "id": "04bef9ba",
   "metadata": {},
   "source": [
    "# END QUESTION"
   ]
  },
  {
   "cell_type": "raw",
   "id": "aa074a41",
   "metadata": {},
   "source": [
    "# BEGIN QUESTION\n",
    "name: Task 6A\n",
    "points: 20\n",
    "manual: true"
   ]
  },
  {
   "cell_type": "markdown",
   "id": "18099489",
   "metadata": {},
   "source": [
    "#### Task 6 (6A, 6B) - EV Bomb on an IBM Quantum Computer (20 pts)\n",
    "Finally, let's run this circuit on a real quantum computer. Hopefully it doesn't blow up ;)\n",
    "- set the experiment probability to be `0.9`\n",
    "- ensure the presence of a `bomb`\n",
    "- store the measurement results in `counts`\n",
    "\n",
    "**Note**: Do **not** use the ibmq_armonk backend for this task."
   ]
  },
  {
   "cell_type": "raw",
   "id": "0e0813bb",
   "metadata": {},
   "source": [
    "# BEGIN SOLUTION"
   ]
  },
  {
   "cell_type": "code",
   "execution_count": 26,
   "id": "3c4c5337",
   "metadata": {},
   "outputs": [
    {
     "name": "stderr",
     "output_type": "stream",
     "text": [
      "ibmqfactory.load_account:WARNING:2022-02-06 17:12:17,815: Credentials are already in use. The existing account in the session will be replaced.\n"
     ]
    },
    {
     "name": "stdout",
     "output_type": "stream",
     "text": [
      "Check job status here: https://quantum-computing.ibm.com/jobs/620055d5468a80bb240d732b\n"
     ]
    },
    {
     "data": {
      "image/png": "[encoded data removed]",
      "text/plain": [
       "<Figure size 432x288 with 1 Axes>"
      ]
     },
     "metadata": {
      "needs_background": "light"
     },
     "output_type": "display_data"
    }
   ],
   "source": [
    "# run your circuit here\n",
    "\n",
    "# BEGIN SOLUTION\n",
    "IBMQ.load_account()\n",
    "ibmqc = IBMQ.get_provider(hub='ibm-q').get_backend('ibmq__')\n",
    "job = execute(gen_circuit(.9, \"bomb\"), ibmqc, shots=1024)\n",
    "print(\"Check job status here:\", \"https://quantum-computing.ibm.com/jobs/\" + job.job_id())\n",
    "res = job.result()\n",
    "counts = res.get_counts()\n",
    "# END SOLUTION\n",
    "\n",
    "# no need to edit any of this code below...\n",
    "n = compute_iterations(.9)\n",
    "zeros_key = \"0 \" + \"0\"*n\n",
    "one_key = \"1 \"+ \"0\"*n\n",
    "\n",
    "predicted_bomb = 0\n",
    "predicted_no_bomb = 0\n",
    "blew_up = 0\n",
    "\n",
    "if zeros_key in counts:\n",
    "    predicted_bomb = counts[zeros_key]\n",
    "if one_key in counts:\n",
    "    predicted_no_bomb = counts[one_key]\n",
    "\n",
    "blew_up = 1024 - predicted_bomb - predicted_no_bomb\n",
    "\n",
    "y = np.arange(3)\n",
    "plt.bar(y, [predicted_bomb, predicted_no_bomb, blew_up])\n",
    "plt.ylabel(\"Shots\")\n",
    "plt.xticks(y, [\"Predicted Bomb\", \"Predicted No Bomb\", \"Blew Up\"])\n",
    "plt.title(\"EV Experiment Results with Bomb\")\n",
    "plt.show()"
   ]
  },
  {
   "cell_type": "raw",
   "id": "5290e0cc",
   "metadata": {},
   "source": [
    "# END SOLUTION"
   ]
  },
  {
   "cell_type": "raw",
   "id": "9f448932",
   "metadata": {},
   "source": [
    "# END QUESTION"
   ]
  },
  {
   "cell_type": "raw",
   "id": "a4db3322",
   "metadata": {},
   "source": [
    "# BEGIN QUESTION\n",
    "name: Task 6B\n",
    "points: 1\n",
    "manual: true"
   ]
  },
  {
   "cell_type": "markdown",
   "id": "88dd24c8",
   "metadata": {},
   "source": [
    "Did your circuit blow up a reasonable percentage of the time on the quantum computer? Save a chart in your notebook that shows this ratio and describe it in your response below. Was there any difference between the simulator and quantum computer results? If there was, what might account for it?"
   ]
  },
  {
   "cell_type": "raw",
   "id": "23b6353b",
   "metadata": {},
   "source": [
    "# BEGIN SOLUTION"
   ]
  },
  {
   "cell_type": "markdown",
   "id": "a6248af3",
   "metadata": {},
   "source": [
    "The ratio looks similar although there were about three times as many explosions when running on the quantum computer (at least when this solution was made) as in the simulator. This is likely caused by the noise (gate error, decoherence) inherent in the real quantum computer."
   ]
  },
  {
   "cell_type": "raw",
   "id": "1451e479",
   "metadata": {},
   "source": [
    "# END SOLUTION"
   ]
  },
  {
   "cell_type": "raw",
   "id": "4c2d005f",
   "metadata": {},
   "source": [
    "# END QUESTION"
   ]
  },
  {
   "cell_type": "markdown",
   "id": "78a8335d",
   "metadata": {},
   "source": [
    "Next time: multi-qubit circuits!"
   ]
  }
 ],
 "metadata": {
  "kernelspec": {
   "display_name": "Python 3",
   "language": "python",
   "name": "python3"
  },
  "language_info": {
   "codemirror_mode": {
    "name": "ipython",
    "version": 3
   },
   "file_extension": ".py",
   "mimetype": "text/x-python",
   "name": "python",
   "nbconvert_exporter": "python",
   "pygments_lexer": "ipython3",
   "version": "3.7.0"
  }
 },
 "nbformat": 4,
 "nbformat_minor": 5
}
