{
 "cells": [
  {
   "cell_type": "raw",
   "id": "f48286b7",
   "metadata": {},
   "source": [
    "# ASSIGNMENT CONFIG\n",
    "generate:\n",
    "    token: XXXXXXXX                  # required\n",
    "    course_id: XXXXX              # required\n",
    "    assignment_id: XXXXX          # required\n",
    "    filtering: true              # true is the default  \n",
    "    pagebreaks: true\n",
    "    show_stdout: true\n",
    "    show_hidden: true\n",
    "\n",
    "export_cell:                     # whether to include an Otter export cell in the output notebooks\n",
    "    instructions: ''             # additional submission instructions to include in the export cell\n",
    "    pdf: false                   # whether to include a PDF of the notebook in the generated zip file\n",
    "    filtering: true              # whether the generated PDF should be filtered\n",
    "    pagebreaks: true             # whether to include page breaks in the PDF\n",
    "    run_tests: false             # whether to run student submissions against local tests during export\n",
    "\n",
    "template_pdf: true"
   ]
  },
  {
   "cell_type": "markdown",
   "id": "9a446008",
   "metadata": {},
   "source": [
    "# Qiskit Assignment 1\n",
    "## Practice with Pauli Gates and other Qiskit tools\n",
    "This assignment will...\n",
    "\n",
    "### Learning Objectives\n",
    "1. Build Pauli gates from Qiskit's u gate\n",
    "2. Solve P = NP\n",
    "3. etc..."
   ]
  },
  {
   "cell_type": "code",
   "execution_count": 1,
   "id": "c268f220",
   "metadata": {},
   "outputs": [],
   "source": [
    "#Import Qiskit and other needed packages\n",
    "from qiskit import *\n",
    "from qiskit.visualization import plot_histogram\n",
    "from qiskit.quantum_info import Statevector\n",
    "import numpy as np\n",
    "import pprint"
   ]
  },
  {
   "cell_type": "raw",
   "id": "f4c321c2",
   "metadata": {},
   "source": [
    "# BEGIN QUESTION\n",
    "name: q1\n",
    "points: 1\n",
    "manual: false"
   ]
  },
  {
   "cell_type": "markdown",
   "id": "306c6bf8",
   "metadata": {},
   "source": [
    "#### Task 1 - Constructing Pauli Z gate from u Gate\n",
    "We can use Qiskit's [u gate](https://qiskit.org/documentation/stubs/qiskit.circuit.library.UGate.html) to construct arbitrary quantum operations. Fill in the parameters below so that the u gate implements a Pauli Z gate."
   ]
  },
  {
   "cell_type": "raw",
   "id": "09c46ad7",
   "metadata": {},
   "source": [
    "# BEGIN SOLUTION"
   ]
  },
  {
   "cell_type": "code",
   "execution_count": 2,
   "id": "93187f7a",
   "metadata": {},
   "outputs": [
    {
     "data": {
      "text/plain": [
       "<qiskit.circuit.instructionset.InstructionSet at 0x16da2ac7148>"
      ]
     },
     "execution_count": 2,
     "metadata": {},
     "output_type": "execute_result"
    }
   ],
   "source": [
    "qc_pauli_z = QuantumCircuit(1,1)\n",
    "theta = 0 # BEGIN SOLUTION\n",
    "phi = np.pi #BEGIN SOLUTION\n",
    "lam = 0 # BEGIN SOLUTION\n",
    "# END SOLUTION\n",
    "qc_pauli_z.u(theta,phi,lam,0)"
   ]
  },
  {
   "cell_type": "raw",
   "id": "ca463655",
   "metadata": {},
   "source": [
    "# END SOLUTION"
   ]
  },
  {
   "cell_type": "raw",
   "id": "9aa20f3b",
   "metadata": {},
   "source": [
    "# BEGIN TESTS"
   ]
  },
  {
   "cell_type": "code",
   "execution_count": null,
   "id": "f26509c5",
   "metadata": {},
   "outputs": [],
   "source": [
    "#check statevector and check contains u gate???"
   ]
  },
  {
   "cell_type": "raw",
   "id": "f0a53ed4",
   "metadata": {},
   "source": [
    "# END TESTS"
   ]
  },
  {
   "cell_type": "raw",
   "id": "cdbf439a",
   "metadata": {},
   "source": [
    "# END QUESTION"
   ]
  },
  {
   "cell_type": "raw",
   "id": "5deaaf0a",
   "metadata": {},
   "source": [
    "# BEGIN QUESTION\n",
    "name: q3\n",
    "points: 1\n",
    "manual: true"
   ]
  },
  {
   "cell_type": "markdown",
   "id": "76348419",
   "metadata": {},
   "source": [
    "#### Task 3 - Using Qiskit's Bloch Sphere\n",
    "Provide demo cell. Then ask for Bloch sphere image of circuit that implements X gate then Z gate"
   ]
  },
  {
   "cell_type": "code",
   "execution_count": null,
   "id": "6a48696a",
   "metadata": {},
   "outputs": [],
   "source": [
    "#demo bloch sphere code cell"
   ]
  },
  {
   "cell_type": "raw",
   "id": "589ebdd0",
   "metadata": {},
   "source": [
    "# BEGIN SOLUTION"
   ]
  },
  {
   "cell_type": "code",
   "execution_count": null,
   "id": "d2f4f077",
   "metadata": {},
   "outputs": [],
   "source": [
    "# partially implemented circuit to add bloch sphere code and 2 gates"
   ]
  },
  {
   "cell_type": "raw",
   "id": "d12b3cd4",
   "metadata": {},
   "source": [
    "# END SOLUTION"
   ]
  },
  {
   "cell_type": "raw",
   "id": "69567f24",
   "metadata": {},
   "source": [
    "# END QUESTION"
   ]
  },
  {
   "cell_type": "raw",
   "id": "e9137422",
   "metadata": {},
   "source": [
    "# BEGIN QUESTION\n",
    "name: q4\n",
    "points: 1\n",
    "manual: true"
   ]
  },
  {
   "cell_type": "markdown",
   "id": "7c9e47d5",
   "metadata": {},
   "source": [
    "Question: Using just the standard Pauli matrices, how many unique points can I travel to on the Bloch sphere?"
   ]
  },
  {
   "cell_type": "raw",
   "id": "5db82f78",
   "metadata": {},
   "source": [
    "# BEGIN SOLUTION"
   ]
  },
  {
   "cell_type": "markdown",
   "id": "c3c2f184",
   "metadata": {},
   "source": [
    "2"
   ]
  },
  {
   "cell_type": "raw",
   "id": "4b8b3c71",
   "metadata": {},
   "source": [
    "# END SOLUTION "
   ]
  },
  {
   "cell_type": "raw",
   "id": "0d4d1df3",
   "metadata": {},
   "source": [
    "# END QUESTION"
   ]
  },
  {
   "cell_type": "raw",
   "id": "c9867f07",
   "metadata": {},
   "source": [
    "# BEGIN QUESTION\n",
    "name: q5\n",
    "points: 1\n",
    "manual: true"
   ]
  },
  {
   "cell_type": "markdown",
   "id": "e67e2fbd",
   "metadata": {},
   "source": [
    "### Task 4 - Arbitrary Rotations\n",
    "Now let's use the rx, ry, rz gates and see where we can go on the Bloch sphere. Create a circuit and display the Bloch sphere of a circuit that ends up in a certain area on the Bloch sphere."
   ]
  },
  {
   "cell_type": "raw",
   "id": "c59f3cdf",
   "metadata": {},
   "source": [
    "# BEGIN SOLUTION"
   ]
  },
  {
   "cell_type": "code",
   "execution_count": null,
   "id": "3d85f07f",
   "metadata": {},
   "outputs": [],
   "source": [
    "# bloch sphere implementation"
   ]
  },
  {
   "cell_type": "raw",
   "id": "66d53022",
   "metadata": {},
   "source": [
    "# END SOLUTION"
   ]
  },
  {
   "cell_type": "raw",
   "id": "b52ea1ce",
   "metadata": {},
   "source": [
    "# END QUESTION"
   ]
  },
  {
   "cell_type": "raw",
   "id": "653ec90d",
   "metadata": {},
   "source": [
    "# BEGIN QUESTION\n",
    "name: q6\n",
    "points: 1\n",
    "manual: false"
   ]
  },
  {
   "cell_type": "markdown",
   "id": "6a877123",
   "metadata": {},
   "source": [
    "#### Task 6 - Initializing a quantum state\n",
    "We can use... the QuantumCircuit's [initialize method](https://qiskit.org/documentation/stubs/qiskit.circuit.QuantumCircuit.html#qiskit.circuit.QuantumCircuit.initialize) to prepare a specific initial state. See the demo cell below. Use the initialize method to prepare a qubit in state x."
   ]
  },
  {
   "cell_type": "code",
   "execution_count": null,
   "id": "9503f590",
   "metadata": {},
   "outputs": [],
   "source": [
    "# demo cell\n",
    "qc = QuantumCircuit(1,1)\n",
    "qc.initialize([0,1],0)\n",
    "qc.measure(0,0)\n",
    "qc.draw(output='mpl')"
   ]
  },
  {
   "cell_type": "raw",
   "id": "1ad9bf9f",
   "metadata": {},
   "source": [
    "# BEGIN SOLUTION"
   ]
  },
  {
   "cell_type": "code",
   "execution_count": null,
   "id": "71a2cc52",
   "metadata": {},
   "outputs": [],
   "source": [
    "#solution cell"
   ]
  },
  {
   "cell_type": "raw",
   "id": "c9baf9d9",
   "metadata": {},
   "source": [
    "# END SOLUTION"
   ]
  },
  {
   "cell_type": "raw",
   "id": "123cfeec",
   "metadata": {},
   "source": [
    "# END QUESTION"
   ]
  },
  {
   "cell_type": "raw",
   "id": "056b4673",
   "metadata": {},
   "source": [
    "# BEGIN QUESTION\n",
    "name: q7\n",
    "points: 1\n",
    "manual: true"
   ]
  },
  {
   "cell_type": "markdown",
   "id": "b98c28b2",
   "metadata": {},
   "source": [
    "#### Task 7 - Global Phase\n",
    "Recognizing phase is important blah blah... Look at the two circuits below. Are these circuits identical? Up to a global phase?"
   ]
  },
  {
   "cell_type": "code",
   "execution_count": null,
   "id": "5032ea8f",
   "metadata": {},
   "outputs": [],
   "source": [
    "# demo cell 1"
   ]
  },
  {
   "cell_type": "code",
   "execution_count": null,
   "id": "4d626635",
   "metadata": {},
   "outputs": [],
   "source": [
    "# demo cell 2"
   ]
  },
  {
   "cell_type": "raw",
   "id": "d36eface",
   "metadata": {},
   "source": [
    "# BEGIN SOLUTION"
   ]
  },
  {
   "cell_type": "raw",
   "id": "e564d6e9",
   "metadata": {},
   "source": [
    "Yes they are equivalent up to a global phase."
   ]
  },
  {
   "cell_type": "raw",
   "id": "2202eda4",
   "metadata": {},
   "source": [
    "# END SOLUTION"
   ]
  },
  {
   "cell_type": "raw",
   "id": "4449d2a7",
   "metadata": {},
   "source": [
    "# END QUESTION"
   ]
  },
  {
   "cell_type": "markdown",
   "id": "a99137c4",
   "metadata": {},
   "source": [
    "## Conclusion\n",
    "Any finals thoughts/summary go here..."
   ]
  },
  {
   "cell_type": "markdown",
   "id": "2e6a8c90",
   "metadata": {},
   "source": [
    "### Extension Ideas\n",
    "1. Solve the twin prime conjecture\n",
    "2. Count down from infinity\n",
    "3. etc..."
   ]
  },
  {
   "cell_type": "code",
   "execution_count": null,
   "id": "eab2282c",
   "metadata": {},
   "outputs": [],
   "source": [
    "# Task 5 - play with hadamard gate\n",
    "# Task 6 - easy pauli gate puzzles"
   ]
  }
 ],
 "metadata": {
  "kernelspec": {
   "display_name": "otter-grader",
   "language": "python",
   "name": "otter-grader"
  },
  "language_info": {
   "codemirror_mode": {
    "name": "ipython",
    "version": 3
   },
   "file_extension": ".py",
   "mimetype": "text/x-python",
   "name": "python",
   "nbconvert_exporter": "python",
   "pygments_lexer": "ipython3",
   "version": "3.7.11"
  }
 },
 "nbformat": 4,
 "nbformat_minor": 5
}
