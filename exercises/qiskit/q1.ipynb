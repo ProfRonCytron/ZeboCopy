{
 "cells": [
  {
   "cell_type": "raw",
   "id": "f5cdd943",
   "metadata": {},
   "source": [
    "# ASSIGNMENT CONFIG\n",
    "generate:\n",
    "    token: XXXXXXXX                  # required\n",
    "    course_id: XXXXX              # required\n",
    "    assignment_id: XXXXX          # required\n",
    "    filtering: true              # true is the default  \n",
    "    pagebreaks: true\n",
    "    show_stdout: true\n",
    "    show_hidden: true\n",
    "\n",
    "export_cell:                     # whether to include an Otter export cell in the output notebooks\n",
    "    instructions: ''             # additional submission instructions to include in the export cell\n",
    "    pdf: false                   # whether to include a PDF of the notebook in the generated zip file\n",
    "    filtering: true              # whether the generated PDF should be filtered\n",
    "    pagebreaks: true             # whether to include page breaks in the PDF\n",
    "    run_tests: false             # whether to run student submissions against local tests during export\n",
    "\n",
    "template_pdf: true"
   ]
  },
  {
   "cell_type": "markdown",
   "id": "99e4fe30",
   "metadata": {},
   "source": [
    "# Qiskit Assignment 1\n",
    "## Practice with Pauli Gates and other Qiskit tools\n",
    "This assignment will...\n",
    "\n",
    "### Learning Objectives\n",
    "1. Build Pauli gates from Qiskit's u gate\n",
    "2. Solve P = NP\n",
    "3. etc..."
   ]
  },
  {
   "cell_type": "code",
   "execution_count": 1,
   "id": "legitimate-explosion",
   "metadata": {},
   "outputs": [],
   "source": [
    "#Import Qiskit and other needed packages\n",
    "from qiskit import *\n",
    "from qiskit.visualization import plot_histogram\n",
    "from qiskit.quantum_info import Statevector\n",
    "import numpy as np\n",
    "import pprint"
   ]
  },
  {
   "cell_type": "raw",
   "id": "3eb3026b",
   "metadata": {},
   "source": [
    "# BEGIN QUESTION\n",
    "name: q1\n",
    "points: 1\n",
    "manual: false"
   ]
  },
  {
   "cell_type": "markdown",
   "id": "95f4af89",
   "metadata": {},
   "source": [
    "#### Task 1 - Constructing Pauli Z gate from u Gate\n",
    "We can use Qiskit's [u gate](https://qiskit.org/documentation/stubs/qiskit.circuit.library.UGate.html) to construct arbitrary quantum operations. Fill in the parameters below so that the u gate implements a Pauli Z gate."
   ]
  },
  {
   "cell_type": "raw",
   "id": "89566fe3",
   "metadata": {},
   "source": [
    "# BEGIN SOLUTION"
   ]
  },
  {
   "cell_type": "code",
   "execution_count": 3,
   "id": "786d2fe0",
   "metadata": {},
   "outputs": [
    {
     "data": {
      "text/plain": [
       "<qiskit.circuit.instructionset.InstructionSet at 0x1cb9ca2fe88>"
      ]
     },
     "execution_count": 3,
     "metadata": {},
     "output_type": "execute_result"
    }
   ],
   "source": [
    "qc_pauli_z = QuantumCircuit(1,1)\n",
    "theta = 0 # BEGIN SOLUTION\n",
    "phi = np.pi #BEGIN SOLUTION\n",
    "lam = 0 # BEGIN SOLUTION\n",
    "# END SOLUTION\n",
    "qc_pauli_z.u(theta,phi,lam,0)"
   ]
  },
  {
   "cell_type": "raw",
   "id": "c4361263",
   "metadata": {},
   "source": [
    "# END SOLUTION"
   ]
  },
  {
   "cell_type": "raw",
   "id": "5a492e31",
   "metadata": {},
   "source": [
    "# BEGIN TESTS"
   ]
  },
  {
   "cell_type": "code",
   "execution_count": 4,
   "id": "d205668f",
   "metadata": {},
   "outputs": [],
   "source": [
    "#check statevector and check contains u gate???"
   ]
  },
  {
   "cell_type": "raw",
   "id": "004401fc",
   "metadata": {},
   "source": [
    "# END TESTS"
   ]
  },
  {
   "cell_type": "raw",
   "id": "97e6d1d4",
   "metadata": {},
   "source": [
    "# END QUESTION"
   ]
  },
  {
   "cell_type": "raw",
   "id": "e9bc55b1",
   "metadata": {},
   "source": [
    "# BEGIN QUESTION"
   ]
  },
  {
   "cell_type": "markdown",
   "id": "d0d5b929",
   "metadata": {},
   "source": [
    "#### Task 2 - Constructing Hadamard gate from u Gate\n",
    "We can use Qiskit's [u gate](https://qiskit.org/documentation/stubs/qiskit.circuit.library.UGate.html) to construct arbitrary quantum operations. Fill in the parameters below so that the u gate implements a Hadamard gate."
   ]
  },
  {
   "cell_type": "raw",
   "id": "e6cbcb23",
   "metadata": {},
   "source": [
    "# BEGIN QUESTION\n",
    "name: q2\n",
    "points: 1\n",
    "manual: false"
   ]
  },
  {
   "cell_type": "code",
   "execution_count": 6,
   "id": "905689c6",
   "metadata": {},
   "outputs": [
    {
     "data": {
      "text/plain": [
       "<qiskit.circuit.instructionset.InstructionSet at 0x1cb9b203308>"
      ]
     },
     "execution_count": 6,
     "metadata": {},
     "output_type": "execute_result"
    }
   ],
   "source": [
    "qc_had = QuantumCircuit(1,1)\n",
    "theta = np.pi/2 # BEGIN SOLUTION\n",
    "phi = 0 #BEGIN SOLUTION\n",
    "lam = np.pi # BEGIN SOLUTION\n",
    "# END SOLUTION\n",
    "qc_had.u(theta,phi,lam,0)"
   ]
  },
  {
   "cell_type": "raw",
   "id": "b81e7960",
   "metadata": {},
   "source": [
    "# END SOLUTION"
   ]
  },
  {
   "cell_type": "raw",
   "id": "5a492e31",
   "metadata": {},
   "source": [
    "# BEGIN TESTS"
   ]
  },
  {
   "cell_type": "code",
   "execution_count": 7,
   "id": "d205668f",
   "metadata": {},
   "outputs": [],
   "source": [
    "#check statevector and check contains u gate???"
   ]
  },
  {
   "cell_type": "raw",
   "id": "004401fc",
   "metadata": {},
   "source": [
    "# END TESTS"
   ]
  },
  {
   "cell_type": "raw",
   "id": "97e6d1d4",
   "metadata": {},
   "source": [
    "# END QUESTION"
   ]
  },
  {
   "cell_type": "raw",
   "id": "47224f37",
   "metadata": {},
   "source": [
    "# BEGIN QUESTION\n",
    "name: q3\n",
    "points: 1\n",
    "manual: true"
   ]
  },
  {
   "cell_type": "markdown",
   "id": "83e82dfc",
   "metadata": {},
   "source": [
    "#### Task 3 - Using Qiskit's Bloch Sphere\n",
    "Provide demo cell. Then ask for Bloch sphere image of circuit that implements X gate then Z gate"
   ]
  },
  {
   "cell_type": "code",
   "execution_count": 8,
   "id": "1caec1dc",
   "metadata": {},
   "outputs": [],
   "source": [
    "#demo bloch sphere code cell"
   ]
  },
  {
   "cell_type": "raw",
   "id": "0fae2e2a",
   "metadata": {},
   "source": [
    "# BEGIN SOLUTION"
   ]
  },
  {
   "cell_type": "code",
   "execution_count": 9,
   "id": "6c203533",
   "metadata": {},
   "outputs": [],
   "source": [
    "# partially implemented circuit to add bloch sphere code and 2 gates"
   ]
  },
  {
   "cell_type": "raw",
   "id": "d13f0ff9",
   "metadata": {},
   "source": [
    "# END SOLUTION"
   ]
  },
  {
   "cell_type": "raw",
   "id": "642bed99",
   "metadata": {},
   "source": [
    "# END QUESTION"
   ]
  },
  {
   "cell_type": "raw",
   "id": "21b9999a",
   "metadata": {},
   "source": [
    "# BEGIN QUESTION\n",
    "name: q4\n",
    "points: 1\n",
    "manual: true"
   ]
  },
  {
   "cell_type": "markdown",
   "id": "027d7dbc",
   "metadata": {},
   "source": [
    "Question: Using just the standard Pauli matrices, how many unique points can I travel to on the Bloch sphere?"
   ]
  },
  {
   "cell_type": "raw",
   "id": "1a8dba86",
   "metadata": {},
   "source": [
    "# BEGIN SOLUTION"
   ]
  },
  {
   "cell_type": "markdown",
   "id": "8d527af6",
   "metadata": {},
   "source": [
    "2"
   ]
  },
  {
   "cell_type": "raw",
   "id": "9ab1d812",
   "metadata": {},
   "source": [
    "# END SOLUTION "
   ]
  },
  {
   "cell_type": "raw",
   "id": "1899f3d5",
   "metadata": {},
   "source": [
    "# END QUESTION"
   ]
  },
  {
   "cell_type": "raw",
   "id": "9a3d3152",
   "metadata": {},
   "source": [
    "# BEGIN QUESTION\n",
    "name: q5\n",
    "points: 1\n",
    "manual: true"
   ]
  },
  {
   "cell_type": "markdown",
   "id": "f3d65419",
   "metadata": {},
   "source": [
    "### Task 4 - Arbitrary Rotations\n",
    "Now let's use the rx, ry, rz gates and see where we can go on the Bloch sphere. Create a circuit and display the Bloch sphere of a circuit that ends up in a certain area on the Bloch sphere."
   ]
  },
  {
   "cell_type": "raw",
   "id": "1d62ee53",
   "metadata": {},
   "source": [
    "# BEGIN SOLUTION"
   ]
  },
  {
   "cell_type": "code",
   "execution_count": 10,
   "id": "a09b2342",
   "metadata": {},
   "outputs": [],
   "source": [
    "# bloch sphere implementation"
   ]
  },
  {
   "cell_type": "raw",
   "id": "7be2cb88",
   "metadata": {},
   "source": [
    "# END SOLUTION"
   ]
  },
  {
   "cell_type": "raw",
   "id": "6f843f3b",
   "metadata": {},
   "source": [
    "# END QUESTION"
   ]
  },
  {
   "cell_type": "raw",
   "id": "000a96b1",
   "metadata": {},
   "source": [
    "# BEGIN QUESTION\n",
    "name: q6\n",
    "points: 1\n",
    "manual: false"
   ]
  },
  {
   "cell_type": "markdown",
   "id": "faae9fb5",
   "metadata": {},
   "source": [
    "#### Task 6 - Initializing a quantum state\n",
    "We can use... the QuantumCircuit's [initialize method](https://qiskit.org/documentation/stubs/qiskit.circuit.QuantumCircuit.html#qiskit.circuit.QuantumCircuit.initialize) to prepare a specific initial state. See the demo cell below. Use the initialize method to prepare a qubit in state x."
   ]
  },
  {
   "cell_type": "code",
   "execution_count": 11,
   "id": "e031d577",
   "metadata": {},
   "outputs": [
    {
     "data": {
      "image/png": "[encoded data removed]",
      "text/plain": [
       "<Figure size 193.726x144.48 with 1 Axes>"
      ]
     },
     "execution_count": 11,
     "metadata": {},
     "output_type": "execute_result"
    }
   ],
   "source": [
    "# demo cell\n",
    "qc = QuantumCircuit(1,1)\n",
    "qc.initialize([0,1],0)\n",
    "qc.measure(0,0)\n",
    "qc.draw(output='mpl')"
   ]
  },
  {
   "cell_type": "raw",
   "id": "e30d3912",
   "metadata": {},
   "source": [
    "# BEGIN SOLUTION"
   ]
  },
  {
   "cell_type": "code",
   "execution_count": 12,
   "id": "1dcb9775",
   "metadata": {},
   "outputs": [],
   "source": [
    "#solution cell"
   ]
  },
  {
   "cell_type": "raw",
   "id": "301c040c",
   "metadata": {},
   "source": [
    "# END SOLUTION"
   ]
  },
  {
   "cell_type": "raw",
   "id": "3a821e99",
   "metadata": {},
   "source": [
    "# END QUESTION"
   ]
  },
  {
   "cell_type": "raw",
   "id": "91b5e1f6",
   "metadata": {},
   "source": [
    "# BEGIN QUESTION\n",
    "name: q7\n",
    "points: 1\n",
    "manual: true"
   ]
  },
  {
   "cell_type": "markdown",
   "id": "cf23ce15",
   "metadata": {},
   "source": [
    "#### Task 7 - Global Phase\n",
    "Recognizing phase is important blah blah... Look at the two circuits below. Are these circuits identical? Up to a global phase?"
   ]
  },
  {
   "cell_type": "code",
   "execution_count": null,
   "id": "8619e732",
   "metadata": {},
   "outputs": [],
   "source": [
    "# demo cell 1"
   ]
  },
  {
   "cell_type": "code",
   "execution_count": null,
   "id": "40a41d55",
   "metadata": {},
   "outputs": [],
   "source": [
    "# demo cell 2"
   ]
  },
  {
   "cell_type": "raw",
   "id": "8fba44ce",
   "metadata": {},
   "source": [
    "# BEGIN SOLUTION"
   ]
  },
  {
   "cell_type": "markdown",
   "id": "61a14cb0",
   "metadata": {},
   "source": [
    "Yes they are equivalent up to a global phase."
   ]
  },
  {
   "cell_type": "raw",
   "id": "3df24009",
   "metadata": {},
   "source": [
    "# END SOLUTION"
   ]
  },
  {
   "cell_type": "raw",
   "id": "0cccfdf4",
   "metadata": {},
   "source": [
    "# END QUESTION"
   ]
  },
  {
   "cell_type": "markdown",
   "id": "20c65af4",
   "metadata": {},
   "source": [
    "## Conclusion\n",
    "Any finals thoughts/summary go here..."
   ]
  },
  {
   "cell_type": "markdown",
   "id": "f44dfc06",
   "metadata": {},
   "source": [
    "### Extension Ideas\n",
    "1. Solve the twin prime conjecture\n",
    "2. Count down from infinity\n",
    "3. etc..."
   ]
  },
  {
   "cell_type": "code",
   "execution_count": null,
   "id": "f2f58289",
   "metadata": {},
   "outputs": [],
   "source": [
    "# Task 5 - play with hadamard gate\n",
    "# Task 6 - easy pauli gate puzzles"
   ]
  }
 ],
 "metadata": {
  "kernelspec": {
   "display_name": "otter-grader",
   "language": "python",
   "name": "otter-grader"
  },
  "language_info": {
   "codemirror_mode": {
    "name": "ipython",
    "version": 3
   },
   "file_extension": ".py",
   "mimetype": "text/x-python",
   "name": "python",
   "nbconvert_exporter": "python",
   "pygments_lexer": "ipython3",
   "version": "3.7.11"
  }
 },
 "nbformat": 4,
 "nbformat_minor": 5
}
