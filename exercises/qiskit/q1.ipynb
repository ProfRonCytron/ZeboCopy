{
 "cells": [
  {
   "cell_type": "markdown",
   "id": "operating-guarantee",
   "metadata": {},
   "source": [
    "# Qiskit Assignment 1\n",
    "## Practice with Pauli gates, statevector, etc. ?\n",
    "This assignment is meant ...\n",
    "\n",
    "### Learning Objectives\n",
    "1. Become familiar using the statevector backend\n",
    "2. Build the Pauli gates from u3 gate\n",
    "3. Practice using initialize state?\n",
    "\n",
    "### Helpful Resources\n",
    "- to-do"
   ]
  },
  {
   "cell_type": "code",
   "execution_count": 1,
   "id": "compact-hudson",
   "metadata": {},
   "outputs": [],
   "source": [
    "#Import Qiskit and other needed packages\n",
    "from qiskit import *\n",
    "from qiskit.visualization import plot_histogram\n",
    "import numpy as np\n",
    "import pprint"
   ]
  },
  {
   "cell_type": "markdown",
   "id": "missing-hello",
   "metadata": {},
   "source": [
    "#### Task 1 - Statevector backend"
   ]
  },
  {
   "cell_type": "markdown",
   "id": "hungarian-abuse",
   "metadata": {},
   "source": [
    "#### Task 2 - Initializing state\n",
    "We can use... the QuantumCircuit's [initialize method](https://qiskit.org/documentation/stubs/qiskit.circuit.QuantumCircuit.html#qiskit.circuit.QuantumCircuit.initialize) to prepare a specific initial state."
   ]
  },
  {
   "cell_type": "code",
   "execution_count": 4,
   "id": "ancient-appreciation",
   "metadata": {},
   "outputs": [
    {
     "data": {
      "image/png": "[encoded data removed]",
      "text/plain": [
       "<Figure size 193.726x144.48 with 1 Axes>"
      ]
     },
     "execution_count": 4,
     "metadata": {},
     "output_type": "execute_result"
    }
   ],
   "source": [
    "qc = QuantumCircuit(1,1)\n",
    "qc.initialize([0,1],0)\n",
    "qc.measure(0,0)\n",
    "qc.draw(output='mpl')"
   ]
  },
  {
   "cell_type": "code",
   "execution_count": null,
   "id": "atomic-forestry",
   "metadata": {},
   "outputs": [],
   "source": []
  }
 ],
 "metadata": {
  "kernelspec": {
   "display_name": "Python 3",
   "language": "python",
   "name": "python3"
  },
  "language_info": {
   "codemirror_mode": {
    "name": "ipython",
    "version": 3
   },
   "file_extension": ".py",
   "mimetype": "text/x-python",
   "name": "python",
   "nbconvert_exporter": "python",
   "pygments_lexer": "ipython3",
   "version": "3.7.0"
  }
 },
 "nbformat": 4,
 "nbformat_minor": 5
}
