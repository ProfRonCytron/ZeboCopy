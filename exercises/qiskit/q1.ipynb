{
 "cells": [
  {
   "cell_type": "raw",
   "id": "f48286b7",
   "metadata": {},
   "source": [
    "# ASSIGNMENT CONFIG\n",
    "generate:\n",
    "    token: XXXXXXXX                  # required\n",
    "    course_id: XXXXX              # required\n",
    "    assignment_id: XXXXX          # required\n",
    "    filtering: true              # true is the default  \n",
    "    pagebreaks: true\n",
    "    show_stdout: true\n",
    "    show_hidden: true\n",
    "\n",
    "export_cell:                     # whether to include an Otter export cell in the output notebooks\n",
    "    instructions: ''             # additional submission instructions to include in the export cell\n",
    "    pdf: false                   # whether to include a PDF of the notebook in the generated zip file\n",
    "    filtering: true              # whether the generated PDF should be filtered\n",
    "    pagebreaks: true             # whether to include page breaks in the PDF\n",
    "    run_tests: false             # whether to run student submissions against local tests during export\n",
    "\n",
    "template_pdf: true"
   ]
  },
  {
   "cell_type": "markdown",
   "id": "9a446008",
   "metadata": {},
   "source": [
    "# Qiskit Assignment 1\n",
    "## Practice with Pauli Gates and other Qiskit tools\n",
    "Welcome to your second Qiskit assignment!\n",
    "\n",
    "### Learning Objectives\n",
    "1. Build Pauli gates from Qiskit's U gate\n",
    "2. Use the U gate to reverse a series of operations\n",
    "3. Visualize rotations using the Bloch Sphere"
   ]
  },
  {
   "cell_type": "code",
   "execution_count": 3,
   "id": "c268f220",
   "metadata": {},
   "outputs": [],
   "source": [
    "# Import Qiskit and other needed packages\n",
    "from qiskit import *\n",
    "from qiskit.visualization import plot_histogram\n",
    "from qiskit.quantum_info import Statevector\n",
    "import numpy as np\n",
    "import pprint\n",
    "import random"
   ]
  },
  {
   "cell_type": "raw",
   "id": "f4c321c2",
   "metadata": {},
   "source": [
    "# BEGIN QUESTION\n",
    "name: q1\n",
    "points: 1\n",
    "manual: false"
   ]
  },
  {
   "cell_type": "markdown",
   "id": "306c6bf8",
   "metadata": {},
   "source": [
    "#### Task 1 - Constructing Pauli Z gate from u Gate\n",
    "We can use [Qiskit's UGate](https://qiskit.org/documentation/stubs/qiskit.circuit.QuantumCircuit.u.html#qiskit.circuit.QuantumCircuit.u) to construct arbitrary quantum operations. Fill in the function below to return `qc_pauli_z`, a QuantumCircuit satisfying the following conditions:\n",
    "- it has 1 qubit, [initialized](https://qiskit.org/documentation/stubs/qiskit.circuit.QuantumCircuit.initialize.html#qiskit.circuit.QuantumCircuit.initialize) to the parameter `initial_state`\n",
    "- it has 1 classical bit\n",
    "- it has a U gate with parameters which perform the same rotation as a Pauli Z gate\n",
    "- it does not use the built in Z gate\n",
    "- it performs a measurement following the rotation"
   ]
  },
  {
   "cell_type": "raw",
   "id": "09c46ad7",
   "metadata": {},
   "source": [
    "# BEGIN SOLUTION"
   ]
  },
  {
   "cell_type": "code",
   "execution_count": 4,
   "id": "93187f7a",
   "metadata": {},
   "outputs": [],
   "source": [
    "def qc_pauli_z(initial_state=[1,0]):\n",
    "    # BEGIN SOLUTION\n",
    "    theta = 0\n",
    "    phi = np.pi\n",
    "    lamda = 0\n",
    "    \n",
    "    qc_pauli_z = QuantumCircuit(1,1)\n",
    "    qc_pauli_z.initialize(initial_state, 0)\n",
    "    qc_pauli_z.u(theta, phi, lamda, 0)\n",
    "    qc_pauli_z.measure(0,0)\n",
    "    # END SOLUTION\n",
    "    return qc_pauli_z"
   ]
  },
  {
   "cell_type": "markdown",
   "id": "dd3a54fe",
   "metadata": {},
   "source": [
    "You can use the following code to help visualize your circuit."
   ]
  },
  {
   "cell_type": "code",
   "execution_count": 5,
   "id": "3242e7b6",
   "metadata": {},
   "outputs": [
    {
     "data": {
      "image/png": "[encoded data removed]",
      "text/plain": [
       "<Figure size 253.926x144.48 with 1 Axes>"
      ]
     },
     "execution_count": 5,
     "metadata": {},
     "output_type": "execute_result"
    }
   ],
   "source": [
    "qc_pauli_z().draw(output='mpl')"
   ]
  },
  {
   "cell_type": "raw",
   "id": "ca463655",
   "metadata": {},
   "source": [
    "# END SOLUTION"
   ]
  },
  {
   "cell_type": "raw",
   "id": "9aa20f3b",
   "metadata": {},
   "source": [
    "# BEGIN TESTS"
   ]
  },
  {
   "cell_type": "code",
   "execution_count": 6,
   "id": "9d7bbd35",
   "metadata": {},
   "outputs": [
    {
     "data": {
      "text/plain": [
       "True"
      ]
     },
     "execution_count": 6,
     "metadata": {},
     "output_type": "execute_result"
    }
   ],
   "source": [
    "qc_pauli_z().num_clbits == 1"
   ]
  },
  {
   "cell_type": "code",
   "execution_count": 7,
   "id": "54b413a1",
   "metadata": {},
   "outputs": [
    {
     "data": {
      "text/plain": [
       "True"
      ]
     },
     "execution_count": 7,
     "metadata": {},
     "output_type": "execute_result"
    }
   ],
   "source": [
    "qc_pauli_z().num_qubits == 1"
   ]
  },
  {
   "cell_type": "code",
   "execution_count": 8,
   "id": "8e15b4d5",
   "metadata": {},
   "outputs": [
    {
     "data": {
      "text/plain": [
       "True"
      ]
     },
     "execution_count": 8,
     "metadata": {},
     "output_type": "execute_result"
    }
   ],
   "source": [
    "def testNoQiskitZGate():\n",
    "    ops = qc_pauli_z().count_ops()\n",
    "    try:\n",
    "        find_z = ops['z']\n",
    "    except KeyError: # this is the passing case, we don't want Z to be found!\n",
    "        return True\n",
    "    else:\n",
    "        return False\n",
    "    \n",
    "testNoQiskitZGate()"
   ]
  },
  {
   "cell_type": "code",
   "execution_count": 9,
   "id": "184e316d",
   "metadata": {},
   "outputs": [
    {
     "data": {
      "text/plain": [
       "True"
      ]
     },
     "execution_count": 9,
     "metadata": {},
     "output_type": "execute_result"
    }
   ],
   "source": [
    "def testInitialState():\n",
    "    try:\n",
    "        num_initializations = qc_pauli_z().count_ops()['initialize']\n",
    "    except KeyError:\n",
    "        return False\n",
    "    else:\n",
    "        return num_initializations == 1\n",
    "    \n",
    "testInitialState()"
   ]
  },
  {
   "cell_type": "code",
   "execution_count": 10,
   "id": "a2a0f669",
   "metadata": {},
   "outputs": [
    {
     "data": {
      "text/plain": [
       "True"
      ]
     },
     "execution_count": 10,
     "metadata": {},
     "output_type": "execute_result"
    }
   ],
   "source": [
    "def testMeasurementPerformed():\n",
    "    try:\n",
    "        num_measurements = qc_pauli_z().count_ops()['measure']\n",
    "    except KeyError:\n",
    "        return False\n",
    "    else:\n",
    "        return num_measurements == 1\n",
    "\n",
    "testMeasurementPerformed()"
   ]
  },
  {
   "cell_type": "code",
   "execution_count": 11,
   "id": "fd2346cc",
   "metadata": {},
   "outputs": [
    {
     "data": {
      "text/plain": [
       "True"
      ]
     },
     "execution_count": 11,
     "metadata": {},
     "output_type": "execute_result"
    }
   ],
   "source": [
    "def testRandomInitialState():\n",
    "    # let's choose something interesting as our initial state!\n",
    "    c = random.uniform(0, 2*np.pi)\n",
    "    initial_state = [(np.cos(c)), (np.sin(c))]\n",
    "    pauli_z_matrix = np.array(\n",
    "                                [[1, 0],\n",
    "                                 [0,-1]]\n",
    "                             )\n",
    "    \n",
    "    qc = qc_pauli_z(initial_state)\n",
    "    qc.remove_final_measurements()\n",
    "    result_sv = Statevector.from_instruction(qc)\n",
    "    \n",
    "    return result_sv.equiv(Statevector(pauli_z_matrix.dot(initial_state)))\n",
    "\n",
    "testRandomInitialState()"
   ]
  },
  {
   "cell_type": "code",
   "execution_count": 12,
   "id": "f26509c5",
   "metadata": {},
   "outputs": [
    {
     "data": {
      "text/plain": [
       "True"
      ]
     },
     "execution_count": 12,
     "metadata": {},
     "output_type": "execute_result"
    }
   ],
   "source": [
    "# HIDDEN\n",
    "def testSolutionPauliZ():\n",
    "    # choose something interesting!\n",
    "    c = random.uniform(0, 2*np.pi)\n",
    "    initial_state = [(np.cos(c)), (np.sin(c))]\n",
    "\n",
    "    theta = 0\n",
    "    phi = np.pi\n",
    "    lamda = 0\n",
    "    \n",
    "    solution_qc = QuantumCircuit(1,1)\n",
    "    solution_qc.initialize(initial_state, 0)\n",
    "    solution_qc.z(0)\n",
    "    \n",
    "    student_qc = qc_pauli_z(initial_state)\n",
    "    student_qc.remove_final_measurements()\n",
    "    return Statevector.from_instruction(student_qc).equiv(Statevector.from_instruction(solution_qc))\n",
    "\n",
    "testSolutionPauliZ()"
   ]
  },
  {
   "cell_type": "raw",
   "id": "f0a53ed4",
   "metadata": {},
   "source": [
    "# END TESTS"
   ]
  },
  {
   "cell_type": "raw",
   "id": "cdbf439a",
   "metadata": {},
   "source": [
    "# END QUESTION"
   ]
  },
  {
   "cell_type": "raw",
   "id": "1d9a9dd0",
   "metadata": {},
   "source": [
    "# BEGIN QUESTION\n",
    "name: q2a\n",
    "points: 1\n",
    "manual: false"
   ]
  },
  {
   "cell_type": "markdown",
   "id": "e90c6e6b",
   "metadata": {},
   "source": [
    "#### Task 2 - Unitary Inverse"
   ]
  },
  {
   "cell_type": "markdown",
   "id": "accb5b5d",
   "metadata": {},
   "source": [
    "We'll study the idea of [uncomputation](https://qiskit.org/textbook/ch-algorithms/grover.html#5.2-Uncomputing,-and-Completing-the-Oracle) during our discussion of quantum algorithms. In general, we may find it helpful to return a qubit to its initial state. \n",
    "\n",
    "This process is typically straightforward due to the properties of unitary gates. However, your task is to do so using only a single U gate. Complete the partial circuits below such that the measurements will yield a state equivalent to `initial_state` *up to a global phase*."
   ]
  },
  {
   "cell_type": "raw",
   "id": "c4e63aa5",
   "metadata": {},
   "source": [
    "# BEGIN SOLUTION"
   ]
  },
  {
   "cell_type": "code",
   "execution_count": 13,
   "id": "4900c693",
   "metadata": {},
   "outputs": [],
   "source": [
    "def reverse_a(initial_state=[1,0]):\n",
    "    qc_reverse_a = QuantumCircuit(1,1)\n",
    "    qc_reverse_a.initialize(initial_state)\n",
    "    qc_reverse_a.x(0)\n",
    "    qc_reverse_a.h(0)\n",
    "    qc_reverse_a.y(0)\n",
    "    qc_reverse_a.x(0)\n",
    "    qc_reverse_a.z(0)\n",
    "    qc_reverse_a.barrier()\n",
    "    \n",
    "   # BEGIN SOLUTION\n",
    "    theta = 3*np.pi/2\n",
    "    phi = np.pi\n",
    "    lamda = np.pi\n",
    "    qc_reverse_a.u(theta, phi, lamda, 0)\n",
    "   # END SOLUTION\n",
    "\n",
    "    qc_reverse_a.barrier()\n",
    "    qc_reverse_a.measure(0,0)\n",
    "    return qc_reverse_a"
   ]
  },
  {
   "cell_type": "code",
   "execution_count": 14,
   "id": "10a0d264",
   "metadata": {},
   "outputs": [
    {
     "data": {
      "image/png": "[encoded data removed]",
      "text/plain": [
       "<Figure size 675.326x144.48 with 1 Axes>"
      ]
     },
     "execution_count": 14,
     "metadata": {},
     "output_type": "execute_result"
    }
   ],
   "source": [
    "reverse_a().draw(output='mpl')"
   ]
  },
  {
   "cell_type": "raw",
   "id": "641e36fd",
   "metadata": {},
   "source": [
    "# END SOLUTION"
   ]
  },
  {
   "cell_type": "raw",
   "id": "6dad81f9",
   "metadata": {},
   "source": [
    "# BEGIN TESTS"
   ]
  },
  {
   "cell_type": "code",
   "execution_count": 15,
   "id": "d26374bd",
   "metadata": {},
   "outputs": [
    {
     "data": {
      "text/plain": [
       "True"
      ]
     },
     "execution_count": 15,
     "metadata": {},
     "output_type": "execute_result"
    }
   ],
   "source": [
    "def testAcceptableGateUsageA():\n",
    "    ops = reverse_a().count_ops()\n",
    "    x = ops['x'] == 2\n",
    "    y = ops['y'] == 1\n",
    "    z = ops['z'] == 1\n",
    "    h = ops['h'] == 1\n",
    "    try:\n",
    "        u = ops['u'] == 1\n",
    "    except KeyError:\n",
    "        u = False\n",
    "        \n",
    "    return all([x,y,z,h,u])\n",
    "    \n",
    "testAcceptableGateUsageA()"
   ]
  },
  {
   "cell_type": "code",
   "execution_count": 16,
   "id": "50759027",
   "metadata": {},
   "outputs": [
    {
     "name": "stdout",
     "output_type": "stream",
     "text": [
      "Statevector([-6.123234e-17-1.00000000e+00j,  6.123234e-17-1.11022302e-16j],\n",
      "            dims=(2,))\n"
     ]
    },
    {
     "data": {
      "text/plain": [
       "True"
      ]
     },
     "execution_count": 16,
     "metadata": {},
     "output_type": "execute_result"
    }
   ],
   "source": [
    "def testKetZeroA():\n",
    "    qc = reverse_a()\n",
    "    qc.remove_final_measurements()\n",
    "    sv = Statevector.from_instruction(qc)\n",
    "    return sv.equiv(Statevector([1,0]))\n",
    "    \n",
    "testKetZeroA()"
   ]
  },
  {
   "cell_type": "code",
   "execution_count": 17,
   "id": "eaed2ca5",
   "metadata": {},
   "outputs": [
    {
     "name": "stdout",
     "output_type": "stream",
     "text": [
      "Statevector([ 6.1232340e-17+1.11022302e-16j,\n",
      "             -1.8369702e-16-1.00000000e+00j],\n",
      "            dims=(2,))\n"
     ]
    },
    {
     "data": {
      "text/plain": [
       "True"
      ]
     },
     "execution_count": 17,
     "metadata": {},
     "output_type": "execute_result"
    }
   ],
   "source": [
    "def testKetOneA():\n",
    "    initial_state = [0,1]\n",
    "    qc = reverse_a(initial_state)\n",
    "    qc.remove_final_measurements()\n",
    "    sv = Statevector.from_instruction(qc)\n",
    "    return sv.equiv(Statevector([0,1]))\n",
    "    \n",
    "testKetOneA()"
   ]
  },
  {
   "cell_type": "code",
   "execution_count": 21,
   "id": "0e5cead9",
   "metadata": {},
   "outputs": [
    {
     "name": "stdout",
     "output_type": "stream",
     "text": [
      "Statevector([ 1.92716147e-16+0.91344013j, -1.30691829e-16-0.40697314j],\n",
      "            dims=(2,))\n"
     ]
    },
    {
     "data": {
      "text/plain": [
       "True"
      ]
     },
     "execution_count": 21,
     "metadata": {},
     "output_type": "execute_result"
    }
   ],
   "source": [
    "def testRandomSimpleA():\n",
    "    c = random.uniform(0, 2*np.pi)\n",
    "    initial_state = [(np.cos(c)), (np.sin(c))]\n",
    "    qc = reverse_a(initial_state)\n",
    "    qc.remove_final_measurements()\n",
    "    sv = Statevector.from_instruction(qc)\n",
    "    return sv.equiv(Statevector(initial_state))\n",
    "    \n",
    "testRandomSimpleA()"
   ]
  },
  {
   "cell_type": "code",
   "execution_count": 23,
   "id": "7937904b",
   "metadata": {},
   "outputs": [
    {
     "data": {
      "text/plain": [
       "True"
      ]
     },
     "execution_count": 23,
     "metadata": {},
     "output_type": "execute_result"
    }
   ],
   "source": [
    "# HIDDEN\n",
    "def testRandomHiddenA():\n",
    "    results = []\n",
    "    for i in range(3):\n",
    "        c = random.uniform(0, 2*np.pi)\n",
    "        initial_state = [(np.cos(c)), (np.sin(c))]\n",
    "        qc = reverse_a(initial_state)\n",
    "        qc.remove_final_measurements()\n",
    "        sv = Statevector.from_instruction(qc)\n",
    "        results.append(sv.equiv(Statevector(initial_state)))\n",
    "    return all(results)\n",
    "    \n",
    "testRandomHiddenA()"
   ]
  },
  {
   "cell_type": "raw",
   "id": "31b951ca",
   "metadata": {},
   "source": [
    "# END TESTS"
   ]
  },
  {
   "cell_type": "raw",
   "id": "c8f040b7",
   "metadata": {},
   "source": [
    "# END QUESTION"
   ]
  },
  {
   "cell_type": "raw",
   "id": "2833b47b",
   "metadata": {},
   "source": [
    "# BEGIN QUESTION\n",
    "name: q2b\n",
    "points: 1\n",
    "manual: false"
   ]
  },
  {
   "cell_type": "raw",
   "id": "779cb286",
   "metadata": {},
   "source": [
    "# BEGIN SOLUTION"
   ]
  },
  {
   "cell_type": "code",
   "execution_count": 70,
   "id": "8afc8b2f",
   "metadata": {},
   "outputs": [],
   "source": [
    "def reverse_b(initial_state=[1,0]):\n",
    "    qc_reverse_b = QuantumCircuit(1,1)\n",
    "    qc_reverse_b.initialize(initial_state)\n",
    "    for i in range(5):\n",
    "        qc_reverse_b.x(0)\n",
    "        qc_reverse_b.y(0)\n",
    "        qc_reverse_b.z(0)\n",
    "        qc_reverse_b.h(0)\n",
    "    qc_reverse_b.barrier()\n",
    "    \n",
    "    \n",
    "    # BEGIN SOLUTION\n",
    "    # Use identity commutation relation YX = -iZ\n",
    "    # so that (HZYX)^5=(-iHZZ)^5=(-iH)^5=-iH\n",
    "    # Hence to measure state within a global we use\n",
    "    # parameters for the U gate such that U == H\n",
    "    theta = np.pi/2\n",
    "    phi = 0\n",
    "    lamda = np.pi\n",
    "    qc_reverse_b.u(theta, phi, lamda, 0)\n",
    "    # END SOLUTION\n",
    "\n",
    "    qc_reverse_b.barrier()\n",
    "    qc_reverse_b.measure(0,0)\n",
    "    return qc_reverse_b"
   ]
  },
  {
   "cell_type": "code",
   "execution_count": 71,
   "id": "47660b22",
   "metadata": {},
   "outputs": [
    {
     "data": {
      "image/png": "[encoded data removed]",
      "text/plain": [
       "<Figure size 1578.33x144.48 with 1 Axes>"
      ]
     },
     "execution_count": 71,
     "metadata": {},
     "output_type": "execute_result"
    }
   ],
   "source": [
    "reverse_b().draw(output='mpl')"
   ]
  },
  {
   "cell_type": "raw",
   "id": "dc7ff3d0",
   "metadata": {},
   "source": [
    "# END SOLUTION"
   ]
  },
  {
   "cell_type": "raw",
   "id": "338fc3ba",
   "metadata": {},
   "source": [
    "# BEGIN TESTS"
   ]
  },
  {
   "cell_type": "code",
   "execution_count": 78,
   "id": "45074fc7",
   "metadata": {},
   "outputs": [
    {
     "data": {
      "text/plain": [
       "True"
      ]
     },
     "execution_count": 78,
     "metadata": {},
     "output_type": "execute_result"
    }
   ],
   "source": [
    "def testAcceptableGateUsageB():\n",
    "    ops = reverse_b().count_ops()\n",
    "    x = ops['x'] == 5\n",
    "    y = ops['y'] == 5\n",
    "    z = ops['z'] == 5\n",
    "    h = ops['h'] == 5\n",
    "    try:\n",
    "        u = ops['u'] == 1\n",
    "    except KeyError:\n",
    "        u = False\n",
    "    return all([x,y,z,h,u])\n",
    "    \n",
    "testAcceptableGateUsageB()"
   ]
  },
  {
   "cell_type": "code",
   "execution_count": 79,
   "id": "4e1973a4",
   "metadata": {},
   "outputs": [
    {
     "data": {
      "text/plain": [
       "True"
      ]
     },
     "execution_count": 79,
     "metadata": {},
     "output_type": "execute_result"
    }
   ],
   "source": [
    "def testKetZeroB():\n",
    "    qc = reverse_b()\n",
    "    qc.remove_final_measurements()\n",
    "    sv = Statevector.from_instruction(qc)\n",
    "    return sv.equiv(Statevector([1,0]))\n",
    "    \n",
    "testKetZeroB()"
   ]
  },
  {
   "cell_type": "code",
   "execution_count": 80,
   "id": "27ee7b29",
   "metadata": {},
   "outputs": [
    {
     "data": {
      "text/plain": [
       "True"
      ]
     },
     "execution_count": 80,
     "metadata": {},
     "output_type": "execute_result"
    }
   ],
   "source": [
    "def testKetOneB():\n",
    "    initial_state = [0,1]\n",
    "    qc = reverse_b(initial_state)\n",
    "    qc.remove_final_measurements()\n",
    "    sv = Statevector.from_instruction(qc)\n",
    "    return sv.equiv(Statevector([0,1]))\n",
    "    \n",
    "testKetOneB()"
   ]
  },
  {
   "cell_type": "code",
   "execution_count": 81,
   "id": "b5cf7d93",
   "metadata": {},
   "outputs": [
    {
     "data": {
      "text/plain": [
       "True"
      ]
     },
     "execution_count": 81,
     "metadata": {},
     "output_type": "execute_result"
    }
   ],
   "source": [
    "def testRandomSimpleB():\n",
    "    c = random.uniform(0, 2*np.pi)\n",
    "    initial_state = [(np.cos(c)), (np.sin(c))]\n",
    "    qc = reverse_b(initial_state)\n",
    "    qc.remove_final_measurements()\n",
    "    sv = Statevector.from_instruction(qc)\n",
    "    return sv.equiv(Statevector(initial_state))\n",
    "    \n",
    "testRandomSimpleB()"
   ]
  },
  {
   "cell_type": "code",
   "execution_count": 82,
   "id": "0167c640",
   "metadata": {},
   "outputs": [
    {
     "data": {
      "text/plain": [
       "True"
      ]
     },
     "execution_count": 82,
     "metadata": {},
     "output_type": "execute_result"
    }
   ],
   "source": [
    "# HIDDEN\n",
    "def testRandomHiddenB():\n",
    "    results = []\n",
    "    for i in range(3):\n",
    "        c = random.uniform(0, 2*np.pi)\n",
    "        initial_state = [(np.cos(c)), (np.sin(c))]\n",
    "        qc = reverse_b(initial_state)\n",
    "        qc.remove_final_measurements()\n",
    "        sv = Statevector.from_instruction(qc)\n",
    "        results.append(sv.equiv(Statevector(initial_state)))\n",
    "    return all(results)\n",
    "    \n",
    "testRandomHiddenB()"
   ]
  },
  {
   "cell_type": "raw",
   "id": "8fdbedf1",
   "metadata": {},
   "source": [
    "# END TESTS"
   ]
  },
  {
   "cell_type": "raw",
   "id": "732f17b9",
   "metadata": {},
   "source": [
    "# END QUESTION"
   ]
  },
  {
   "cell_type": "raw",
   "id": "5deaaf0a",
   "metadata": {},
   "source": [
    "# BEGIN QUESTION\n",
    "name: q3\n",
    "points: 1\n",
    "manual: true"
   ]
  },
  {
   "cell_type": "markdown",
   "id": "76348419",
   "metadata": {},
   "source": [
    "#### Task 3 - Using Qiskit's Bloch Sphere\n",
    "Provide demo cell. Then ask for Bloch sphere image of circuit that implements X gate then Z gate"
   ]
  },
  {
   "cell_type": "code",
   "execution_count": null,
   "id": "6a48696a",
   "metadata": {},
   "outputs": [],
   "source": [
    "#demo bloch sphere code cell"
   ]
  },
  {
   "cell_type": "raw",
   "id": "589ebdd0",
   "metadata": {},
   "source": [
    "# BEGIN SOLUTION"
   ]
  },
  {
   "cell_type": "code",
   "execution_count": null,
   "id": "d2f4f077",
   "metadata": {},
   "outputs": [],
   "source": [
    "# partially implemented circuit to add bloch sphere code and 2 gates"
   ]
  },
  {
   "cell_type": "raw",
   "id": "d12b3cd4",
   "metadata": {},
   "source": [
    "# END SOLUTION"
   ]
  },
  {
   "cell_type": "raw",
   "id": "69567f24",
   "metadata": {},
   "source": [
    "# END QUESTION"
   ]
  },
  {
   "cell_type": "raw",
   "id": "c9867f07",
   "metadata": {},
   "source": [
    "# BEGIN QUESTION\n",
    "name: q4\n",
    "points: 1\n",
    "manual: true"
   ]
  },
  {
   "cell_type": "markdown",
   "id": "e67e2fbd",
   "metadata": {},
   "source": [
    "### Task 4 - Arbitrary Rotations\n",
    "Now let's use the rx, ry, rz gates and see where we can go on the Bloch sphere. Create a circuit and display the Bloch sphere of a circuit that ends up in a certain area on the Bloch sphere."
   ]
  },
  {
   "cell_type": "raw",
   "id": "c59f3cdf",
   "metadata": {},
   "source": [
    "# BEGIN SOLUTION"
   ]
  },
  {
   "cell_type": "code",
   "execution_count": null,
   "id": "3d85f07f",
   "metadata": {},
   "outputs": [],
   "source": [
    "# bloch sphere implementation"
   ]
  },
  {
   "cell_type": "raw",
   "id": "66d53022",
   "metadata": {},
   "source": [
    "# END SOLUTION"
   ]
  },
  {
   "cell_type": "raw",
   "id": "b52ea1ce",
   "metadata": {},
   "source": [
    "# END QUESTION"
   ]
  },
  {
   "cell_type": "raw",
   "id": "056b4673",
   "metadata": {},
   "source": [
    "# BEGIN QUESTION\n",
    "name: q5\n",
    "points: 1\n",
    "manual: true"
   ]
  },
  {
   "cell_type": "markdown",
   "id": "b98c28b2",
   "metadata": {},
   "source": [
    "#### Task 5 - Global Phase\n",
    "Are the following circuits equivalent, why or why not?"
   ]
  },
  {
   "cell_type": "code",
   "execution_count": null,
   "id": "5032ea8f",
   "metadata": {},
   "outputs": [],
   "source": [
    "# demo cell 1"
   ]
  },
  {
   "cell_type": "code",
   "execution_count": null,
   "id": "4d626635",
   "metadata": {},
   "outputs": [],
   "source": [
    "# demo cell 2"
   ]
  },
  {
   "cell_type": "raw",
   "id": "d36eface",
   "metadata": {},
   "source": [
    "# BEGIN SOLUTION"
   ]
  },
  {
   "cell_type": "raw",
   "id": "e564d6e9",
   "metadata": {},
   "source": [
    "Yes they are equivalent up to a global phase."
   ]
  },
  {
   "cell_type": "raw",
   "id": "2202eda4",
   "metadata": {},
   "source": [
    "# END SOLUTION"
   ]
  },
  {
   "cell_type": "raw",
   "id": "4449d2a7",
   "metadata": {},
   "source": [
    "# END QUESTION"
   ]
  },
  {
   "cell_type": "markdown",
   "id": "2e6a8c90",
   "metadata": {},
   "source": [
    "### Extension Ideas\n",
    "1. Solve the twin prime conjecture\n",
    "2. Count down from infinity\n",
    "3. etc..."
   ]
  },
  {
   "cell_type": "code",
   "execution_count": null,
   "id": "eab2282c",
   "metadata": {},
   "outputs": [],
   "source": [
    "# Task 5 - play with hadamard gate\n",
    "# Task 6 - easy pauli gate puzzles"
   ]
  }
 ],
 "metadata": {
  "kernelspec": {
   "display_name": "Python 3",
   "language": "python",
   "name": "python3"
  },
  "language_info": {
   "codemirror_mode": {
    "name": "ipython",
    "version": 3
   },
   "file_extension": ".py",
   "mimetype": "text/x-python",
   "name": "python",
   "nbconvert_exporter": "python",
   "pygments_lexer": "ipython3",
   "version": "3.7.0"
  }
 },
 "nbformat": 4,
 "nbformat_minor": 5
}
