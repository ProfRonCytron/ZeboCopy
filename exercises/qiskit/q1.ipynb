{
 "cells": [
  {
   "cell_type": "raw",
   "id": "f48286b7",
   "metadata": {},
   "source": [
    "# ASSIGNMENT CONFIG\n",
    "generate:\n",
    "    token: XXXXXXXX                  # required\n",
    "    course_id: XXXXX              # required\n",
    "    assignment_id: XXXXX          # required\n",
    "    filtering: true              # true is the default  \n",
    "    pagebreaks: true\n",
    "    show_stdout: true\n",
    "    show_hidden: true\n",
    "\n",
    "export_cell:                     # whether to include an Otter export cell in the output notebooks\n",
    "    instructions: ''             # additional submission instructions to include in the export cell\n",
    "    pdf: false                   # whether to include a PDF of the notebook in the generated zip file\n",
    "    filtering: true              # whether the generated PDF should be filtered\n",
    "    pagebreaks: true             # whether to include page breaks in the PDF\n",
    "    run_tests: false             # whether to run student submissions against local tests during export\n",
    "\n",
    "template_pdf: true"
   ]
  },
  {
   "cell_type": "markdown",
   "id": "9a446008",
   "metadata": {},
   "source": [
    "# Qiskit Assignment 1\n",
    "## Practice with Pauli Gates and other Qiskit tools\n",
    "Welcome to your second Qiskit assignment!\n",
    "\n",
    "### Learning Objectives\n",
    "1. Build Pauli gates from Qiskit's U gate\n",
    "2. Use the U gate to reverse a series of operations\n",
    "3. Visualize rotations using the Bloch Sphere"
   ]
  },
  {
   "cell_type": "code",
   "execution_count": null,
   "id": "c268f220",
   "metadata": {},
   "outputs": [],
   "source": [
    "# Import Qiskit and other needed packages\n",
    "from qiskit import *\n",
    "from qiskit.visualization import plot_histogram, plot_bloch_multivector,visualize_transition\n",
    "from qiskit.quantum_info import Statevector\n",
    "import numpy as np\n",
    "import pprint\n",
    "import random"
   ]
  },
  {
   "cell_type": "raw",
   "id": "f4c321c2",
   "metadata": {},
   "source": [
    "# BEGIN QUESTION\n",
    "name: q1\n",
    "points: 1\n",
    "manual: false"
   ]
  },
  {
   "cell_type": "markdown",
   "id": "306c6bf8",
   "metadata": {},
   "source": [
    "#### Task 1 - Constructing Pauli Z gate from u Gate\n",
    "We can use [Qiskit's U Gate](https://qiskit.org/documentation/stubs/qiskit.circuit.QuantumCircuit.u.html#qiskit.circuit.QuantumCircuit.u) to construct arbitrary quantum operations. Fill in the function below to return `qc_pauli_z`, a QuantumCircuit satisfying the following conditions:\n",
    "- it has 1 qubit, [initialized](https://qiskit.org/documentation/stubs/qiskit.circuit.QuantumCircuit.initialize.html#qiskit.circuit.QuantumCircuit.initialize) to the parameter `initial_state`\n",
    "- it has 1 classical bit\n",
    "- it has a U gate with parameters which perform the same rotation as a Pauli Z gate\n",
    "- it does not use the built in Z gate\n",
    "- it performs a measurement following the rotation"
   ]
  },
  {
   "cell_type": "raw",
   "id": "09c46ad7",
   "metadata": {},
   "source": [
    "# BEGIN SOLUTION"
   ]
  },
  {
   "cell_type": "code",
   "execution_count": null,
   "id": "93187f7a",
   "metadata": {},
   "outputs": [],
   "source": [
    "def qc_pauli_z(initial_state=[1,0]):\n",
    "    # BEGIN SOLUTION\n",
    "    theta = 0\n",
    "    phi = np.pi\n",
    "    lamda = 0\n",
    "    \n",
    "    qc_pauli_z = QuantumCircuit(1,1)\n",
    "    qc_pauli_z.initialize(initial_state, 0)\n",
    "    qc_pauli_z.u(theta, phi, lamda, 0)\n",
    "    qc_pauli_z.measure(0,0)\n",
    "    # END SOLUTION\n",
    "    return qc_pauli_z"
   ]
  },
  {
   "cell_type": "markdown",
   "id": "dd3a54fe",
   "metadata": {},
   "source": [
    "You can use the following code to help visualize your circuit."
   ]
  },
  {
   "cell_type": "code",
   "execution_count": null,
   "id": "3242e7b6",
   "metadata": {},
   "outputs": [],
   "source": [
    "qc_pauli_z().draw(output='mpl')"
   ]
  },
  {
   "cell_type": "raw",
   "id": "ca463655",
   "metadata": {},
   "source": [
    "# END SOLUTION"
   ]
  },
  {
   "cell_type": "raw",
   "id": "9aa20f3b",
   "metadata": {},
   "source": [
    "# BEGIN TESTS"
   ]
  },
  {
   "cell_type": "code",
   "execution_count": null,
   "id": "9d7bbd35",
   "metadata": {},
   "outputs": [],
   "source": [
    "qc_pauli_z().num_clbits == 1"
   ]
  },
  {
   "cell_type": "code",
   "execution_count": null,
   "id": "54b413a1",
   "metadata": {},
   "outputs": [],
   "source": [
    "qc_pauli_z().num_qubits == 1"
   ]
  },
  {
   "cell_type": "code",
   "execution_count": null,
   "id": "8e15b4d5",
   "metadata": {},
   "outputs": [],
   "source": [
    "def testNoQiskitZGate():\n",
    "    ops = qc_pauli_z().count_ops()\n",
    "    try:\n",
    "        find_z = ops['z']\n",
    "    except KeyError: # this is the passing case, we don't want Z to be found!\n",
    "        return True\n",
    "    else:\n",
    "        return False\n",
    "    \n",
    "testNoQiskitZGate()"
   ]
  },
  {
   "cell_type": "code",
   "execution_count": null,
   "id": "184e316d",
   "metadata": {},
   "outputs": [],
   "source": [
    "def testInitialState():\n",
    "    try:\n",
    "        num_initializations = qc_pauli_z().count_ops()['initialize']\n",
    "    except KeyError:\n",
    "        return False\n",
    "    else:\n",
    "        return num_initializations == 1\n",
    "    \n",
    "testInitialState()"
   ]
  },
  {
   "cell_type": "code",
   "execution_count": null,
   "id": "a2a0f669",
   "metadata": {},
   "outputs": [],
   "source": [
    "def testMeasurementPerformed():\n",
    "    try:\n",
    "        num_measurements = qc_pauli_z().count_ops()['measure']\n",
    "    except KeyError:\n",
    "        return False\n",
    "    else:\n",
    "        return num_measurements == 1\n",
    "\n",
    "testMeasurementPerformed()"
   ]
  },
  {
   "cell_type": "code",
   "execution_count": null,
   "id": "fd2346cc",
   "metadata": {},
   "outputs": [],
   "source": [
    "def testRandomInitialState():\n",
    "    # let's choose something interesting as our initial state!\n",
    "    c = random.uniform(0, 2*np.pi)\n",
    "    initial_state = [(np.cos(c)), (np.sin(c))]\n",
    "    pauli_z_matrix = np.array(\n",
    "                                [[1, 0],\n",
    "                                 [0,-1]]\n",
    "                             )\n",
    "    \n",
    "    qc = qc_pauli_z(initial_state)\n",
    "    qc.remove_final_measurements()\n",
    "    result_sv = Statevector.from_instruction(qc)\n",
    "    \n",
    "    return result_sv.equiv(Statevector(pauli_z_matrix.dot(initial_state)))\n",
    "\n",
    "testRandomInitialState()"
   ]
  },
  {
   "cell_type": "code",
   "execution_count": null,
   "id": "f26509c5",
   "metadata": {},
   "outputs": [],
   "source": [
    "# HIDDEN\n",
    "def testSolutionPauliZ():\n",
    "    # choose something interesting!\n",
    "    c = random.uniform(0, 2*np.pi)\n",
    "    initial_state = [(np.cos(c)), (np.sin(c))]\n",
    "\n",
    "    theta = 0\n",
    "    phi = np.pi\n",
    "    lamda = 0\n",
    "    \n",
    "    solution_qc = QuantumCircuit(1,1)\n",
    "    solution_qc.initialize(initial_state, 0)\n",
    "    solution_qc.z(0)\n",
    "    \n",
    "    student_qc = qc_pauli_z(initial_state)\n",
    "    student_qc.remove_final_measurements()\n",
    "    return Statevector.from_instruction(student_qc).equiv(Statevector.from_instruction(solution_qc))\n",
    "\n",
    "testSolutionPauliZ()"
   ]
  },
  {
   "cell_type": "raw",
   "id": "f0a53ed4",
   "metadata": {},
   "source": [
    "# END TESTS"
   ]
  },
  {
   "cell_type": "raw",
   "id": "cdbf439a",
   "metadata": {},
   "source": [
    "# END QUESTION"
   ]
  },
  {
   "cell_type": "raw",
   "id": "1d9a9dd0",
   "metadata": {},
   "source": [
    "# BEGIN QUESTION\n",
    "name: q2a\n",
    "points: 1\n",
    "manual: false"
   ]
  },
  {
   "cell_type": "markdown",
   "id": "e90c6e6b",
   "metadata": {},
   "source": [
    "#### Task 2 (2A, 2B, 2C) - Unitary Inverse Puzzles"
   ]
  },
  {
   "cell_type": "markdown",
   "id": "accb5b5d",
   "metadata": {},
   "source": [
    "We'll study the idea of [uncomputation](https://qiskit.org/textbook/ch-algorithms/grover.html#5.2-Uncomputing,-and-Completing-the-Oracle) during our discussion of quantum algorithms. In general, we may find it helpful to return a qubit to its initial state. \n",
    "\n",
    "This process is typically straightforward due to the properties of unitary gates. However, your task is to do so using only a single U gate. Complete the partial circuits below such that the measurements will yield a state equivalent to `initial_state` *up to a global phase*."
   ]
  },
  {
   "cell_type": "markdown",
   "id": "9d400b98",
   "metadata": {},
   "source": [
    "#### Task 2A"
   ]
  },
  {
   "cell_type": "raw",
   "id": "c4e63aa5",
   "metadata": {},
   "source": [
    "# BEGIN SOLUTION"
   ]
  },
  {
   "cell_type": "code",
   "execution_count": null,
   "id": "4900c693",
   "metadata": {},
   "outputs": [],
   "source": [
    "def reverse_a(initial_state=[1,0]):\n",
    "    qc_reverse_a = QuantumCircuit(1,1)\n",
    "    qc_reverse_a.initialize(initial_state)\n",
    "    qc_reverse_a.x(0)\n",
    "    qc_reverse_a.h(0)\n",
    "    qc_reverse_a.y(0)\n",
    "    qc_reverse_a.x(0)\n",
    "    qc_reverse_a.z(0)\n",
    "    qc_reverse_a.barrier()\n",
    "    \n",
    "   # BEGIN SOLUTION\n",
    "    # Can use commutation relation XY = iZ to reduce\n",
    "    # Find parameters for U(?,?,?) = XH\n",
    "    theta = 3*np.pi/2\n",
    "    phi = np.pi\n",
    "    lamda = np.pi\n",
    "    qc_reverse_a.u(theta, phi, lamda, 0)\n",
    "   # END SOLUTION\n",
    "\n",
    "    qc_reverse_a.barrier()\n",
    "    qc_reverse_a.measure(0,0)\n",
    "    return qc_reverse_a"
   ]
  },
  {
   "cell_type": "code",
   "execution_count": null,
   "id": "10a0d264",
   "metadata": {},
   "outputs": [],
   "source": [
    "reverse_a().draw(output='mpl')"
   ]
  },
  {
   "cell_type": "raw",
   "id": "641e36fd",
   "metadata": {},
   "source": [
    "# END SOLUTION"
   ]
  },
  {
   "cell_type": "raw",
   "id": "6dad81f9",
   "metadata": {},
   "source": [
    "# BEGIN TESTS"
   ]
  },
  {
   "cell_type": "code",
   "execution_count": null,
   "id": "d26374bd",
   "metadata": {},
   "outputs": [],
   "source": [
    "def testAcceptableGateUsage2A():\n",
    "    ops = reverse_a().count_ops()\n",
    "    x = ops['x'] == 2\n",
    "    y = ops['y'] == 1\n",
    "    z = ops['z'] == 1\n",
    "    h = ops['h'] == 1\n",
    "    try:\n",
    "        u = ops['u'] == 1\n",
    "    except KeyError:\n",
    "        u = False\n",
    "        \n",
    "    return all([x,y,z,h,u])\n",
    "    \n",
    "testAcceptableGateUsage2A()"
   ]
  },
  {
   "cell_type": "code",
   "execution_count": null,
   "id": "50759027",
   "metadata": {},
   "outputs": [],
   "source": [
    "def testKetZero2A():\n",
    "    qc = reverse_a()\n",
    "    qc.remove_final_measurements()\n",
    "    sv = Statevector.from_instruction(qc)\n",
    "    return sv.equiv(Statevector([1,0]))\n",
    "    \n",
    "testKetZero2A()"
   ]
  },
  {
   "cell_type": "code",
   "execution_count": null,
   "id": "eaed2ca5",
   "metadata": {},
   "outputs": [],
   "source": [
    "def testKetOne2A():\n",
    "    initial_state = [0,1]\n",
    "    qc = reverse_a(initial_state)\n",
    "    qc.remove_final_measurements()\n",
    "    sv = Statevector.from_instruction(qc)\n",
    "    return sv.equiv(Statevector([0,1]))\n",
    "    \n",
    "testKetOne2A()"
   ]
  },
  {
   "cell_type": "code",
   "execution_count": null,
   "id": "f909be58",
   "metadata": {},
   "outputs": [],
   "source": [
    "def testRandomSimple2A():\n",
    "    c = random.uniform(0, 2*np.pi)\n",
    "    initial_state = [(np.cos(c)), (np.sin(c))]\n",
    "    qc = reverse_a(initial_state)\n",
    "    qc.remove_final_measurements()\n",
    "    sv = Statevector.from_instruction(qc)\n",
    "    return sv.equiv(Statevector(initial_state))\n",
    "    \n",
    "testRandomSimple2A()"
   ]
  },
  {
   "cell_type": "code",
   "execution_count": null,
   "id": "7937904b",
   "metadata": {},
   "outputs": [],
   "source": [
    "# HIDDEN\n",
    "def testRandomHidden2A():\n",
    "    results = []\n",
    "    for i in range(3):\n",
    "        c = random.uniform(0, 2*np.pi)\n",
    "        initial_state = [(np.cos(c)), (np.sin(c))]\n",
    "        qc = reverse_a(initial_state)\n",
    "        qc.remove_final_measurements()\n",
    "        sv = Statevector.from_instruction(qc)\n",
    "        results.append(sv.equiv(Statevector(initial_state)))\n",
    "    return all(results)\n",
    "    \n",
    "testRandomHidden2A()"
   ]
  },
  {
   "cell_type": "raw",
   "id": "31b951ca",
   "metadata": {},
   "source": [
    "# END TESTS"
   ]
  },
  {
   "cell_type": "raw",
   "id": "c8f040b7",
   "metadata": {},
   "source": [
    "# END QUESTION"
   ]
  },
  {
   "cell_type": "raw",
   "id": "2833b47b",
   "metadata": {},
   "source": [
    "# BEGIN QUESTION\n",
    "name: q2b\n",
    "points: 1\n",
    "manual: false"
   ]
  },
  {
   "cell_type": "markdown",
   "id": "d963f8c1",
   "metadata": {},
   "source": [
    "#### Task 2B"
   ]
  },
  {
   "cell_type": "raw",
   "id": "779cb286",
   "metadata": {},
   "source": [
    "# BEGIN SOLUTION"
   ]
  },
  {
   "cell_type": "code",
   "execution_count": null,
   "id": "8afc8b2f",
   "metadata": {},
   "outputs": [],
   "source": [
    "def reverse_b(initial_state=[1,0]):\n",
    "    qc_reverse_b = QuantumCircuit(1,1)\n",
    "    qc_reverse_b.initialize(initial_state)\n",
    "    for i in range(5):\n",
    "        qc_reverse_b.x(0)\n",
    "        qc_reverse_b.y(0)\n",
    "        qc_reverse_b.z(0)\n",
    "        qc_reverse_b.h(0)\n",
    "    qc_reverse_b.barrier()\n",
    "    \n",
    "    \n",
    "    # BEGIN SOLUTION\n",
    "    # Use commutation relation YX = -iZ\n",
    "    # so that (HZYX)^5=(-iHZZ)^5=(-iH)^5=-iH\n",
    "    # Hence to measure state within a global we use\n",
    "    # parameters for the U gate such that U == H\n",
    "    theta = np.pi/2\n",
    "    phi = 0\n",
    "    lamda = np.pi\n",
    "    qc_reverse_b.u(theta, phi, lamda, 0)\n",
    "    # END SOLUTION\n",
    "\n",
    "    qc_reverse_b.barrier()\n",
    "    qc_reverse_b.measure(0,0)\n",
    "    return qc_reverse_b"
   ]
  },
  {
   "cell_type": "code",
   "execution_count": null,
   "id": "47660b22",
   "metadata": {},
   "outputs": [],
   "source": [
    "reverse_b().draw(output='mpl')"
   ]
  },
  {
   "cell_type": "raw",
   "id": "dc7ff3d0",
   "metadata": {},
   "source": [
    "# END SOLUTION"
   ]
  },
  {
   "cell_type": "raw",
   "id": "338fc3ba",
   "metadata": {},
   "source": [
    "# BEGIN TESTS"
   ]
  },
  {
   "cell_type": "code",
   "execution_count": null,
   "id": "45074fc7",
   "metadata": {},
   "outputs": [],
   "source": [
    "def testAcceptableGateUsage2B():\n",
    "    ops = reverse_b().count_ops()\n",
    "    x = ops['x'] == 5\n",
    "    y = ops['y'] == 5\n",
    "    z = ops['z'] == 5\n",
    "    h = ops['h'] == 5\n",
    "    try:\n",
    "        u = ops['u'] == 1\n",
    "    except KeyError:\n",
    "        u = False\n",
    "    return all([x,y,z,h,u])\n",
    "    \n",
    "testAcceptableGateUsage2B()"
   ]
  },
  {
   "cell_type": "code",
   "execution_count": null,
   "id": "4e1973a4",
   "metadata": {},
   "outputs": [],
   "source": [
    "def testKetZero2B():\n",
    "    qc = reverse_b()\n",
    "    qc.remove_final_measurements()\n",
    "    sv = Statevector.from_instruction(qc)\n",
    "    return sv.equiv(Statevector([1,0]))\n",
    "    \n",
    "testKetZero2B()"
   ]
  },
  {
   "cell_type": "code",
   "execution_count": null,
   "id": "27ee7b29",
   "metadata": {},
   "outputs": [],
   "source": [
    "def testKetOne2B():\n",
    "    initial_state = [0,1]\n",
    "    qc = reverse_b(initial_state)\n",
    "    qc.remove_final_measurements()\n",
    "    sv = Statevector.from_instruction(qc)\n",
    "    return sv.equiv(Statevector([0,1]))\n",
    "    \n",
    "testKetOne2B()"
   ]
  },
  {
   "cell_type": "code",
   "execution_count": null,
   "id": "b5cf7d93",
   "metadata": {},
   "outputs": [],
   "source": [
    "def testRandomSimple2B():\n",
    "    c = random.uniform(0, 2*np.pi)\n",
    "    initial_state = [(np.cos(c)), (np.sin(c))]\n",
    "    qc = reverse_b(initial_state)\n",
    "    qc.remove_final_measurements()\n",
    "    sv = Statevector.from_instruction(qc)\n",
    "    return sv.equiv(Statevector(initial_state))\n",
    "    \n",
    "testRandomSimple2B()"
   ]
  },
  {
   "cell_type": "code",
   "execution_count": null,
   "id": "0167c640",
   "metadata": {},
   "outputs": [],
   "source": [
    "# HIDDEN\n",
    "def testRandomHidden2B():\n",
    "    results = []\n",
    "    for i in range(3):\n",
    "        c = random.uniform(0, 2*np.pi)\n",
    "        initial_state = [(np.cos(c)), (np.sin(c))]\n",
    "        qc = reverse_b(initial_state)\n",
    "        qc.remove_final_measurements()\n",
    "        sv = Statevector.from_instruction(qc)\n",
    "        results.append(sv.equiv(Statevector(initial_state)))\n",
    "    return all(results)\n",
    "    \n",
    "testRandomHidden2B()"
   ]
  },
  {
   "cell_type": "raw",
   "id": "8fdbedf1",
   "metadata": {},
   "source": [
    "# END TESTS"
   ]
  },
  {
   "cell_type": "raw",
   "id": "732f17b9",
   "metadata": {},
   "source": [
    "# END QUESTION"
   ]
  },
  {
   "cell_type": "raw",
   "id": "d27f1cfd",
   "metadata": {},
   "source": [
    "# BEGIN QUESTION\n",
    "name: q2c\n",
    "points: 1\n",
    "manual: false"
   ]
  },
  {
   "cell_type": "markdown",
   "id": "d08c3ef9",
   "metadata": {},
   "source": [
    "#### Task 2C\n",
    "\n",
    "**Hint**: The P gate generalizes rotation about the Z-axis to an arbitrary angle $\\phi$, where\n",
    "$P(\\phi)=\\begin{pmatrix} 1 & 0 \\\\ 0 & e^{i\\phi} \\end{pmatrix}$"
   ]
  },
  {
   "cell_type": "raw",
   "id": "75350c8a",
   "metadata": {},
   "source": [
    "# BEGIN SOLUTION"
   ]
  },
  {
   "cell_type": "code",
   "execution_count": null,
   "id": "e2da5e86",
   "metadata": {},
   "outputs": [],
   "source": [
    "def reverse_c(initial_state=[1,0]):\n",
    "    qc_reverse_c = QuantumCircuit(1,1)\n",
    "    qc_reverse_c.initialize(initial_state)\n",
    "    qc_reverse_c.x(0)\n",
    "    for i in range(1,6):\n",
    "        qc_reverse_c.p((-1)**(i)*np.pi/(2**i), 0)\n",
    "    qc_reverse_c.z(0)\n",
    "    qc_reverse_c.barrier()\n",
    "    \n",
    "    # BEGIN SOLUTION\n",
    "    # Trick: combine P gates and Z into a single P gate\n",
    "    # Note that Z == P(pi)\n",
    "    # Find parameters for U(?,?,?) = (P(-11pi/32)*X)\n",
    "    theta = np.pi\n",
    "    phi = np.pi\n",
    "    lamda = -21*np.pi/32\n",
    "    qc_reverse_c.u(theta, phi, lamda, 0)\n",
    "    # END SOLUTION\n",
    "\n",
    "    qc_reverse_c.barrier()\n",
    "    qc_reverse_c.measure(0,0)\n",
    "    return qc_reverse_c"
   ]
  },
  {
   "cell_type": "code",
   "execution_count": null,
   "id": "eb53ff26",
   "metadata": {},
   "outputs": [],
   "source": [
    "reverse_c().draw(output='mpl')"
   ]
  },
  {
   "cell_type": "raw",
   "id": "af8f90ec",
   "metadata": {},
   "source": [
    "# END SOLUTION"
   ]
  },
  {
   "cell_type": "raw",
   "id": "88b2690f",
   "metadata": {},
   "source": [
    "# BEGIN TESTS"
   ]
  },
  {
   "cell_type": "code",
   "execution_count": null,
   "id": "1a686ce3",
   "metadata": {},
   "outputs": [],
   "source": [
    "def testAcceptableGateUsage2C():\n",
    "    ops = reverse_c().count_ops()\n",
    "    x = ops['x'] == 1\n",
    "    y = not 'y' in ops\n",
    "    z = ops['z'] == 1\n",
    "    h = not 'h' in ops\n",
    "    p = ops['p'] == 5\n",
    "    try:\n",
    "        u = ops['u'] == 1\n",
    "    except KeyError:\n",
    "        u = False\n",
    "    return all([x,y,z,h,p,u])\n",
    "    \n",
    "testAcceptableGateUsage2C()"
   ]
  },
  {
   "cell_type": "code",
   "execution_count": null,
   "id": "6cd1e07b",
   "metadata": {},
   "outputs": [],
   "source": [
    "def testKetZero2C():\n",
    "    qc = reverse_c()\n",
    "    qc.remove_final_measurements()\n",
    "    sv = Statevector.from_instruction(qc)\n",
    "    return sv.equiv(Statevector([1,0]))\n",
    "    \n",
    "testKetZero2C()"
   ]
  },
  {
   "cell_type": "code",
   "execution_count": null,
   "id": "fee1a61d",
   "metadata": {},
   "outputs": [],
   "source": [
    "def testKetOne2C():\n",
    "    initial_state = [0,1]\n",
    "    qc = reverse_c(initial_state)\n",
    "    qc.remove_final_measurements()\n",
    "    sv = Statevector.from_instruction(qc)\n",
    "    return sv.equiv(Statevector([0,1]))\n",
    "    \n",
    "testKetOne2C()"
   ]
  },
  {
   "cell_type": "code",
   "execution_count": null,
   "id": "629fde65",
   "metadata": {},
   "outputs": [],
   "source": [
    "def testRandomSimple2C():\n",
    "    c = random.uniform(0, 2*np.pi)\n",
    "    initial_state = [(np.cos(c)), (np.sin(c))]\n",
    "    qc = reverse_c(initial_state)\n",
    "    qc.remove_final_measurements()\n",
    "    sv = Statevector.from_instruction(qc)\n",
    "    return sv.equiv(Statevector(initial_state))\n",
    "    \n",
    "testRandomSimple2C()"
   ]
  },
  {
   "cell_type": "code",
   "execution_count": null,
   "id": "a46d396e",
   "metadata": {},
   "outputs": [],
   "source": [
    "# HIDDEN\n",
    "def testRandomHidden2C():\n",
    "    results = []\n",
    "    for i in range(3):\n",
    "        c = random.uniform(0, 2*np.pi)\n",
    "        initial_state = [(np.cos(c)), (np.sin(c))]\n",
    "        qc = reverse_c(initial_state)\n",
    "        qc.remove_final_measurements()\n",
    "        sv = Statevector.from_instruction(qc)\n",
    "        results.append(sv.equiv(Statevector(initial_state)))\n",
    "    return all(results)\n",
    "    \n",
    "testRandomHidden2C()"
   ]
  },
  {
   "cell_type": "raw",
   "id": "16fc0296",
   "metadata": {},
   "source": [
    "# END TESTS"
   ]
  },
  {
   "cell_type": "raw",
   "id": "ef8b541e",
   "metadata": {},
   "source": [
    "# END QUESTION"
   ]
  },
  {
   "cell_type": "raw",
   "id": "5deaaf0a",
   "metadata": {},
   "source": [
    "# BEGIN QUESTION\n",
    "name: q3a\n",
    "points: 1\n",
    "manual: true"
   ]
  },
  {
   "cell_type": "markdown",
   "id": "76348419",
   "metadata": {},
   "source": [
    "#### Task 3 (3A, 3B, 3C) - Using Rotation to Obtain Probabilities"
   ]
  },
  {
   "cell_type": "markdown",
   "id": "2ecb55b8",
   "metadata": {},
   "source": [
    "#### Task 3A \n",
    "$$\\newcommand{\\ket}[1]{\\left|{#1}\\right\\rangle}$$ \n",
    "Fill in the function below to return `qc_rot_a`, a single-qubit QuantumCircuit satisfying the following conditions:\n",
    "- it performs a measurement to a single classical bit\n",
    "- Pr(seeing $\\ket{0}$ on measurement) = `0.75`\n",
    "- your circuit only uses gates from the following list: X, Y, Z, P, H, U\n",
    "\n",
    "Plot your results using a histogram to verify your solution over `1024` trials."
   ]
  },
  {
   "cell_type": "raw",
   "id": "589ebdd0",
   "metadata": {},
   "source": [
    "# BEGIN SOLUTION"
   ]
  },
  {
   "cell_type": "code",
   "execution_count": null,
   "id": "d2f4f077",
   "metadata": {},
   "outputs": [],
   "source": [
    "def qc_rot_a():\n",
    "    # BEGIN SOLUTION\n",
    "    # Find wave amplitudes for ket zero and ket one\n",
    "    # Use amplitudes to determine the proportion of rotation needed \n",
    "    qc_rot_a = QuantumCircuit(1,1)\n",
    "    theta = np.pi/3\n",
    "    phi = 0\n",
    "    lamda = 0\n",
    "    qc_rot_a.u(theta, phi, lamda, 0)\n",
    "    qc_rot_a.measure(0,0)\n",
    "    # END SOLUTION\n",
    "    return qc_rot_a"
   ]
  },
  {
   "cell_type": "code",
   "execution_count": null,
   "id": "85306c49",
   "metadata": {},
   "outputs": [],
   "source": [
    "qc_rot_a().draw(output='mpl')"
   ]
  },
  {
   "cell_type": "code",
   "execution_count": null,
   "id": "08cdbf22",
   "metadata": {},
   "outputs": [],
   "source": [
    "# Plot your results in this cell!\n",
    "\n",
    "# BEGIN SOLUTION\n",
    "qc = qc_rot_a()\n",
    "qasm_sim = BasicAer.get_backend(\"qasm_simulator\")\n",
    "job = execute(qc, qasm_sim)\n",
    "counts = job.result().get_counts()\n",
    "plot_histogram(counts)\n",
    "# END SOLUTION"
   ]
  },
  {
   "cell_type": "raw",
   "id": "d12b3cd4",
   "metadata": {},
   "source": [
    "# END SOLUTION"
   ]
  },
  {
   "cell_type": "raw",
   "id": "69567f24",
   "metadata": {},
   "source": [
    "# END QUESTION"
   ]
  },
  {
   "cell_type": "raw",
   "id": "b8eceed0",
   "metadata": {},
   "source": [
    "# BEGIN QUESTION\n",
    "name: q3b\n",
    "points: 1\n",
    "manual: true"
   ]
  },
  {
   "cell_type": "markdown",
   "id": "b91f15b8",
   "metadata": {},
   "source": [
    "#### Task 3B - Rotation Operator Gates\n",
    "$$\\newcommand{\\ket}[1]{\\left|{#1}\\right\\rangle}$$ \n",
    "Again, fill in the function below to return `qc_rot_b`, a single-qubit QuantumCircuit satisfying the following conditions:\n",
    "- it performs a measurement to a single classical bit\n",
    "- Pr(seeing $\\ket{0}$ on measurement) = `0.75`\n",
    "- your circuit only uses gates from the following list: [RX, RY, RZ](https://en.wikipedia.org/wiki/Quantum_logic_gate#Rotation_operator_gates)\n",
    "\n",
    "Plot your results using a histogram to verify your solution over `1024` trials."
   ]
  },
  {
   "cell_type": "raw",
   "id": "765657a8",
   "metadata": {},
   "source": [
    "# BEGIN SOLUTION"
   ]
  },
  {
   "cell_type": "code",
   "execution_count": null,
   "id": "ca8b8321",
   "metadata": {},
   "outputs": [],
   "source": [
    "def qc_rot_b():\n",
    "    # BEGIN SOLUTION\n",
    "    # Using the provided link, it can be seen that RX(pi) = -iX\n",
    "    # From this info and part A, we need to use RX(pi/3) to get the desired state\n",
    "    qc_rot_b = QuantumCircuit(1,1)\n",
    "    qc_rot_b.rx(np.pi/3, 0)\n",
    "    qc_rot_b.measure(0,0)\n",
    "    # END SOLUTION\n",
    "    return qc_rot_b"
   ]
  },
  {
   "cell_type": "code",
   "execution_count": null,
   "id": "6900839b",
   "metadata": {},
   "outputs": [],
   "source": [
    "qc_rot_b().draw(output='mpl')"
   ]
  },
  {
   "cell_type": "code",
   "execution_count": null,
   "id": "ef3d4136",
   "metadata": {},
   "outputs": [],
   "source": [
    "# Plot your results in this cell!\n",
    "\n",
    "# BEGIN SOLUTION\n",
    "qasm_sim = BasicAer.get_backend(\"qasm_simulator\")\n",
    "job = execute(qc_rot_b(), qasm_sim)\n",
    "counts = job.result().get_counts()\n",
    "plot_histogram(counts)\n",
    "# END SOLUTION"
   ]
  },
  {
   "cell_type": "raw",
   "id": "4007389b",
   "metadata": {},
   "source": [
    "# END SOLUTION"
   ]
  },
  {
   "cell_type": "raw",
   "id": "50de472d",
   "metadata": {},
   "source": [
    "# END QUESTION"
   ]
  },
  {
   "cell_type": "raw",
   "id": "34a71343",
   "metadata": {},
   "source": [
    "# BEGIN QUESTION\n",
    "name: q3c\n",
    "points: 1\n",
    "manual: true"
   ]
  },
  {
   "cell_type": "markdown",
   "id": "6bdeb1dd",
   "metadata": {},
   "source": [
    "#### Task 3C\n",
    "Suppose we apply a Z gate to your circuit from task 3B just before measuring. How will the probability of measuring $\\ket{0}$ change from that of the original circuit? Is this rotation factorable from the state as a global phase?"
   ]
  },
  {
   "cell_type": "raw",
   "id": "ebae3cfd",
   "metadata": {},
   "source": [
    "# BEGIN SOLUTION"
   ]
  },
  {
   "cell_type": "raw",
   "id": "2b62ab35",
   "metadata": {},
   "source": [
    "\n",
    "\n",
    "*Provide your response here*\n",
    "\n"
   ]
  },
  {
   "cell_type": "raw",
   "id": "77ef3217",
   "metadata": {},
   "source": [
    "# END SOLUTION"
   ]
  },
  {
   "cell_type": "raw",
   "id": "b095dbee",
   "metadata": {},
   "source": [
    "# END QUESTION"
   ]
  },
  {
   "cell_type": "markdown",
   "id": "2e6a8c90",
   "metadata": {},
   "source": [
    "### Extension Ideas\n",
    "1. Research and explain the difference between the RZ and P gates\n",
    "2. Prove P=NP"
   ]
  }
 ],
 "metadata": {
  "kernelspec": {
   "display_name": "Python 3",
   "language": "python",
   "name": "python3"
  },
  "language_info": {
   "codemirror_mode": {
    "name": "ipython",
    "version": 3
   },
   "file_extension": ".py",
   "mimetype": "text/x-python",
   "name": "python",
   "nbconvert_exporter": "python",
   "pygments_lexer": "ipython3",
   "version": "3.7.0"
  }
 },
 "nbformat": 4,
 "nbformat_minor": 5
}
