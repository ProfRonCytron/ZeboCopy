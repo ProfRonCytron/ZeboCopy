{
 "cells": [
  {
   "cell_type": "raw",
   "id": "f5cdd943",
   "metadata": {},
   "source": [
    "# ASSIGNMENT CONFIG\n",
    "generate:\n",
    "    token: 8654j6ett3xjTQHqUK3Jyw                  # required\n",
    "    course_id: 342915              # required\n",
    "    assignment_id: 1875215          # id for qiskit 3 MANUAL assignment on gradescope\n",
    "    filtering: true              # true is the default  \n",
    "    pagebreaks: true\n",
    "    show_stdout: true\n",
    "    show_hidden: true\n",
    "requirements: # for building the autograder, in addition to the stuff required by otter\n",
    "    - qiskit==0.32.1\n",
    "    - pylatexenc\n",
    "    - git+https://github.com/qiskit-community/qiskit-textbook.git#egg=qiskit_textbook&subdirectory=qiskit-textbook-src\n",
    "export_cell:                     # whether to include an Otter export cell in the output notebooks\n",
    "    instructions: ''             # additional submission instructions to include in the export cell\n",
    "    pdf: false                   # whether to include a PDF of the notebook in the generated zip file\n",
    "    filtering: true              # whether the generated PDF should be filtered\n",
    "    pagebreaks: true             # whether to include page breaks in the PDF\n",
    "    run_tests: false             # whether to run student submissions against local tests during export\n",
    "template_pdf: true\n",
    "solutions_pdf: true"
   ]
  },
  {
   "cell_type": "markdown",
   "id": "99e4fe30",
   "metadata": {},
   "source": [
    "# Qiskit Assignment 3\n",
    "## Multiple Qubits, Entanglement, and Teleportation\n",
    "\n",
    "### Learning Objectives\n",
    "1. Understand the role of endianness in multi-qubit quantum circuits\n",
    "2. Construct circuits with multiple qubits and entangled states\n",
    "3. Solve a teleportation scenario\n",
    "\n",
    "### Resources\n",
    "Qiskit assignments are designed to be collaborative and open internet. Where possible, links to useful documentation will be embedded within questions. You're free to discuss these tasks with TAs and peers, but do write your own solutions. For some questions, there may be additional restrictions on the ways you can solve them. To ensure compliance with course policies and assignment instructions, we reserve the right to inspect your code."
   ]
  },
  {
   "cell_type": "markdown",
   "id": "68100684",
   "metadata": {},
   "source": [
    "**NAME**: REPLACE WITH YOUR NAME\n",
    "\n",
    "**STUDENT ID**: REPLACE WITH YOUR STUDENT ID"
   ]
  },
  {
   "cell_type": "code",
   "execution_count": 1,
   "id": "legitimate-explosion",
   "metadata": {},
   "outputs": [],
   "source": [
    "# Import Qiskit and other needed packages\n",
    "from qiskit import *\n",
    "from qiskit.visualization import plot_histogram\n",
    "from qiskit.quantum_info import Statevector\n",
    "from qiskit_textbook.tools import array_to_latex\n",
    "import matplotlib.pyplot as plt\n",
    "import random\n",
    "import numpy as np\n",
    "import pprint"
   ]
  },
  {
   "cell_type": "markdown",
   "id": "1d93f58f",
   "metadata": {},
   "source": [
    "#### Task 1 - Endianness and Multi-Qubit Circuits (10 pts)"
   ]
  },
  {
   "cell_type": "markdown",
   "id": "d1993c82",
   "metadata": {},
   "source": [
    "Qiskit uses a little endian convention for qubit ordering different from many textbooks and the lecture slides. Let's consider a circuit in the state $$\\Psi=|0001\\rangle$$\n",
    "\n",
    "According to the convention used in lecture, the least significant qubit of the circuit, $q_0$, is in the state of the leftmost digit of $\\Psi$, $|0\\rangle$. In general, a state can be represented as $$|q_0,q_1,...,q_{n-1},q_n\\rangle$$\n",
    "\n",
    "Qiskit, however, interprets the rightmost digit, $|1\\rangle$, as the state of the least significant qubit. This is the standard ordering of binary bitstrings, but it leads to a non-standard tensor product order ([source](https://qiskit.org/documentation/tutorials/circuits/1_getting_started_with_qiskit.html#OpenQASM-backend)). Hence, the general form of the Qiskit ordering goes $$|q_n,q_{n-1},...,q_1,q_0\\rangle$$\n",
    "\n",
    "We want to utilize the power of Qiskit for building and running quantum circuits while also remaining consistent with our notation and tensor product math. For this class, we'll stick to the big endian ordering. Qiskit provides two functions that can help.\n",
    "\n",
    "We can use the [`reverse_bits`](https://qiskit.org/documentation/stubs/qiskit.circuit.QuantumCircuit.reverse_bits.html#qiskit.circuit.QuantumCircuit.reverse_bits) method to return a quantum circuit with qubit ordering flipped completely. Recall that we used this method in the first qiskit assignment.\n",
    "- Pros: good for running a job and displaying the counts and/or histogram in big endian notation\n",
    "- Cons: returns a new vertically flipped circuit which may be disorienting\n",
    "\n",
    "We can also use the Statevector class's [`reverse_qargs`](https://qiskit.org/documentation/stubs/qiskit.quantum_info.Statevector.reverse_qargs.html#qiskit-quantum-info-statevector-reverse-qargs) method to display the state of a multi-qubit circuit in big endian notation.\n",
    "- Pros: preserves original form of the circuit\n",
    "- Cons: not useful for displaying big endian counts in job results or a histogram"
   ]
  },
  {
   "cell_type": "raw",
   "id": "7453091d",
   "metadata": {},
   "source": [
    "# BEGIN QUESTION\n",
    "name: Task 1\n",
    "points: 10\n",
    "manual: false"
   ]
  },
  {
   "cell_type": "markdown",
   "id": "7f87561b",
   "metadata": {},
   "source": [
    "To check your understanding of qubit ordering in Qiskit, consider the following code which returns a circuit and its resulting statevector.\n",
    "- modify the code such that `ket` is returned in big endian form without adding or modifying gates\n",
    "- hints: \n",
    " - what is the little endian state returned by the original code?\n",
    " - what is the corresponding big endian state?"
   ]
  },
  {
   "cell_type": "raw",
   "id": "e0a77067",
   "metadata": {},
   "source": [
    "# BEGIN SOLUTION"
   ]
  },
  {
   "cell_type": "code",
   "execution_count": 2,
   "id": "7b21ab9c",
   "metadata": {
    "scrolled": true
   },
   "outputs": [
    {
     "data": {
      "text/latex": [
       "$\\displaystyle \n",
       "\\text{Task 1 SV} = \\begin{bmatrix}\n",
       "0 \\\\\n",
       "\\tfrac{1}{\\sqrt{2}} \\\\\n",
       "0 \\\\\n",
       "\\tfrac{1}{\\sqrt{2}}\n",
       "\\end{bmatrix}\n",
       "$"
      ],
      "text/plain": [
       "<IPython.core.display.Math object>"
      ]
     },
     "metadata": {},
     "output_type": "display_data"
    }
   ],
   "source": [
    "def endianness():\n",
    "    qc = QuantumCircuit(2,2)\n",
    "    qc.h(0)\n",
    "    qc.x(1)\n",
    "    ket = Statevector.from_instruction(qc)\n",
    "    # BEGIN SOLUTION\n",
    "    ket = ket.reverse_qargs()\n",
    "    # END SOLUTION\n",
    "    return qc, ket\n",
    "\n",
    "array_to_latex(endianness()[1], pretext=\"\\\\text{Task 1 SV} = \")"
   ]
  },
  {
   "cell_type": "raw",
   "id": "1237058a",
   "metadata": {},
   "source": [
    "# END SOLUTION"
   ]
  },
  {
   "cell_type": "raw",
   "id": "3c5c962d",
   "metadata": {},
   "source": [
    "# BEGIN TESTS"
   ]
  },
  {
   "cell_type": "code",
   "execution_count": 3,
   "id": "dd359e82",
   "metadata": {},
   "outputs": [
    {
     "data": {
      "text/plain": [
       "True"
      ]
     },
     "execution_count": 3,
     "metadata": {},
     "output_type": "execute_result"
    }
   ],
   "source": [
    "\"\"\" # BEGIN TEST CONFIG\n",
    "hidden: false\n",
    "points: 1\n",
    "failure_message: EXPECTED CIRCUIT TO PRODUCE STATE [0, 1/sqrt(2), 0, 1/sqrt(2)]\n",
    "\"\"\" # END TEST CONFIG\n",
    "def test_statevector_1():\n",
    "    return endianness()[1].equiv(Statevector([0,1/np.sqrt(2),0,1/np.sqrt(2)]))\n",
    "\n",
    "test_statevector_1()"
   ]
  },
  {
   "cell_type": "code",
   "execution_count": 4,
   "id": "3960859a",
   "metadata": {},
   "outputs": [
    {
     "data": {
      "text/plain": [
       "True"
      ]
     },
     "execution_count": 4,
     "metadata": {},
     "output_type": "execute_result"
    }
   ],
   "source": [
    "\"\"\" # BEGIN TEST CONFIG\n",
    "hidden: false\n",
    "points: 1\n",
    "failure_message: EXPECTED CIRCUIT GATES TO REMAIN UNCHANGED FROM THE ORIGINAL CIRCUIT\n",
    "\"\"\" # END TEST CONFIG\n",
    "def test_gates_1():\n",
    "    ops = len(endianness()[0].count_ops()) == 2\n",
    "    h = endianness()[0].count_ops()['h'] == 1\n",
    "    x = endianness()[0].count_ops()['x'] == 1\n",
    "    i = 'initialize' not in endianness()[0].count_ops()\n",
    "    return ops and h and x\n",
    "\n",
    "test_gates_1()"
   ]
  },
  {
   "cell_type": "code",
   "execution_count": 5,
   "id": "ee9efd51",
   "metadata": {},
   "outputs": [
    {
     "data": {
      "text/plain": [
       "True"
      ]
     },
     "execution_count": 5,
     "metadata": {},
     "output_type": "execute_result"
    }
   ],
   "source": [
    "\"\"\" # BEGIN TEST CONFIG\n",
    "hidden: false\n",
    "points: 8\n",
    "failure_message: ONE OF THE ABOVE TESTS IS NOT PASSING\n",
    "\"\"\" # END TEST CONFIG\n",
    "def test_gates_1():\n",
    "    ops = len(endianness()[0].count_ops()) == 2\n",
    "    h = endianness()[0].count_ops()['h'] == 1\n",
    "    x = endianness()[0].count_ops()['x'] == 1\n",
    "    i = 'initialize' not in endianness()[0].count_ops()\n",
    "    return ops and h and x\n",
    "\n",
    "def test_statevector_1():\n",
    "    return endianness()[1].equiv(Statevector([0,1/np.sqrt(2),0,1/np.sqrt(2)]))\n",
    "\n",
    "test_statevector_1() and test_gates_1()"
   ]
  },
  {
   "cell_type": "raw",
   "id": "dc9cbb76",
   "metadata": {},
   "source": [
    "# END TESTS"
   ]
  },
  {
   "cell_type": "raw",
   "id": "72ec1e4b",
   "metadata": {},
   "source": [
    "# END QUESTION"
   ]
  },
  {
   "cell_type": "raw",
   "id": "3eb3026b",
   "metadata": {},
   "source": [
    "# BEGIN QUESTION\n",
    "name: Task 2A\n",
    "points: 15\n",
    "manual: false"
   ]
  },
  {
   "cell_type": "markdown",
   "id": "95f4af89",
   "metadata": {},
   "source": [
    "#### Task 2 (2A, 2B) - Multiple Qubit Circuits (30 pts)\n",
    "\n",
    "#### Task 2A\n",
    "- run the following cell\n",
    "- return a circuit from `multi_qubit_a` that produces the following target state on measurement\n",
    "- note:\n",
    " - it's fine if the resulting state is only equivalent up to a global phase\n",
    " - your qubits must start in $|00\\rangle$ i.e. no initializations are allowed"
   ]
  },
  {
   "cell_type": "code",
   "execution_count": 6,
   "id": "23b96410",
   "metadata": {
    "scrolled": true
   },
   "outputs": [
    {
     "data": {
      "text/latex": [
       "$\\displaystyle \n",
       "\\text{2A Target Statevector} = \\begin{bmatrix}\n",
       "-\\tfrac{1}{2}i \\\\\n",
       "\\tfrac{1}{2} \\\\\n",
       "-\\tfrac{1}{2} \\\\\n",
       "-\\tfrac{1}{2}i\n",
       "\\end{bmatrix}\n",
       "$"
      ],
      "text/plain": [
       "<IPython.core.display.Math object>"
      ]
     },
     "metadata": {},
     "output_type": "display_data"
    }
   ],
   "source": [
    "array_to_latex([-1j/2, 1/2, -1/2, -1j/2], pretext=\"\\\\text{2A Target Statevector} = \")"
   ]
  },
  {
   "cell_type": "raw",
   "id": "89566fe3",
   "metadata": {},
   "source": [
    "# BEGIN SOLUTION"
   ]
  },
  {
   "cell_type": "code",
   "execution_count": 7,
   "id": "786d2fe0",
   "metadata": {},
   "outputs": [
    {
     "data": {
      "image/png": "[encoded data removed]",
      "text/plain": [
       "<Figure size 387.452x204.68 with 1 Axes>"
      ]
     },
     "execution_count": 7,
     "metadata": {},
     "output_type": "execute_result"
    }
   ],
   "source": [
    "def multi_qubit_a():\n",
    "    # BEGIN SOLUTION\n",
    "    # hints for office hours: \n",
    "    # - 1: recognize the target state is tensor factorable so this is not an entangled state.\n",
    "    # - 2: we can find what states the qubits need to be in individually.\n",
    "    # - 3: If we prepare |0> on qubit zero and |1> on qubit one,\n",
    "    # can use outer product from lecture 01 to obtain the matrix necessary to make this transformation\n",
    "    # - 4: We can solve for the corresponding U gate parameters, see qiskit 1\n",
    "\n",
    "    qc = QuantumCircuit(2,2)\n",
    "    # primary solution - U gate\n",
    "    phi = 3*np.pi/2\n",
    "    theta = np.pi/2\n",
    "    lamda = np.pi/2\n",
    "    qc.u(phi,theta,lamda,0)\n",
    "    qc.u(phi,theta,lamda,1)\n",
    "    qc.x(1)\n",
    "#     alternate solution - P, H, and X gates\n",
    "#     qc_a.h(0)\n",
    "#     qc_a.p(3*np.pi/2,0)\n",
    "#     qc_a.h(1)\n",
    "#     qc_a.p(3*np.pi/2,1)\n",
    "#     qc_a.x(1)\n",
    "\n",
    "    qc.measure(0,0)\n",
    "    qc.measure(1,1)\n",
    "    return qc.reverse_bits()\n",
    "    # END SOLUTION\n",
    "\n",
    "multi_qubit_a().reverse_bits().draw(output='mpl')"
   ]
  },
  {
   "cell_type": "raw",
   "id": "828e0a37",
   "metadata": {},
   "source": [
    "# END SOLUTION"
   ]
  },
  {
   "cell_type": "raw",
   "id": "de74dfc6",
   "metadata": {},
   "source": [
    "# BEGIN TESTS"
   ]
  },
  {
   "cell_type": "code",
   "execution_count": 8,
   "id": "4b991694",
   "metadata": {},
   "outputs": [
    {
     "data": {
      "text/plain": [
       "True"
      ]
     },
     "execution_count": 8,
     "metadata": {},
     "output_type": "execute_result"
    }
   ],
   "source": [
    "\"\"\" # BEGIN TEST CONFIG\n",
    "hidden: false\n",
    "points: 1\n",
    "failure_message: EXPECTED 2 MEASUREMENTS TO BE MADE\n",
    "\"\"\" # END TEST CONFIG\n",
    "def testMeasurements_2a():\n",
    "    ops = multi_qubit_a().count_ops()\n",
    "    return 'measure' in ops and ops['measure'] == 2\n",
    "    \n",
    "testMeasurements_2a()"
   ]
  },
  {
   "cell_type": "code",
   "execution_count": 9,
   "id": "59c0a507",
   "metadata": {},
   "outputs": [
    {
     "data": {
      "text/plain": [
       "True"
      ]
     },
     "execution_count": 9,
     "metadata": {},
     "output_type": "execute_result"
    }
   ],
   "source": [
    "\"\"\" # BEGIN TEST CONFIG\n",
    "hidden: false\n",
    "points: 1\n",
    "failure_message: EXPECTED CIRCUIT NOT TO USE INITIALIZE\n",
    "\"\"\" # END TEST CONFIG\n",
    "def testNoInitializations_2a():\n",
    "    ops = multi_qubit_a().count_ops()\n",
    "    return not 'initialize' in ops\n",
    "\n",
    "testNoInitializations_2a()"
   ]
  },
  {
   "cell_type": "code",
   "execution_count": 10,
   "id": "19fb2baf",
   "metadata": {},
   "outputs": [
    {
     "data": {
      "text/plain": [
       "True"
      ]
     },
     "execution_count": 10,
     "metadata": {},
     "output_type": "execute_result"
    }
   ],
   "source": [
    "\"\"\" # BEGIN TEST CONFIG\n",
    "hidden: false\n",
    "points: 1\n",
    "failure_message: EXPECTED CIRCUIT TO RETURN THE TARGET STATEVECTOR, OR EQUIVALENT UP TO A GLOBAL PHASE\n",
    "\"\"\" # END TEST CONFIG\n",
    "def testAmplitudes_2a():\n",
    "    qc = multi_qubit_a()\n",
    "    qc.remove_final_measurements()\n",
    "    ket = Statevector.from_instruction(qc)\n",
    "    return Statevector([-1j/2, 1/2, -1/2, -1j/2]).equiv(ket)\n",
    "\n",
    "testAmplitudes_2a()"
   ]
  },
  {
   "cell_type": "code",
   "execution_count": 11,
   "id": "528b0943",
   "metadata": {},
   "outputs": [
    {
     "data": {
      "text/plain": [
       "True"
      ]
     },
     "execution_count": 11,
     "metadata": {},
     "output_type": "execute_result"
    }
   ],
   "source": [
    "\"\"\" # BEGIN TEST CONFIG\n",
    "hidden: false\n",
    "points: 12\n",
    "failure_message: ONE OF THE ABOVE TESTS IS NOT PASSING\n",
    "\"\"\" # END TEST CONFIG\n",
    "def testMeasurements_2a():\n",
    "    ops = multi_qubit_a().count_ops()\n",
    "    return 'measure' in ops and ops['measure'] == 2\n",
    "\n",
    "def testNoInitializations_2a():\n",
    "    ops = multi_qubit_a().count_ops()\n",
    "    return not 'initialize' in ops\n",
    "    \n",
    "def testAmplitudes_2a():\n",
    "    qc = multi_qubit_a()\n",
    "    qc.remove_final_measurements()\n",
    "    ket = Statevector.from_instruction(qc)\n",
    "    return Statevector([-1j/2, 1/2, -1/2, -1j/2]).equiv(ket)\n",
    "\n",
    "testMeasurements_2a() \\\n",
    "and testAmplitudes_2a() \\\n",
    "and testNoInitializations_2a()"
   ]
  },
  {
   "cell_type": "raw",
   "id": "5a11ed0b",
   "metadata": {},
   "source": [
    "# END TESTS"
   ]
  },
  {
   "cell_type": "raw",
   "id": "feb39d08",
   "metadata": {},
   "source": [
    "# END QUESTION"
   ]
  },
  {
   "cell_type": "raw",
   "id": "648f7512",
   "metadata": {},
   "source": [
    "# BEGIN QUESTION\n",
    "name: Task 2B\n",
    "points: 15\n",
    "manual: false"
   ]
  },
  {
   "cell_type": "markdown",
   "id": "bf1ccd6d",
   "metadata": {},
   "source": [
    "#### Task 2B\n",
    "- run the following cell\n",
    "- return a circuit from `multi_qubit_b` that produces the following target state on measurement\n",
    "- note:\n",
    " - it's okay if your resulting state is equivalent up to a global phase\n",
    " - your qubits must start in state $|00\\rangle$ i.e. no initializations are allowed."
   ]
  },
  {
   "cell_type": "code",
   "execution_count": 12,
   "id": "dd29c08c",
   "metadata": {},
   "outputs": [
    {
     "data": {
      "text/latex": [
       "$\\displaystyle \n",
       "\\text{2B Target Statevector} = \\begin{bmatrix}\n",
       "\\tfrac{1}{\\sqrt{2}} \\\\\n",
       "0 \\\\\n",
       "0 \\\\\n",
       "-\\tfrac{1}{\\sqrt{2}}\n",
       "\\end{bmatrix}\n",
       "$"
      ],
      "text/plain": [
       "<IPython.core.display.Math object>"
      ]
     },
     "metadata": {},
     "output_type": "display_data"
    }
   ],
   "source": [
    "array_to_latex([1/(2**(.5)), 0, 0, -1/(2**(.5))], pretext=\"\\\\text{2B Target Statevector} = \")"
   ]
  },
  {
   "cell_type": "raw",
   "id": "b89bab21",
   "metadata": {},
   "source": [
    "# BEGIN SOLUTION"
   ]
  },
  {
   "cell_type": "code",
   "execution_count": 13,
   "id": "fc213f00",
   "metadata": {},
   "outputs": [
    {
     "data": {
      "image/png": "[encoded data removed]",
      "text/plain": [
       "<Figure size 447.652x204.68 with 1 Axes>"
      ]
     },
     "execution_count": 13,
     "metadata": {},
     "output_type": "execute_result"
    }
   ],
   "source": [
    "def multi_qubit_b():\n",
    "    # BEGIN SOLUTION\n",
    "    # hint: recognize the target state is a bell state; it's entangled and not tensor factorable\n",
    "    # bell states are created in similar ways to each other, there is an example in lecture 10\n",
    "    # on teleportation. the tensor of Z and I produces the desired negative\n",
    "    qc = QuantumCircuit(2,2)\n",
    "    qc.h(0)\n",
    "    qc.cx(0,1)\n",
    "    qc.z(0)\n",
    "    qc.barrier()\n",
    "    qc.measure(0,0)\n",
    "    qc.measure(1,1)\n",
    "    return qc.reverse_bits()\n",
    "    # END SOLUTION\n",
    "\n",
    "multi_qubit_b().reverse_bits().draw(output='mpl')"
   ]
  },
  {
   "cell_type": "raw",
   "id": "3b85054f",
   "metadata": {},
   "source": [
    "# END SOLUTION"
   ]
  },
  {
   "cell_type": "raw",
   "id": "5a492e31",
   "metadata": {},
   "source": [
    "# BEGIN TESTS"
   ]
  },
  {
   "cell_type": "code",
   "execution_count": 14,
   "id": "ffa1858c",
   "metadata": {},
   "outputs": [
    {
     "data": {
      "text/plain": [
       "True"
      ]
     },
     "execution_count": 14,
     "metadata": {},
     "output_type": "execute_result"
    }
   ],
   "source": [
    "\"\"\" # BEGIN TEST CONFIG\n",
    "hidden: false\n",
    "points: 1\n",
    "failure_message: EXPECTED CIRCUIT TO PERFORM 2 MEASUREMENTS\n",
    "\"\"\" # END TEST CONFIG\n",
    "def testMeasurements_2b():\n",
    "    ops = multi_qubit_b().count_ops()\n",
    "    return 'measure' in ops and ops['measure'] == 2\n",
    "\n",
    "testMeasurements_2b()"
   ]
  },
  {
   "cell_type": "code",
   "execution_count": 17,
   "id": "4d06c0fe",
   "metadata": {},
   "outputs": [
    {
     "data": {
      "text/plain": [
       "True"
      ]
     },
     "execution_count": 17,
     "metadata": {},
     "output_type": "execute_result"
    }
   ],
   "source": [
    "\"\"\" # BEGIN TEST CONFIG\n",
    "hidden: false\n",
    "points: 1\n",
    "failure_message: EXPECTED CIRCUIT TO NOT USE INITIALIZE\n",
    "\"\"\" # END TEST CONFIG\n",
    "def testNoInitializations_2b():\n",
    "    ops = multi_qubit_b().count_ops()\n",
    "    return not 'initialize' in ops\n",
    "\n",
    "testNoInitializations_2b()"
   ]
  },
  {
   "cell_type": "code",
   "execution_count": 18,
   "id": "ae180e56",
   "metadata": {},
   "outputs": [
    {
     "data": {
      "text/plain": [
       "True"
      ]
     },
     "execution_count": 18,
     "metadata": {},
     "output_type": "execute_result"
    }
   ],
   "source": [
    "\"\"\" # BEGIN TEST CONFIG\n",
    "hidden: false\n",
    "points: 1\n",
    "failure_message: EXPECTED CIRCUIT TO PRODUCE THE TARGET STATEVECTOR\n",
    "\"\"\" # END TEST CONFIG\n",
    "def testAmplitudes_2b():\n",
    "    qc = multi_qubit_b()\n",
    "    qc.remove_final_measurements()\n",
    "    ket = Statevector.from_instruction(qc)\n",
    "    return Statevector([1/(2**(.5)), 0, 0, -1/(2**(.5))]).equiv(ket)\n",
    "\n",
    "testAmplitudes_2b()"
   ]
  },
  {
   "cell_type": "code",
   "execution_count": 19,
   "id": "01aee130",
   "metadata": {},
   "outputs": [
    {
     "data": {
      "text/plain": [
       "True"
      ]
     },
     "execution_count": 19,
     "metadata": {},
     "output_type": "execute_result"
    }
   ],
   "source": [
    "\"\"\" # BEGIN TEST CONFIG\n",
    "hidden: false\n",
    "points: 12\n",
    "failure_message: ONE OF THE ABOVE TESTS IS NOT PASSING\n",
    "\"\"\" # END TEST CONFIG\n",
    "def testMeasurements_2b():\n",
    "    ops = multi_qubit_b().count_ops()\n",
    "    return 'measure' in ops and ops['measure'] == 2\n",
    "\n",
    "def testNoInitializations_2b():\n",
    "    ops = multi_qubit_b().count_ops()\n",
    "    return not 'initialize' in ops\n",
    "\n",
    "def testAmplitudes_2b():\n",
    "    qc = multi_qubit_b()\n",
    "    qc.remove_final_measurements()\n",
    "    ket = Statevector.from_instruction(qc)\n",
    "    return Statevector([1/(2**(.5)), 0, 0, -1/(2**(.5))]).equiv(ket)\n",
    "\n",
    "testMeasurements_2b() \\\n",
    "and testAmplitudes_2b() \\\n",
    "and testNoInitializations_2b()"
   ]
  },
  {
   "cell_type": "raw",
   "id": "004401fc",
   "metadata": {},
   "source": [
    "# END TESTS"
   ]
  },
  {
   "cell_type": "raw",
   "id": "97e6d1d4",
   "metadata": {},
   "source": [
    "# END QUESTION"
   ]
  },
  {
   "cell_type": "raw",
   "id": "da188b8f",
   "metadata": {},
   "source": [
    "# BEGIN QUESTION\n",
    "name: Task 3A\n",
    "points: 15\n",
    "manual: true"
   ]
  },
  {
   "cell_type": "markdown",
   "id": "83e82dfc",
   "metadata": {},
   "source": [
    "#### Task 3 (3A, 3B) - What's in the box? (30 pts)\n",
    "\n",
    "For Tasks 3A and 3B, devise quantum circuitry around the box (i.e. outside the barriers) such that a measurement tells you the contents of the box, without fail.\n",
    "\n",
    "You are given a quantum box with a gate in it.  There is a promise that it is one gate or the other.   Devise circuitry around the box so that with one measurement you are certain which of the two gates is in the box.\n",
    "\n",
    "#### Task 3A\n",
    "\n",
    "The oracle promises to be **I** or **Z**.\n",
    "\n",
    "**README**: \n",
    "- Your solutions to 3A and 3B may not use conditional (if) statements to dynamically pick gates according to the input or otherwise attempt to influence the oracle. In other words, the only gate in your circuit that may vary between runs is the oracle. \n",
    "- Do not use the parameter `r` in any code you write. \n",
    "- Do not use initialize. You only need to add familiar gates to complete these tasks\n",
    "\n",
    "Solutions not adhering to these guidelines will not receive credit. As usual, we reserve the right to manually inspect your code."
   ]
  },
  {
   "cell_type": "raw",
   "id": "ce8c9228",
   "metadata": {},
   "source": [
    "# BEGIN SOLUTION"
   ]
  },
  {
   "cell_type": "code",
   "execution_count": 20,
   "id": "1ac1fd78",
   "metadata": {},
   "outputs": [],
   "source": [
    "def oracle_a(qc, r=None):\n",
    "    if r is None:\n",
    "        r = random.uniform(0, 1)\n",
    "    qc.id(0) if r > 0.5 else qc.z(0)\n",
    "    return qc\n",
    "\n",
    "def whats_in_box_a(r=None):\n",
    "    qc = QuantumCircuit(1,1) # SOLUTION\n",
    "    \n",
    "    # BEGIN SOLUTION\n",
    "    # hint: use I:0, Z:1\n",
    "    qc.h(0)\n",
    "    # END SOLUTION\n",
    "    \n",
    "    qc.barrier()\n",
    "    qc = oracle_a(qc,r)\n",
    "    qc.barrier()\n",
    "    \n",
    "    # BEGIN SOLUTION\n",
    "    qc.h(0)\n",
    "    # END SOLUTION\n",
    "    \n",
    "    qc.measure(0,0)\n",
    "    return qc"
   ]
  },
  {
   "cell_type": "raw",
   "id": "fda38ca3",
   "metadata": {},
   "source": [
    "# END SOLUTION"
   ]
  },
  {
   "cell_type": "markdown",
   "id": "0abb239d",
   "metadata": {},
   "source": [
    "Use the following cells to verify your implementation is working as expected. Do **not** modify the cells below, though you may run them as much as you'd like."
   ]
  },
  {
   "cell_type": "code",
   "execution_count": 21,
   "id": "15a54945",
   "metadata": {},
   "outputs": [
    {
     "data": {
      "image/png": "[encoded data removed]",
      "text/plain": [
       "<Figure size 434.526x144.48 with 1 Axes>"
      ]
     },
     "execution_count": 21,
     "metadata": {},
     "output_type": "execute_result"
    }
   ],
   "source": [
    "qc3a = whats_in_box_a()\n",
    "qc3a.draw(output='mpl')"
   ]
  },
  {
   "cell_type": "code",
   "execution_count": 22,
   "id": "1baf84d8",
   "metadata": {},
   "outputs": [
    {
     "data": {
      "text/latex": [
       "$\\displaystyle \n",
       "\\text{3A last run} = \\begin{bmatrix}\n",
       "1 \\\\\n",
       "0\n",
       "\\end{bmatrix}\n",
       "$"
      ],
      "text/plain": [
       "<IPython.core.display.Math object>"
      ]
     },
     "metadata": {},
     "output_type": "display_data"
    }
   ],
   "source": [
    "qc3a.remove_final_measurements()\n",
    "array_to_latex(Statevector.from_instruction(qc3a).reverse_qargs(), pretext=\"\\\\text{3A last run} = \")"
   ]
  },
  {
   "cell_type": "code",
   "execution_count": 23,
   "id": "f6f72f45",
   "metadata": {},
   "outputs": [
    {
     "data": {
      "image/png": "[encoded data removed]",
      "text/plain": [
       "<Figure size 504x360 with 1 Axes>"
      ]
     },
     "execution_count": 23,
     "metadata": {},
     "output_type": "execute_result"
    }
   ],
   "source": [
    "sim = BasicAer.get_backend(\"qasm_simulator\")\n",
    "job = execute(whats_in_box_a(.2), sim, shots=50)\n",
    "counts = job.result().get_counts()\n",
    "for state in ['0','1']:\n",
    "    if state not in counts:\n",
    "        counts[state] = 0\n",
    "plot_histogram(counts, title=\"Z is in the Box\")"
   ]
  },
  {
   "cell_type": "code",
   "execution_count": 24,
   "id": "7b10581b",
   "metadata": {},
   "outputs": [
    {
     "data": {
      "image/png": "[encoded data removed]",
      "text/plain": [
       "<Figure size 504x360 with 1 Axes>"
      ]
     },
     "execution_count": 24,
     "metadata": {},
     "output_type": "execute_result"
    }
   ],
   "source": [
    "job = execute(whats_in_box_a(.7), sim, shots=50)\n",
    "counts = job.result().get_counts()\n",
    "for state in ['0','1']:\n",
    "    if state not in counts:\n",
    "        counts[state] = 0\n",
    "plot_histogram(counts, title=\"I is in the Box\")"
   ]
  },
  {
   "cell_type": "raw",
   "id": "fe8a8b4b",
   "metadata": {},
   "source": [
    "# END QUESTION"
   ]
  },
  {
   "cell_type": "raw",
   "id": "81c8f514",
   "metadata": {},
   "source": [
    "# BEGIN QUESTION\n",
    "name: Task 3B\n",
    "points: 15\n",
    "manual: true"
   ]
  },
  {
   "cell_type": "markdown",
   "id": "7d9e81a0",
   "metadata": {},
   "source": [
    "#### Task 3B\n",
    "The oracle promises to be **I**, **X**, **Y**, or **Z**.\n",
    "\n",
    "Review the rules from 3A if it isn't clear what's allowed here."
   ]
  },
  {
   "cell_type": "raw",
   "id": "925a59b2",
   "metadata": {},
   "source": [
    "# BEGIN SOLUTION"
   ]
  },
  {
   "cell_type": "code",
   "execution_count": 25,
   "id": "892fe7af",
   "metadata": {},
   "outputs": [],
   "source": [
    "def oracle_b(qc, r=None):\n",
    "    if r is None:\n",
    "        r = random.uniform(0, 1)\n",
    "    if r < 0.25:\n",
    "        qc.i(0)\n",
    "        qc.i(1)\n",
    "    elif r < 0.5:\n",
    "        qc.x(0)\n",
    "        qc.x(1)\n",
    "    elif r < 0.75:\n",
    "        qc.y(0)\n",
    "        qc.y(1)\n",
    "    else:\n",
    "        qc.z(0)\n",
    "        qc.z(1)\n",
    "    return qc\n",
    "\n",
    "def whats_in_box_b(r=None):\n",
    "    qc = QuantumCircuit(2,2) # SOLUTION\n",
    "    \n",
    "    # BEGIN SOLUTION\n",
    "    # hint: use I:00, X:01, Z:10, Y:11\n",
    "    qc.h(0)\n",
    "    # END SOLUTION\n",
    "    \n",
    "    qc.barrier()\n",
    "    qc = oracle_b(qc,r)\n",
    "    qc.barrier()\n",
    "    \n",
    "    # BEGIN SOLUTION\n",
    "    qc.h(0)\n",
    "    # END SOLUTION\n",
    "    \n",
    "    qc.measure(0,0)\n",
    "    qc.measure(1,1)\n",
    "    return qc"
   ]
  },
  {
   "cell_type": "raw",
   "id": "3f7fe53d",
   "metadata": {},
   "source": [
    "# END SOLUTION"
   ]
  },
  {
   "cell_type": "markdown",
   "id": "ca326105",
   "metadata": {},
   "source": [
    "Use the following cells to verify your implementation is working as expected. Do **not** modify the cells below, though you may run them as much as you'd like."
   ]
  },
  {
   "cell_type": "code",
   "execution_count": 26,
   "id": "187c7b35",
   "metadata": {},
   "outputs": [
    {
     "data": {
      "image/png": "[encoded data removed]",
      "text/plain": [
       "<Figure size 447.652x204.68 with 1 Axes>"
      ]
     },
     "execution_count": 26,
     "metadata": {},
     "output_type": "execute_result"
    }
   ],
   "source": [
    "qc3b = whats_in_box_b()\n",
    "qc3b.draw(output='mpl')"
   ]
  },
  {
   "cell_type": "code",
   "execution_count": 27,
   "id": "1e1dc64e",
   "metadata": {
    "scrolled": true
   },
   "outputs": [
    {
     "data": {
      "text/latex": [
       "$\\displaystyle \n",
       "\\text{3B last run} = \\begin{bmatrix}\n",
       "0 \\\\\n",
       "1 \\\\\n",
       "0 \\\\\n",
       "0\n",
       "\\end{bmatrix}\n",
       "$"
      ],
      "text/plain": [
       "<IPython.core.display.Math object>"
      ]
     },
     "metadata": {},
     "output_type": "display_data"
    }
   ],
   "source": [
    "qc3b.remove_final_measurements()\n",
    "array_to_latex(Statevector.from_instruction(qc3b).reverse_qargs(), pretext=\"\\\\text{3B last run} = \")"
   ]
  },
  {
   "cell_type": "code",
   "execution_count": 28,
   "id": "3027ac07",
   "metadata": {},
   "outputs": [
    {
     "data": {
      "image/png": "[encoded data removed]",
      "text/plain": [
       "<Figure size 504x360 with 1 Axes>"
      ]
     },
     "execution_count": 28,
     "metadata": {},
     "output_type": "execute_result"
    }
   ],
   "source": [
    "sim = BasicAer.get_backend(\"qasm_simulator\")\n",
    "job = execute(whats_in_box_b(.1).reverse_bits(), sim, shots=50)\n",
    "counts = job.result().get_counts()\n",
    "for state in ['00','01','10','11']:\n",
    "    if state not in counts:\n",
    "        counts[state] = 0\n",
    "plot_histogram(counts, title=\"I is in the Box\")"
   ]
  },
  {
   "cell_type": "code",
   "execution_count": 29,
   "id": "97c1966d",
   "metadata": {},
   "outputs": [
    {
     "data": {
      "image/png": "[encoded data removed]",
      "text/plain": [
       "<Figure size 504x360 with 1 Axes>"
      ]
     },
     "execution_count": 29,
     "metadata": {},
     "output_type": "execute_result"
    }
   ],
   "source": [
    "job = execute(whats_in_box_b(.3).reverse_bits(), sim, shots=50)\n",
    "counts = job.result().get_counts()\n",
    "for state in ['00','01','10','11']:\n",
    "    if state not in counts:\n",
    "        counts[state] = 0\n",
    "plot_histogram(counts, title=\"X is in the Box\")"
   ]
  },
  {
   "cell_type": "code",
   "execution_count": 30,
   "id": "2ad4892d",
   "metadata": {},
   "outputs": [
    {
     "data": {
      "image/png": "[encoded data removed]",
      "text/plain": [
       "<Figure size 504x360 with 1 Axes>"
      ]
     },
     "execution_count": 30,
     "metadata": {},
     "output_type": "execute_result"
    }
   ],
   "source": [
    "job = execute(whats_in_box_b(.6).reverse_bits(), sim, shots=50)\n",
    "counts = job.result().get_counts()\n",
    "for state in ['00','01','10','11']:\n",
    "    if state not in counts:\n",
    "        counts[state] = 0\n",
    "plot_histogram(counts, title=\"Y is in the Box\")"
   ]
  },
  {
   "cell_type": "code",
   "execution_count": 31,
   "id": "701fc922",
   "metadata": {},
   "outputs": [
    {
     "data": {
      "image/png": "[encoded data removed]",
      "text/plain": [
       "<Figure size 504x360 with 1 Axes>"
      ]
     },
     "execution_count": 31,
     "metadata": {},
     "output_type": "execute_result"
    }
   ],
   "source": [
    "job = execute(whats_in_box_b(.9).reverse_bits(), sim, shots=50)\n",
    "counts = job.result().get_counts()\n",
    "for state in ['00','01','10','11']:\n",
    "    if state not in counts:\n",
    "        counts[state] = 0\n",
    "plot_histogram(counts, title=\"Z is in the Box\")"
   ]
  },
  {
   "cell_type": "raw",
   "id": "642bed99",
   "metadata": {},
   "source": [
    "# END QUESTION"
   ]
  },
  {
   "cell_type": "raw",
   "id": "9efa2b46",
   "metadata": {},
   "source": [
    "# BEGIN QUESTION\n",
    "name: Task 4A\n",
    "points: 10\n",
    "manual: false"
   ]
  },
  {
   "cell_type": "markdown",
   "id": "b5ea42b2",
   "metadata": {},
   "source": [
    "#### Task 4 (4A, 4B) - Teleportation (30 pts)\n",
    "In lecture 10, we discussed how states may be sent between Alice and Bob even when they are separated by an arbitrary distance using the power of teleportation...spooky!\n",
    "\n",
    "We'll revisit that experiment. This time, we'll start with a different bell state. Specifically, the EPR pair will be created as $$|\\Psi^+\\rangle = \\frac{|01\\rangle+|10\\rangle}{\\sqrt{2}}$$. \n",
    "\n",
    "#### Task 4A\n",
    "Given partial circuitry for teleportation, your task is to play the role of Bob and apply the correct transformations to recover the states sent by Alice. Fill in `bobs_operations` below with the logic necessary to recover Alice's teleported state.\n",
    "\n",
    "Hints: \n",
    "- Use [Qiskit's c_if gate](https://qiskit.org/documentation/stubs/qiskit.circuit.Gate.c_if.html#qiskit-circuit-gate-c-if)\n",
    "- You may reference [Qiskit's implementation](https://qiskit.org/textbook/ch-algorithms/teleportation.html) of standard teleportation"
   ]
  },
  {
   "cell_type": "raw",
   "id": "0995aec9",
   "metadata": {},
   "source": [
    "# BEGIN SOLUTION"
   ]
  },
  {
   "cell_type": "code",
   "execution_count": 32,
   "id": "2de44052",
   "metadata": {},
   "outputs": [
    {
     "data": {
      "image/png": "[encoded data removed]",
      "text/plain": [
       "<Figure size 1123.99x385.28 with 1 Axes>"
      ]
     },
     "execution_count": 32,
     "metadata": {},
     "output_type": "execute_result"
    }
   ],
   "source": [
    "def teleport(u_gate_params=[0,0,0]):\n",
    "    qr = QuantumRegister(3, name=\"q\")\n",
    "    bit0 = ClassicalRegister(1, name=\"bit0\")\n",
    "    bit1 = ClassicalRegister(1, name=\"bit1\")\n",
    "    res = ClassicalRegister(1, name=\"res\")\n",
    "    qc = QuantumCircuit(qr, bit0, bit1, res)\n",
    "    # create EPR pair between Alice and Bob\n",
    "    qc.h(1)\n",
    "    qc.cx(1,2)\n",
    "    qc.x(2)\n",
    "    qc.barrier()\n",
    "    # Alice prepares a state to teleport--assuming she doesn't know the parameters\n",
    "    qc.u(*u_gate_params,0)\n",
    "    qc.barrier()\n",
    "    # Alice transforms for measurement\n",
    "    qc.cx(0,1)\n",
    "    qc.h(0)\n",
    "    qc.barrier()\n",
    "    # Alice performs measurements and sends values to Bob via classical channel\n",
    "    qc.measure(0,0)\n",
    "    qc.measure(1,1)\n",
    "    qc.barrier()\n",
    "    # Bob performs conditional operations based on classical bits\n",
    "    qc = bobs_operations(qc)\n",
    "    qc.barrier()\n",
    "    # measure on Bob's transformed state\n",
    "    qc.measure(2,2)\n",
    "    return qc\n",
    "\n",
    "def bobs_operations(qc):\n",
    "    # here's the classical bits sent from Alice\n",
    "    bit_0 = qc.cregs[0]\n",
    "    bit_1 = qc.cregs[1]\n",
    "    # you fill in the rest...\n",
    "    \n",
    "    # BEGIN SOLUTION\n",
    "    # hint: use property that gates are their own inverses, so apply XX or ZZ when we don't want to use gate\n",
    "    # hint: 00:X, 01:nothing, 10:XZ, 11:Z <-- bit0bit1:op0op1\n",
    "    qc.x(2)\n",
    "    qc.x(2).c_if(bit_1, 1)\n",
    "    qc.z(2).c_if(bit_0, 1)\n",
    "    # END SOLUTION\n",
    "    \n",
    "    return qc\n",
    "\n",
    "teleport().draw(output='mpl')"
   ]
  },
  {
   "cell_type": "raw",
   "id": "bdca0fe3",
   "metadata": {},
   "source": [
    "# END SOLUTION"
   ]
  },
  {
   "cell_type": "raw",
   "id": "9136f609",
   "metadata": {},
   "source": [
    "# BEGIN TESTS"
   ]
  },
  {
   "cell_type": "code",
   "execution_count": 33,
   "id": "1341bbac",
   "metadata": {},
   "outputs": [
    {
     "data": {
      "text/plain": [
       "True"
      ]
     },
     "execution_count": 33,
     "metadata": {},
     "output_type": "execute_result"
    }
   ],
   "source": [
    "\"\"\" # BEGIN TEST CONFIG\n",
    "hidden: false\n",
    "points: 1\n",
    "failure_message: EXPECTED ALL AMPLITUDE TO BE ON STATE |0> FOR U-GATE PARAMETERS (0, 0, 0)\n",
    "\"\"\" # END TEST CONFIG\n",
    "def testKet0():\n",
    "    sim = BasicAer.get_backend(\"qasm_simulator\")\n",
    "    qc = teleport()\n",
    "    job = execute(qc, sim)\n",
    "    counts = job.result().get_counts()\n",
    "    zero = 0\n",
    "    for k, v in counts.items():\n",
    "        if int(k[0]) == 0:\n",
    "            zero += v\n",
    "    return zero == 1024\n",
    "\n",
    "testKet0()"
   ]
  },
  {
   "cell_type": "code",
   "execution_count": 34,
   "id": "449e5c3e",
   "metadata": {},
   "outputs": [
    {
     "data": {
      "text/plain": [
       "True"
      ]
     },
     "execution_count": 34,
     "metadata": {},
     "output_type": "execute_result"
    }
   ],
   "source": [
    "\"\"\" # BEGIN TEST CONFIG\n",
    "hidden: false\n",
    "points: 1\n",
    "failure_message: EXPECTED ALL AMPLITUDE TO BE ON STATE |1> FOR U-GATE PARAMETERS (pi, 0, pi)\n",
    "\"\"\" # END TEST CONFIG\n",
    "def testKet1():\n",
    "    sim = BasicAer.get_backend(\"qasm_simulator\")\n",
    "    qc = teleport(u_gate_params=[np.pi,0,np.pi])\n",
    "    job = execute(qc, sim)\n",
    "    counts = job.result().get_counts()\n",
    "    one = 0\n",
    "    for k, v in counts.items():\n",
    "        if int(k[0]) == 1:\n",
    "            one += v\n",
    "    return one == 1024\n",
    "\n",
    "testKet1()"
   ]
  },
  {
   "cell_type": "code",
   "execution_count": 35,
   "id": "e18c583f",
   "metadata": {},
   "outputs": [
    {
     "data": {
      "text/plain": [
       "True"
      ]
     },
     "execution_count": 35,
     "metadata": {},
     "output_type": "execute_result"
    }
   ],
   "source": [
    "\"\"\" # BEGIN TEST CONFIG\n",
    "hidden: false\n",
    "points: 1\n",
    "failure_message: EXPECTED SOLUTION TO PASS A MORE COMPLEX STATE\n",
    "\"\"\" # END TEST CONFIG\n",
    "def testRandomParams():\n",
    "    sim = BasicAer.get_backend(\"qasm_simulator\")\n",
    "    qc = teleport(u_gate_params=[131*np.pi/240,247*np.pi/332,347*np.pi/468])\n",
    "    job = execute(qc, sim, shots=10000)\n",
    "    counts = job.result().get_counts()\n",
    "    zero = 0\n",
    "    for k, v in counts.items():\n",
    "        zero += v if int(k[0]) == 0 else 0\n",
    "    return zero > 3850 and zero < 4600\n",
    "\n",
    "testRandomParams()"
   ]
  },
  {
   "cell_type": "code",
   "execution_count": 36,
   "id": "3cdc6a0b",
   "metadata": {},
   "outputs": [
    {
     "data": {
      "text/plain": [
       "True"
      ]
     },
     "execution_count": 36,
     "metadata": {},
     "output_type": "execute_result"
    }
   ],
   "source": [
    "\"\"\" # BEGIN TEST CONFIG\n",
    "hidden: false\n",
    "points: 7\n",
    "failure_message: ONE OF THE ABOVE TESTS IS NOT PASSING\n",
    "\"\"\" # END TEST CONFIG\n",
    "\n",
    "def testKet0():\n",
    "    sim = BasicAer.get_backend(\"qasm_simulator\")\n",
    "    qc = teleport()\n",
    "    job = execute(qc, sim)\n",
    "    counts = job.result().get_counts()\n",
    "    zero = 0\n",
    "    for k, v in counts.items():\n",
    "        if int(k[0]) == 0:\n",
    "            zero += v\n",
    "    return zero == 1024\n",
    "\n",
    "def testKet1():\n",
    "    sim = BasicAer.get_backend(\"qasm_simulator\")\n",
    "    qc = teleport(u_gate_params=[np.pi,0,np.pi])\n",
    "    job = execute(qc, sim)\n",
    "    counts = job.result().get_counts()\n",
    "    one = 0\n",
    "    for k, v in counts.items():\n",
    "        if int(k[0]) == 1:\n",
    "            one += v\n",
    "    return one == 1024\n",
    "\n",
    "def testRandomParams():\n",
    "    sim = BasicAer.get_backend(\"qasm_simulator\")\n",
    "    qc = teleport(u_gate_params=[131*np.pi/240,247*np.pi/332,347*np.pi/468])\n",
    "    job = execute(qc, sim, shots=10000)\n",
    "    counts = job.result().get_counts()\n",
    "    zero = 0\n",
    "    for k, v in counts.items():\n",
    "        zero += v if int(k[0]) == 0 else 0\n",
    "    return zero > 3850 and zero < 4600\n",
    "\n",
    "testKet0() \\\n",
    "and testKet1() \\\n",
    "and testRandomParams()"
   ]
  },
  {
   "cell_type": "raw",
   "id": "c0daf15f",
   "metadata": {},
   "source": [
    "# END TESTS"
   ]
  },
  {
   "cell_type": "raw",
   "id": "07f87f69",
   "metadata": {},
   "source": [
    "# END QUESTION"
   ]
  },
  {
   "cell_type": "raw",
   "id": "15f13ee0",
   "metadata": {},
   "source": [
    "# BEGIN QUESTION\n",
    "name: Task 4B\n",
    "points: 20\n",
    "manual: true"
   ]
  },
  {
   "cell_type": "markdown",
   "id": "3707423b",
   "metadata": {},
   "source": [
    "#### Task 4B\n",
    "So your circuit passes the tests, but what fun is that? \n",
    "\n",
    "Let's take things a step further.\n",
    "- create a teleportation instance where Bob is `25%` likely to measure the teleported state as $|1\\rangle$\n",
    " - i.e. pass a list of 3 U gate parameters to the `teleport` function\n",
    "- store your measurements in `counts`; the provided code creates a histogram showing the target ratio using this variable"
   ]
  },
  {
   "cell_type": "raw",
   "id": "cfd53a71",
   "metadata": {},
   "source": [
    "# BEGIN SOLUTION"
   ]
  },
  {
   "cell_type": "code",
   "execution_count": 37,
   "id": "3f1be90b",
   "metadata": {
    "scrolled": true
   },
   "outputs": [
    {
     "data": {
      "image/png": "[encoded data removed]",
      "text/plain": [
       "<Figure size 432x288 with 1 Axes>"
      ]
     },
     "metadata": {
      "needs_background": "light"
     },
     "output_type": "display_data"
    }
   ],
   "source": [
    "u_gate_params=[np.pi/3, 0, 0] # SOLUTION\n",
    "# BEGIN SOLUTION\n",
    "# students made this U gate in Qiskit 1\n",
    "sim = BasicAer.get_backend(\"qasm_simulator\")\n",
    "qc = teleport(u_gate_params)\n",
    "job = execute(qc, sim)\n",
    "counts = job.result().get_counts()\n",
    "# END SOLUTION\n",
    "\n",
    "# do not change the code below\n",
    "zero = 0\n",
    "one = 0\n",
    "for k, v in counts.items():\n",
    "    if int(k[0]) == 0:\n",
    "        zero += v\n",
    "    else:\n",
    "        one += v \n",
    "\n",
    "y = np.arange(2)\n",
    "plt.bar(y, [zero, one])\n",
    "plt.ylabel(\"Shots\")\n",
    "plt.xticks(y, [\"0XX\", \"1XX\"])\n",
    "plt.title(\"Bob's Observed States\")\n",
    "plt.show()"
   ]
  },
  {
   "cell_type": "raw",
   "id": "e5aacdda",
   "metadata": {},
   "source": [
    "# END SOLUTION"
   ]
  },
  {
   "cell_type": "raw",
   "id": "27a0169d",
   "metadata": {},
   "source": [
    "# END QUESTION"
   ]
  },
  {
   "cell_type": "markdown",
   "id": "20c65af4",
   "metadata": {},
   "source": [
    "Next up: the Deutsch–Jozsa algorithm!"
   ]
  }
 ],
 "metadata": {
  "kernelspec": {
   "display_name": "Python 3",
   "language": "python",
   "name": "python3"
  },
  "language_info": {
   "codemirror_mode": {
    "name": "ipython",
    "version": 3
   },
   "file_extension": ".py",
   "mimetype": "text/x-python",
   "name": "python",
   "nbconvert_exporter": "python",
   "pygments_lexer": "ipython3",
   "version": "3.7.0"
  }
 },
 "nbformat": 4,
 "nbformat_minor": 5
}
