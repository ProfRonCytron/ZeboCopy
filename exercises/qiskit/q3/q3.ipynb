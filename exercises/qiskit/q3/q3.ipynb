{
 "cells": [
  {
   "cell_type": "raw",
   "id": "f5cdd943",
   "metadata": {},
   "source": [
    "# ASSIGNMENT CONFIG\n",
    "generate:\n",
    "    token: 8654j6ett3xjTQHqUK3Jyw                  # required\n",
    "    course_id: 280928              # required\n",
    "    assignment_id: 1734052          # required\n",
    "    filtering: true              # true is the default  \n",
    "    pagebreaks: true\n",
    "    show_stdout: true\n",
    "    show_hidden: true\n",
    "requirements: # for building the autograder, in addition to the stuff required by otter\n",
    "    - qiskit\n",
    "    - pylatexenc\n",
    "    - git+https://github.com/qiskit-community/qiskit-textbook.git#egg=qiskit_textbook&subdirectory=qiskit-textbook-src\n",
    "export_cell:                     # whether to include an Otter export cell in the output notebooks\n",
    "    instructions: ''             # additional submission instructions to include in the export cell\n",
    "    pdf: false                   # whether to include a PDF of the notebook in the generated zip file\n",
    "    filtering: true              # whether the generated PDF should be filtered\n",
    "    pagebreaks: true             # whether to include page breaks in the PDF\n",
    "    run_tests: false             # whether to run student submissions against local tests during export\n",
    "template_pdf: true\n",
    "solutions_pdf: true"
   ]
  },
  {
   "cell_type": "markdown",
   "id": "99e4fe30",
   "metadata": {},
   "source": [
    "# Qiskit Assignment 3\n",
    "## Multiple Qubits, Entanglement, and Teleportation\n",
    "\n",
    "### Learning Objectives\n",
    "1. Understand the role of endianness in multi-qubit quantum circuits\n",
    "2. Construct circuits with multiple qubits and entangled states\n",
    "3. Solve a teleportation scenario"
   ]
  },
  {
   "cell_type": "markdown",
   "id": "68100684",
   "metadata": {},
   "source": [
    "**NAME**: REPLACE WITH YOUR NAME\n",
    "\n",
    "**STUDENT ID**: REPLACE WITH YOUR STUDENT ID"
   ]
  },
  {
   "cell_type": "code",
   "execution_count": 39,
   "id": "legitimate-explosion",
   "metadata": {},
   "outputs": [],
   "source": [
    "# Import Qiskit and other needed packages\n",
    "from qiskit import *\n",
    "from qiskit.visualization import plot_histogram\n",
    "from qiskit.quantum_info import Statevector\n",
    "from qiskit_textbook.tools import array_to_latex\n",
    "from qiskit.extensions import Initialize\n",
    "import random\n",
    "import numpy as np\n",
    "import pprint"
   ]
  },
  {
   "cell_type": "raw",
   "id": "253bface",
   "metadata": {},
   "source": [
    "# BEGIN QUESTION\n",
    "name: Task 1\n",
    "points: 1\n",
    "manual: false"
   ]
  },
  {
   "cell_type": "markdown",
   "id": "1d93f58f",
   "metadata": {},
   "source": [
    "#### Task 1 - Endianness and Multi-Qubit Circuits"
   ]
  },
  {
   "cell_type": "markdown",
   "id": "d1993c82",
   "metadata": {},
   "source": [
    "Qiskit uses a little endian convention for qubit ordering different from many textbooks and the lecture slides.\n",
    " \n",
    "Consider a circuit in the state $$\\Psi=|0001\\rangle$$\n",
    "\n",
    "According to the convention used in lecture, the least significant qubit of the circuit, $q_0$, holds the state of the leftmost digit of $\\Psi$, i.e. $|0\\rangle$. In general, this convention can be represented as $$|q_0,q_1,...,q_{n-1},q_n\\rangle$$\n",
    "\n",
    "However, Qiskit interprets the rightmost digit, $|1\\rangle$, as the state of the least significant qubit. This is the standard ordering of binary bitstrings, but it leads to a non-standard tensor product order ([source](https://qiskit.org/documentation/tutorials/circuits/1_getting_started_with_qiskit.html)). Hence, the general form of the Qiskit ordering goes $$|q_n,q_{n-1},...,q_1,q_0\\rangle$$\n",
    "\n",
    "We want to utilize the power of Qiskit for building and running quantum circuits while also remaining consistent with our notation and tensor product math. In this class, we'll stick to the big endian convention consistent with lectures. Qiskit provides two functions that can help.\n",
    "\n",
    "We can use the [`reverse_bits()`](https://qiskit.org/documentation/stubs/qiskit.circuit.QuantumCircuit.reverse_bits.html#qiskit.circuit.QuantumCircuit.reverse_bits) method to return a quantum circuit with qubit ordering flipped completely. Recall that we used this method in the first qiskit assignment.\n",
    "- Pros: good for running a job and displaying the counts and/or histogram in big endian notation\n",
    "- Cons: vertically flips circuit which can confuse interpretation of circuit diagram; creates separate circuit\n",
    "\n",
    "We can also use the Statevector class' [`reverse_qargs()`](https://qiskit.org/documentation/stubs/qiskit.quantum_info.Statevector.reverse_qargs.html#qiskit-quantum-info-statevector-reverse-qargs) method to display a state on measurement of a multi-qubit circuit in big endian notation.\n",
    "- Pros: keeps diagram ordering as we'd expect; does not create separate circuit\n",
    "- Cons: not useful for displaying counts and/or histogram when running a job\n",
    "\n",
    "To check your understanding, consider the following code which returns a circuit and its statevector, $|1+\\rangle$. Modify the code so the statevector returned is the big endian form we'd expect, $|+1\\rangle$, without using adding or modifying the gates."
   ]
  },
  {
   "cell_type": "raw",
   "id": "e0a77067",
   "metadata": {},
   "source": [
    "# BEGIN SOLUTION"
   ]
  },
  {
   "cell_type": "code",
   "execution_count": 5,
   "id": "7b21ab9c",
   "metadata": {
    "scrolled": true
   },
   "outputs": [
    {
     "data": {
      "text/latex": [
       "$\\displaystyle \n",
       "\\text{Task 1 result} = \\begin{bmatrix}\n",
       "0 \\\\\n",
       "\\tfrac{1}{\\sqrt{2}} \\\\\n",
       "0 \\\\\n",
       "\\tfrac{1}{\\sqrt{2}}\n",
       "\\end{bmatrix}\n",
       "$"
      ],
      "text/plain": [
       "<IPython.core.display.Math object>"
      ]
     },
     "metadata": {},
     "output_type": "display_data"
    }
   ],
   "source": [
    "def endianness():\n",
    "    qc = QuantumCircuit(2,2)\n",
    "    qc.h(0)\n",
    "    qc.x(1)\n",
    "    qc.measure(0,0)\n",
    "    qc.measure(1,1)\n",
    "    qc.remove_final_measurements()\n",
    "    ket = Statevector.from_instruction(qc)\n",
    "    # BEGIN SOLUTION\n",
    "    ket = ket.reverse_qargs()\n",
    "    # END SOLUTION\n",
    "    return qc, ket\n",
    "\n",
    "array_to_latex(endianness()[1], pretext=\"\\\\text{Task 1 result} = \")"
   ]
  },
  {
   "cell_type": "raw",
   "id": "1237058a",
   "metadata": {},
   "source": [
    "# END SOLUTION"
   ]
  },
  {
   "cell_type": "raw",
   "id": "3c5c962d",
   "metadata": {},
   "source": [
    "# BEGIN TESTS"
   ]
  },
  {
   "cell_type": "code",
   "execution_count": 11,
   "id": "ee9efd51",
   "metadata": {},
   "outputs": [
    {
     "data": {
      "text/plain": [
       "True"
      ]
     },
     "execution_count": 11,
     "metadata": {},
     "output_type": "execute_result"
    }
   ],
   "source": [
    "len(endianness()[0].count_ops()) == 2 and endianness()[0].count_ops()['h'] == 1 and endianness()[0].count_ops()['x'] == 1"
   ]
  },
  {
   "cell_type": "code",
   "execution_count": 12,
   "id": "bb679b06",
   "metadata": {},
   "outputs": [
    {
     "data": {
      "text/plain": [
       "True"
      ]
     },
     "execution_count": 12,
     "metadata": {},
     "output_type": "execute_result"
    }
   ],
   "source": [
    "endianness()[1].equiv(Statevector([0,1/np.sqrt(2),0,1/np.sqrt(2)]))"
   ]
  },
  {
   "cell_type": "raw",
   "id": "dc9cbb76",
   "metadata": {},
   "source": [
    "# END TESTS"
   ]
  },
  {
   "cell_type": "raw",
   "id": "72ec1e4b",
   "metadata": {},
   "source": [
    "# END QUESTION"
   ]
  },
  {
   "cell_type": "raw",
   "id": "3eb3026b",
   "metadata": {},
   "source": [
    "# BEGIN QUESTION\n",
    "name: Task 2A\n",
    "points: 1\n",
    "manual: false"
   ]
  },
  {
   "cell_type": "markdown",
   "id": "95f4af89",
   "metadata": {},
   "source": [
    "#### Task 2 (2A, 2B) - Multiple Qubit Circuits\n",
    "\n",
    "#### Task 2A\n",
    "Run the following cell. Return a circuit from `multi_qubit_a` that produces the following target state on measurement. It's okay if your resulting state is equivalent up to a global phase. Your qubits must start in state $|00\\rangle$ i.e. no initializations are allowed."
   ]
  },
  {
   "cell_type": "code",
   "execution_count": 13,
   "id": "23b96410",
   "metadata": {
    "scrolled": true
   },
   "outputs": [
    {
     "data": {
      "text/latex": [
       "$\\displaystyle \n",
       "\\text{2A Target Statevector} = \\begin{bmatrix}\n",
       "-\\tfrac{1}{2}i \\\\\n",
       "\\tfrac{1}{2} \\\\\n",
       "-\\tfrac{1}{2} \\\\\n",
       "-\\tfrac{1}{2}i\n",
       "\\end{bmatrix}\n",
       "$"
      ],
      "text/plain": [
       "<IPython.core.display.Math object>"
      ]
     },
     "metadata": {},
     "output_type": "display_data"
    }
   ],
   "source": [
    "array_to_latex([-1j/2, 1/2, -1/2, -1j/2], pretext=\"\\\\text{2A Target Statevector} = \")"
   ]
  },
  {
   "cell_type": "raw",
   "id": "89566fe3",
   "metadata": {},
   "source": [
    "# BEGIN SOLUTION"
   ]
  },
  {
   "cell_type": "code",
   "execution_count": null,
   "id": "786d2fe0",
   "metadata": {},
   "outputs": [],
   "source": [
    "def multi_qubit_a():\n",
    "    # BEGIN SOLUTION\n",
    "    # hint: recognize the target state is tensor factorable so this is not an entangled state.\n",
    "    # So we can find what states the qubits need to be in individually.\n",
    "    # If we prepare |0> on qubit zero and |1> on qubit one,\n",
    "    # can use outer product from lecture 01 to obtain the matrix necessary to make this transformation\n",
    "    # they've practiced using the U gate in q1 assignment so can solve for the corresponding U gate parameters.\n",
    "    #\n",
    "    qc = QuantumCircuit(2,2)\n",
    "    # primary solution - U gate\n",
    "    phi = 3*np.pi/2\n",
    "    theta = np.pi/2\n",
    "    lamda = np.pi/2\n",
    "    qc.u(phi,theta,lamda,0)\n",
    "    qc.u(phi,theta,lamda,1)\n",
    "    qc.x(1)\n",
    "#     alternate solution - P, H, and X gates\n",
    "#     qc_a.h(0)\n",
    "#     qc_a.p(3*np.pi/2,0)\n",
    "#     qc_a.h(1)\n",
    "#     qc_a.p(3*np.pi/2,1)\n",
    "#     qc_a.x(1)\n",
    "\n",
    "    qc.measure(0,0)\n",
    "    qc.measure(1,1)\n",
    "    return qc\n",
    "    # END SOLUTION\n",
    "\n",
    "multi_qubit_a().draw(output='mpl')"
   ]
  },
  {
   "cell_type": "raw",
   "id": "828e0a37",
   "metadata": {},
   "source": [
    "# END SOLUTION"
   ]
  },
  {
   "cell_type": "raw",
   "id": "de74dfc6",
   "metadata": {},
   "source": [
    "# BEGIN TESTS"
   ]
  },
  {
   "cell_type": "code",
   "execution_count": null,
   "id": "4b991694",
   "metadata": {},
   "outputs": [],
   "source": [
    "def testNoInitializations_2a():\n",
    "    ops = multi_qubit_a().count_ops()\n",
    "    return not 'initialize' in ops\n",
    "    \n",
    "testNoInitializations_2a()"
   ]
  },
  {
   "cell_type": "code",
   "execution_count": null,
   "id": "448da9cd",
   "metadata": {},
   "outputs": [],
   "source": [
    "def testMeasurements_2a():\n",
    "    ops = multi_qubit_a().count_ops()\n",
    "    return 'measure' in ops and ops['measure'] == 2\n",
    "\n",
    "testMeasurements_2a()"
   ]
  },
  {
   "cell_type": "code",
   "execution_count": null,
   "id": "528b0943",
   "metadata": {},
   "outputs": [],
   "source": [
    "def testAmplitudes_2a():\n",
    "    qc = multi_qubit_a()\n",
    "    qc.remove_final_measurements()\n",
    "    ket = Statevector.from_instruction(qc).reverse_qargs()\n",
    "    return Statevector([-1j/2, 1/2, -1/2, -1j/2]).equiv(ket)\n",
    "\n",
    "testAmplitudes_2a()"
   ]
  },
  {
   "cell_type": "raw",
   "id": "5a11ed0b",
   "metadata": {},
   "source": [
    "# END TESTS"
   ]
  },
  {
   "cell_type": "raw",
   "id": "feb39d08",
   "metadata": {},
   "source": [
    "# END QUESTION"
   ]
  },
  {
   "cell_type": "raw",
   "id": "648f7512",
   "metadata": {},
   "source": [
    "# BEGIN QUESTION\n",
    "name: Task 2B\n",
    "points: 1\n",
    "manual: false"
   ]
  },
  {
   "cell_type": "markdown",
   "id": "bf1ccd6d",
   "metadata": {},
   "source": [
    "#### Task 2B\n",
    "Run the following cell. Return a circuit from `multi_qubit_b` that produces the following target state on measurement. It's okay if your resulting state is equivalent up to a global phase. Your qubits must start in state $|00\\rangle$ i.e. no initializations are allowed."
   ]
  },
  {
   "cell_type": "code",
   "execution_count": 14,
   "id": "dd29c08c",
   "metadata": {},
   "outputs": [
    {
     "data": {
      "text/latex": [
       "$\\displaystyle \n",
       "\\text{2B Target Statevector} = \\begin{bmatrix}\n",
       "\\tfrac{1}{\\sqrt{2}} \\\\\n",
       "0 \\\\\n",
       "0 \\\\\n",
       "-\\tfrac{1}{\\sqrt{2}}\n",
       "\\end{bmatrix}\n",
       "$"
      ],
      "text/plain": [
       "<IPython.core.display.Math object>"
      ]
     },
     "metadata": {},
     "output_type": "display_data"
    }
   ],
   "source": [
    "array_to_latex([1/(2**(.5)), 0, 0, -1/(2**(.5))], pretext=\"\\\\text{2B Target Statevector} = \")"
   ]
  },
  {
   "cell_type": "raw",
   "id": "b89bab21",
   "metadata": {},
   "source": [
    "# BEGIN SOLUTION"
   ]
  },
  {
   "cell_type": "code",
   "execution_count": 15,
   "id": "fc213f00",
   "metadata": {},
   "outputs": [
    {
     "data": {
      "image/png": "[encoded data removed]",
      "text/plain": [
       "<Figure size 447.652x204.68 with 1 Axes>"
      ]
     },
     "execution_count": 15,
     "metadata": {},
     "output_type": "execute_result"
    }
   ],
   "source": [
    "def multi_qubit_b():\n",
    "    # BEGIN SOLUTION\n",
    "    # hint: recognize the target state is a bell state; it's entangled and not tensor factorable\n",
    "    # bell states are created in similar ways to each other, there is an example in lecture 10\n",
    "    # on teleportation. the tensor of Z and I produces the desired negative\n",
    "    qc = QuantumCircuit(2,2)\n",
    "    qc.h(0)\n",
    "    qc.cnot(0,1)\n",
    "    qc.z(0)\n",
    "    qc.barrier()\n",
    "    qc.measure(0,0)\n",
    "    qc.measure(1,1)\n",
    "    return qc\n",
    "    # END SOLUTION\n",
    "\n",
    "multi_qubit_b().draw(output='mpl')"
   ]
  },
  {
   "cell_type": "raw",
   "id": "3b85054f",
   "metadata": {},
   "source": [
    "# END SOLUTION"
   ]
  },
  {
   "cell_type": "raw",
   "id": "5a492e31",
   "metadata": {},
   "source": [
    "# BEGIN TESTS"
   ]
  },
  {
   "cell_type": "code",
   "execution_count": 16,
   "id": "a2a74549",
   "metadata": {},
   "outputs": [
    {
     "data": {
      "text/plain": [
       "True"
      ]
     },
     "execution_count": 16,
     "metadata": {},
     "output_type": "execute_result"
    }
   ],
   "source": [
    "def testNoInitializations_2b():\n",
    "    ops = multi_qubit_b().count_ops()\n",
    "    return not 'initialize' in ops\n",
    "    \n",
    "testNoInitializations_2b()"
   ]
  },
  {
   "cell_type": "code",
   "execution_count": 17,
   "id": "ffa1858c",
   "metadata": {},
   "outputs": [
    {
     "data": {
      "text/plain": [
       "True"
      ]
     },
     "execution_count": 17,
     "metadata": {},
     "output_type": "execute_result"
    }
   ],
   "source": [
    "def testMeasurements_2b():\n",
    "    ops = multi_qubit_b().count_ops()\n",
    "    return 'measure' in ops and ops['measure'] == 2\n",
    "\n",
    "testMeasurements_2b()"
   ]
  },
  {
   "cell_type": "code",
   "execution_count": 18,
   "id": "01aee130",
   "metadata": {},
   "outputs": [
    {
     "data": {
      "text/plain": [
       "True"
      ]
     },
     "execution_count": 18,
     "metadata": {},
     "output_type": "execute_result"
    }
   ],
   "source": [
    "def testAmplitudes_2b():\n",
    "    qc = multi_qubit_b()\n",
    "    qc.remove_final_measurements()\n",
    "    ket = Statevector.from_instruction(qc).reverse_qargs()\n",
    "    return Statevector([1/(2**(.5)), 0, 0, -1/(2**(.5))]).equiv(ket)\n",
    "\n",
    "testAmplitudes_2b()"
   ]
  },
  {
   "cell_type": "raw",
   "id": "004401fc",
   "metadata": {},
   "source": [
    "# END TESTS"
   ]
  },
  {
   "cell_type": "raw",
   "id": "97e6d1d4",
   "metadata": {},
   "source": [
    "# END QUESTION"
   ]
  },
  {
   "cell_type": "raw",
   "id": "da188b8f",
   "metadata": {},
   "source": [
    "# BEGIN QUESTION\n",
    "name: Task 3A\n",
    "points: 1\n",
    "manual: false"
   ]
  },
  {
   "cell_type": "markdown",
   "id": "83e82dfc",
   "metadata": {},
   "source": [
    "#### Task 3 (3A, 3B) - What's in the box?\n",
    "\n",
    "Build a circuit that figures out what rotation is done by an oracle. \n",
    "\n",
    "**README**: Your solutions to 3A and 3B may not use conditional statements to dynamically pick gates according to the input or otherwise attempt to influence the oracle. In other words, the only gate that may vary between runs is the oracle, and do not use the parameter `r` in any code you write. Solutions not adhering to these guidelines will be severely penalized. As usual, we reserve the right to manually inspect your code.\n",
    "\n",
    "#### Task 3A\n",
    "The oracle promises to be **I** or **Z**. Return a circuit from `whats_in_box_a` such that \n",
    "- measurement yields either $|0\\rangle$ or $|1\\rangle$\n",
    "- the probability of measuring each state is correlated perfectly with the gates returned by the oracle\n",
    "- example: if you return $|1\\rangle$ for an oracle of Z, the probability of seeing $|1\\rangle$ given an oracle of I should be 0."
   ]
  },
  {
   "cell_type": "raw",
   "id": "ce8c9228",
   "metadata": {},
   "source": [
    "# BEGIN SOLUTION"
   ]
  },
  {
   "cell_type": "code",
   "execution_count": 20,
   "id": "1ac1fd78",
   "metadata": {},
   "outputs": [
    {
     "data": {
      "image/png": "[encoded data removed]",
      "text/plain": [
       "<Figure size 434.526x144.48 with 1 Axes>"
      ]
     },
     "execution_count": 20,
     "metadata": {},
     "output_type": "execute_result"
    }
   ],
   "source": [
    "def oracle_a(qc, r=None):\n",
    "    if r is None:\n",
    "        r = random.uniform(0, 1)\n",
    "    qc.i(0) if r > 0.5 else qc.z(0)\n",
    "    return qc\n",
    "\n",
    "def whats_in_box_a(r=None):\n",
    "    # BEGIN SOLUTION\n",
    "    # hint: use I:0, Z:1\n",
    "    qc = QuantumCircuit(1,1)\n",
    "    qc.h(0)\n",
    "    # END SOLUTION\n",
    "    qc.barrier()\n",
    "    qc = oracle_a(qc,r)\n",
    "    qc.barrier()\n",
    "    # BEGIN SOLUTION\n",
    "    qc.h(0)\n",
    "    qc.measure(0,0)\n",
    "    # END SOLUTION\n",
    "    return qc\n",
    "\n",
    "qc3a = whats_in_box_a()\n",
    "qc3a.draw(output='mpl')"
   ]
  },
  {
   "cell_type": "code",
   "execution_count": 21,
   "id": "049a4168",
   "metadata": {},
   "outputs": [
    {
     "data": {
      "text/latex": [
       "$\\displaystyle \n",
       "\\text{3A last run} = \\begin{bmatrix}\n",
       "1 \\\\\n",
       "0\n",
       "\\end{bmatrix}\n",
       "$"
      ],
      "text/plain": [
       "<IPython.core.display.Math object>"
      ]
     },
     "metadata": {},
     "output_type": "display_data"
    }
   ],
   "source": [
    "qc3a.remove_final_measurements()\n",
    "array_to_latex(Statevector.from_instruction(qc3a), pretext=\"\\\\text{3A last run} = \")"
   ]
  },
  {
   "cell_type": "raw",
   "id": "e8611469",
   "metadata": {},
   "source": [
    "# END SOLUTION"
   ]
  },
  {
   "cell_type": "raw",
   "id": "5edb899b",
   "metadata": {},
   "source": [
    "# BEGIN TESTS"
   ]
  },
  {
   "cell_type": "code",
   "execution_count": 22,
   "id": "f95c77f2",
   "metadata": {},
   "outputs": [
    {
     "data": {
      "text/plain": [
       "True"
      ]
     },
     "execution_count": 22,
     "metadata": {},
     "output_type": "execute_result"
    }
   ],
   "source": [
    "def testValidateRulesA():\n",
    "    qc_z = whats_in_box_a(0)\n",
    "    qc_i = whats_in_box_a(1)\n",
    "    ops_z = qc_z.count_ops()\n",
    "    ops_i = qc_i.count_ops()\n",
    "    if abs(len(ops_z) - len(ops_i)) > 1:\n",
    "        return False\n",
    "    for (k, v) in ops_z.items():\n",
    "        if k in ops_i:\n",
    "            if v != ops_i[k]:\n",
    "                if abs(ops_i[k] - v) > 0 and (k != 'z' and k != 'i'):\n",
    "                    return False\n",
    "    try:\n",
    "        nz = ops_i['z']\n",
    "    except KeyError:\n",
    "        nz = 0\n",
    "    try:\n",
    "        ni = ops_z['id']\n",
    "    except KeyError:\n",
    "        ni = 0\n",
    "    return ops_i['id'] - ni == 1 and ops_z['z'] - nz == 1\n",
    "    \n",
    "testValidateRulesA()"
   ]
  },
  {
   "cell_type": "code",
   "execution_count": 23,
   "id": "4396978c",
   "metadata": {},
   "outputs": [
    {
     "data": {
      "text/plain": [
       "True"
      ]
     },
     "execution_count": 23,
     "metadata": {},
     "output_type": "execute_result"
    }
   ],
   "source": [
    "def testValidateRulesA():\n",
    "    qc_z = whats_in_box_a(0)\n",
    "    qc_i = whats_in_box_a(1)\n",
    "    ops_z = qc_z.count_ops()\n",
    "    ops_i = qc_i.count_ops()\n",
    "    if abs(len(ops_z) - len(ops_i)) > 1:\n",
    "        return False\n",
    "    for (k, v) in ops_z.items():\n",
    "        if k in ops_i:\n",
    "            if v != ops_i[k]:\n",
    "                if abs(ops_i[k] - v) > 0 and (k != 'z' and k != 'i'):\n",
    "                    return False\n",
    "    try:\n",
    "        nz = ops_i['z']\n",
    "    except KeyError:\n",
    "        nz = 0\n",
    "    try:\n",
    "        ni = ops_z['id']\n",
    "    except KeyError:\n",
    "        ni = 0\n",
    "    return ops_i['id'] - ni == 1 and ops_z['z'] - nz == 1\n",
    "\n",
    "def testZOracleA():\n",
    "    sim = BasicAer.get_backend(\"qasm_simulator\")\n",
    "    shots = 10\n",
    "    qc = whats_in_box_a(0)\n",
    "    job = execute(qc, sim, shots=shots)\n",
    "    counts = job.result().get_counts()\n",
    "    res = counts['0'] if '0' in counts else counts['1']\n",
    "    return len(counts) == 1 and res == shots and testValidateRulesA()\n",
    "\n",
    "testZOracleA()"
   ]
  },
  {
   "cell_type": "code",
   "execution_count": 24,
   "id": "54007084",
   "metadata": {},
   "outputs": [
    {
     "data": {
      "text/plain": [
       "True"
      ]
     },
     "execution_count": 24,
     "metadata": {},
     "output_type": "execute_result"
    }
   ],
   "source": [
    "def testValidateRulesA():\n",
    "    qc_z = whats_in_box_a(0)\n",
    "    qc_i = whats_in_box_a(1)\n",
    "    ops_z = qc_z.count_ops()\n",
    "    ops_i = qc_i.count_ops()\n",
    "    if abs(len(ops_z) - len(ops_i)) > 1:\n",
    "        return False\n",
    "    for (k, v) in ops_z.items():\n",
    "        if k in ops_i:\n",
    "            if v != ops_i[k]:\n",
    "                if abs(ops_i[k] - v) > 0 and (k != 'z' and k != 'i'):\n",
    "                    return False\n",
    "    try:\n",
    "        nz = ops_i['z']\n",
    "    except KeyError:\n",
    "        nz = 0\n",
    "    try:\n",
    "        ni = ops_z['id']\n",
    "    except KeyError:\n",
    "        ni = 0\n",
    "    return ops_i['id'] - ni == 1 and ops_z['z'] - nz == 1\n",
    "\n",
    "def testIOracleA():\n",
    "    sim = BasicAer.get_backend(\"qasm_simulator\")\n",
    "    shots = 10\n",
    "    qc = whats_in_box_a(1)\n",
    "    job = execute(qc, sim, shots=shots)\n",
    "    counts = job.result().get_counts()\n",
    "    res = counts['0'] if '0' in counts else counts['1']\n",
    "    return len(counts) == 1 and res == shots and testValidateRulesA()\n",
    "\n",
    "testIOracleA()"
   ]
  },
  {
   "cell_type": "code",
   "execution_count": 26,
   "id": "b736967a",
   "metadata": {},
   "outputs": [
    {
     "data": {
      "text/plain": [
       "True"
      ]
     },
     "execution_count": 26,
     "metadata": {},
     "output_type": "execute_result"
    }
   ],
   "source": [
    "def testValidateRulesA():\n",
    "    qc_z = whats_in_box_a(0)\n",
    "    qc_i = whats_in_box_a(1)\n",
    "    ops_z = qc_z.count_ops()\n",
    "    ops_i = qc_i.count_ops()\n",
    "    if abs(len(ops_z) - len(ops_i)) > 1:\n",
    "        return False\n",
    "    for (k, v) in ops_z.items():\n",
    "        if k in ops_i:\n",
    "            if v != ops_i[k]:\n",
    "                if abs(ops_i[k] - v) > 0 and (k != 'z' and k != 'i'):\n",
    "                    return False\n",
    "    try:\n",
    "        nz = ops_i['z']\n",
    "    except KeyError:\n",
    "        nz = 0\n",
    "    try:\n",
    "        ni = ops_z['id']\n",
    "    except KeyError:\n",
    "        ni = 0\n",
    "    return ops_i['id'] - ni == 1 and ops_z['z'] - nz == 1\n",
    "\n",
    "def testIOracleA():\n",
    "    sim = BasicAer.get_backend(\"qasm_simulator\")\n",
    "    shots = 10\n",
    "    qc = whats_in_box_a(1)\n",
    "    job = execute(qc, sim, shots=shots)\n",
    "    counts = job.result().get_counts()\n",
    "    res = counts['0'] if '0' in counts else counts['1']\n",
    "    return len(counts) == 1 and res == shots and testValidateRulesA()\n",
    "\n",
    "def testZOracleA():\n",
    "    sim = BasicAer.get_backend(\"qasm_simulator\")\n",
    "    shots = 10\n",
    "    qc = whats_in_box_a(0)\n",
    "    job = execute(qc, sim, shots=shots)\n",
    "    counts = job.result().get_counts()\n",
    "    res = counts['0'] if '0' in counts else counts['1']\n",
    "    return len(counts) == 1 and res == shots and testValidateRulesA()\n",
    "\n",
    "def testMixedOracleA():\n",
    "    passing_both = all([testZOracleA() and testIOracleA() for i in range(10)])\n",
    "    if not passing_both:\n",
    "        return False\n",
    "    shots = 100\n",
    "    sim = BasicAer.get_backend(\"qasm_simulator\")\n",
    "    qc_z = whats_in_box_a(0)\n",
    "    job_z = execute(qc_z, sim, shots=shots)\n",
    "    counts_z = job_z.result().get_counts()\n",
    "    qc_i = whats_in_box_a(1)\n",
    "    job_i = execute(qc_i, sim, shots=shots)\n",
    "    counts_i = job_i.result().get_counts()\n",
    "    are_different_values = ('1' in counts_z) if '0' in counts_i else ('0' in counts_z)\n",
    "    return are_different_values\n",
    "\n",
    "testMixedOracleA()"
   ]
  },
  {
   "cell_type": "raw",
   "id": "2f32d16a",
   "metadata": {},
   "source": [
    "# END TESTS"
   ]
  },
  {
   "cell_type": "raw",
   "id": "fe8a8b4b",
   "metadata": {},
   "source": [
    "# END QUESTION"
   ]
  },
  {
   "cell_type": "raw",
   "id": "81c8f514",
   "metadata": {},
   "source": [
    "# BEGIN QUESTION\n",
    "name: Task 3B\n",
    "points: 1\n",
    "manual: false"
   ]
  },
  {
   "cell_type": "markdown",
   "id": "7d9e81a0",
   "metadata": {},
   "source": [
    "#### Task 3B\n",
    "The oracle promises to be **I**, **X**, **Y**, or **Z**. Return a circuit from `whats_in_box_b` such that\n",
    "- measurement yields either $|00\\rangle$, $|01\\rangle$, $|10\\rangle$, or $|11\\rangle$\n",
    "- the probability of seeing each state is correlated perfectly with respective individual gates returned by the oracle\n",
    "- example: if you return $|01\\rangle$ for an oracle of Z, the probability of seeing $|01\\rangle$ given any other gate should be 0."
   ]
  },
  {
   "cell_type": "code",
   "execution_count": 27,
   "id": "892fe7af",
   "metadata": {},
   "outputs": [
    {
     "data": {
      "image/png": "[encoded data removed]",
      "text/plain": [
       "<Figure size 447.652x204.68 with 1 Axes>"
      ]
     },
     "execution_count": 27,
     "metadata": {},
     "output_type": "execute_result"
    }
   ],
   "source": [
    "def oracle_b(qc, r=None):\n",
    "    if r is None:\n",
    "        r = random.uniform(0, 1)\n",
    "    if r < 0.25:\n",
    "        qc.i(0)\n",
    "        qc.i(1)\n",
    "    elif r < 0.5:\n",
    "        qc.x(0)\n",
    "        qc.x(1)\n",
    "    elif r < 0.75:\n",
    "        qc.y(0)\n",
    "        qc.y(1)\n",
    "    else:\n",
    "        qc.z(0)\n",
    "        qc.z(1)\n",
    "    return qc\n",
    "\n",
    "def whats_in_box_b(r=None):\n",
    "    # BEGIN SOLUTION\n",
    "    # hint: use I:00, X:01, Y:11, Z:10\n",
    "    qc = QuantumCircuit(2,2)\n",
    "    qc.h(0)\n",
    "    # END SOLUTION\n",
    "    qc.barrier()\n",
    "    qc = oracle_b(qc,r)\n",
    "    qc.barrier()\n",
    "    # BEGIN SOLUTION\n",
    "    qc.h(0)\n",
    "    qc.measure(0,0)\n",
    "    qc.measure(1,1)\n",
    "    # END SOLUTION\n",
    "    return qc\n",
    "\n",
    "qc3b = whats_in_box_b()\n",
    "qc3b.draw(output='mpl')"
   ]
  },
  {
   "cell_type": "code",
   "execution_count": 28,
   "id": "1e1dc64e",
   "metadata": {},
   "outputs": [
    {
     "data": {
      "text/latex": [
       "$\\displaystyle \n",
       "\\text{3B last run} = \\begin{bmatrix}\n",
       "0 \\\\\n",
       "1 \\\\\n",
       "0 \\\\\n",
       "0\n",
       "\\end{bmatrix}\n",
       "$"
      ],
      "text/plain": [
       "<IPython.core.display.Math object>"
      ]
     },
     "metadata": {},
     "output_type": "display_data"
    }
   ],
   "source": [
    "qc3b.remove_final_measurements()\n",
    "array_to_latex(Statevector.from_instruction(qc3b).reverse_qargs(), pretext=\"\\\\text{3B last run} = \")"
   ]
  },
  {
   "cell_type": "raw",
   "id": "d13f0ff9",
   "metadata": {},
   "source": [
    "# END SOLUTION"
   ]
  },
  {
   "cell_type": "raw",
   "id": "c0d5ef3f",
   "metadata": {},
   "source": [
    "# BEGIN TESTS"
   ]
  },
  {
   "cell_type": "code",
   "execution_count": null,
   "id": "4907cd64",
   "metadata": {},
   "outputs": [],
   "source": [
    "def testValidateRulesB():\n",
    "    qc_i = whats_in_box_b(0)\n",
    "    qc_x = whats_in_box_b(0.3)\n",
    "    qc_y = whats_in_box_b(0.6)\n",
    "    qc_z = whats_in_box_b(1)\n",
    "    qcs = [qc_i, qc_x, qc_y, qc_z]\n",
    "    gates = ['i','x','y','z']\n",
    "\n",
    "                \n",
    "    for i,a in enumerate(qcs):\n",
    "        for j,b in enumerate(qcs):\n",
    "            if i == j:\n",
    "                continue\n",
    "            elif abs(len(a.count_ops()) - len(b.count_ops())) > 1:\n",
    "                return False\n",
    "            for ka, va in a.count_ops().items():\n",
    "                if ka in b.count_ops():\n",
    "                    if abs(b.count_ops()[ka] - va) > 0 and (ka != gates[i]):\n",
    "                        return False\n",
    "                \n",
    "    return True\n",
    "    \n",
    "testValidateRulesB()"
   ]
  },
  {
   "cell_type": "code",
   "execution_count": 29,
   "id": "83846269",
   "metadata": {},
   "outputs": [
    {
     "data": {
      "text/plain": [
       "True"
      ]
     },
     "execution_count": 29,
     "metadata": {},
     "output_type": "execute_result"
    }
   ],
   "source": [
    "def testValidateRulesB():\n",
    "    qc_i = whats_in_box_b(0)\n",
    "    qc_x = whats_in_box_b(0.3)\n",
    "    qc_y = whats_in_box_b(0.6)\n",
    "    qc_z = whats_in_box_b(1)\n",
    "    qcs = [qc_i, qc_x, qc_y, qc_z]\n",
    "    gates = ['i','x','y','z']            \n",
    "    for i,a in enumerate(qcs):\n",
    "        for j,b in enumerate(qcs):\n",
    "            if i == j:\n",
    "                continue\n",
    "            elif abs(len(a.count_ops()) - len(b.count_ops())) > 1:\n",
    "                return False\n",
    "            for ka, va in a.count_ops().items():\n",
    "                if ka in b.count_ops():\n",
    "                    if abs(b.count_ops()[ka] - va) > 0 and (ka != gates[i]):\n",
    "                        return False           \n",
    "    return True\n",
    "\n",
    "def testIOracleB():\n",
    "    sim = BasicAer.get_backend(\"qasm_simulator\")\n",
    "    shots = 10\n",
    "    qc = whats_in_box_b(0)\n",
    "    job = execute(qc, sim, shots=shots)\n",
    "    counts = job.result().get_counts()\n",
    "    res = -1\n",
    "    for state in ['00','01','10','11']:\n",
    "        if state in counts:\n",
    "            res = counts[state]\n",
    "            break\n",
    "    return len(counts) == 1 and res == shots and testValidateRulesB()\n",
    "\n",
    "testIOracleB()"
   ]
  },
  {
   "cell_type": "code",
   "execution_count": null,
   "id": "fdde8d10",
   "metadata": {},
   "outputs": [],
   "source": [
    "def testValidateRulesB():\n",
    "    qc_i = whats_in_box_b(0)\n",
    "    qc_x = whats_in_box_b(0.3)\n",
    "    qc_y = whats_in_box_b(0.6)\n",
    "    qc_z = whats_in_box_b(1)\n",
    "    qcs = [qc_i, qc_x, qc_y, qc_z]\n",
    "    gates = ['i','x','y','z']            \n",
    "    for i,a in enumerate(qcs):\n",
    "        for j,b in enumerate(qcs):\n",
    "            if i == j:\n",
    "                continue\n",
    "            elif abs(len(a.count_ops()) - len(b.count_ops())) > 1:\n",
    "                return False\n",
    "            for ka, va in a.count_ops().items():\n",
    "                if ka in b.count_ops():\n",
    "                    if abs(b.count_ops()[ka] - va) > 0 and (ka != gates[i]):\n",
    "                        return False           \n",
    "    return True\n",
    "\n",
    "def testXOracleB():\n",
    "    sim = BasicAer.get_backend(\"qasm_simulator\")\n",
    "    shots = 10\n",
    "    qc = whats_in_box_b(0.3)\n",
    "    job = execute(qc, sim, shots=shots)\n",
    "    counts = job.result().get_counts()\n",
    "    res = -1\n",
    "    for state in ['00','01','10','11']:\n",
    "        if state in counts:\n",
    "            res = counts[state]\n",
    "            break\n",
    "    return len(counts) == 1 and res == shots and testValidateRulesB()\n",
    "\n",
    "testXOracleB()"
   ]
  },
  {
   "cell_type": "code",
   "execution_count": null,
   "id": "3ce6ca08",
   "metadata": {},
   "outputs": [],
   "source": [
    "def testValidateRulesB():\n",
    "    qc_i = whats_in_box_b(0)\n",
    "    qc_x = whats_in_box_b(0.3)\n",
    "    qc_y = whats_in_box_b(0.6)\n",
    "    qc_z = whats_in_box_b(1)\n",
    "    qcs = [qc_i, qc_x, qc_y, qc_z]\n",
    "    gates = ['i','x','y','z']            \n",
    "    for i,a in enumerate(qcs):\n",
    "        for j,b in enumerate(qcs):\n",
    "            if i == j:\n",
    "                continue\n",
    "            elif abs(len(a.count_ops()) - len(b.count_ops())) > 1:\n",
    "                return False\n",
    "            for ka, va in a.count_ops().items():\n",
    "                if ka in b.count_ops():\n",
    "                    if abs(b.count_ops()[ka] - va) > 0 and (ka != gates[i]):\n",
    "                        return False           \n",
    "    return True\n",
    "\n",
    "def testYOracleB():\n",
    "    sim = BasicAer.get_backend(\"qasm_simulator\")\n",
    "    shots = 10\n",
    "    qc = whats_in_box_b(1)\n",
    "    job = execute(qc, sim, shots=shots)\n",
    "    counts = job.result().get_counts()\n",
    "    res = -1\n",
    "    for state in ['00','01','10','11']:\n",
    "        if state in counts:\n",
    "            res = counts[state]\n",
    "            break\n",
    "    return len(counts) == 1 and res == shots and testValidateRulesB()\n",
    "\n",
    "testYOracleB()"
   ]
  },
  {
   "cell_type": "code",
   "execution_count": 30,
   "id": "8c030682",
   "metadata": {},
   "outputs": [
    {
     "data": {
      "text/plain": [
       "True"
      ]
     },
     "execution_count": 30,
     "metadata": {},
     "output_type": "execute_result"
    }
   ],
   "source": [
    "def testValidateRulesB():\n",
    "    qc_i = whats_in_box_b(0)\n",
    "    qc_x = whats_in_box_b(0.3)\n",
    "    qc_y = whats_in_box_b(0.6)\n",
    "    qc_z = whats_in_box_b(1)\n",
    "    qcs = [qc_i, qc_x, qc_y, qc_z]\n",
    "    gates = ['i','x','y','z']            \n",
    "    for i,a in enumerate(qcs):\n",
    "        for j,b in enumerate(qcs):\n",
    "            if i == j:\n",
    "                continue\n",
    "            elif abs(len(a.count_ops()) - len(b.count_ops())) > 1:\n",
    "                return False\n",
    "            for ka, va in a.count_ops().items():\n",
    "                if ka in b.count_ops():\n",
    "                    if abs(b.count_ops()[ka] - va) > 0 and (ka != gates[i]):\n",
    "                        return False           \n",
    "    return True\n",
    "\n",
    "def testZOracleB():\n",
    "    sim = BasicAer.get_backend(\"qasm_simulator\")\n",
    "    shots = 10\n",
    "    qc = whats_in_box_b(1)\n",
    "    job = execute(qc, sim, shots=shots)\n",
    "    counts = job.result().get_counts()\n",
    "    res = -1\n",
    "    for state in ['00','01','10','11']:\n",
    "        if state in counts:\n",
    "            res = counts[state]\n",
    "            break\n",
    "    return len(counts) == 1 and res == shots and testValidateRulesB()\n",
    "\n",
    "testZOracleB()"
   ]
  },
  {
   "cell_type": "code",
   "execution_count": 31,
   "id": "b0d03c49",
   "metadata": {},
   "outputs": [
    {
     "data": {
      "text/plain": [
       "True"
      ]
     },
     "execution_count": 31,
     "metadata": {},
     "output_type": "execute_result"
    }
   ],
   "source": [
    "def testValidateRulesB():\n",
    "    qc_i = whats_in_box_b(0)\n",
    "    qc_x = whats_in_box_b(0.3)\n",
    "    qc_y = whats_in_box_b(0.6)\n",
    "    qc_z = whats_in_box_b(1)\n",
    "    qcs = [qc_i, qc_x, qc_y, qc_z]\n",
    "    gates = ['i','x','y','z']            \n",
    "    for i,a in enumerate(qcs):\n",
    "        for j,b in enumerate(qcs):\n",
    "            if i == j:\n",
    "                continue\n",
    "            elif abs(len(a.count_ops()) - len(b.count_ops())) > 1:\n",
    "                return False\n",
    "            for ka, va in a.count_ops().items():\n",
    "                if ka in b.count_ops():\n",
    "                    if abs(b.count_ops()[ka] - va) > 0 and (ka != gates[i]):\n",
    "                        return False           \n",
    "    return True\n",
    "\n",
    "def testIOracleB():\n",
    "    sim = BasicAer.get_backend(\"qasm_simulator\")\n",
    "    shots = 10\n",
    "    qc = whats_in_box_b(0)\n",
    "    job = execute(qc, sim, shots=shots)\n",
    "    counts = job.result().get_counts()\n",
    "    res = -1\n",
    "    for state in ['00','01','10','11']:\n",
    "        if state in counts:\n",
    "            res = counts[state]\n",
    "            break\n",
    "    return len(counts) == 1 and res == shots and testValidateRulesB()\n",
    "\n",
    "def testXOracleB():\n",
    "    sim = BasicAer.get_backend(\"qasm_simulator\")\n",
    "    shots = 10\n",
    "    qc = whats_in_box_b(0.3)\n",
    "    job = execute(qc, sim, shots=shots)\n",
    "    counts = job.result().get_counts()\n",
    "    res = -1\n",
    "    for state in ['00','01','10','11']:\n",
    "        if state in counts:\n",
    "            res = counts[state]\n",
    "            break\n",
    "    return len(counts) == 1 and res == shots and testValidateRulesB()\n",
    "\n",
    "def testYOracleB():\n",
    "    sim = BasicAer.get_backend(\"qasm_simulator\")\n",
    "    shots = 10\n",
    "    qc = whats_in_box_b(1)\n",
    "    job = execute(qc, sim, shots=shots)\n",
    "    counts = job.result().get_counts()\n",
    "    res = -1\n",
    "    for state in ['00','01','10','11']:\n",
    "        if state in counts:\n",
    "            res = counts[state]\n",
    "            break\n",
    "    return len(counts) == 1 and res == shots and testValidateRulesB()\n",
    "\n",
    "def testZOracleB():\n",
    "    sim = BasicAer.get_backend(\"qasm_simulator\")\n",
    "    shots = 10\n",
    "    qc = whats_in_box_b(1)\n",
    "    job = execute(qc, sim, shots=shots)\n",
    "    counts = job.result().get_counts()\n",
    "    res = -1\n",
    "    for state in ['00','01','10','11']:\n",
    "        if state in counts:\n",
    "            res = counts[state]\n",
    "            break\n",
    "    return len(counts) == 1 and res == shots and testValidateRulesB()\n",
    "\n",
    "def testMixedOracleB():\n",
    "    passing_all = all([\n",
    "        testIOracleB() and \n",
    "        testXOracleB() and\n",
    "        testYOracleB() and\n",
    "        testZOracleB() \n",
    "        for i in range(3)])\n",
    "    if not passing_all:\n",
    "        return False\n",
    "    shots = 50\n",
    "    sim = BasicAer.get_backend(\"qasm_simulator\")\n",
    "    qc_i = whats_in_box_b(0)\n",
    "    qc_x = whats_in_box_b(0.3)\n",
    "    qc_y = whats_in_box_b(0.6)\n",
    "    qc_z = whats_in_box_b(1)\n",
    "    qcs = [qc_i, qc_x, qc_y, qc_z]\n",
    "    states = []\n",
    "    \n",
    "    for i, qc in enumerate(qcs):\n",
    "        job = execute(qc, sim, shots=shots)\n",
    "        counts = job.result().get_counts()\n",
    "        for state in ['00','01','10','11']:\n",
    "            if state in counts:\n",
    "                states.append(state)\n",
    "                break\n",
    "    # check if the states returned for each gate are unique\n",
    "    return len(set(states)) == len(states)\n",
    "\n",
    "testMixedOracleB()"
   ]
  },
  {
   "cell_type": "raw",
   "id": "249581aa",
   "metadata": {},
   "source": [
    "# END TESTS"
   ]
  },
  {
   "cell_type": "raw",
   "id": "642bed99",
   "metadata": {},
   "source": [
    "# END QUESTION"
   ]
  },
  {
   "cell_type": "raw",
   "id": "9efa2b46",
   "metadata": {},
   "source": [
    "# BEGIN QUESTION\n",
    "name: Task 4A\n",
    "points: 1\n",
    "manual: false"
   ]
  },
  {
   "cell_type": "markdown",
   "id": "b5ea42b2",
   "metadata": {},
   "source": [
    "#### Task 4 (4A, 4B) - Teleportation\n",
    "In lecture 10, we discussed how states may be sent between Alice and Bob even when they are separated by an arbitrary distance using the power of teleportation. We'll revisit that experiment, but in Task 3, we'll start with a different bell state. Specifically, the EPR pair will be created as $|\\psi_A\\psi_B\\rangle=\\frac{|00\\rangle+|11\\rangle}{\\sqrt{2}}$. \n",
    "\n",
    "#### Task 4A\n",
    "Given partial circuitry for teleportation, your task is to play the role of Bob and apply the correct transformations to recover the states sent by Alice. Fill in `bobs_operations` below with the logic necessary to recover Alice's teleported state.\n",
    "\n",
    "**Hint**: Take a look at Qiskit's [c_if gate](https://qiskit.org/documentation/stubs/qiskit.circuit.Gate.c_if.html#qiskit-circuit-gate-c-if)."
   ]
  },
  {
   "cell_type": "raw",
   "id": "0995aec9",
   "metadata": {},
   "source": [
    "# BEGIN SOLUTION"
   ]
  },
  {
   "cell_type": "code",
   "execution_count": 51,
   "id": "2de44052",
   "metadata": {},
   "outputs": [
    {
     "ename": "CircuitError",
     "evalue": "'c_if must be used with a classical register or classical bit'",
     "output_type": "error",
     "traceback": [
      "\u001b[0;31m---------------------------------------------------------------------------\u001b[0m",
      "\u001b[0;31mCircuitError\u001b[0m                              Traceback (most recent call last)",
      "\u001b[0;32m<ipython-input-51-835a380240f6>\u001b[0m in \u001b[0;36m<module>\u001b[0;34m\u001b[0m\n\u001b[1;32m     31\u001b[0m     \u001b[0;32mreturn\u001b[0m \u001b[0mqc\u001b[0m\u001b[0;34m\u001b[0m\u001b[0m\n\u001b[1;32m     32\u001b[0m \u001b[0;34m\u001b[0m\u001b[0m\n\u001b[0;32m---> 33\u001b[0;31m \u001b[0mteleport\u001b[0m\u001b[0;34m(\u001b[0m\u001b[0;34m)\u001b[0m\u001b[0;34m.\u001b[0m\u001b[0mdraw\u001b[0m\u001b[0;34m(\u001b[0m\u001b[0moutput\u001b[0m\u001b[0;34m=\u001b[0m\u001b[0;34m'mpl'\u001b[0m\u001b[0;34m)\u001b[0m\u001b[0;34m\u001b[0m\u001b[0m\n\u001b[0m",
      "\u001b[0;32m<ipython-input-51-835a380240f6>\u001b[0m in \u001b[0;36mteleport\u001b[0;34m(initial_state)\u001b[0m\n\u001b[1;32m     18\u001b[0m     \u001b[0mqc\u001b[0m\u001b[0;34m.\u001b[0m\u001b[0mbarrier\u001b[0m\u001b[0;34m(\u001b[0m\u001b[0;34m)\u001b[0m\u001b[0;34m\u001b[0m\u001b[0m\n\u001b[1;32m     19\u001b[0m     \u001b[0;31m# Bob performs conditional operations based on classical bits\u001b[0m\u001b[0;34m\u001b[0m\u001b[0;34m\u001b[0m\u001b[0m\n\u001b[0;32m---> 20\u001b[0;31m     \u001b[0mqc\u001b[0m \u001b[0;34m=\u001b[0m \u001b[0mbobs_operations\u001b[0m\u001b[0;34m(\u001b[0m\u001b[0mqc\u001b[0m\u001b[0;34m)\u001b[0m\u001b[0;34m\u001b[0m\u001b[0m\n\u001b[0m\u001b[1;32m     21\u001b[0m     \u001b[0mqc\u001b[0m\u001b[0;34m.\u001b[0m\u001b[0mbarrier\u001b[0m\u001b[0;34m(\u001b[0m\u001b[0;34m)\u001b[0m\u001b[0;34m\u001b[0m\u001b[0m\n\u001b[1;32m     22\u001b[0m     \u001b[0;31m# Measurement on Bob's transformed state, which should be the initial_state by now\u001b[0m\u001b[0;34m\u001b[0m\u001b[0;34m\u001b[0m\u001b[0m\n",
      "\u001b[0;32m<ipython-input-51-835a380240f6>\u001b[0m in \u001b[0;36mbobs_operations\u001b[0;34m(qc)\u001b[0m\n\u001b[1;32m     26\u001b[0m \u001b[0;32mdef\u001b[0m \u001b[0mbobs_operations\u001b[0m\u001b[0;34m(\u001b[0m\u001b[0mqc\u001b[0m\u001b[0;34m)\u001b[0m\u001b[0;34m:\u001b[0m\u001b[0;34m\u001b[0m\u001b[0m\n\u001b[1;32m     27\u001b[0m     \u001b[0;31m# BEGIN SOLUTION\u001b[0m\u001b[0;34m\u001b[0m\u001b[0;34m\u001b[0m\u001b[0m\n\u001b[0;32m---> 28\u001b[0;31m     \u001b[0mqc\u001b[0m\u001b[0;34m.\u001b[0m\u001b[0mx\u001b[0m\u001b[0;34m(\u001b[0m\u001b[0;36m2\u001b[0m\u001b[0;34m)\u001b[0m\u001b[0;34m.\u001b[0m\u001b[0mc_if\u001b[0m\u001b[0;34m(\u001b[0m\u001b[0;36m0\u001b[0m\u001b[0;34m,\u001b[0m \u001b[0;36m1\u001b[0m\u001b[0;34m)\u001b[0m\u001b[0;34m\u001b[0m\u001b[0m\n\u001b[0m\u001b[1;32m     29\u001b[0m     \u001b[0mqc\u001b[0m\u001b[0;34m.\u001b[0m\u001b[0mz\u001b[0m\u001b[0;34m(\u001b[0m\u001b[0;36m2\u001b[0m\u001b[0;34m)\u001b[0m\u001b[0;34m.\u001b[0m\u001b[0mc_if\u001b[0m\u001b[0;34m(\u001b[0m\u001b[0;36m1\u001b[0m\u001b[0;34m,\u001b[0m \u001b[0;36m1\u001b[0m\u001b[0;34m)\u001b[0m\u001b[0;34m\u001b[0m\u001b[0m\n\u001b[1;32m     30\u001b[0m     \u001b[0;31m# END SOLUTION\u001b[0m\u001b[0;34m\u001b[0m\u001b[0;34m\u001b[0m\u001b[0m\n",
      "\u001b[0;32m~/opt/miniconda3/envs/cse468/lib/python3.7/site-packages/qiskit/circuit/instructionset.py\u001b[0m in \u001b[0;36mc_if\u001b[0;34m(self, classical, val)\u001b[0m\n\u001b[1;32m     56\u001b[0m         \u001b[0;34m\"\"\"Add condition on classical register to all instructions.\"\"\"\u001b[0m\u001b[0;34m\u001b[0m\u001b[0m\n\u001b[1;32m     57\u001b[0m         \u001b[0;32mfor\u001b[0m \u001b[0mgate\u001b[0m \u001b[0;32min\u001b[0m \u001b[0mself\u001b[0m\u001b[0;34m.\u001b[0m\u001b[0minstructions\u001b[0m\u001b[0;34m:\u001b[0m\u001b[0;34m\u001b[0m\u001b[0m\n\u001b[0;32m---> 58\u001b[0;31m             \u001b[0mgate\u001b[0m\u001b[0;34m.\u001b[0m\u001b[0mc_if\u001b[0m\u001b[0;34m(\u001b[0m\u001b[0mclassical\u001b[0m\u001b[0;34m,\u001b[0m \u001b[0mval\u001b[0m\u001b[0;34m)\u001b[0m\u001b[0;34m\u001b[0m\u001b[0m\n\u001b[0m\u001b[1;32m     59\u001b[0m         \u001b[0;32mreturn\u001b[0m \u001b[0mself\u001b[0m\u001b[0;34m\u001b[0m\u001b[0m\n",
      "\u001b[0;32m~/opt/miniconda3/envs/cse468/lib/python3.7/site-packages/qiskit/circuit/instruction.py\u001b[0m in \u001b[0;36mc_if\u001b[0;34m(self, classical, val)\u001b[0m\n\u001b[1;32m    396\u001b[0m         \u001b[0;34m\"\"\"Add classical condition on register or cbit classical and value val.\"\"\"\u001b[0m\u001b[0;34m\u001b[0m\u001b[0m\n\u001b[1;32m    397\u001b[0m         \u001b[0;32mif\u001b[0m \u001b[0;32mnot\u001b[0m \u001b[0misinstance\u001b[0m\u001b[0;34m(\u001b[0m\u001b[0mclassical\u001b[0m\u001b[0;34m,\u001b[0m \u001b[0;34m(\u001b[0m\u001b[0mClassicalRegister\u001b[0m\u001b[0;34m,\u001b[0m \u001b[0mClbit\u001b[0m\u001b[0;34m)\u001b[0m\u001b[0;34m)\u001b[0m\u001b[0;34m:\u001b[0m\u001b[0;34m\u001b[0m\u001b[0m\n\u001b[0;32m--> 398\u001b[0;31m             \u001b[0;32mraise\u001b[0m \u001b[0mCircuitError\u001b[0m\u001b[0;34m(\u001b[0m\u001b[0;34m\"c_if must be used with a classical register or classical bit\"\u001b[0m\u001b[0;34m)\u001b[0m\u001b[0;34m\u001b[0m\u001b[0m\n\u001b[0m\u001b[1;32m    399\u001b[0m         \u001b[0;32mif\u001b[0m \u001b[0mval\u001b[0m \u001b[0;34m<\u001b[0m \u001b[0;36m0\u001b[0m\u001b[0;34m:\u001b[0m\u001b[0;34m\u001b[0m\u001b[0m\n\u001b[1;32m    400\u001b[0m             \u001b[0;32mraise\u001b[0m \u001b[0mCircuitError\u001b[0m\u001b[0;34m(\u001b[0m\u001b[0;34m\"condition value should be non-negative\"\u001b[0m\u001b[0;34m)\u001b[0m\u001b[0;34m\u001b[0m\u001b[0m\n",
      "\u001b[0;31mCircuitError\u001b[0m: 'c_if must be used with a classical register or classical bit'"
     ]
    }
   ],
   "source": [
    "def teleport(initial_state=[1,0]):\n",
    "    # from lecture\n",
    "    qc = QuantumCircuit(3,3)\n",
    "    # prepare state to send\n",
    "    qc.initialize(initial_state, 0)\n",
    "    qc.barrier()\n",
    "    # create EPR pair between Alice and Bob\n",
    "    qc.h(1)\n",
    "    qc.cx(1,2)\n",
    "    qc.barrier()\n",
    "    # Alice transforms for measurement\n",
    "    qc.cx(1,0)\n",
    "    qc.h(0)\n",
    "    qc.barrier()\n",
    "    # Alice performs measurements and sends classical bit values to bob\n",
    "    qc.measure(0,0)\n",
    "    qc.measure(1,1)\n",
    "    qc.barrier()\n",
    "    # Bob performs conditional operations based on classical bits\n",
    "    qc = bobs_operations(qc)\n",
    "    qc.barrier()\n",
    "    # Measurement on Bob's transformed state, which should be the initial_state by now\n",
    "    qc.measure(2,2)\n",
    "    return qc\n",
    "\n",
    "def bobs_operations(qc):\n",
    "    # BEGIN SOLUTION\n",
    "    qc.x(2).c_if(0, 1)\n",
    "    qc.z(2).c_if(1, 1)\n",
    "    # END SOLUTION\n",
    "    return qc\n",
    "\n",
    "teleport().draw(output='mpl')"
   ]
  },
  {
   "cell_type": "code",
   "execution_count": 50,
   "id": "dd755815",
   "metadata": {},
   "outputs": [
    {
     "name": "stderr",
     "output_type": "stream",
     "text": [
      "ibmqfactory.load_account:WARNING:2021-12-28 09:52:57,852: Credentials are already in use. The existing account in the session will be replaced.\n"
     ]
    },
    {
     "data": {
      "image/png": "[encoded data removed]",
      "text/plain": [
       "<Figure size 1142.39x385.28 with 1 Axes>"
      ]
     },
     "execution_count": 50,
     "metadata": {},
     "output_type": "execute_result"
    }
   ],
   "source": [
    "IBMQ.load_account()\n",
    "transpile(teleport(), IBMQ.get_provider(hub='ibm-q').get_backend('ibmq_lima')).draw(output='mpl')"
   ]
  },
  {
   "cell_type": "raw",
   "id": "bdca0fe3",
   "metadata": {},
   "source": [
    "# END SOLUTION"
   ]
  },
  {
   "cell_type": "raw",
   "id": "9136f609",
   "metadata": {},
   "source": [
    "# BEGIN TESTS"
   ]
  },
  {
   "cell_type": "raw",
   "id": "c0daf15f",
   "metadata": {},
   "source": [
    "# END TESTS"
   ]
  },
  {
   "cell_type": "raw",
   "id": "07f87f69",
   "metadata": {},
   "source": [
    "# END QUESTION"
   ]
  },
  {
   "cell_type": "raw",
   "id": "15f13ee0",
   "metadata": {},
   "source": [
    "# BEGIN QUESTION\n",
    "name: Task 4B\n",
    "points: 1\n",
    "manual: true"
   ]
  },
  {
   "cell_type": "markdown",
   "id": "3707423b",
   "metadata": {},
   "source": [
    "#### Task 4B\n",
    "So your circuit passes the tests but what fun is that? Let's verify for ourselves that teleportation is actually occuring.\n",
    "\n",
    "**Hint**: Take a look at Qiskit's [c_if gate](https://qiskit.org/documentation/stubs/qiskit.circuit.Gate.c_if.html#qiskit-circuit-gate-c-if)."
   ]
  },
  {
   "cell_type": "markdown",
   "id": "20c65af4",
   "metadata": {},
   "source": [
    "That's all for today.\n",
    "\n",
    "Next time: quantum games!"
   ]
  }
 ],
 "metadata": {
  "kernelspec": {
   "display_name": "Python 3",
   "language": "python",
   "name": "python3"
  },
  "language_info": {
   "codemirror_mode": {
    "name": "ipython",
    "version": 3
   },
   "file_extension": ".py",
   "mimetype": "text/x-python",
   "name": "python",
   "nbconvert_exporter": "python",
   "pygments_lexer": "ipython3",
   "version": "3.7.0"
  }
 },
 "nbformat": 4,
 "nbformat_minor": 5
}
