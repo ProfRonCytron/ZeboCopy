{
 "cells": [
  {
   "cell_type": "raw",
   "id": "f5cdd943",
   "metadata": {},
   "source": [
    "# ASSIGNMENT CONFIG\n",
    "generate:\n",
    "    token: 8654j6ett3xjTQHqUK3Jyw                  # required\n",
    "    course_id: 280928              # required\n",
    "    assignment_id: 1733089          # required\n",
    "    filtering: true              # true is the default  \n",
    "    pagebreaks: true\n",
    "    show_stdout: true\n",
    "    show_hidden: true\n",
    "requirements: # for building the autograder, in addition to the stuff required by otter\n",
    "    - qiskit\n",
    "    - pylatexenc\n",
    "    - git+https://github.com/qiskit-community/qiskit-textbook.git#egg=qiskit_textbook&subdirectory=qiskit-textbook-src\n",
    "export_cell:                     # whether to include an Otter export cell in the output notebooks\n",
    "    instructions: ''             # additional submission instructions to include in the export cell\n",
    "    pdf: false                   # whether to include a PDF of the notebook in the generated zip file\n",
    "    filtering: true              # whether the generated PDF should be filtered\n",
    "    pagebreaks: true             # whether to include page breaks in the PDF\n",
    "    run_tests: false             # whether to run student submissions against local tests during export\n",
    "template_pdf: true\n",
    "solutions_pdf: true"
   ]
  },
  {
   "cell_type": "markdown",
   "id": "99e4fe30",
   "metadata": {},
   "source": [
    "# Qiskit Assignment 5\n",
    "## Quantum Algorithms and Bad Actors\n",
    "\n",
    "### Learning Objectives\n",
    "1. Take a close look at phase kickback\n",
    "2. Solve an application of Deutsch–Jozsa\n",
    "\n",
    "### Resources\n",
    "Qiskit assignments are designed to be collaborative and open internet. Where possible, links to useful documentation will be embedded within questions. You're free to discuss these tasks with TAs and peers, but do write your own solutions. For some questions, there may be additional restrictions on the ways you can solve them. To ensure compliance with course policies and assignment instructions, we reserve the right to inspect your code."
   ]
  },
  {
   "cell_type": "markdown",
   "id": "0fbd44da",
   "metadata": {},
   "source": [
    "**NAME**: REPLACE WITH YOUR NAME\n",
    "\n",
    "**STUDENT ID**: REPLACE WITH YOUR STUDENT ID"
   ]
  },
  {
   "cell_type": "code",
   "execution_count": null,
   "id": "legitimate-explosion",
   "metadata": {},
   "outputs": [],
   "source": [
    "# Import Qiskit and other needed packages\n",
    "from qiskit import *\n",
    "from qiskit.visualization import plot_histogram\n",
    "from qiskit.quantum_info import Statevector\n",
    "import numpy as np\n",
    "import pprint"
   ]
  },
  {
   "cell_type": "raw",
   "id": "f1071197",
   "metadata": {},
   "source": [
    "# BEGIN QUESTION\n",
    "name: Task 1\n",
    "points: 20\n",
    "manual: false"
   ]
  },
  {
   "cell_type": "markdown",
   "id": "2b794003",
   "metadata": {},
   "source": [
    "#### Task 1 - Phase Kickback Task\n",
    "Task instructions go here..."
   ]
  },
  {
   "cell_type": "raw",
   "id": "1b5d3bf9",
   "metadata": {},
   "source": [
    "# BEGIN SOLUTION"
   ]
  },
  {
   "cell_type": "code",
   "execution_count": null,
   "id": "c4fd91b6",
   "metadata": {},
   "outputs": [],
   "source": [
    "def square(x):\n",
    "    # BEGIN SOLUTION\n",
    "    y = x*x\n",
    "    return y\n",
    "    # END SOLUTION"
   ]
  },
  {
   "cell_type": "raw",
   "id": "85cd2fcc",
   "metadata": {},
   "source": [
    "# END SOLUTION"
   ]
  },
  {
   "cell_type": "raw",
   "id": "b9e23888",
   "metadata": {},
   "source": [
    "# BEGIN TESTS"
   ]
  },
  {
   "cell_type": "code",
   "execution_count": null,
   "id": "36b5c714",
   "metadata": {},
   "outputs": [],
   "source": [
    "square(5) == 25"
   ]
  },
  {
   "cell_type": "code",
   "execution_count": null,
   "id": "4e7c6c32",
   "metadata": {},
   "outputs": [],
   "source": [
    "square(3)== 9"
   ]
  },
  {
   "cell_type": "raw",
   "id": "773c9368",
   "metadata": {},
   "source": [
    "# END TESTS"
   ]
  },
  {
   "cell_type": "raw",
   "id": "dc8b3951",
   "metadata": {},
   "source": [
    "# END QUESTION"
   ]
  },
  {
   "cell_type": "raw",
   "id": "3eb3026b",
   "metadata": {},
   "source": [
    "# BEGIN QUESTION\n",
    "name: Task 2\n",
    "points: 40\n",
    "manual: false"
   ]
  },
  {
   "cell_type": "markdown",
   "id": "95f4af89",
   "metadata": {},
   "source": [
    "#### Task 2 - Dishonest Deutsch–Jozsa\n",
    "Task instructions go here..."
   ]
  },
  {
   "cell_type": "raw",
   "id": "89566fe3",
   "metadata": {},
   "source": [
    "# BEGIN SOLUTION"
   ]
  },
  {
   "cell_type": "code",
   "execution_count": null,
   "id": "786d2fe0",
   "metadata": {},
   "outputs": [],
   "source": [
    "def square(x):\n",
    "    # BEGIN SOLUTION\n",
    "    y = x*x\n",
    "    return y\n",
    "    # END SOLUTION"
   ]
  },
  {
   "cell_type": "raw",
   "id": "c4361263",
   "metadata": {},
   "source": [
    "# END SOLUTION"
   ]
  },
  {
   "cell_type": "raw",
   "id": "5a492e31",
   "metadata": {},
   "source": [
    "# BEGIN TESTS"
   ]
  },
  {
   "cell_type": "code",
   "execution_count": null,
   "id": "d205668f",
   "metadata": {},
   "outputs": [],
   "source": [
    "square(5) == 25"
   ]
  },
  {
   "cell_type": "code",
   "execution_count": null,
   "id": "c060a65d",
   "metadata": {},
   "outputs": [],
   "source": [
    "square(3)== 9"
   ]
  },
  {
   "cell_type": "raw",
   "id": "004401fc",
   "metadata": {},
   "source": [
    "# END TESTS"
   ]
  },
  {
   "cell_type": "raw",
   "id": "97e6d1d4",
   "metadata": {},
   "source": [
    "# END QUESTION"
   ]
  },
  {
   "cell_type": "raw",
   "id": "c6fd9f84",
   "metadata": {},
   "source": [
    "# BEGIN QUESTION\n",
    "name: Task 3\n",
    "points: 40\n",
    "manual: "
   ]
  },
  {
   "cell_type": "markdown",
   "id": "e8dce962",
   "metadata": {},
   "source": [
    "#### Task 3 - Running on IBMQ\n",
    "Task instructions go here..."
   ]
  },
  {
   "cell_type": "raw",
   "id": "2b17f3f0",
   "metadata": {},
   "source": [
    "# BEGIN SOLUTION"
   ]
  },
  {
   "cell_type": "code",
   "execution_count": null,
   "id": "01e38a98",
   "metadata": {},
   "outputs": [],
   "source": [
    "def square(x):\n",
    "    # BEGIN SOLUTION\n",
    "    y = x*x\n",
    "    return y\n",
    "    # END SOLUTION"
   ]
  },
  {
   "cell_type": "raw",
   "id": "b3360431",
   "metadata": {},
   "source": [
    "# END SOLUTION"
   ]
  },
  {
   "cell_type": "raw",
   "id": "d846ae06",
   "metadata": {},
   "source": [
    "# BEGIN TESTS"
   ]
  },
  {
   "cell_type": "code",
   "execution_count": null,
   "id": "7f3bce45",
   "metadata": {},
   "outputs": [],
   "source": [
    "square(5) == 25"
   ]
  },
  {
   "cell_type": "code",
   "execution_count": null,
   "id": "d41202dc",
   "metadata": {},
   "outputs": [],
   "source": [
    "square(3)== 9"
   ]
  },
  {
   "cell_type": "raw",
   "id": "b1da9de1",
   "metadata": {},
   "source": [
    "# END TESTS"
   ]
  },
  {
   "cell_type": "raw",
   "id": "860b1c67",
   "metadata": {},
   "source": [
    "# END QUESTION"
   ]
  },
  {
   "cell_type": "raw",
   "id": "0c21c939",
   "metadata": {},
   "source": [
    "# BEGIN QUESTION\n",
    "name: Task 4\n",
    "points: 20\n",
    "manual: true"
   ]
  },
  {
   "cell_type": "markdown",
   "id": "d00cb17c",
   "metadata": {},
   "source": [
    "#### Task 4 - Analysis\n",
    "Task instructions go here..."
   ]
  },
  {
   "cell_type": "raw",
   "id": "b03a62a1",
   "metadata": {},
   "source": [
    "# BEGIN SOLUTION"
   ]
  },
  {
   "cell_type": "markdown",
   "id": "7c9b1f12",
   "metadata": {},
   "source": [
    "This text will be automatically replaced by otter with a cell for students to fill in."
   ]
  },
  {
   "cell_type": "raw",
   "id": "09e64423",
   "metadata": {},
   "source": [
    "# END SOLUTION"
   ]
  },
  {
   "cell_type": "raw",
   "id": "b91932bf",
   "metadata": {},
   "source": [
    "# END QUESTION"
   ]
  }
 ],
 "metadata": {
  "kernelspec": {
   "display_name": "Python 3",
   "language": "python",
   "name": "python3"
  },
  "language_info": {
   "codemirror_mode": {
    "name": "ipython",
    "version": 3
   },
   "file_extension": ".py",
   "mimetype": "text/x-python",
   "name": "python",
   "nbconvert_exporter": "python",
   "pygments_lexer": "ipython3",
   "version": "3.7.0"
  }
 },
 "nbformat": 4,
 "nbformat_minor": 5
}
