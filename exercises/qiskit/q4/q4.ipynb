{
 "cells": [
  {
   "cell_type": "raw",
   "id": "f5cdd943",
   "metadata": {},
   "source": [
    "# ASSIGNMENT CONFIG\n",
    "generate:\n",
    "    token: 8654j6ett3xjTQHqUK3Jyw                  # required\n",
    "    course_id: 280928              # required\n",
    "    assignment_id: 1733089          # required\n",
    "    filtering: true              # true is the default  \n",
    "    pagebreaks: true\n",
    "    show_stdout: true\n",
    "    show_hidden: true\n",
    "requirements: # for building the autograder, in addition to the stuff required by otter\n",
    "    - qiskit\n",
    "    - pylatexenc\n",
    "    - git+https://github.com/qiskit-community/qiskit-textbook.git#egg=qiskit_textbook&subdirectory=qiskit-textbook-src\n",
    "export_cell:                     # whether to include an Otter export cell in the output notebooks\n",
    "    instructions: ''             # additional submission instructions to include in the export cell\n",
    "    pdf: false                   # whether to include a PDF of the notebook in the generated zip file\n",
    "    filtering: true              # whether the generated PDF should be filtered\n",
    "    pagebreaks: true             # whether to include page breaks in the PDF\n",
    "    run_tests: false             # whether to run student submissions against local tests during export\n",
    "template_pdf: true\n",
    "solutions_pdf: true"
   ]
  },
  {
   "cell_type": "markdown",
   "id": "99e4fe30",
   "metadata": {},
   "source": [
    "# Qiskit Assignment 4\n",
    "## Deutsch-Jozsa \n",
    "\n",
    "### Learning Objectives\n",
    "1. Implement the Deustch-Jozsa oracle\n",
    "2. Run the DJ algorithm on a real quantum computer\n",
    "\n",
    "### Resources\n",
    "Qiskit assignments are designed to be collaborative and open internet. Where possible, links to useful documentation will be embedded within questions. You're free to discuss these tasks with TAs and peers, but do write your own solutions. For some questions, there may be additional restrictions on the ways you can solve them. To ensure compliance with course policies and assignment instructions, we reserve the right to inspect your code."
   ]
  },
  {
   "cell_type": "markdown",
   "id": "0fbd44da",
   "metadata": {},
   "source": [
    "**NAME**: REPLACE WITH YOUR NAME\n",
    "\n",
    "**STUDENT ID**: REPLACE WITH YOUR STUDENT ID"
   ]
  },
  {
   "cell_type": "code",
   "execution_count": 2,
   "id": "legitimate-explosion",
   "metadata": {},
   "outputs": [],
   "source": [
    "# Import Qiskit and other needed packages\n",
    "from qiskit import *\n",
    "from qiskit.visualization import plot_histogram\n",
    "from qiskit.quantum_info import Statevector\n",
    "import numpy as np\n",
    "import pprint"
   ]
  },
  {
   "cell_type": "raw",
   "id": "f1071197",
   "metadata": {},
   "source": [
    "# BEGIN QUESTION\n",
    "name: Task 1\n",
    "points: 20\n",
    "manual: false"
   ]
  },
  {
   "cell_type": "markdown",
   "id": "2b794003",
   "metadata": {},
   "source": [
    "#### Task 1 - Constant Function \n",
    "\n",
    "Finish the partial circuit below to implement a Deutsch-Josza oracle characterized by $f(x)=1$ for an `n`-bit input"
   ]
  },
  {
   "cell_type": "raw",
   "id": "1b5d3bf9",
   "metadata": {},
   "source": [
    "# BEGIN SOLUTION"
   ]
  },
  {
   "cell_type": "code",
   "execution_count": 22,
   "id": "c4fd91b6",
   "metadata": {},
   "outputs": [
    {
     "data": {
      "image/png": "[encoded data removed]",
      "text/plain": [
       "<Figure size 567.187x264.88 with 1 Axes>"
      ]
     },
     "execution_count": 22,
     "metadata": {},
     "output_type": "execute_result"
    }
   ],
   "source": [
    "def dj_constant_one(n):\n",
    "    qc = QuantumCircuit()\n",
    "    qc.add_register(QuantumRegister(n, 'x'))\n",
    "    qc.add_register(QuantumRegister(1, 'y'))\n",
    "    qc.add_register(ClassicalRegister(n, 'cr'))\n",
    "    \n",
    "    \n",
    "    # BEGIN SOLUTION\n",
    "    qc.x(n)\n",
    "    for i in range(n+1):\n",
    "        qc.h(i)\n",
    "    qc.barrier()\n",
    "    for i in range(n):\n",
    "        qc.id(i)\n",
    "    qc.x(n)\n",
    "    qc.barrier()\n",
    "    for i in range(n):\n",
    "        qc.h(i)\n",
    "        qc.measure(i,i)\n",
    "    # END SOLUTION\n",
    "    return qc\n",
    "\n",
    "dj_constant_one(2).draw(output='mpl')   "
   ]
  },
  {
   "cell_type": "raw",
   "id": "85cd2fcc",
   "metadata": {},
   "source": [
    "# END SOLUTION"
   ]
  },
  {
   "cell_type": "raw",
   "id": "b9e23888",
   "metadata": {},
   "source": [
    "# BEGIN TESTS"
   ]
  },
  {
   "cell_type": "code",
   "execution_count": 23,
   "id": "36b5c714",
   "metadata": {},
   "outputs": [
    {
     "data": {
      "text/plain": [
       "True"
      ]
     },
     "execution_count": 23,
     "metadata": {},
     "output_type": "execute_result"
    }
   ],
   "source": [
    "\"\"\" # BEGIN TEST CONFIG\n",
    "hidden: false\n",
    "points: 0\n",
    "failure_message: something looks wrong in the number of gates/measurements used. make sure you're implementing the correct constant function\n",
    "\"\"\" # END TEST CONFIG\n",
    "def test_fx_equals_1():\n",
    "    ops = dj_constant_one(11).count_ops()\n",
    "    h = ops['h'] == 23\n",
    "    x = ops['x'] == 2\n",
    "    m = ops['measure'] == 11\n",
    "    return h and x and m\n",
    "    \n",
    "test_fx_equals_1() == True"
   ]
  },
  {
   "cell_type": "code",
   "execution_count": 24,
   "id": "3e94ef45",
   "metadata": {},
   "outputs": [
    {
     "name": "stdout",
     "output_type": "stream",
     "text": [
      "{'0000': 1024}\n"
     ]
    }
   ],
   "source": [
    "\"\"\" # BEGIN TEST CONFIG\n",
    "hidden: false\n",
    "points: 0\n",
    "failure_message: circuit does not implement a constant oracle\n",
    "\"\"\" # END TEST CONFIG\n",
    "def test_constant_output():    \n",
    "    qasm_sim = BasicAer.get_backend(\"qasm_simulator\")\n",
    "    job = execute(dj_constant_one(4), qasm_sim)\n",
    "    counts = job.result().get_counts()\n",
    "    return len(counts) == 1 and counts['0000'] == 1024\n",
    "    \n",
    "test_constant_output() == True"
   ]
  },
  {
   "cell_type": "code",
   "execution_count": 25,
   "id": "f0681036",
   "metadata": {},
   "outputs": [
    {
     "data": {
      "text/plain": [
       "True"
      ]
     },
     "execution_count": 25,
     "metadata": {},
     "output_type": "execute_result"
    }
   ],
   "source": [
    "\"\"\" # BEGIN TEST CONFIG\n",
    "hidden: false\n",
    "points: 20\n",
    "failure_message: one of the above tests is failing\n",
    "\"\"\" # END TEST CONFIG\n",
    "\n",
    "def test_fx_equals_1():\n",
    "    ops = dj_constant_one(11).count_ops()\n",
    "    h = ops['h'] == 23\n",
    "    x = ops['x'] == 2\n",
    "    m = ops['measure'] == 11\n",
    "    return h and x and m\n",
    "\n",
    "def test_constant_output():    \n",
    "    qasm_sim = BasicAer.get_backend(\"qasm_simulator\")\n",
    "    job = execute(dj_constant_one(4), qasm_sim)\n",
    "    counts = job.result().get_counts()\n",
    "    return len(counts) == 1 and counts['0000'] == 1024\n",
    "\n",
    "def test_give_credit():\n",
    "    return test_fx_equals_1() and test_constant_output()\n",
    "\n",
    "test_give_credit() == True"
   ]
  },
  {
   "cell_type": "raw",
   "id": "773c9368",
   "metadata": {},
   "source": [
    "# END TESTS"
   ]
  },
  {
   "cell_type": "raw",
   "id": "dc8b3951",
   "metadata": {},
   "source": [
    "# END QUESTION"
   ]
  },
  {
   "cell_type": "raw",
   "id": "3eb3026b",
   "metadata": {},
   "source": [
    "# BEGIN QUESTION\n",
    "name: Task 2\n",
    "points: 40\n",
    "manual: false"
   ]
  },
  {
   "cell_type": "markdown",
   "id": "95f4af89",
   "metadata": {},
   "source": [
    "#### Task 2 - Dishonest Deutsch–Jozsa\n",
    "Task instructions go here..."
   ]
  },
  {
   "cell_type": "raw",
   "id": "89566fe3",
   "metadata": {},
   "source": [
    "# BEGIN SOLUTION"
   ]
  },
  {
   "cell_type": "code",
   "execution_count": null,
   "id": "786d2fe0",
   "metadata": {},
   "outputs": [],
   "source": [
    "def square(x):\n",
    "    # BEGIN SOLUTION\n",
    "    y = x*x\n",
    "    return y\n",
    "    # END SOLUTION"
   ]
  },
  {
   "cell_type": "raw",
   "id": "c4361263",
   "metadata": {},
   "source": [
    "# END SOLUTION"
   ]
  },
  {
   "cell_type": "raw",
   "id": "5a492e31",
   "metadata": {},
   "source": [
    "# BEGIN TESTS"
   ]
  },
  {
   "cell_type": "code",
   "execution_count": null,
   "id": "d205668f",
   "metadata": {},
   "outputs": [],
   "source": [
    "square(5) == 25"
   ]
  },
  {
   "cell_type": "code",
   "execution_count": null,
   "id": "c060a65d",
   "metadata": {},
   "outputs": [],
   "source": [
    "square(3)== 9"
   ]
  },
  {
   "cell_type": "raw",
   "id": "004401fc",
   "metadata": {},
   "source": [
    "# END TESTS"
   ]
  },
  {
   "cell_type": "raw",
   "id": "97e6d1d4",
   "metadata": {},
   "source": [
    "# END QUESTION"
   ]
  },
  {
   "cell_type": "raw",
   "id": "c6fd9f84",
   "metadata": {},
   "source": [
    "# BEGIN QUESTION\n",
    "name: Task 3\n",
    "points: 40\n",
    "manual: "
   ]
  },
  {
   "cell_type": "markdown",
   "id": "e8dce962",
   "metadata": {},
   "source": [
    "#### Task 3 - Running on IBMQ\n",
    "Task instructions go here..."
   ]
  },
  {
   "cell_type": "raw",
   "id": "2b17f3f0",
   "metadata": {},
   "source": [
    "# BEGIN SOLUTION"
   ]
  },
  {
   "cell_type": "code",
   "execution_count": null,
   "id": "01e38a98",
   "metadata": {},
   "outputs": [],
   "source": [
    "def square(x):\n",
    "    # BEGIN SOLUTION\n",
    "    y = x*x\n",
    "    return y\n",
    "    # END SOLUTION"
   ]
  },
  {
   "cell_type": "raw",
   "id": "b3360431",
   "metadata": {},
   "source": [
    "# END SOLUTION"
   ]
  },
  {
   "cell_type": "raw",
   "id": "d846ae06",
   "metadata": {},
   "source": [
    "# BEGIN TESTS"
   ]
  },
  {
   "cell_type": "code",
   "execution_count": null,
   "id": "7f3bce45",
   "metadata": {},
   "outputs": [],
   "source": [
    "square(5) == 25"
   ]
  },
  {
   "cell_type": "code",
   "execution_count": null,
   "id": "d41202dc",
   "metadata": {},
   "outputs": [],
   "source": [
    "square(3)== 9"
   ]
  },
  {
   "cell_type": "raw",
   "id": "b1da9de1",
   "metadata": {},
   "source": [
    "# END TESTS"
   ]
  },
  {
   "cell_type": "raw",
   "id": "860b1c67",
   "metadata": {},
   "source": [
    "# END QUESTION"
   ]
  },
  {
   "cell_type": "raw",
   "id": "0c21c939",
   "metadata": {},
   "source": [
    "# BEGIN QUESTION\n",
    "name: Task 4\n",
    "points: 20\n",
    "manual: true"
   ]
  },
  {
   "cell_type": "markdown",
   "id": "d00cb17c",
   "metadata": {},
   "source": [
    "#### Task 4 - Analysis\n",
    "Task instructions go here..."
   ]
  },
  {
   "cell_type": "raw",
   "id": "b03a62a1",
   "metadata": {},
   "source": [
    "# BEGIN SOLUTION"
   ]
  },
  {
   "cell_type": "markdown",
   "id": "7c9b1f12",
   "metadata": {},
   "source": [
    "This text will be automatically replaced by otter with a cell for students to fill in."
   ]
  },
  {
   "cell_type": "raw",
   "id": "09e64423",
   "metadata": {},
   "source": [
    "# END SOLUTION"
   ]
  },
  {
   "cell_type": "raw",
   "id": "b91932bf",
   "metadata": {},
   "source": [
    "# END QUESTION"
   ]
  }
 ],
 "metadata": {
  "kernelspec": {
   "display_name": "Python 3",
   "language": "python",
   "name": "python3"
  },
  "language_info": {
   "codemirror_mode": {
    "name": "ipython",
    "version": 3
   },
   "file_extension": ".py",
   "mimetype": "text/x-python",
   "name": "python",
   "nbconvert_exporter": "python",
   "pygments_lexer": "ipython3",
   "version": "3.7.0"
  }
 },
 "nbformat": 4,
 "nbformat_minor": 5
}
