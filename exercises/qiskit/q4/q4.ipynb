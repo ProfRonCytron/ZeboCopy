{
 "cells": [
  {
   "cell_type": "raw",
   "id": "f5cdd943",
   "metadata": {},
   "source": [
    "# ASSIGNMENT CONFIG\n",
    "generate:\n",
    "    token: 8654j6ett3xjTQHqUK3Jyw                  # required\n",
    "    course_id: 342915              # required\n",
    "    assignment_id: 1965196          # required\n",
    "    filtering: true              # true is the default  \n",
    "    pagebreaks: true\n",
    "    show_stdout: true\n",
    "    show_hidden: true\n",
    "requirements: # for building the autograder, in addition to the stuff required by otter\n",
    "    - qiskit==0.32.1\n",
    "    - pylatexenc\n",
    "    - git+https://github.com/qiskit-community/qiskit-textbook.git#egg=qiskit_textbook&subdirectory=qiskit-textbook-src\n",
    "export_cell:                     # whether to include an Otter export cell in the output notebooks\n",
    "    instructions: ''             # additional submission instructions to include in the export cell\n",
    "    pdf: false                   # whether to include a PDF of the notebook in the generated zip file\n",
    "    filtering: true              # whether the generated PDF should be filtered\n",
    "    pagebreaks: true             # whether to include page breaks in the PDF\n",
    "    run_tests: false             # whether to run student submissions against local tests during export\n",
    "template_pdf: true\n",
    "solutions_pdf: true"
   ]
  },
  {
   "cell_type": "markdown",
   "id": "99e4fe30",
   "metadata": {},
   "source": [
    "# Qiskit Assignment 4\n",
    "## Deutsch-Jozsa \n",
    "\n",
    "### Learning Objectives\n",
    "1. Implement a balanced Deustch-Jozsa oracle\n",
    "2. Analyze an oracle\n",
    "3. Run the algorithm on a quantum computer\n",
    "\n",
    "### Resources\n",
    "Qiskit assignments are designed to be collaborative and open internet. Where possible, links to useful documentation will be embedded within questions. You're free to discuss these tasks with TAs and peers, but do write your own solutions. For some questions, there may be additional restrictions on the ways you can solve them. To ensure compliance with course policies and assignment instructions, we reserve the right to inspect your code."
   ]
  },
  {
   "cell_type": "markdown",
   "id": "0fbd44da",
   "metadata": {},
   "source": [
    "**NAME**: REPLACE WITH YOUR NAME\n",
    "\n",
    "**STUDENT ID**: REPLACE WITH YOUR STUDENT ID"
   ]
  },
  {
   "cell_type": "code",
   "execution_count": 1,
   "id": "legitimate-explosion",
   "metadata": {},
   "outputs": [],
   "source": [
    "# Import Qiskit and other needed packages\n",
    "from qiskit import *\n",
    "from qiskit.visualization import plot_histogram\n",
    "from qiskit.quantum_info import Statevector\n",
    "import numpy as np\n",
    "import pprint"
   ]
  },
  {
   "cell_type": "raw",
   "id": "3eb3026b",
   "metadata": {},
   "source": [
    "# BEGIN QUESTION\n",
    "name: Task 1\n",
    "points: 30\n",
    "manual: false"
   ]
  },
  {
   "cell_type": "markdown",
   "id": "95f4af89",
   "metadata": {},
   "source": [
    "#### Task 1 - Balanced Oracle (30 pts)\n",
    "Return a Deutsch-Jozsa circuit as described in class from the following method such that\n",
    "- the output has `6` bits\n",
    "- the oracle is characterized by a balanced function\n",
    "- all amplitude in the resulting state is placed on the $|010010\\rangle$ term"
   ]
  },
  {
   "cell_type": "raw",
   "id": "89566fe3",
   "metadata": {},
   "source": [
    "# BEGIN SOLUTION"
   ]
  },
  {
   "cell_type": "code",
   "execution_count": 2,
   "id": "786d2fe0",
   "metadata": {},
   "outputs": [
    {
     "data": {
      "image/png": "[encoded data removed]",
      "text/plain": [
       "<Figure size 868.332x505.68 with 1 Axes>"
      ]
     },
     "execution_count": 2,
     "metadata": {},
     "output_type": "execute_result"
    }
   ],
   "source": [
    "def dj_balanced():\n",
    "    n = 6\n",
    "    # BEGIN SOLUTION\n",
    "    qc = QuantumCircuit()\n",
    "    qc.add_register(QuantumRegister(n, 'x'))\n",
    "    qc.add_register(QuantumRegister(1, 'y'))\n",
    "    qc.add_register(ClassicalRegister(n, 'cr'))\n",
    "\n",
    "    qc.x(n)\n",
    "    for i in range(n+1):\n",
    "        qc.h(i)\n",
    "        \n",
    "    qc.barrier()\n",
    "    \n",
    "    qc.cx(1,n)\n",
    "    qc.cx(4,n)\n",
    "        \n",
    "    qc.barrier()\n",
    "\n",
    "    for i in range(n):\n",
    "        qc.h(i)\n",
    "        qc.measure(i,i)\n",
    "    \n",
    "    # END SOLUTION\n",
    "    \n",
    "    return qc.reverse_bits()\n",
    "    \n",
    "dj_balanced().reverse_bits().draw(output='mpl')   "
   ]
  },
  {
   "cell_type": "raw",
   "id": "e0fd4e00",
   "metadata": {},
   "source": [
    "# END SOLUTION"
   ]
  },
  {
   "cell_type": "code",
   "execution_count": 3,
   "id": "229b29ad",
   "metadata": {},
   "outputs": [
    {
     "name": "stdout",
     "output_type": "stream",
     "text": [
      "State    Probability\n",
      "--------------------\n",
      "|010010> 100.0%\n"
     ]
    }
   ],
   "source": [
    "qasm_sim = BasicAer.get_backend(\"qasm_simulator\")\n",
    "job = execute(dj_balanced(), qasm_sim)\n",
    "counts = job.result().get_counts()\n",
    "print(\"State    Probability\")\n",
    "print(\"--------------------\")\n",
    "for state, count in sorted(counts.items(), key=lambda tup: tup[1], reverse=True):\n",
    "    print(\"|\"+state+\">\", str(count/1024*100)+\"%\")"
   ]
  },
  {
   "cell_type": "raw",
   "id": "5a492e31",
   "metadata": {},
   "source": [
    "# BEGIN TESTS"
   ]
  },
  {
   "cell_type": "code",
   "execution_count": 4,
   "id": "b024c8f0",
   "metadata": {},
   "outputs": [
    {
     "data": {
      "text/plain": [
       "True"
      ]
     },
     "execution_count": 4,
     "metadata": {},
     "output_type": "execute_result"
    }
   ],
   "source": [
    "\"\"\" # BEGIN TEST CONFIG\n",
    "hidden: false\n",
    "points: 1\n",
    "failure_message: EXPECTED 6 BIT OUTPUT\n",
    "\"\"\" # END TEST CONFIG\n",
    "\n",
    "def test_num_bits2():\n",
    "    n = 6\n",
    "    djbal = dj_balanced()\n",
    "    return djbal.num_clbits == n and djbal.num_qubits == n+1\n",
    "    \n",
    "test_num_bits2()"
   ]
  },
  {
   "cell_type": "code",
   "execution_count": 5,
   "id": "d205668f",
   "metadata": {},
   "outputs": [
    {
     "data": {
      "text/plain": [
       "True"
      ]
     },
     "execution_count": 5,
     "metadata": {},
     "output_type": "execute_result"
    }
   ],
   "source": [
    "\"\"\" # BEGIN TEST CONFIG\n",
    "hidden: false\n",
    "points: 1\n",
    "failure_message: EXPECTED AMPLITUDE OF OUTPUT STATE TO BE 1 on |010011>\n",
    "\"\"\" # END TEST CONFIG\n",
    "\n",
    "def test_balanced_output():    \n",
    "    qasm_sim = BasicAer.get_backend(\"qasm_simulator\")\n",
    "    job = execute(dj_balanced(), qasm_sim)\n",
    "    counts = job.result().get_counts()\n",
    "    return len(counts) == 1 and '010010' in counts and counts['010010'] == 1024\n",
    "    \n",
    "test_balanced_output()"
   ]
  },
  {
   "cell_type": "code",
   "execution_count": 6,
   "id": "c060a65d",
   "metadata": {},
   "outputs": [
    {
     "data": {
      "text/plain": [
       "True"
      ]
     },
     "execution_count": 6,
     "metadata": {},
     "output_type": "execute_result"
    }
   ],
   "source": [
    "\"\"\" # BEGIN TEST CONFIG\n",
    "hidden: false\n",
    "points: 28\n",
    "failure_message: ONE OF THE ABOVE TESTS IS NOT PASSING\n",
    "\"\"\" # END TEST CONFIG\n",
    "def test_num_bits2():\n",
    "    n = 6\n",
    "    djbal = dj_balanced()\n",
    "    return djbal.num_clbits == n and djbal.num_qubits == n+1\n",
    "\n",
    "def test_balanced_output():    \n",
    "    qasm_sim = BasicAer.get_backend(\"qasm_simulator\")\n",
    "    job = execute(dj_balanced(), qasm_sim)\n",
    "    counts = job.result().get_counts()\n",
    "    return len(counts) == 1 and '010010' in counts and counts['010010'] == 1024\n",
    "\n",
    "def award_credit2():\n",
    "    return test_num_bits2() and test_balanced_output()\n",
    "\n",
    "award_credit2()"
   ]
  },
  {
   "cell_type": "raw",
   "id": "004401fc",
   "metadata": {},
   "source": [
    "# END TESTS"
   ]
  },
  {
   "cell_type": "raw",
   "id": "97e6d1d4",
   "metadata": {},
   "source": [
    "# END QUESTION"
   ]
  },
  {
   "cell_type": "raw",
   "id": "c6fd9f84",
   "metadata": {},
   "source": [
    "# BEGIN QUESTION\n",
    "name: Task 2A\n",
    "points: 10\n",
    "manual: true"
   ]
  },
  {
   "cell_type": "markdown",
   "id": "abb5a989",
   "metadata": {},
   "source": [
    "#### Task 2 - A New Oracle\n",
    "For tasks 2A-2D, we've provided you with a function`an_oracle` that returns a [multi-controlled X gate](https://qiskit.org/documentation/stubs/qiskit.circuit.library.MCXGate.html#qiskit.circuit.library.MCXGate) oracle for a given $n$. The multi-controlled X gate is controlled on the first $n-1$ qubits of the circuit.\n",
    "\n",
    "#### Task 2A - Examining $f(x)$ (10 pts)\n",
    "\n",
    "Running the following cells shows the oracle generated for the case of $n=3$. "
   ]
  },
  {
   "cell_type": "code",
   "execution_count": 2,
   "id": "d9970f63",
   "metadata": {},
   "outputs": [],
   "source": [
    "def an_oracle(qc, n):\n",
    "    qc.barrier()\n",
    "    if n > 1:\n",
    "        qc.mcx([i for i in range(n-1)],n)\n",
    "    elif n == 1:\n",
    "        qc.x(n)\n",
    "    qc.barrier()\n",
    "    return qc\n",
    "\n",
    "def display_harness(n):\n",
    "    qc = QuantumCircuit()\n",
    "    qc.add_register(QuantumRegister(n, 'x'))\n",
    "    qc.add_register(QuantumRegister(1, 'y'))\n",
    "    qc.add_register(ClassicalRegister(n, 'cr'))\n",
    "    qc = an_oracle(qc, n)\n",
    "    return qc"
   ]
  },
  {
   "cell_type": "code",
   "execution_count": 8,
   "id": "f1243fb7",
   "metadata": {},
   "outputs": [
    {
     "data": {
      "image/png": "[encoded data removed]",
      "text/plain": [
       "<Figure size 266.332x325.08 with 1 Axes>"
      ]
     },
     "execution_count": 8,
     "metadata": {},
     "output_type": "execute_result"
    }
   ],
   "source": [
    "display_harness(3).draw(output='mpl')"
   ]
  },
  {
   "cell_type": "markdown",
   "id": "b167a72b",
   "metadata": {},
   "source": [
    "We wish to characterize this oracle to determine whether it keeps its promise. As seen in lecture, one way to do this is to write out a table of $f(x)$ for all combinations of inputs.\n",
    "\n",
    "| x_0 | x_1 | x_2 | y | f(x) |\n",
    "|-----|-----|-----|---|------|\n",
    "| 0   | 0   | 0   | 0 |      |\n",
    "| 0   | 0   | 0   | 1 |      |\n",
    "| 0   | 0   | 1   | 0 |      |\n",
    "| 0   | 0   | 1   | 1 |      |\n",
    "| 0   | 1   | 0   | 0 |      |\n",
    "| 0   | 1   | 0   | 1 |      |\n",
    "| 0   | 1   | 1   | 0 |      |\n",
    "| 0   | 1   | 1   | 1 |      |\n",
    "| 1   | 0   | 0   | 0 |      |\n",
    "| 1   | 0   | 0   | 1 |      |\n",
    "| 1   | 0   | 1   | 0 |      |\n",
    "| 1   | 0   | 1   | 1 |      |\n",
    "| 1   | 1   | 0   | 0 |      |\n",
    "| 1   | 1   | 0   | 1 |      |\n",
    "| 1   | 1   | 1   | 0 |      |\n",
    "| 1   | 1   | 1   | 1 |      |\n",
    "\n",
    "Refer back to the 02 Reversible Computations lecture for a refresher on the [Toffoli gate](https://en.wikipedia.org/wiki/Toffoli_gate). \n",
    "\n",
    "- Double click on this cell to edit it and fill in the $f(x)$ column\n",
    "- For what percentage of inputs does $f(x) = 1$?"
   ]
  },
  {
   "cell_type": "raw",
   "id": "759387ba",
   "metadata": {},
   "source": [
    "# BEGIN SOLUTION"
   ]
  },
  {
   "cell_type": "markdown",
   "id": "3efa01d7",
   "metadata": {},
   "source": [
    "25%. Only rows where $x_0$ and $x_1$ are both 1 make $f(x)=1$. (INSTRUCTOR NOTE: I'm not filling in the solution in the table because otter doesn't have an easy way to sanatize that in generating the student version. From top down, the column should read 0,0,0,0,0,0,0,0,0,0,0,0,1,1,1,1.)"
   ]
  },
  {
   "cell_type": "raw",
   "id": "b3360431",
   "metadata": {},
   "source": [
    "# END SOLUTION"
   ]
  },
  {
   "cell_type": "raw",
   "id": "860b1c67",
   "metadata": {},
   "source": [
    "# END QUESTION"
   ]
  },
  {
   "cell_type": "raw",
   "id": "0c21c939",
   "metadata": {},
   "source": [
    "# BEGIN QUESTION\n",
    "name: Task 2B\n",
    "points: 20\n",
    "manual: true"
   ]
  },
  {
   "cell_type": "markdown",
   "id": "d00cb17c",
   "metadata": {},
   "source": [
    "#### Task 2B - Oracle Characterization (25 pts)\n",
    "\n",
    "- For $n=3$, characterize the oracle as a **constant** or **balanced** function or **neither**. Be sure to explain how you can tell.\n",
    "- If the oracle is a **balanced** function or **neither**, also explain how you can add a single gate to turn the oracle into a **constant** function\n",
    "\n",
    "---"
   ]
  },
  {
   "cell_type": "raw",
   "id": "b03a62a1",
   "metadata": {},
   "source": [
    "# BEGIN SOLUTION"
   ]
  },
  {
   "cell_type": "markdown",
   "id": "7c9b1f12",
   "metadata": {},
   "source": [
    "For $n=3$, the oracle does not keep its promise and hence it is **neither** a constant or balanced function. We can see this because a constant function would have all rows of the table from 3A be the same and a balanced function would have half zeros and half ones. Since 4/16=25% are ones, it's neither constant or balanced.\n",
    "\n",
    "You can add another multi-controlled X gate to turn the oracle into a constant since MCX is its own inverse and the result will be a $f(x)=0$ oracle."
   ]
  },
  {
   "cell_type": "raw",
   "id": "09e64423",
   "metadata": {},
   "source": [
    "# END SOLUTION"
   ]
  },
  {
   "cell_type": "raw",
   "id": "b91932bf",
   "metadata": {},
   "source": [
    "# END QUESTION"
   ]
  },
  {
   "cell_type": "raw",
   "id": "8d79a35d",
   "metadata": {},
   "source": [
    "# BEGIN QUESTION\n",
    "name: Task 2C\n",
    "points: 25\n",
    "manual: true"
   ]
  },
  {
   "cell_type": "markdown",
   "id": "e6cd1eb0",
   "metadata": {},
   "source": [
    "#### Task 2C - Oracle Analysis  (25 pts)\n",
    "\n",
    "Consider the oracle returned by `an_oracle` for inputs of $n\\geq 1$.\n",
    "\n",
    "- For which value(s) of $n$ does `an_oracle` return a valid, **constant** Deutsch-Jozsa oracle?\n",
    "    - What is the constant value of $f(x)$?\n",
    "\n",
    "- For which value(s) of $n$ does `an_oracle` return a valid, **balanced** Deutsch-Jozsa oracle?\n",
    "    - What state has 100% of the amplitude on it?\n",
    "\n",
    "- For which value(s) of $n$ does `an_oracle` **not** return a valid Deutsch-Jozsa oracle?\n",
    "\n",
    "\n",
    "---"
   ]
  },
  {
   "cell_type": "raw",
   "id": "a7733830",
   "metadata": {},
   "source": [
    "# BEGIN SOLUTION"
   ]
  },
  {
   "cell_type": "markdown",
   "id": "11dbb300",
   "metadata": {},
   "source": [
    "This is a valid, constant DJ oracle for $n=1$. Since the bottom qubit has an X gate not controlled by any $x$ qubits, the oracle represents $f(x)=1$.\n",
    "\n",
    "This is a valid, balanced DJ oracle for $n=2$. All of the amplitude is on the $|10\\rangle$ term. This is a balanced parity function like in Task 2; the MCX effectively acts as a single CX on the first qubit).\n",
    "\n",
    "For $n\\geq 3$, `an_oracle` does not return a valid Deutsch-Jozsa oracle."
   ]
  },
  {
   "cell_type": "raw",
   "id": "2b4fd1f6",
   "metadata": {},
   "source": [
    "# END SOLUTION"
   ]
  },
  {
   "cell_type": "raw",
   "id": "c5c83013",
   "metadata": {},
   "source": [
    "# END QUESTION"
   ]
  },
  {
   "cell_type": "raw",
   "id": "aec652ac",
   "metadata": {},
   "source": [
    "# BEGIN QUESTION\n",
    "name: Task 2D\n",
    "points: 10\n",
    "manual: true"
   ]
  },
  {
   "cell_type": "markdown",
   "id": "7553c2da",
   "metadata": {},
   "source": [
    "#### Task 2D - Run on IBM (10 pts)\n",
    "\n",
    "- Fill in the `dj_harness` function below with complete Deutsch-Jozsa circuitry around the oracle\n",
    "- Run the completed `dj_harness` circuit on an IBM machine over `1024` trials with `n=3`\n",
    "- Store the result in `counts` and observe the resulting histogram"
   ]
  },
  {
   "cell_type": "raw",
   "id": "1d50d489",
   "metadata": {},
   "source": [
    "# BEGIN SOLUTION"
   ]
  },
  {
   "cell_type": "code",
   "execution_count": 9,
   "id": "d529b85a",
   "metadata": {},
   "outputs": [
    {
     "data": {
      "image/png": "[encoded data removed]",
      "text/plain": [
       "<Figure size 627.532x325.08 with 1 Axes>"
      ]
     },
     "execution_count": 9,
     "metadata": {},
     "output_type": "execute_result"
    }
   ],
   "source": [
    "def dj_harness(n):\n",
    "    \n",
    "    # BEGIN SOLUTION\n",
    "    qc = QuantumCircuit()\n",
    "    qc.add_register(QuantumRegister(n, 'x'))\n",
    "    qc.add_register(QuantumRegister(1, 'y'))\n",
    "    qc.add_register(ClassicalRegister(n, 'cr'))\n",
    "    qc.x(n)\n",
    "    for i in range(n+1):\n",
    "        qc.h(i)\n",
    "    # END SOLUTION\n",
    "    \n",
    "    qc = an_oracle(qc, n)\n",
    "    \n",
    "    # BEGIN SOLUTION\n",
    "    for i in range(n):\n",
    "        qc.h(i)\n",
    "        qc.measure(i,i)\n",
    "        \n",
    "    # END SOLUTION\n",
    "    \n",
    "    return qc.reverse_bits()\n",
    "    \n",
    "    \n",
    "dj_harness(3).reverse_bits().draw(output='mpl')"
   ]
  },
  {
   "cell_type": "code",
   "execution_count": 10,
   "id": "7f275562",
   "metadata": {},
   "outputs": [
    {
     "name": "stdout",
     "output_type": "stream",
     "text": [
      "Check job status here: https://quantum-computing.ibm.com/jobs/624672e6103a8e51e949fe90\n"
     ]
    },
    {
     "data": {
      "image/png": "[encoded data removed]",
      "text/plain": [
       "<Figure size 504x360 with 1 Axes>"
      ]
     },
     "execution_count": 10,
     "metadata": {},
     "output_type": "execute_result"
    }
   ],
   "source": [
    "# run your IBM job in this cell\n",
    "IBMQ.load_account()\n",
    "\n",
    "# BEGIN SOLUTION\n",
    "ibmqc = IBMQ.get_provider(hub='ibm-q').get_backend('ibmq__')\n",
    "job = execute(dj_harness(3), ibmqc, shots=1024)\n",
    "print(\"Check job status here:\", \"https://quantum-computing.ibm.com/jobs/\" + job.job_id())\n",
    "res = job.result()\n",
    "counts = res.get_counts()\n",
    "# END SOLUTION\n",
    "\n",
    "plot_histogram(counts)"
   ]
  },
  {
   "cell_type": "raw",
   "id": "a05480c9",
   "metadata": {},
   "source": [
    "# END SOLUTION"
   ]
  },
  {
   "cell_type": "raw",
   "id": "f7306233",
   "metadata": {},
   "source": [
    "# END QUESTION"
   ]
  }
 ],
 "metadata": {
  "kernelspec": {
   "display_name": "Python 3",
   "language": "python",
   "name": "python3"
  },
  "language_info": {
   "codemirror_mode": {
    "name": "ipython",
    "version": 3
   },
   "file_extension": ".py",
   "mimetype": "text/x-python",
   "name": "python",
   "nbconvert_exporter": "python",
   "pygments_lexer": "ipython3",
   "version": "3.7.0"
  }
 },
 "nbformat": 4,
 "nbformat_minor": 5
}
