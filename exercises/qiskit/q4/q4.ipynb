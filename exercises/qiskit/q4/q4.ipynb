{
 "cells": [
  {
   "cell_type": "raw",
   "id": "f5cdd943",
   "metadata": {},
   "source": [
    "# ASSIGNMENT CONFIG\n",
    "generate:\n",
    "    token: 8654j6ett3xjTQHqUK3Jyw                  # required\n",
    "    course_id: 342915              # required\n",
    "    assignment_id: 1965196          # required\n",
    "    filtering: true              # true is the default  \n",
    "    pagebreaks: true\n",
    "    show_stdout: true\n",
    "    show_hidden: true\n",
    "requirements: # for building the autograder, in addition to the stuff required by otter\n",
    "    - qiskit\n",
    "    - pylatexenc\n",
    "    - git+https://github.com/qiskit-community/qiskit-textbook.git#egg=qiskit_textbook&subdirectory=qiskit-textbook-src\n",
    "export_cell:                     # whether to include an Otter export cell in the output notebooks\n",
    "    instructions: ''             # additional submission instructions to include in the export cell\n",
    "    pdf: false                   # whether to include a PDF of the notebook in the generated zip file\n",
    "    filtering: true              # whether the generated PDF should be filtered\n",
    "    pagebreaks: true             # whether to include page breaks in the PDF\n",
    "    run_tests: false             # whether to run student submissions against local tests during export\n",
    "template_pdf: true\n",
    "solutions_pdf: true"
   ]
  },
  {
   "cell_type": "markdown",
   "id": "99e4fe30",
   "metadata": {},
   "source": [
    "# Qiskit Assignment 4\n",
    "## Deutsch-Jozsa \n",
    "\n",
    "### Learning Objectives\n",
    "1. Implement the Deustch-Jozsa oracle\n",
    "2. Run the DJ algorithm on a real quantum computer\n",
    "\n",
    "### Resources\n",
    "Qiskit assignments are designed to be collaborative and open internet. Where possible, links to useful documentation will be embedded within questions. You're free to discuss these tasks with TAs and peers, but do write your own solutions. For some questions, there may be additional restrictions on the ways you can solve them. To ensure compliance with course policies and assignment instructions, we reserve the right to inspect your code."
   ]
  },
  {
   "cell_type": "markdown",
   "id": "0fbd44da",
   "metadata": {},
   "source": [
    "**NAME**: REPLACE WITH YOUR NAME\n",
    "\n",
    "**STUDENT ID**: REPLACE WITH YOUR STUDENT ID"
   ]
  },
  {
   "cell_type": "code",
   "execution_count": 1,
   "id": "legitimate-explosion",
   "metadata": {},
   "outputs": [],
   "source": [
    "# Import Qiskit and other needed packages\n",
    "from qiskit import *\n",
    "from qiskit.visualization import plot_histogram\n",
    "from qiskit.quantum_info import Statevector\n",
    "import numpy as np\n",
    "import pprint"
   ]
  },
  {
   "cell_type": "raw",
   "id": "f1071197",
   "metadata": {},
   "source": [
    "# BEGIN QUESTION\n",
    "name: Task 1\n",
    "points: 10\n",
    "manual: false"
   ]
  },
  {
   "cell_type": "markdown",
   "id": "2b794003",
   "metadata": {},
   "source": [
    "#### Task 1 - Constant Oracle (10 pts)\n",
    "\n",
    "Return a Deutsch-Josza circuit from the following method as described in class such that\n",
    "- the output has `n` bits\n",
    "- the oracle is characterized by $f(x)=1$"
   ]
  },
  {
   "cell_type": "raw",
   "id": "1b5d3bf9",
   "metadata": {},
   "source": [
    "# BEGIN SOLUTION"
   ]
  },
  {
   "cell_type": "code",
   "execution_count": 2,
   "id": "c4fd91b6",
   "metadata": {},
   "outputs": [
    {
     "data": {
      "image/png": "[encoded data removed]",
      "text/plain": [
       "<Figure size 567.187x264.88 with 1 Axes>"
      ]
     },
     "execution_count": 2,
     "metadata": {},
     "output_type": "execute_result"
    }
   ],
   "source": [
    "def dj_constant_one(n):\n",
    "    # BEGIN SOLUTION\n",
    "    qc = QuantumCircuit()\n",
    "    qc.add_register(QuantumRegister(n, 'x'))\n",
    "    qc.add_register(QuantumRegister(1, 'y'))\n",
    "    qc.add_register(ClassicalRegister(n, 'cr'))\n",
    "\n",
    "    qc.x(n)\n",
    "    for i in range(n+1):\n",
    "        qc.h(i)\n",
    "    qc.barrier()\n",
    "    for i in range(n):\n",
    "        qc.id(i)\n",
    "    qc.x(n)\n",
    "    qc.barrier()\n",
    "    for i in range(n):\n",
    "        qc.h(i)\n",
    "        qc.measure(i,i)\n",
    "    return qc\n",
    "    # END SOLUTION\n",
    "    \n",
    "dj_constant_one(2).draw(output='mpl')   "
   ]
  },
  {
   "cell_type": "raw",
   "id": "85cd2fcc",
   "metadata": {},
   "source": [
    "# END SOLUTION"
   ]
  },
  {
   "cell_type": "raw",
   "id": "b9e23888",
   "metadata": {},
   "source": [
    "# BEGIN TESTS"
   ]
  },
  {
   "cell_type": "code",
   "execution_count": 3,
   "id": "55ac38ba",
   "metadata": {},
   "outputs": [
    {
     "data": {
      "text/plain": [
       "True"
      ]
     },
     "execution_count": 3,
     "metadata": {},
     "output_type": "execute_result"
    }
   ],
   "source": [
    "\"\"\" # BEGIN TEST CONFIG\n",
    "hidden: false\n",
    "points: 0\n",
    "failure_message: expected n+1 qubits and n classical bits for an n-bit input\n",
    "\"\"\" # END TEST CONFIG\n",
    "def test_num_bits1():\n",
    "    n = 8\n",
    "    djco = dj_constant_one(n)\n",
    "    return djco.num_clbits == n and djco.num_qubits == n+1\n",
    "    \n",
    "test_num_bits1() == True"
   ]
  },
  {
   "cell_type": "code",
   "execution_count": 4,
   "id": "36b5c714",
   "metadata": {},
   "outputs": [
    {
     "data": {
      "text/plain": [
       "True"
      ]
     },
     "execution_count": 4,
     "metadata": {},
     "output_type": "execute_result"
    }
   ],
   "source": [
    "\"\"\" # BEGIN TEST CONFIG\n",
    "hidden: false\n",
    "points: 0\n",
    "failure_message: something looks wrong in the number of gates/measurements used. make sure you're implementing the correct constant function\n",
    "\"\"\" # END TEST CONFIG\n",
    "def test_fx_equals_1():\n",
    "    n=11\n",
    "    ops = dj_constant_one(n).count_ops()\n",
    "    h = ops['h'] == 2*n+1\n",
    "    x = ops['x'] == 2\n",
    "    m = ops['measure'] == n\n",
    "    return h and x and m\n",
    "    \n",
    "test_fx_equals_1() == True"
   ]
  },
  {
   "cell_type": "code",
   "execution_count": 5,
   "id": "c2fa4414",
   "metadata": {},
   "outputs": [
    {
     "data": {
      "text/plain": [
       "True"
      ]
     },
     "execution_count": 5,
     "metadata": {},
     "output_type": "execute_result"
    }
   ],
   "source": [
    "\"\"\" # BEGIN TEST CONFIG\n",
    "hidden: false\n",
    "points: 0\n",
    "failure_message: circuit does not implement a constant oracle\n",
    "\"\"\" # END TEST CONFIG\n",
    "def test_constant_output():    \n",
    "    qasm_sim = BasicAer.get_backend(\"qasm_simulator\")\n",
    "    job = execute(dj_constant_one(4), qasm_sim)\n",
    "    counts = job.result().get_counts()\n",
    "    return len(counts) == 1 and counts['0000'] == 1024\n",
    "    \n",
    "test_constant_output() == True"
   ]
  },
  {
   "cell_type": "code",
   "execution_count": 6,
   "id": "dcc831ce",
   "metadata": {},
   "outputs": [
    {
     "data": {
      "text/plain": [
       "True"
      ]
     },
     "execution_count": 6,
     "metadata": {},
     "output_type": "execute_result"
    }
   ],
   "source": [
    "\"\"\" # BEGIN TEST CONFIG\n",
    "hidden: false\n",
    "points: 10\n",
    "failure_message: one of the above tests is failing\n",
    "\"\"\" # END TEST CONFIG\n",
    "\n",
    "def test_num_bits1():\n",
    "    n = 8\n",
    "    djco = dj_constant_one(n)\n",
    "    return djco.num_clbits == n and djco.num_qubits == n+1\n",
    "\n",
    "def test_fx_equals_1():\n",
    "    n=11\n",
    "    ops = dj_constant_one(n).count_ops()\n",
    "    h = ops['h'] == 2*n+1\n",
    "    x = ops['x'] == 2\n",
    "    m = ops['measure'] == n\n",
    "    return h and x and m\n",
    "\n",
    "def test_constant_output():    \n",
    "    qasm_sim = BasicAer.get_backend(\"qasm_simulator\")\n",
    "    job = execute(dj_constant_one(4), qasm_sim)\n",
    "    counts = job.result().get_counts()\n",
    "    return len(counts) == 1 and counts['0000'] == 1024\n",
    "\n",
    "def award_credit1():\n",
    "    return test_fx_equals_1() and test_constant_output() and test_num_bits1()\n",
    "\n",
    "award_credit1() == True"
   ]
  },
  {
   "cell_type": "raw",
   "id": "773c9368",
   "metadata": {},
   "source": [
    "# END TESTS"
   ]
  },
  {
   "cell_type": "raw",
   "id": "dc8b3951",
   "metadata": {},
   "source": [
    "# END QUESTION"
   ]
  },
  {
   "cell_type": "raw",
   "id": "3eb3026b",
   "metadata": {},
   "source": [
    "# BEGIN QUESTION\n",
    "name: Task 2\n",
    "points: 20\n",
    "manual: false"
   ]
  },
  {
   "cell_type": "markdown",
   "id": "95f4af89",
   "metadata": {},
   "source": [
    "#### Task 2 - Balanced Oracle (20 pts)\n",
    "Return a Deutsch-Josza circuit from the following method as described in class such that\n",
    "- the output has `6` bits\n",
    "- the oracle is characterized by a balanced function\n",
    "- all amplitude in the resulting state is placed on the $|010011\\rangle$ term"
   ]
  },
  {
   "cell_type": "raw",
   "id": "89566fe3",
   "metadata": {},
   "source": [
    "# BEGIN SOLUTION"
   ]
  },
  {
   "cell_type": "code",
   "execution_count": 7,
   "id": "786d2fe0",
   "metadata": {},
   "outputs": [
    {
     "data": {
      "image/png": "[encoded data removed]",
      "text/plain": [
       "<Figure size 928.532x505.68 with 1 Axes>"
      ]
     },
     "execution_count": 7,
     "metadata": {},
     "output_type": "execute_result"
    }
   ],
   "source": [
    "def dj_balanced():\n",
    "    n = 6\n",
    "    # BEGIN SOLUTION\n",
    "    qc = QuantumCircuit()\n",
    "    qc.add_register(QuantumRegister(n, 'x'))\n",
    "    qc.add_register(QuantumRegister(1, 'y'))\n",
    "    qc.add_register(ClassicalRegister(n, 'cr'))\n",
    "\n",
    "    qc.x(n)\n",
    "    for i in range(n+1):\n",
    "        qc.h(i)\n",
    "        \n",
    "    qc.barrier()\n",
    "    \n",
    "    for i in [1,4,5]:\n",
    "        qc.cx(i,n)\n",
    "        \n",
    "    qc.barrier()\n",
    "\n",
    "    for i in range(n):\n",
    "        qc.h(i)\n",
    "        qc.measure(i,i)\n",
    "    return qc.reverse_bits()\n",
    "    # END SOLUTION\n",
    "    \n",
    "dj_balanced().reverse_bits().draw(output='mpl')   "
   ]
  },
  {
   "cell_type": "raw",
   "id": "e0fd4e00",
   "metadata": {},
   "source": [
    "# END SOLUTION"
   ]
  },
  {
   "cell_type": "markdown",
   "id": "6a721141",
   "metadata": {},
   "source": [
    "**Note**: If your circuit appears upside-down, your circuit is using Qiskit's little endian ordering! Use one of the functions given in previous assignments to return a big endian result.\n",
    "\n",
    "Run the below cell to help debug your circuit."
   ]
  },
  {
   "cell_type": "code",
   "execution_count": 8,
   "id": "229b29ad",
   "metadata": {},
   "outputs": [
    {
     "name": "stdout",
     "output_type": "stream",
     "text": [
      "State    Probability\n",
      "--------------------\n",
      "|010011> 100.0%\n"
     ]
    }
   ],
   "source": [
    "qasm_sim = BasicAer.get_backend(\"qasm_simulator\")\n",
    "job = execute(dj_balanced(), qasm_sim)\n",
    "counts = job.result().get_counts()\n",
    "print(\"State    Probability\")\n",
    "print(\"--------------------\")\n",
    "for state, count in sorted(counts.items(), key=lambda tup: tup[1], reverse=True):\n",
    "    print(\"|\"+state+\">\", str(count/1024*100)+\"%\")"
   ]
  },
  {
   "cell_type": "raw",
   "id": "5a492e31",
   "metadata": {},
   "source": [
    "# BEGIN TESTS"
   ]
  },
  {
   "cell_type": "code",
   "execution_count": 9,
   "id": "b024c8f0",
   "metadata": {},
   "outputs": [
    {
     "data": {
      "text/plain": [
       "True"
      ]
     },
     "execution_count": 9,
     "metadata": {},
     "output_type": "execute_result"
    }
   ],
   "source": [
    "\"\"\" # BEGIN TEST CONFIG\n",
    "hidden: false\n",
    "points: 0\n",
    "failure_message: expected 6 bit output\n",
    "\"\"\" # END TEST CONFIG\n",
    "\n",
    "def test_num_bits2():\n",
    "    n = 6\n",
    "    djbal = dj_balanced()\n",
    "    return djbal.num_clbits == n and djbal.num_qubits == n+1\n",
    "    \n",
    "test_num_bits2() == True"
   ]
  },
  {
   "cell_type": "code",
   "execution_count": 10,
   "id": "d205668f",
   "metadata": {},
   "outputs": [
    {
     "data": {
      "text/plain": [
       "True"
      ]
     },
     "execution_count": 10,
     "metadata": {},
     "output_type": "execute_result"
    }
   ],
   "source": [
    "\"\"\" # BEGIN TEST CONFIG\n",
    "hidden: false\n",
    "points: 0\n",
    "failure_message: amplitude is not entirely on |010011>\n",
    "\"\"\" # END TEST CONFIG\n",
    "\n",
    "def test_balanced_output():    \n",
    "    qasm_sim = BasicAer.get_backend(\"qasm_simulator\")\n",
    "    job = execute(dj_balanced(), qasm_sim)\n",
    "    counts = job.result().get_counts()\n",
    "    return len(counts) == 1 and counts['010011'] == 1024\n",
    "    \n",
    "test_balanced_output()"
   ]
  },
  {
   "cell_type": "code",
   "execution_count": 11,
   "id": "c060a65d",
   "metadata": {},
   "outputs": [
    {
     "data": {
      "text/plain": [
       "True"
      ]
     },
     "execution_count": 11,
     "metadata": {},
     "output_type": "execute_result"
    }
   ],
   "source": [
    "\"\"\" # BEGIN TEST CONFIG\n",
    "hidden: false\n",
    "points: 20\n",
    "failure_message: one of the above tests is not passing\n",
    "\"\"\" # END TEST CONFIG\n",
    "def test_num_bits2():\n",
    "    n = 6\n",
    "    djbal = dj_balanced()\n",
    "    return djbal.num_clbits == n and djbal.num_qubits == n+1\n",
    "\n",
    "def test_balanced_output():    \n",
    "    qasm_sim = BasicAer.get_backend(\"qasm_simulator\")\n",
    "    job = execute(dj_balanced(), qasm_sim)\n",
    "    counts = job.result().get_counts()\n",
    "    return len(counts) == 1 and counts['010011'] == 1024\n",
    "\n",
    "def award_credit2():\n",
    "    return test_num_bits2() and test_balanced_output()\n",
    "\n",
    "award_credit2() == True"
   ]
  },
  {
   "cell_type": "raw",
   "id": "004401fc",
   "metadata": {},
   "source": [
    "# END TESTS"
   ]
  },
  {
   "cell_type": "raw",
   "id": "97e6d1d4",
   "metadata": {},
   "source": [
    "# END QUESTION"
   ]
  },
  {
   "cell_type": "raw",
   "id": "c6fd9f84",
   "metadata": {},
   "source": [
    "# BEGIN QUESTION\n",
    "name: Task 3A\n",
    "points: 10\n",
    "manual: true"
   ]
  },
  {
   "cell_type": "markdown",
   "id": "abb5a989",
   "metadata": {},
   "source": [
    "#### Task 3A - Examining $f(x)$ (10 pts)\n",
    "\n",
    "For tasks 3A-3D, we've provided you with a function`an_oracle` that returns a [multi-controlled X gate](https://qiskit.org/documentation/stubs/qiskit.circuit.library.MCXGate.html#qiskit.circuit.library.MCXGate) oracle."
   ]
  },
  {
   "cell_type": "code",
   "execution_count": 12,
   "id": "d9970f63",
   "metadata": {},
   "outputs": [],
   "source": [
    "def an_oracle(qc, n):\n",
    "    qc.barrier()\n",
    "    qc.mcx([i for i in range(n-1)],n)\n",
    "    qc.barrier()\n",
    "    return qc\n",
    "\n",
    "def display_harness(n):\n",
    "    qc = QuantumCircuit()\n",
    "    qc.add_register(QuantumRegister(n, 'x'))\n",
    "    qc.add_register(QuantumRegister(1, 'y'))\n",
    "    qc.add_register(ClassicalRegister(n, 'cr'))\n",
    "    qc = an_oracle(qc, n)\n",
    "    return qc"
   ]
  },
  {
   "cell_type": "markdown",
   "id": "8d2469f1",
   "metadata": {},
   "source": [
    "Running the following cell shows the oracle generated for the case of $n=3$. "
   ]
  },
  {
   "cell_type": "code",
   "execution_count": 13,
   "id": "f1243fb7",
   "metadata": {},
   "outputs": [
    {
     "data": {
      "image/png": "[encoded data removed]",
      "text/plain": [
       "<Figure size 266.332x325.08 with 1 Axes>"
      ]
     },
     "execution_count": 13,
     "metadata": {},
     "output_type": "execute_result"
    }
   ],
   "source": [
    "display_harness(3).draw(output='mpl')"
   ]
  },
  {
   "cell_type": "markdown",
   "id": "b167a72b",
   "metadata": {},
   "source": [
    "We wish to characterize this oracle to determine whether it keeps its promise. As seen in lecture, one way to do this is to write out a table of $f(x)$ for all combinations of inputs.\n",
    "\n",
    "| x_0 | x_1 | x_2 | y | f(x) |\n",
    "|-----|-----|-----|---|------|\n",
    "| 0   | 0   | 0   | 0 |      |\n",
    "| 0   | 0   | 0   | 1 |      |\n",
    "| 0   | 0   | 1   | 0 |      |\n",
    "| 0   | 0   | 1   | 1 |      |\n",
    "| 0   | 1   | 0   | 0 |      |\n",
    "| 0   | 1   | 0   | 1 |      |\n",
    "| 0   | 1   | 1   | 0 |      |\n",
    "| 0   | 1   | 1   | 1 |      |\n",
    "| 1   | 0   | 0   | 0 |      |\n",
    "| 1   | 0   | 0   | 1 |      |\n",
    "| 1   | 0   | 1   | 0 |      |\n",
    "| 1   | 0   | 1   | 1 |      |\n",
    "| 1   | 1   | 0   | 0 |      |\n",
    "| 1   | 1   | 0   | 1 |      |\n",
    "| 1   | 1   | 1   | 0 |      |\n",
    "| 1   | 1   | 1   | 1 |      |\n",
    "\n",
    "Refer back to the 02 Reversible Computations lecture for a refresher on the [Toffoli gate](https://en.wikipedia.org/wiki/Toffoli_gate). \n",
    "\n",
    "If the table were complete, what would be the sum of the $f(x)$ column?"
   ]
  },
  {
   "cell_type": "raw",
   "id": "759387ba",
   "metadata": {},
   "source": [
    "# BEGIN SOLUTION"
   ]
  },
  {
   "cell_type": "markdown",
   "id": "3efa01d7",
   "metadata": {},
   "source": [
    "The sum is 4--only rows where $x_0$ and $x_1$ are both 1 make $f(x)=1$."
   ]
  },
  {
   "cell_type": "raw",
   "id": "b3360431",
   "metadata": {},
   "source": [
    "# END SOLUTION"
   ]
  },
  {
   "cell_type": "raw",
   "id": "860b1c67",
   "metadata": {},
   "source": [
    "# END QUESTION"
   ]
  },
  {
   "cell_type": "raw",
   "id": "0c21c939",
   "metadata": {},
   "source": [
    "# BEGIN QUESTION\n",
    "name: Task 3B\n",
    "points: 20\n",
    "manual: true"
   ]
  },
  {
   "cell_type": "markdown",
   "id": "d00cb17c",
   "metadata": {},
   "source": [
    "#### Task 3B - Oracle Characterization (25 pts)\n",
    "\n",
    "For $n=3$, characterize the oracle as a **constant** or **balanced** function or **neither**. Be sure to explain how you can tell.\n",
    "- If the oracle is a **balanced** function or **neither**, also explain how you can add a single gate to turn the oracle into a **constant** function"
   ]
  },
  {
   "cell_type": "raw",
   "id": "b03a62a1",
   "metadata": {},
   "source": [
    "# BEGIN SOLUTION"
   ]
  },
  {
   "cell_type": "markdown",
   "id": "7c9b1f12",
   "metadata": {},
   "source": [
    "For $n=3$, the oracle does not keep its promise and hence it is **neither** a constant or balanced function. We can see this because a constant function would have all rows of the table from 3A be the same and a balanced function would have half zeros and half ones. Since 4/16=25% are ones, it's neither constant or balanced.\n",
    "\n",
    "You can add another multi-controlled X gate to turn the oracle into a constant since MCX is its own inverse and the result will be a $f(x)=0$ oracle."
   ]
  },
  {
   "cell_type": "raw",
   "id": "09e64423",
   "metadata": {},
   "source": [
    "# END SOLUTION"
   ]
  },
  {
   "cell_type": "raw",
   "id": "b91932bf",
   "metadata": {},
   "source": [
    "# END QUESTION"
   ]
  },
  {
   "cell_type": "raw",
   "id": "8d79a35d",
   "metadata": {},
   "source": [
    "# BEGIN QUESTION\n",
    "name: Task 3C\n",
    "points: 25\n",
    "manual: true"
   ]
  },
  {
   "cell_type": "markdown",
   "id": "e6cd1eb0",
   "metadata": {},
   "source": [
    "#### Task 3C - Oracle Analysis  (25 pts)\n",
    "\n",
    "For which value(s) of $n$ does `an_oracle` return a valid, **constant** Deutsch-Josza oracle?\n",
    "- What is the constant value of $f(x)$?\n",
    "\n",
    "For which value(s) of $n$ does `an_oracle` return a valid, **balanced** Deutsch-Josza oracle?\n",
    "- What state has 100% of the amplitude on it?\n",
    "\n",
    "For which value(s) of $n$ does `an_oracle` **not** return a valid Deutsch-Josza oracle?"
   ]
  },
  {
   "cell_type": "raw",
   "id": "a7733830",
   "metadata": {},
   "source": [
    "# BEGIN SOLUTION"
   ]
  },
  {
   "cell_type": "markdown",
   "id": "11dbb300",
   "metadata": {},
   "source": [
    "This is a valid, constant DJ oracle for $n=1$. Since no gates are applied, the oracle represents $f(x)=0$.\n",
    "\n",
    "This is a valid, balanced DJ oracle for $n=2$. All of the amplitude is on the $|10\\rangle$ term. This is a balanced parity function like in Task 2; the MCX effectively acts as a single CX on the first qubit).\n",
    "\n",
    "For $n\\geq 3$, `an_oracle` does not return a valid Deutsch-Josza oracle."
   ]
  },
  {
   "cell_type": "raw",
   "id": "2b4fd1f6",
   "metadata": {},
   "source": [
    "# END SOLUTION"
   ]
  },
  {
   "cell_type": "raw",
   "id": "c5c83013",
   "metadata": {},
   "source": [
    "# END QUESTION"
   ]
  },
  {
   "cell_type": "raw",
   "id": "aec652ac",
   "metadata": {},
   "source": [
    "# BEGIN QUESTION\n",
    "name: Task 3D\n",
    "points: 10\n",
    "manual: true"
   ]
  },
  {
   "cell_type": "markdown",
   "id": "7553c2da",
   "metadata": {},
   "source": [
    "#### Task 3D - Run on IBM (10 pts)\n",
    "\n",
    "- Fill in the `dj_harness` function below with complete Deutsch-Josza circuitry around the oracle\n",
    "- Run the completed `dj_harness` circuit on an IBM machine over `1024` trials with `n=3`\n",
    "- Store the result in `counts` and observe the resulting histogram"
   ]
  },
  {
   "cell_type": "raw",
   "id": "1d50d489",
   "metadata": {},
   "source": [
    "# BEGIN SOLUTION"
   ]
  },
  {
   "cell_type": "code",
   "execution_count": 14,
   "id": "d529b85a",
   "metadata": {},
   "outputs": [
    {
     "data": {
      "image/png": "[encoded data removed]",
      "text/plain": [
       "<Figure size 627.532x325.08 with 1 Axes>"
      ]
     },
     "execution_count": 14,
     "metadata": {},
     "output_type": "execute_result"
    }
   ],
   "source": [
    "def dj_harness(n):\n",
    "    \n",
    "    # BEGIN SOLUTION\n",
    "    qc = QuantumCircuit()\n",
    "    qc.add_register(QuantumRegister(n, 'x'))\n",
    "    qc.add_register(QuantumRegister(1, 'y'))\n",
    "    qc.add_register(ClassicalRegister(n, 'cr'))\n",
    "    qc.x(n)\n",
    "    for i in range(n+1):\n",
    "        qc.h(i)\n",
    "    # END SOLUTION\n",
    "    \n",
    "    qc = an_oracle(qc, n)\n",
    "    \n",
    "    # BEGIN SOLUTION\n",
    "    for i in range(n):\n",
    "        qc.h(i)\n",
    "        qc.measure(i,i)\n",
    "    # END SOLUTION\n",
    "    \n",
    "    return qc\n",
    "    \n",
    "dj_harness(3).draw(output='mpl')"
   ]
  },
  {
   "cell_type": "code",
   "execution_count": 16,
   "id": "7f275562",
   "metadata": {},
   "outputs": [
    {
     "name": "stderr",
     "output_type": "stream",
     "text": [
      "ibmqfactory.load_account:WARNING:2022-03-31 09:59:05,680: Credentials are already in use. The existing account in the session will be replaced.\n"
     ]
    },
    {
     "name": "stdout",
     "output_type": "stream",
     "text": [
      "Check job status here: https://quantum-computing.ibm.com/jobs/6245c1bd2b72611370735f05\n"
     ]
    },
    {
     "data": {
      "image/png": "[encoded data removed]",
      "text/plain": [
       "<Figure size 504x360 with 1 Axes>"
      ]
     },
     "execution_count": 16,
     "metadata": {},
     "output_type": "execute_result"
    }
   ],
   "source": [
    "# run your IBM job in this cell\n",
    "IBMQ.load_account()\n",
    "\n",
    "# BEGIN SOLUTION\n",
    "ibmqc = IBMQ.get_provider(hub='ibm-q').get_backend('ibmq__')\n",
    "job = execute(dj_harness(3), ibmqc, shots=1024)\n",
    "print(\"Check job status here:\", \"https://quantum-computing.ibm.com/jobs/\" + job.job_id())\n",
    "res = job.result()\n",
    "counts = res.get_counts()\n",
    "# END SOLUTION\n",
    "\n",
    "plot_histogram(counts)"
   ]
  },
  {
   "cell_type": "raw",
   "id": "a05480c9",
   "metadata": {},
   "source": [
    "# END SOLUTION"
   ]
  },
  {
   "cell_type": "raw",
   "id": "f7306233",
   "metadata": {},
   "source": [
    "# END QUESTION"
   ]
  }
 ],
 "metadata": {
  "kernelspec": {
   "display_name": "Python 3",
   "language": "python",
   "name": "python3"
  },
  "language_info": {
   "codemirror_mode": {
    "name": "ipython",
    "version": 3
   },
   "file_extension": ".py",
   "mimetype": "text/x-python",
   "name": "python",
   "nbconvert_exporter": "python",
   "pygments_lexer": "ipython3",
   "version": "3.7.0"
  }
 },
 "nbformat": 4,
 "nbformat_minor": 5
}
