{
 "cells": [
  {
   "cell_type": "raw",
   "id": "310e4a65",
   "metadata": {},
   "source": [
    "# ASSIGNMENT CONFIG\n",
    "generate:\n",
    "    token: xxxyyy                  # required\n",
    "    course_id: 280928              # required\n",
    "    assignment_id: 1489113          # required\n",
    "    filtering: true              # true is the default  \n",
    "    pagebreaks: true\n",
    "    show_stdout: true\n",
    "    show_hidden: true\n",
    "\n",
    "export_cell:                     # whether to include an Otter export cell in the output notebooks\n",
    "    instructions: ''             # additional submission instructions to include in the export cell\n",
    "    pdf: false                   # whether to include a PDF of the notebook in the generated zip file\n",
    "    filtering: true              # whether the generated PDF should be filtered\n",
    "    pagebreaks: true             # whether to include page breaks in the PDF\n",
    "    run_tests: false             # whether to run student submissions against local tests during export\n",
    "\n",
    "template_pdf: true"
   ]
  },
  {
   "cell_type": "code",
   "execution_count": null,
   "id": "reported-confidentiality",
   "metadata": {},
   "outputs": [],
   "source": [
    "from qiskit import *\n",
    "from qiskit.quantum_info import Statevector\n",
    "import random\n",
    "import numpy as np\n",
    "import math\n",
    "import matplotlib.pyplot as plt\n",
    "import re"
   ]
  },
  {
   "cell_type": "raw",
   "id": "99194058",
   "metadata": {},
   "source": [
    "# BEGIN QUESTION\n",
    "name: q1\n",
    "points: 1\n",
    "manual: false"
   ]
  },
  {
   "cell_type": "markdown",
   "id": "applied-collapse",
   "metadata": {},
   "source": [
    "# Qiskit Assignment 2\n",
    "\n",
    "## Elitzur-Vaidman Bomb\n",
    "Today you will be implementing the EV Bomb experiment.\n",
    "\n",
    "### Task 1: \n",
    "First let's compute the number of iterations through the loop we need to be arbitrarily confident that there won't be an explosion during our experiment. Write a function `computeIterations(percentage)` that takes an input `percentage` and returns `n`, the number of iterations needed to be (`percentage`$\\times 100$)% confident that there will **not** be an explosion. Round $n$ to the nearest integer. \n",
    "\n",
    "Note: $0 < percentage < 1$"
   ]
  },
  {
   "cell_type": "raw",
   "id": "4428435c",
   "metadata": {},
   "source": [
    "# BEGIN SOLUTION"
   ]
  },
  {
   "cell_type": "code",
   "execution_count": null,
   "id": "strategic-angel",
   "metadata": {},
   "outputs": [],
   "source": [
    "def computeIterations(percentage):\n",
    "    n = None\n",
    "    # BEGIN SOLUTION\n",
    "    # From Lecture 7\n",
    "    n = (np.pi**2) / (4*(1-percentage))\n",
    "    n = round(n)\n",
    "    # END SOLUTION\n",
    "    return n"
   ]
  },
  {
   "cell_type": "raw",
   "id": "fff71b5e",
   "metadata": {},
   "source": [
    "# END SOLUTION"
   ]
  },
  {
   "cell_type": "raw",
   "id": "6c8eaec6",
   "metadata": {},
   "source": [
    "# BEGIN TESTS"
   ]
  },
  {
   "cell_type": "code",
   "execution_count": null,
   "id": "pursuant-shakespeare",
   "metadata": {},
   "outputs": [],
   "source": [
    "computeIterations(0.5) == 5"
   ]
  },
  {
   "cell_type": "code",
   "execution_count": null,
   "id": "anticipated-sender",
   "metadata": {},
   "outputs": [],
   "source": [
    "computeIterations(0.99) == 247"
   ]
  },
  {
   "cell_type": "code",
   "execution_count": null,
   "id": "e3c06aa9",
   "metadata": {},
   "outputs": [],
   "source": [
    "computeIterations(0.99473) == 468"
   ]
  },
  {
   "cell_type": "code",
   "execution_count": null,
   "id": "f106069a",
   "metadata": {},
   "outputs": [],
   "source": [
    "# HIDDEN\n",
    "def testComputeIterations():\n",
    "    for n in range(1,1000):\n",
    "        percentage = n / 1000\n",
    "        solution_ans = round((np.pi**2) / (4*(1-percentage)))\n",
    "        student_ans = computeIterations(percentage)\n",
    "        if student_ans != solution_ans:\n",
    "            return False\n",
    "    return True\n",
    "\n",
    "testComputeIterations() == True"
   ]
  },
  {
   "cell_type": "raw",
   "id": "1f7c7908",
   "metadata": {},
   "source": [
    "# END TESTS"
   ]
  },
  {
   "cell_type": "raw",
   "id": "deefe7d7",
   "metadata": {},
   "source": [
    "# END QUESTION"
   ]
  },
  {
   "cell_type": "raw",
   "id": "ff242d5f",
   "metadata": {},
   "source": [
    "# BEGIN QUESTION\n",
    "name: q2\n",
    "points: 1\n",
    "manual: false"
   ]
  },
  {
   "cell_type": "markdown",
   "id": "incorrect-sword",
   "metadata": {},
   "source": [
    "### Task 2: \n",
    "We know the number of iterations we need to be arbitrarily confident the bomb won't explode. Let's calculate the angle we need to rotate through at each step of iteration, $\\theta$. Write a function `computeTheta(n)` that takes `n` as input and returns $\\theta$. Round $\\theta$ to the nearest 2 decimal places."
   ]
  },
  {
   "cell_type": "raw",
   "id": "5d1fb09b",
   "metadata": {},
   "source": [
    "# BEGIN SOLUTION"
   ]
  },
  {
   "cell_type": "code",
   "execution_count": null,
   "id": "mighty-mother",
   "metadata": {},
   "outputs": [],
   "source": [
    "def computeTheta(n):\n",
    "    theta = None\n",
    "    # BEGIN SOLUTION\n",
    "    theta = np.pi/(2*n)\n",
    "    theta = round(theta,2)\n",
    "    # END SOLUTION\n",
    "    return theta"
   ]
  },
  {
   "cell_type": "raw",
   "id": "ff034a6e",
   "metadata": {},
   "source": [
    "# END SOLUTION"
   ]
  },
  {
   "cell_type": "raw",
   "id": "020c0880",
   "metadata": {},
   "source": [
    "# BEGIN TESTS"
   ]
  },
  {
   "cell_type": "code",
   "execution_count": null,
   "id": "d2b57f72",
   "metadata": {},
   "outputs": [],
   "source": [
    "rounding_re = re.compile(r\"^([\\d]{1}).([\\d]{2})$\")\n",
    "\n",
    "def testNumDecimalPlaces():\n",
    "    theta = computeTheta(10)\n",
    "    success = True\n",
    "    return False if rounding_re.match(str(theta)) is None else True\n",
    "  \n",
    "testNumDecimalPlaces()"
   ]
  },
  {
   "cell_type": "code",
   "execution_count": null,
   "id": "188abe06",
   "metadata": {},
   "outputs": [],
   "source": [
    "computeTheta(10) == 0.16"
   ]
  },
  {
   "cell_type": "code",
   "execution_count": null,
   "id": "ee7a0592",
   "metadata": {},
   "outputs": [],
   "source": [
    "computeTheta(25) == 0.06"
   ]
  },
  {
   "cell_type": "code",
   "execution_count": null,
   "id": "cafa6499",
   "metadata": {},
   "outputs": [],
   "source": [
    "computeTheta(100) == 0.02"
   ]
  },
  {
   "cell_type": "code",
   "execution_count": null,
   "id": "118c9fd9",
   "metadata": {},
   "outputs": [],
   "source": [
    "# HIDDEN\n",
    "def testComputeTheta():\n",
    "    for n in range(1,1000):\n",
    "        solution_ans = round(np.pi/(2*n),2)\n",
    "        student_ans = computeTheta(n)\n",
    "        if student_ans != solution_ans:\n",
    "            return False\n",
    "    return True\n",
    "\n",
    "testComputeTheta() == True"
   ]
  },
  {
   "cell_type": "raw",
   "id": "4f64bc44",
   "metadata": {},
   "source": [
    "# END TESTS"
   ]
  },
  {
   "cell_type": "raw",
   "id": "82873f0a",
   "metadata": {},
   "source": [
    "# END QUESTION"
   ]
  },
  {
   "cell_type": "markdown",
   "id": "sharing-johns",
   "metadata": {},
   "source": [
    "We have provided some methods below. `genQC(n)` generates a QuantumCircuit with 1 qubit and n classical bits. `identity(qc)` applies an identity gate to qc's single qubit. `measure(qc, i=0)` applies a measurment from qc's single qubit to the $i$th classical bit."
   ]
  },
  {
   "cell_type": "code",
   "execution_count": null,
   "id": "generous-bracket",
   "metadata": {},
   "outputs": [],
   "source": [
    "def genQC(n):\n",
    "    qc = QuantumCircuit()\n",
    "    qr = QuantumRegister(1,'qr')\n",
    "    cr = ClassicalRegister(n, 'step')\n",
    "    rs = ClassicalRegister(1, 'result')\n",
    "    qc.add_register(qr)\n",
    "    qc.add_register(cr)\n",
    "    qc.add_register(rs)\n",
    "    return qc\n",
    "\n",
    "def identity(qc):\n",
    "    qr = getQR(qc)\n",
    "    qc.id(qr)\n",
    "    return qc\n",
    "\n",
    "def measure(qc, i=0):\n",
    "    qr = getQR(qc)\n",
    "    cr = getCR(qc, i)\n",
    "    qc.measure(qr,cr)\n",
    "    return qc\n",
    "\n",
    "def getQR(qc):\n",
    "    return qc.qregs[0]\n",
    "\n",
    "def getCR(qc, i):\n",
    "    return qc.cregs[0][i]"
   ]
  },
  {
   "cell_type": "raw",
   "id": "c47e465c",
   "metadata": {},
   "source": [
    "# BEGIN QUESTION\n",
    "name: q3\n",
    "points: 1\n",
    "manual: true"
   ]
  },
  {
   "cell_type": "markdown",
   "id": "monthly-executive",
   "metadata": {},
   "source": [
    "### Task 3: \n",
    "Using the above methods, write a function `rotate(qc,theta)` that takes an input QuantumCircuit `qc`, an input `theta`, and applies a gate to `qc`'s qubit which rotates the state by $\\theta$ radians around the $y$ axis of the Bloch sphere."
   ]
  },
  {
   "cell_type": "raw",
   "id": "13c4b975",
   "metadata": {},
   "source": [
    "# BEGIN SOLUTION"
   ]
  },
  {
   "cell_type": "code",
   "execution_count": null,
   "id": "brief-concord",
   "metadata": {},
   "outputs": [],
   "source": [
    "def rotate(qc, theta):\n",
    "    # BEGIN SOLUTION\n",
    "    qr = getQR(qc)\n",
    "    qc.u(theta*2, 0, 0, qr)\n",
    "    # END SOLUTION\n",
    "    return qc"
   ]
  },
  {
   "cell_type": "raw",
   "id": "2c31e556",
   "metadata": {},
   "source": [
    "# END SOLUTION"
   ]
  },
  {
   "cell_type": "raw",
   "id": "1f05f15f",
   "metadata": {},
   "source": [
    "# BEGIN TESTS"
   ]
  },
  {
   "cell_type": "code",
   "execution_count": null,
   "id": "5bd20dbf",
   "metadata": {},
   "outputs": [],
   "source": [
    "def testProbabilities1():\n",
    "    qc = genQC(1)\n",
    "    theta = 468 * np.pi\n",
    "    qc_rot = rotate(qc, theta).reverse_bits()\n",
    "    job = execute(qc_rot, BasicAer.get_backend('statevector_simulator'), shots=10)\n",
    "    return list(job.result().get_statevector(qc))\n",
    "\n",
    "testProbabilities1() == [1, 0]"
   ]
  },
  {
   "cell_type": "code",
   "execution_count": null,
   "id": "d03d6792",
   "metadata": {},
   "outputs": [],
   "source": [
    "def testProbabilities2():\n",
    "    qc = genQC(1)\n",
    "    theta = np.pi / 4\n",
    "    qc_rot = rotate(qc, theta).reverse_bits()\n",
    "    job = execute(qc_rot, BasicAer.get_backend('statevector_simulator'), shots=10)\n",
    "    return list(job.result().get_statevector(qc))\n",
    "\n",
    "testProbabilities2() == [1/np.sqrt(2), 1/np.sqrt(2)]"
   ]
  },
  {
   "cell_type": "code",
   "execution_count": null,
   "id": "b39a05c5",
   "metadata": {},
   "outputs": [],
   "source": [
    "def testProbabilities3():\n",
    "    qc = genQC(1)\n",
    "    theta = np.pi / 3\n",
    "    qc_rot = rotate(qc, theta).reverse_bits()\n",
    "    job = execute(qc_rot, BasicAer.get_backend('statevector_simulator'), shots=10)\n",
    "    return [round(num, 5) for num in job.result().get_statevector().real]\n",
    "\n",
    "ans = [round(num, 5) for num in [1/2, np.sqrt(3)/2]]\n",
    "\n",
    "testProbabilities3() == ans"
   ]
  },
  {
   "cell_type": "code",
   "execution_count": null,
   "id": "819156d1",
   "metadata": {},
   "outputs": [],
   "source": [
    "all(genQC(i).num_clbits - 1 == i for i in range(1,5))"
   ]
  },
  {
   "cell_type": "code",
   "execution_count": null,
   "id": "cee44042",
   "metadata": {},
   "outputs": [],
   "source": [
    "all(genQC(i).num_qubits == 1 for i in range(1,5))"
   ]
  },
  {
   "cell_type": "code",
   "execution_count": null,
   "id": "0206a3eb",
   "metadata": {},
   "outputs": [],
   "source": [
    "# HIDDEN\n",
    "em = BasicAer.get_backend(\"qasm_simulator\")\n",
    "passing = True\n",
    "\n",
    "for i in range(360):\n",
    "    theta = i * np.pi/180\n",
    "    qc_student = rotate(genQC(1), theta)\n",
    "    \n",
    "    qc_solution = genQC(1)\n",
    "    qc_solution.u(theta*2, 0, 0, getQR(qc_solution))\n",
    "    \n",
    "    if not Statevector.from_instruction(qc_student).equiv(Statevector.from_instruction(qc_solution)):\n",
    "        passing = False\n",
    "        break\n",
    "\n",
    "passing == True"
   ]
  },
  {
   "cell_type": "raw",
   "id": "62dfad32",
   "metadata": {},
   "source": [
    "# END TESTS"
   ]
  },
  {
   "cell_type": "raw",
   "id": "523232f8",
   "metadata": {},
   "source": [
    "# END QUESTION"
   ]
  },
  {
   "cell_type": "markdown",
   "id": "legal-starter",
   "metadata": {},
   "source": [
    "We use the below method `bombOracle()` to randomly decide to include a bomb or not in our experiment."
   ]
  },
  {
   "cell_type": "code",
   "execution_count": null,
   "id": "cathedral-keeping",
   "metadata": {},
   "outputs": [],
   "source": [
    "random.seed(468) #for grading purposes\n",
    "\n",
    "def bombOracle():\n",
    "    if random.random() < 0.5:\n",
    "        return \"bomb\"\n",
    "    else:\n",
    "        return \"empty\""
   ]
  },
  {
   "cell_type": "raw",
   "id": "20204ee3",
   "metadata": {},
   "source": [
    "# BEGIN QUESTION\n",
    "name: q4\n",
    "points: 1\n",
    "manual: false"
   ]
  },
  {
   "cell_type": "markdown",
   "id": "interior-publisher",
   "metadata": {},
   "source": [
    "### Task 4: \n",
    "We are now ready to build the full circuit. Write a function `genCircuit(percentage, bomb)` which takes a `percentage` that the bomb won't explode, `bomb` which is the result of a call to `bombOracle()`, and returns a circuit representing the standard EV bomb implementation. For our experiment, we will represent the bomb being present with a measurement and the bomb being absent with an identity. Remember to use `reverse_bits()` at the end to ensure results are displayed in big endian notation."
   ]
  },
  {
   "cell_type": "raw",
   "id": "bf66db1f",
   "metadata": {},
   "source": [
    "# BEGIN SOLUTION"
   ]
  },
  {
   "cell_type": "code",
   "execution_count": null,
   "id": "balanced-athletics",
   "metadata": {},
   "outputs": [],
   "source": [
    "def genCircuit(percentage, bomb):\n",
    "    # BEGIN SOLUTION\n",
    "    n = computeIterations(percentage)\n",
    "    angle = computeTheta(n)\n",
    "    qc = genQC(n)\n",
    "    for i in range(n):\n",
    "        rotate(qc, angle)\n",
    "        if bomb == \"bomb\":\n",
    "            measure(qc,i)\n",
    "        else:\n",
    "            identity(qc)\n",
    "    #\n",
    "    # Add one final measurement without rotation\n",
    "    #   to the result classical register\n",
    "    #   It will be valid only in the case of no explosions\n",
    "    qc.measure(getQR(qc), qc.cregs[1])\n",
    "    qc.reverse_bits()\n",
    "    # END SOLUTION\n",
    "    return qc"
   ]
  },
  {
   "cell_type": "raw",
   "id": "55414f4a",
   "metadata": {},
   "source": [
    "# END SOLUTION"
   ]
  },
  {
   "cell_type": "raw",
   "id": "f98b3eac",
   "metadata": {},
   "source": [
    "# BEGIN TESTS"
   ]
  },
  {
   "cell_type": "code",
   "execution_count": null,
   "id": "7d1b85af",
   "metadata": {},
   "outputs": [],
   "source": [
    "genCircuit(random.random(), \"empty\").num_qubits == 1"
   ]
  },
  {
   "cell_type": "code",
   "execution_count": null,
   "id": "6561409e",
   "metadata": {},
   "outputs": [],
   "source": [
    "genCircuit(.99473, \"bomb\").num_clbits-1 == 468"
   ]
  },
  {
   "cell_type": "code",
   "execution_count": null,
   "id": "biblical-demographic",
   "metadata": {},
   "outputs": [],
   "source": [
    "def testEmptyEV():\n",
    "    qc = genCircuit(random.random(), \"empty\")\n",
    "    job = execute(qc, BasicAer.get_backend('statevector_simulator'), shots=1024)\n",
    "    return [round(num, 5) for num in job.result().get_statevector(qc).real]\n",
    "\n",
    "testEmptyEV() == [0, 1]"
   ]
  },
  {
   "cell_type": "code",
   "execution_count": null,
   "id": "81ca5326",
   "metadata": {},
   "outputs": [],
   "source": [
    "sim = BasicAer.get_backend('statevector_simulator')\n",
    "percentages = [random.random() for i in range(2)]\n",
    "n = 100\n",
    "results = []\n",
    "\n",
    "def testBombEV(percentage):\n",
    "    qc = genCircuit(percentage, \"bomb\")\n",
    "    job = execute(qc, sim, shots=1)\n",
    "    return abs(job.result().get_statevector(qc).real) # ignore phase differences\n",
    "\n",
    "for pct in percentages:\n",
    "    sum_pct = [0, 0]\n",
    "    # consider this to be n Bernoulli trials with p = pct\n",
    "    for i in range(n):\n",
    "         sum_pct += testBombEV(pct) / n\n",
    "    # then the standard error is\n",
    "    SE = np.sqrt(pct * (1-pct) / n)\n",
    "    # then genCircuit() performing above (2.5 SE below p) gives 99.38% confidence that function is correct\n",
    "    threshold = max(pct - 2.5 * SE, 0) \n",
    "    result = bool(sum_pct[0] >= threshold)\n",
    "    if result:\n",
    "        results.append(result)\n",
    "    else:\n",
    "        break\n",
    "\n",
    "all(results)"
   ]
  },
  {
   "cell_type": "raw",
   "id": "acd635d3",
   "metadata": {},
   "source": [
    "# END TESTS"
   ]
  },
  {
   "cell_type": "raw",
   "id": "e37041f6",
   "metadata": {},
   "source": [
    "# END QUESTION"
   ]
  },
  {
   "cell_type": "code",
   "execution_count": null,
   "id": "lonely-paris",
   "metadata": {},
   "outputs": [],
   "source": [
    "bomb = bombOracle()\n",
    "qc = genCircuit(0.5, bomb)\n",
    "qc.draw(output='mpl')"
   ]
  },
  {
   "cell_type": "markdown",
   "id": "permanent-techno",
   "metadata": {},
   "source": [
    "We provide the `em` method below to allow you to easily emulate your circuit."
   ]
  },
  {
   "cell_type": "code",
   "execution_count": null,
   "id": "statutory-third",
   "metadata": {},
   "outputs": [],
   "source": [
    "qasm_sim = BasicAer.get_backend(\"qasm_simulator\")\n",
    "\n",
    "def em(qc, shots=1024):\n",
    "    job = execute(qc, qasm_sim, shots=shots)\n",
    "    counts = job.result().get_counts()\n",
    "    return counts\n",
    "\n",
    "em(qc)"
   ]
  },
  {
   "cell_type": "raw",
   "id": "fb05bd13",
   "metadata": {},
   "source": [
    "# BEGIN QUESTION\n",
    "name: q5\n",
    "points: 1\n",
    "manual: true"
   ]
  },
  {
   "cell_type": "markdown",
   "id": "headed-phenomenon",
   "metadata": {},
   "source": [
    "### Task 5: \n",
    "Run your code a few times and observe the output. Regenerate your circuit until you get a different version. Run each circuit a few times and observe the output. Describe why we observe each respective output and what the output represents. Would you be able to tell if there was a bomb present just by observing the output? Be sure to note any abnormal behavior and explain potential reasons for it. Enter your answers into the cell below."
   ]
  },
  {
   "cell_type": "raw",
   "id": "66f7d41f",
   "metadata": {},
   "source": [
    "# BEGIN SOLUTION"
   ]
  },
  {
   "cell_type": "raw",
   "id": "d821704f",
   "metadata": {},
   "source": [
    "\n",
    "\n",
    "*provide your answer here*\n",
    "\n"
   ]
  },
  {
   "cell_type": "raw",
   "id": "09ac6263",
   "metadata": {},
   "source": [
    "# END SOLUTION"
   ]
  },
  {
   "cell_type": "raw",
   "id": "04bef9ba",
   "metadata": {},
   "source": [
    "# END QUESTION"
   ]
  },
  {
   "cell_type": "markdown",
   "id": "modern-authority",
   "metadata": {},
   "source": [
    "## For-Fun Stuff\n",
    "Figure out how to make questions out of these?"
   ]
  },
  {
   "cell_type": "code",
   "execution_count": null,
   "id": "extraordinary-strengthening",
   "metadata": {},
   "outputs": [],
   "source": [
    "def runCircuit(percentage,bomb):\n",
    "    qc = genCircuit(percentage,bomb)\n",
    "    qc.draw(output=\"mpl\")\n",
    "    counts = em(qc)\n",
    "    n = computeIterations(percentage)\n",
    "    \n",
    "    \n",
    "    zeros_key = \"0 \" + \"0\"*n\n",
    "    one_key = \"1 \"+\"0\"*n\n",
    "    \n",
    "    predicted_bomb = 0\n",
    "    predicted_no_bomb = 0\n",
    "    blew_up = 0\n",
    "    \n",
    "    if zeros_key in counts:\n",
    "        predicted_bomb = counts[zeros_key]\n",
    "    if one_key in counts:\n",
    "        predicted_no_bomb = counts[one_key]\n",
    "        \n",
    "    blew_up = 1024 - predicted_bomb - predicted_no_bomb\n",
    "    #1024 is the default # of shots, must change above if using a different # of shots\n",
    "    \n",
    "    y = np.arange(3)\n",
    "    plt.bar(y, [predicted_bomb, predicted_no_bomb, blew_up])\n",
    "    plt.ylabel(\"Shots\")\n",
    "    plt.xticks(y, [\"Predicted Bomb\", \"Predicted No Bomb\", \"Blew Up\"])\n",
    "    if bomb == \"bomb\":\n",
    "        plt.title(\"EV Experiment Results with Bomb\")\n",
    "    else:\n",
    "        plt.title(\"EV Experiment Results with No Bomb\")\n",
    "    plt.show()\n",
    "    \n",
    "    return None"
   ]
  },
  {
   "cell_type": "code",
   "execution_count": null,
   "id": "unlike-madrid",
   "metadata": {},
   "outputs": [],
   "source": [
    "bomb = bombOracle()\n",
    "runCircuit(0.7,bomb)"
   ]
  },
  {
   "cell_type": "code",
   "execution_count": null,
   "id": "tested-antigua",
   "metadata": {},
   "outputs": [],
   "source": [
    "from qiskit.visualization import visualize_transition\n",
    "\n",
    "def bombVisual(n):\n",
    "    #n is the number of iterations\n",
    "    qc = QuantumCircuit()\n",
    "    qr = QuantumRegister(1,'qr')\n",
    "    qc.add_register(qr)\n",
    "    theta = computeTheta(n)\n",
    "    for i in range(n):\n",
    "        qc.ry(theta*2, qr)\n",
    "    return visualize_transition(qc)\n",
    "    \n",
    "def noBombVisual(n):\n",
    "    qc = QuantumCircuit()\n",
    "    qr = QuantumRegister(1,'qr')\n",
    "    qc.add_register(qr)\n",
    "    theta = computeTheta(n)\n",
    "    qc.ry(theta*2, qr)\n",
    "#     qc.ry(-theta*2, qr)\n",
    "    return visualize_transition(qc)"
   ]
  },
  {
   "cell_type": "code",
   "execution_count": null,
   "id": "moderate-parallel",
   "metadata": {},
   "outputs": [],
   "source": [
    "bombVisual(2)"
   ]
  }
 ],
 "metadata": {
  "kernelspec": {
   "display_name": "Python 3",
   "language": "python",
   "name": "python3"
  },
  "language_info": {
   "codemirror_mode": {
    "name": "ipython",
    "version": 3
   },
   "file_extension": ".py",
   "mimetype": "text/x-python",
   "name": "python",
   "nbconvert_exporter": "python",
   "pygments_lexer": "ipython3",
   "version": "3.7.0"
  }
 },
 "nbformat": 4,
 "nbformat_minor": 5
}
