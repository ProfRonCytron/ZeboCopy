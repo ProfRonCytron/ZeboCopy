{
 "cells": [
  {
   "cell_type": "raw",
   "id": "f5cdd943",
   "metadata": {},
   "source": [
    "# ASSIGNMENT CONFIG\n",
    "generate:\n",
    "    token: XXXXXXXX                  # required\n",
    "    course_id: XXXXX              # required\n",
    "    assignment_id: XXXXX          # required\n",
    "    filtering: true              # true is the default  \n",
    "    pagebreaks: true\n",
    "    show_stdout: true\n",
    "    show_hidden: true\n",
    "\n",
    "export_cell:                     # whether to include an Otter export cell in the output notebooks\n",
    "    instructions: ''             # additional submission instructions to include in the export cell\n",
    "    pdf: false                   # whether to include a PDF of the notebook in the generated zip file\n",
    "    filtering: true              # whether the generated PDF should be filtered\n",
    "    pagebreaks: true             # whether to include page breaks in the PDF\n",
    "    run_tests: false             # whether to run student submissions against local tests during export\n",
    "\n",
    "template_pdf: true"
   ]
  },
  {
   "cell_type": "markdown",
   "id": "99e4fe30",
   "metadata": {},
   "source": [
    "# Qiskit Assignment 3\n",
    "## Multiple Qubits, Entanglement, and Teleportation\n",
    "\n",
    "### Learning Objectives\n",
    "1. Construct circuits with multiple qubits\n",
    "2. Construct circuits with entangled states\n",
    "3. Implement teleportation and understand the role of an eavesdropper"
   ]
  },
  {
   "cell_type": "code",
   "execution_count": null,
   "id": "legitimate-explosion",
   "metadata": {},
   "outputs": [],
   "source": [
    "# Import Qiskit and other needed packages\n",
    "from qiskit import *\n",
    "from qiskit.visualization import plot_histogram\n",
    "from qiskit.quantum_info import Statevector\n",
    "from qiskit_textbook.tools import array_to_latex\n",
    "import random\n",
    "import numpy as np\n",
    "import pprint"
   ]
  },
  {
   "cell_type": "raw",
   "id": "3eb3026b",
   "metadata": {},
   "source": [
    "# BEGIN QUESTION\n",
    "name: q1\n",
    "points: 1\n",
    "manual: false"
   ]
  },
  {
   "cell_type": "markdown",
   "id": "95f4af89",
   "metadata": {},
   "source": [
    "#### Task 1 (1A, 1B) - Multiple Qubit Circuits\n",
    "\n",
    "#### Task 1A\n",
    "Run the following cell. Return a circuit from `multi_qubit_a` that produces the following target state on measurement. It's okay if your resulting state is equivalent up to a global phase. Your qubits must start in state $|00\\rangle$ i.e. no initializations are allowed."
   ]
  },
  {
   "cell_type": "code",
   "execution_count": null,
   "id": "23b96410",
   "metadata": {
    "scrolled": true
   },
   "outputs": [],
   "source": [
    "array_to_latex([-1j/2, 1/2, -1/2, -1j/2], pretext=\"\\\\text{1A Target Statevector} = \")"
   ]
  },
  {
   "cell_type": "raw",
   "id": "89566fe3",
   "metadata": {},
   "source": [
    "# BEGIN SOLUTION"
   ]
  },
  {
   "cell_type": "code",
   "execution_count": null,
   "id": "786d2fe0",
   "metadata": {},
   "outputs": [],
   "source": [
    "def multi_qubit_a():\n",
    "    # BEGIN SOLUTION\n",
    "    # hint: recognize the target state is tensor factorable so this is not an entangled state.\n",
    "    # So we can find what states the qubits need to be in individually.\n",
    "    # If we prepare |0> on qubit zero and |1> on qubit one,\n",
    "    # can use outer product from lecture 01 to obtain the matrix necessary to make this transformation\n",
    "    # they've practiced using the U gate in q1 assignment so can solve for the corresponding U gate parameters.\n",
    "    #\n",
    "    qc = QuantumCircuit(2,2)\n",
    "    # primary solution - U gate\n",
    "    phi = 3*np.pi/2\n",
    "    theta = np.pi/2\n",
    "    lamda = np.pi/2\n",
    "    qc.u(phi,theta,lamda,0)\n",
    "    qc.u(phi,theta,lamda,1)\n",
    "    qc.x(1)\n",
    "#     alternate solution - P, H, and X gates\n",
    "#     qc_a.h(0)\n",
    "#     qc_a.p(3*np.pi/2,0)\n",
    "#     qc_a.h(1)\n",
    "#     qc_a.p(3*np.pi/2,1)\n",
    "#     qc_a.x(1)\n",
    "\n",
    "    qc.measure(0,0)\n",
    "    qc.measure(1,1)\n",
    "    # END SOLUTION\n",
    "    return qc\n",
    "\n",
    "multi_qubit_a().draw(output='mpl')"
   ]
  },
  {
   "cell_type": "markdown",
   "id": "bc329e2c",
   "metadata": {},
   "source": [
    "**Recall**: Qiskit uses a little endian convention for qubit ordering that is different from what is found in many textbooks and the lecture slides. Since we're working with the statevector simulator, we can use the Statevector class' [`reverse_qargs()`](https://qiskit.org/documentation/stubs/qiskit.quantum_info.Statevector.reverse_qargs.html#qiskit-quantum-info-statevector-reverse-qargs) method to display the state on measurement of your multi-qubit circuit in big endian notation."
   ]
  },
  {
   "cell_type": "code",
   "execution_count": null,
   "id": "b2b1c93a",
   "metadata": {},
   "outputs": [],
   "source": [
    "qc = multi_qubit_a()\n",
    "qc.remove_final_measurements()\n",
    "ket = Statevector.from_instruction(qc).reverse_qargs()\n",
    "array_to_latex(ket, pretext=\"\\\\text{1A Statevector} = \")"
   ]
  },
  {
   "cell_type": "raw",
   "id": "828e0a37",
   "metadata": {},
   "source": [
    "# END SOLUTION"
   ]
  },
  {
   "cell_type": "markdown",
   "id": "bf1ccd6d",
   "metadata": {},
   "source": [
    "#### Task 1B\n",
    "Run the following cell. Return a circuit from `multi_qubit_b` that produces the following target state on measurement. It's okay if your resulting state is equivalent up to a global phase. Your qubits must start in state $|00\\rangle$ i.e. no initializations are allowed."
   ]
  },
  {
   "cell_type": "code",
   "execution_count": null,
   "id": "dd29c08c",
   "metadata": {},
   "outputs": [],
   "source": [
    "array_to_latex([1/(2**(.5)), 0, 0, -1/(2**(.5))], pretext=\"\\\\text{1B Target Statevector} = \")"
   ]
  },
  {
   "cell_type": "raw",
   "id": "b89bab21",
   "metadata": {},
   "source": [
    "# BEGIN SOLUTION"
   ]
  },
  {
   "cell_type": "code",
   "execution_count": null,
   "id": "fc213f00",
   "metadata": {},
   "outputs": [],
   "source": [
    "def multi_qubit_b():\n",
    "    # BEGIN SOLUTION\n",
    "    # hint: recognize the target state is a bell state; it's entangled and not tensor factorable\n",
    "    # bell states are created in similar ways to each other, there is an example in lecture 10\n",
    "    # on teleportation. the tensor of Z and I produces the desired negative\n",
    "    qc = QuantumCircuit(2,2)\n",
    "    qc.h(0)\n",
    "    qc.cnot(0,1)\n",
    "    qc.z(0)\n",
    "    qc.barrier()\n",
    "    qc.measure(0,0)\n",
    "    qc.measure(1,1)\n",
    "    # END SOLUTION\n",
    "    return qc\n",
    "\n",
    "multi_qubit_b().draw(output='mpl')"
   ]
  },
  {
   "cell_type": "code",
   "execution_count": null,
   "id": "8fdec750",
   "metadata": {},
   "outputs": [],
   "source": [
    "qc = multi_qubit_b()\n",
    "qc.remove_final_measurements()\n",
    "ket = Statevector.from_instruction(qc).reverse_qargs()\n",
    "array_to_latex(ket, pretext=\"\\\\text{1B last run} = \")"
   ]
  },
  {
   "cell_type": "raw",
   "id": "3b85054f",
   "metadata": {},
   "source": [
    "# END SOLUTION"
   ]
  },
  {
   "cell_type": "raw",
   "id": "5a492e31",
   "metadata": {},
   "source": [
    "# BEGIN TESTS"
   ]
  },
  {
   "cell_type": "code",
   "execution_count": null,
   "id": "d205668f",
   "metadata": {},
   "outputs": [],
   "source": [
    "def testNoInitializations_1a():\n",
    "    ops = multi_qubit_a().count_ops()\n",
    "    return not 'initialize' in ops\n",
    "    \n",
    "testNoInitializations_1a()"
   ]
  },
  {
   "cell_type": "code",
   "execution_count": null,
   "id": "d7f63190",
   "metadata": {},
   "outputs": [],
   "source": [
    "def testMeasurements_1a():\n",
    "    ops = multi_qubit_a().count_ops()\n",
    "    return 'measure' in ops and ops['measure'] == 2\n",
    "\n",
    "testMeasurements_1a()"
   ]
  },
  {
   "cell_type": "code",
   "execution_count": null,
   "id": "c060a65d",
   "metadata": {},
   "outputs": [],
   "source": [
    "def testAmplitudes_1a():\n",
    "    qc = multi_qubit_a()\n",
    "    qc.remove_final_measurements()\n",
    "    ket = Statevector.from_instruction(qc).reverse_qargs()\n",
    "    return Statevector([-1j/2, 1/2, -1/2, -1j/2]).equiv(ket)\n",
    "\n",
    "testAmplitudes_1a()"
   ]
  },
  {
   "cell_type": "code",
   "execution_count": null,
   "id": "a2a74549",
   "metadata": {},
   "outputs": [],
   "source": [
    "def testNoInitializations_1b():\n",
    "    ops = multi_qubit_b().count_ops()\n",
    "    return not 'initialize' in ops\n",
    "    \n",
    "testNoInitializations_1b()"
   ]
  },
  {
   "cell_type": "code",
   "execution_count": null,
   "id": "ffa1858c",
   "metadata": {},
   "outputs": [],
   "source": [
    "def testMeasurements_1b():\n",
    "    ops = multi_qubit_b().count_ops()\n",
    "    return 'measure' in ops and ops['measure'] == 2\n",
    "\n",
    "testMeasurements_1b()"
   ]
  },
  {
   "cell_type": "code",
   "execution_count": null,
   "id": "01aee130",
   "metadata": {},
   "outputs": [],
   "source": [
    "def testAmplitudes_1b():\n",
    "    qc = multi_qubit_b()\n",
    "    qc.remove_final_measurements()\n",
    "    ket = Statevector.from_instruction(qc).reverse_qargs()\n",
    "    return Statevector([1/(2**(.5)), 0, 0, -1/(2**(.5))]).equiv(ket)\n",
    "\n",
    "testAmplitudes_1b()"
   ]
  },
  {
   "cell_type": "raw",
   "id": "004401fc",
   "metadata": {},
   "source": [
    "# END TESTS"
   ]
  },
  {
   "cell_type": "raw",
   "id": "97e6d1d4",
   "metadata": {},
   "source": [
    "# END QUESTION"
   ]
  },
  {
   "cell_type": "raw",
   "id": "da188b8f",
   "metadata": {},
   "source": [
    "# BEGIN QUESTION\n",
    "name: q2\n",
    "points: 1\n",
    "manual: false"
   ]
  },
  {
   "cell_type": "markdown",
   "id": "83e82dfc",
   "metadata": {},
   "source": [
    "#### Task 2 (2A, 2B) - What's in the box?\n",
    "\n",
    "Build a circuit that figures out what rotation is done by an oracle. \n",
    "\n",
    "**README**: Your solutions to 2A and 2B may **NOT** use conditional statements to dynamically pick gates according to the input or otherwise attempt to influence the oracle. In other words, the only gate that may vary between runs is the oracle, and do **NOT** use the parameter `r` in any code you write. Solutions not adhering to these guidelines will be ***severely penalized***.\n",
    "\n",
    "#### Task 2A\n",
    "The oracle promises to be **I** or **Z**. Return a circuit from `whats_in_box_a` such that \n",
    "- measurement yields either $|0\\rangle$ or $|1\\rangle$\n",
    "- the probability of measuring each state is correlated perfectly with the gates returned by the oracle\n",
    "- example: if you return $|1\\rangle$ for an oracle of Z, the probability of seeing $|1\\rangle$ given an oracle of I should be 0."
   ]
  },
  {
   "cell_type": "raw",
   "id": "ce8c9228",
   "metadata": {},
   "source": [
    "# BEGIN SOLUTION"
   ]
  },
  {
   "cell_type": "code",
   "execution_count": null,
   "id": "1ac1fd78",
   "metadata": {},
   "outputs": [],
   "source": [
    "def oracle_a(qc, r=None):\n",
    "    if r is None:\n",
    "        r = random.uniform(0, 1)\n",
    "    qc.i(0) if r > 0.5 else qc.z(0)\n",
    "    return qc\n",
    "\n",
    "def whats_in_box_a(r=None):\n",
    "    # BEGIN SOLUTION\n",
    "    # hint: use I:0, Z:1\n",
    "    qc = QuantumCircuit(1,1)\n",
    "    qc.h(0)\n",
    "    # END SOLUTION\n",
    "    qc.barrier()\n",
    "    qc = oracle_a(qc,r)\n",
    "    qc.barrier()\n",
    "    # BEGIN SOLUTION\n",
    "    qc.h(0)\n",
    "    qc.measure(0,0)\n",
    "    # END SOLUTION\n",
    "    return qc\n",
    "\n",
    "whats_in_box_a().draw(output='mpl')"
   ]
  },
  {
   "cell_type": "code",
   "execution_count": null,
   "id": "049a4168",
   "metadata": {},
   "outputs": [],
   "source": [
    "qc = whats_in_box_a()\n",
    "qc.remove_final_measurements()\n",
    "ket = Statevector.from_instruction(qc)\n",
    "array_to_latex(ket, pretext=\"\\\\text{2A last run} = \")"
   ]
  },
  {
   "cell_type": "markdown",
   "id": "7d9e81a0",
   "metadata": {},
   "source": [
    "#### Task 2b \n",
    "The oracle promises to be **I**, **X**, **Y**, or **Z**. Return a circuit from `whats_in_box_b` such that\n",
    "- measurement yields either $|00\\rangle$, $|01\\rangle$, $|10\\rangle$, or $|11\\rangle$\n",
    "- the probability of seeing each state is correlated perfectly with specific gates returned by the oracle\n",
    "- example: if you return $|01\\rangle$ for an oracle of Z, the probability of seeing $|01\\rangle$ given any other gate should be 0."
   ]
  },
  {
   "cell_type": "code",
   "execution_count": null,
   "id": "892fe7af",
   "metadata": {},
   "outputs": [],
   "source": [
    "def oracle_b(qc, r=None):\n",
    "    if r is None:\n",
    "        r = random.uniform(0, 1)\n",
    "    if r < 0.25:\n",
    "        qc.i(0)\n",
    "        qc.i(1)\n",
    "    elif r < 0.5:\n",
    "        qc.x(0)\n",
    "        qc.x(1)\n",
    "    elif r < 0.75:\n",
    "        qc.y(0)\n",
    "        qc.y(1)\n",
    "    else:\n",
    "        qc.z(0)\n",
    "        qc.z(1)\n",
    "    return qc\n",
    "\n",
    "def whats_in_box_b(r=None):\n",
    "    # BEGIN SOLUTION\n",
    "    # hint: use I:00, X:01, Y:11, Z:10\n",
    "    qc = QuantumCircuit(2,2)\n",
    "    qc.h(0)\n",
    "    # END SOLUTION\n",
    "    qc.barrier()\n",
    "    qc = oracle_b(qc,r)\n",
    "    qc.barrier()\n",
    "    # BEGIN SOLUTION\n",
    "    qc.h(0)\n",
    "    qc.measure(0,0)\n",
    "    qc.measure(1,1)\n",
    "    # END SOLUTION\n",
    "    return qc\n",
    "\n",
    "whats_in_box_b().draw(output='mpl')"
   ]
  },
  {
   "cell_type": "code",
   "execution_count": null,
   "id": "1e1dc64e",
   "metadata": {},
   "outputs": [],
   "source": [
    "qc = whats_in_box_b()\n",
    "qc.remove_final_measurements()\n",
    "ket = Statevector.from_instruction(qc).reverse_qargs()\n",
    "array_to_latex(ket, pretext=\"\\\\text{2B last run} = \")"
   ]
  },
  {
   "cell_type": "raw",
   "id": "d13f0ff9",
   "metadata": {},
   "source": [
    "# END SOLUTION"
   ]
  },
  {
   "cell_type": "raw",
   "id": "c0d5ef3f",
   "metadata": {},
   "source": [
    "# BEGIN TESTS"
   ]
  },
  {
   "cell_type": "code",
   "execution_count": null,
   "id": "184cb4c4",
   "metadata": {},
   "outputs": [],
   "source": [
    "def testValidateRulesA():\n",
    "    qc_z = whats_in_box_a(0)\n",
    "    qc_i = whats_in_box_a(1)\n",
    "    ops_z = qc_z.count_ops()\n",
    "    ops_i = qc_i.count_ops()\n",
    "    if abs(len(ops_z) - len(ops_i)) > 1:\n",
    "        return False\n",
    "    for (k, v) in ops_z.items():\n",
    "        if k in ops_i:\n",
    "            if v != ops_i[k]:\n",
    "                if abs(ops_i[k] - v) > 0 and (k != 'z' and k != 'i'):\n",
    "                    return False\n",
    "    try:\n",
    "        nz = ops_i['z']\n",
    "    except KeyError:\n",
    "        nz = 0\n",
    "    try:\n",
    "        ni = ops_z['id']\n",
    "    except KeyError:\n",
    "        ni = 0\n",
    "    return ops_i['id'] - ni == 1 and ops_z['z'] - nz == 1\n",
    "    \n",
    "testValidateRulesA()"
   ]
  },
  {
   "cell_type": "code",
   "execution_count": null,
   "id": "251c1052",
   "metadata": {},
   "outputs": [],
   "source": [
    "def testZOracleA():\n",
    "    sim = BasicAer.get_backend(\"qasm_simulator\")\n",
    "    shots = 10\n",
    "    qc = whats_in_box_a(0)\n",
    "    job = execute(qc, sim, shots=shots)\n",
    "    counts = job.result().get_counts()\n",
    "    res = counts['0'] if '0' in counts else counts['1']\n",
    "    return len(counts) == 1 and res == shots and testValidateRulesA()\n",
    "\n",
    "testZOracleA()"
   ]
  },
  {
   "cell_type": "code",
   "execution_count": null,
   "id": "00d155a3",
   "metadata": {},
   "outputs": [],
   "source": [
    "def testIOracleA():\n",
    "    sim = BasicAer.get_backend(\"qasm_simulator\")\n",
    "    shots = 10\n",
    "    qc = whats_in_box_a(1)\n",
    "    job = execute(qc, sim, shots=shots)\n",
    "    counts = job.result().get_counts()\n",
    "    res = counts['0'] if '0' in counts else counts['1']\n",
    "    return len(counts) == 1 and res == shots and testValidateRulesA()\n",
    "\n",
    "testIOracleA()"
   ]
  },
  {
   "cell_type": "code",
   "execution_count": null,
   "id": "87b3131f",
   "metadata": {},
   "outputs": [],
   "source": [
    "def testMixedOracleA():\n",
    "    passing_both = all([testZOracleA() and testIOracleA() for i in range(10)])\n",
    "    if not passing_both:\n",
    "        return False\n",
    "    shots = 100\n",
    "    sim = BasicAer.get_backend(\"qasm_simulator\")\n",
    "    qc_z = whats_in_box_a(0)\n",
    "    job_z = execute(qc_z, sim, shots=shots)\n",
    "    counts_z = job_z.result().get_counts()\n",
    "    qc_i = whats_in_box_a(1)\n",
    "    job_i = execute(qc_i, sim, shots=shots)\n",
    "    counts_i = job_i.result().get_counts()\n",
    "    are_different_values = ('1' in counts_z) if '0' in counts_i else ('0' in counts_z)\n",
    "    return are_different_values\n",
    "\n",
    "testMixedOracleA()"
   ]
  },
  {
   "cell_type": "code",
   "execution_count": null,
   "id": "4907cd64",
   "metadata": {},
   "outputs": [],
   "source": [
    "def testValidateRulesB():\n",
    "    qc_i = whats_in_box_b(0)\n",
    "    qc_x = whats_in_box_b(0.3)\n",
    "    qc_y = whats_in_box_b(0.6)\n",
    "    qc_z = whats_in_box_b(1)\n",
    "    qcs = [qc_i, qc_x, qc_y, qc_z]\n",
    "    gates = ['i','x','y','z']\n",
    "\n",
    "                \n",
    "    for i,a in enumerate(qcs):\n",
    "        for j,b in enumerate(qcs):\n",
    "            if i == j:\n",
    "                continue\n",
    "            elif abs(len(a.count_ops()) - len(b.count_ops())) > 1:\n",
    "                return False\n",
    "            for ka, va in a.count_ops().items():\n",
    "                if ka in b.count_ops():\n",
    "                    if abs(b.count_ops()[ka] - va) > 0 and (ka != gates[i]):\n",
    "                        return False\n",
    "                \n",
    "    return True\n",
    "    \n",
    "testValidateRulesB()"
   ]
  },
  {
   "cell_type": "code",
   "execution_count": null,
   "id": "83846269",
   "metadata": {},
   "outputs": [],
   "source": [
    "def testIOracleB():\n",
    "    sim = BasicAer.get_backend(\"qasm_simulator\")\n",
    "    shots = 10\n",
    "    qc = whats_in_box_b(0)\n",
    "    job = execute(qc, sim, shots=shots)\n",
    "    counts = job.result().get_counts()\n",
    "    res = -1\n",
    "    for state in ['00','01','10','11']:\n",
    "        if state in counts:\n",
    "            res = counts[state]\n",
    "            break\n",
    "    return len(counts) == 1 and res == shots and testValidateRulesB()\n",
    "\n",
    "testIOracleB()"
   ]
  },
  {
   "cell_type": "code",
   "execution_count": null,
   "id": "fdde8d10",
   "metadata": {},
   "outputs": [],
   "source": [
    "def testXOracleB():\n",
    "    sim = BasicAer.get_backend(\"qasm_simulator\")\n",
    "    shots = 10\n",
    "    qc = whats_in_box_b(0.3)\n",
    "    job = execute(qc, sim, shots=shots)\n",
    "    counts = job.result().get_counts()\n",
    "    res = -1\n",
    "    for state in ['00','01','10','11']:\n",
    "        if state in counts:\n",
    "            res = counts[state]\n",
    "            break\n",
    "    return len(counts) == 1 and res == shots and testValidateRulesB()\n",
    "\n",
    "testXOracleB()"
   ]
  },
  {
   "cell_type": "code",
   "execution_count": null,
   "id": "3ce6ca08",
   "metadata": {},
   "outputs": [],
   "source": [
    "def testYOracleB():\n",
    "    sim = BasicAer.get_backend(\"qasm_simulator\")\n",
    "    shots = 10\n",
    "    qc = whats_in_box_b(1)\n",
    "    job = execute(qc, sim, shots=shots)\n",
    "    counts = job.result().get_counts()\n",
    "    res = -1\n",
    "    for state in ['00','01','10','11']:\n",
    "        if state in counts:\n",
    "            res = counts[state]\n",
    "            break\n",
    "    return len(counts) == 1 and res == shots and testValidateRulesB()\n",
    "\n",
    "testYOracleB()"
   ]
  },
  {
   "cell_type": "code",
   "execution_count": null,
   "id": "8c030682",
   "metadata": {},
   "outputs": [],
   "source": [
    "def testZOracleB():\n",
    "    sim = BasicAer.get_backend(\"qasm_simulator\")\n",
    "    shots = 10\n",
    "    qc = whats_in_box_b(1)\n",
    "    job = execute(qc, sim, shots=shots)\n",
    "    counts = job.result().get_counts()\n",
    "    res = -1\n",
    "    for state in ['00','01','10','11']:\n",
    "        if state in counts:\n",
    "            res = counts[state]\n",
    "            break\n",
    "    return len(counts) == 1 and res == shots and testValidateRulesB()\n",
    "\n",
    "testZOracleB()"
   ]
  },
  {
   "cell_type": "code",
   "execution_count": null,
   "id": "b0d03c49",
   "metadata": {},
   "outputs": [],
   "source": [
    "def testMixedOracleB():\n",
    "    passing_all = all([\n",
    "        testIOracleB() and \n",
    "        testXOracleB() and\n",
    "        testYOracleB() and\n",
    "        testZOracleB() \n",
    "        for i in range(3)])\n",
    "    if not passing_all:\n",
    "        return False\n",
    "    shots = 50\n",
    "    sim = BasicAer.get_backend(\"qasm_simulator\")\n",
    "    qc_i = whats_in_box_b(0)\n",
    "    qc_x = whats_in_box_b(0.3)\n",
    "    qc_y = whats_in_box_b(0.6)\n",
    "    qc_z = whats_in_box_b(1)\n",
    "    qcs = [qc_i, qc_x, qc_y, qc_z]\n",
    "    states = []\n",
    "    \n",
    "    for i, qc in enumerate(qcs):\n",
    "        job = execute(qc, sim, shots=shots)\n",
    "        counts = job.result().get_counts()\n",
    "        for state in ['00','01','10','11']:\n",
    "            if state in counts:\n",
    "                states.append(state)\n",
    "                break\n",
    "    # check if the states returned for each gate are unique\n",
    "    return len(set(states)) == len(states)\n",
    "\n",
    "testMixedOracleB()"
   ]
  },
  {
   "cell_type": "raw",
   "id": "249581aa",
   "metadata": {},
   "source": [
    "# END TESTS"
   ]
  },
  {
   "cell_type": "raw",
   "id": "642bed99",
   "metadata": {},
   "source": [
    "# END QUESTION"
   ]
  },
  {
   "cell_type": "raw",
   "id": "9efa2b46",
   "metadata": {},
   "source": [
    "# BEGIN QUESTION\n",
    "name: q1\n",
    "points: 1\n",
    "manual: false"
   ]
  },
  {
   "cell_type": "markdown",
   "id": "b5ea42b2",
   "metadata": {},
   "source": [
    "#### Task 3 - Teleportation\n",
    "In lecture 10, we discussed how states may be sent between Alice and Bob even when they are separated by an arbitrary distance using the power of teleportation. We'll revisit that experiment, but in Task 3, we'll start with a different bell state. Specifically, the EPR pair will be created as $|\\psi_A\\psi_B\\rangle=\\frac{|00\\rangle+|11\\rangle}{\\sqrt{2}}$. \n",
    "\n",
    "Given partial circuitry that teleports states, your task is to play the role of Bob and apply the correct transformations, in all cases, to recover the states sent by Alice. \n",
    "\n",
    "**Hint**: Take a look at Qiskit's [c_if gate](https://qiskit.org/documentation/stubs/qiskit.circuit.Gate.c_if.html#qiskit-circuit-gate-c-if)."
   ]
  },
  {
   "cell_type": "raw",
   "id": "0995aec9",
   "metadata": {},
   "source": [
    "# BEGIN SOLUTION"
   ]
  },
  {
   "cell_type": "raw",
   "id": "bdca0fe3",
   "metadata": {},
   "source": [
    "# END SOLUTION"
   ]
  },
  {
   "cell_type": "raw",
   "id": "9136f609",
   "metadata": {},
   "source": [
    "# BEGIN TESTS"
   ]
  },
  {
   "cell_type": "raw",
   "id": "c0daf15f",
   "metadata": {},
   "source": [
    "# END TESTS"
   ]
  },
  {
   "cell_type": "raw",
   "id": "07f87f69",
   "metadata": {},
   "source": [
    "# END QUESTION"
   ]
  },
  {
   "cell_type": "markdown",
   "id": "20c65af4",
   "metadata": {},
   "source": [
    "That's it for today!"
   ]
  },
  {
   "cell_type": "markdown",
   "id": "f44dfc06",
   "metadata": {},
   "source": [
    "### Extension Ideas\n",
    "1. Solve the twin prime conjecture\n",
    "2. Count down from infinity\n",
    "3. etc..."
   ]
  }
 ],
 "metadata": {
  "kernelspec": {
   "display_name": "Python 3",
   "language": "python",
   "name": "python3"
  },
  "language_info": {
   "codemirror_mode": {
    "name": "ipython",
    "version": 3
   },
   "file_extension": ".py",
   "mimetype": "text/x-python",
   "name": "python",
   "nbconvert_exporter": "python",
   "pygments_lexer": "ipython3",
   "version": "3.7.0"
  }
 },
 "nbformat": 4,
 "nbformat_minor": 5
}
