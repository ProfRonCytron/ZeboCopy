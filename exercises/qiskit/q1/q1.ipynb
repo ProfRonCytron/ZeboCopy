{
 "cells": [
  {
   "cell_type": "raw",
   "id": "f48286b7",
   "metadata": {},
   "source": [
    "# ASSIGNMENT CONFIG\n",
    "generate:\n",
    "    token: 8654j6ett3xjTQHqUK3Jyw                  # required\n",
    "    course_id: 494209 # from gradescope URL\n",
    "    assignment_id: 2611959 # from Gradescope MANUAL assignment URL\n",
    "    filtering: true              # true is the default  \n",
    "    pagebreaks: true\n",
    "    show_stdout: true\n",
    "    show_hidden: true\n",
    "requirements: # for building the autograder, in addition to the stuff required by otter\n",
    "    - qiskit==0.32.1\n",
    "    - pylatexenc\n",
    "    - git+https://github.com/qiskit-community/qiskit-textbook.git#egg=qiskit_textbook&subdirectory=qiskit-textbook-src\n",
    "export_cell:                     # whether to include an Otter export cell in the output notebooks\n",
    "    instructions: ''             # additional submission instructions to include in the export cell\n",
    "    pdf: false                   # whether to include a PDF of the notebook in the generated zip file\n",
    "    filtering: true              # whether the generated PDF should be filtered\n",
    "    pagebreaks: true             # whether to include page breaks in the PDF\n",
    "    run_tests: false             # whether to run student submissions against local tests during export\n",
    "template_pdf: true\n",
    "solutions_pdf: true"
   ]
  },
  {
   "cell_type": "markdown",
   "id": "9a446008",
   "metadata": {},
   "source": [
    "# Qiskit Assignment 1\n",
    "## Single Qubit Circuits\n",
    "\n",
    "### Learning Objectives\n",
    "1. Build Pauli gates from Qiskit's U gate\n",
    "2. Use the U gate to reverse a series of operations\n",
    "3. Work with various rotations on the bloch sphere\n",
    "4. Understand IBM's circuit transpilation process\n",
    "\n",
    "### Resources\n",
    "Qiskit assignments are designed to be collaborative and open internet. Where possible, links to useful documentation will be embedded within questions. You're free to discuss these tasks with TAs and peers, but do write your own solutions. For some questions, there may be additional restrictions on the ways you can solve them. To ensure compliance with course policies and assignment instructions, we reserve the right to inspect your code."
   ]
  },
  {
   "cell_type": "markdown",
   "id": "d231a051",
   "metadata": {},
   "source": [
    "**NAME**: REPLACE WITH YOUR NAME\n",
    "\n",
    "**STUDENT ID**: REPLACE WITH YOUR STUDENT ID"
   ]
  },
  {
   "cell_type": "code",
   "execution_count": 1,
   "id": "c268f220",
   "metadata": {},
   "outputs": [],
   "source": [
    "# Import Qiskit and other needed packages\n",
    "from qiskit import *\n",
    "from qiskit.visualization import plot_histogram\n",
    "from qiskit.quantum_info import Statevector\n",
    "from qiskit.circuit.random import random_circuit\n",
    "import numpy as np\n",
    "import pprint\n",
    "import random"
   ]
  },
  {
   "cell_type": "raw",
   "id": "f4c321c2",
   "metadata": {},
   "source": [
    "# BEGIN QUESTION\n",
    "name: Task 1\n",
    "points: 10\n",
    "manual: false"
   ]
  },
  {
   "cell_type": "markdown",
   "id": "306c6bf8",
   "metadata": {},
   "source": [
    "#### Task 1 - Constructing Pauli Z gate from a U Gate (10 pts)\n",
    "We can use [Qiskit's U Gate](https://qiskit.org/documentation/stubs/qiskit.circuit.QuantumCircuit.u.html#qiskit.circuit.QuantumCircuit.u) to construct arbitrary quantum operations. Fill in the function below to return a circuit with\n",
    "- 1 qubit, [initialized](https://qiskit.org/documentation/stubs/qiskit.circuit.QuantumCircuit.initialize.html#qiskit.circuit.QuantumCircuit.initialize) to the parameter `initial_state`\n",
    "- 1 classical bit\n",
    "- a U gate with parameters which perform the same rotation as a Pauli Z gate\n",
    "- a measurement following the rotation\n",
    "\n",
    "Additionally,\n",
    "- your solution may not include the Z gate\n",
    "- parameters for the U gate are expressed in radians; use `np.pi` in place of $\\pi$"
   ]
  },
  {
   "cell_type": "raw",
   "id": "09c46ad7",
   "metadata": {},
   "source": [
    "# BEGIN SOLUTION"
   ]
  },
  {
   "cell_type": "code",
   "execution_count": 2,
   "id": "93187f7a",
   "metadata": {},
   "outputs": [],
   "source": [
    "def qc_pauli_z(initial_state=[1,0]):\n",
    "    # BEGIN SOLUTION\n",
    "    theta = 0\n",
    "    phi = np.pi\n",
    "    lamda = 0\n",
    "    \n",
    "    qc = QuantumCircuit(1,1)\n",
    "    qc.initialize(initial_state, 0)\n",
    "    qc.u(theta, phi, lamda, 0)\n",
    "    qc.measure(0,0)\n",
    "    return qc\n",
    "    # END SOLUTION"
   ]
  },
  {
   "cell_type": "code",
   "execution_count": 3,
   "id": "3242e7b6",
   "metadata": {},
   "outputs": [
    {
     "data": {
      "image/png": "[encoded data removed]",
      "text/plain": [
       "<Figure size 253.926x144.48 with 1 Axes>"
      ]
     },
     "execution_count": 3,
     "metadata": {},
     "output_type": "execute_result"
    }
   ],
   "source": [
    "qc_pauli_z().draw(output='mpl')"
   ]
  },
  {
   "cell_type": "raw",
   "id": "ca463655",
   "metadata": {},
   "source": [
    "# END SOLUTION"
   ]
  },
  {
   "cell_type": "raw",
   "id": "9aa20f3b",
   "metadata": {},
   "source": [
    "# BEGIN TESTS"
   ]
  },
  {
   "cell_type": "code",
   "execution_count": 4,
   "id": "9d7bbd35",
   "metadata": {},
   "outputs": [
    {
     "data": {
      "text/plain": [
       "True"
      ]
     },
     "execution_count": 4,
     "metadata": {},
     "output_type": "execute_result"
    }
   ],
   "source": [
    "\"\"\" # BEGIN TEST CONFIG\n",
    "hidden: false\n",
    "points: 1\n",
    "failure_message: EXPECTED CIRCUIT TO HAVE 1 CLASSICAL BIT\n",
    "\"\"\" # END TEST CONFIG\n",
    "qc_pauli_z().num_clbits == 1"
   ]
  },
  {
   "cell_type": "code",
   "execution_count": 5,
   "id": "439a1f1f",
   "metadata": {},
   "outputs": [
    {
     "data": {
      "text/plain": [
       "True"
      ]
     },
     "execution_count": 5,
     "metadata": {},
     "output_type": "execute_result"
    }
   ],
   "source": [
    "\"\"\" # BEGIN TEST CONFIG\n",
    "hidden: false\n",
    "points: 1\n",
    "failure_message: EXPECTED CIRCUIT TO HAVE 1 QUBIT\n",
    "\"\"\" # END TEST CONFIG\n",
    "qc_pauli_z().num_qubits == 1"
   ]
  },
  {
   "cell_type": "code",
   "execution_count": 6,
   "id": "8e15b4d5",
   "metadata": {},
   "outputs": [
    {
     "data": {
      "text/plain": [
       "True"
      ]
     },
     "execution_count": 6,
     "metadata": {},
     "output_type": "execute_result"
    }
   ],
   "source": [
    "\"\"\" # BEGIN TEST CONFIG\n",
    "hidden: false\n",
    "points: 1\n",
    "failure_message: EXPECTED CIRCUIT TO NOT CONTAIN A Z GATE\n",
    "\"\"\" # END TEST CONFIG\n",
    "def testNoQiskitZGate():\n",
    "    ops = qc_pauli_z().count_ops()\n",
    "    return 'z' not in ops\n",
    "    \n",
    "testNoQiskitZGate()"
   ]
  },
  {
   "cell_type": "code",
   "execution_count": 7,
   "id": "c3767e11",
   "metadata": {},
   "outputs": [
    {
     "data": {
      "text/plain": [
       "True"
      ]
     },
     "execution_count": 7,
     "metadata": {},
     "output_type": "execute_result"
    }
   ],
   "source": [
    "\"\"\" # BEGIN TEST CONFIG\n",
    "hidden: false\n",
    "points: 1\n",
    "failure_message: EXPECTED CIRCUIT TO USE initialize() TO SET THE INITIAL STATE TO PARAMETER initial_state\n",
    "\"\"\" # END TEST CONFIG\n",
    "def testInitialState():\n",
    "    try:\n",
    "        num_initializations = qc_pauli_z().count_ops()['initialize']\n",
    "    except KeyError:\n",
    "        return False\n",
    "    else:\n",
    "        return num_initializations == 1\n",
    "    \n",
    "testInitialState()"
   ]
  },
  {
   "cell_type": "code",
   "execution_count": 8,
   "id": "272afd21",
   "metadata": {},
   "outputs": [
    {
     "data": {
      "text/plain": [
       "True"
      ]
     },
     "execution_count": 8,
     "metadata": {},
     "output_type": "execute_result"
    }
   ],
   "source": [
    "\"\"\" # BEGIN TEST CONFIG\n",
    "hidden: false\n",
    "points: 1\n",
    "failure_message: EXPECTED CIRCUIT TO PERFORM 1 MEASUREMENT\n",
    "\"\"\" # END TEST CONFIG\n",
    "def testMeasurementPerformed():\n",
    "    try:\n",
    "        num_measurements = qc_pauli_z().count_ops()['measure']\n",
    "    except KeyError:\n",
    "        return False\n",
    "    else:\n",
    "        return num_measurements == 1\n",
    "\n",
    "testMeasurementPerformed()"
   ]
  },
  {
   "cell_type": "code",
   "execution_count": 9,
   "id": "91ebabcc",
   "metadata": {},
   "outputs": [
    {
     "data": {
      "text/plain": [
       "True"
      ]
     },
     "execution_count": 9,
     "metadata": {},
     "output_type": "execute_result"
    }
   ],
   "source": [
    "\"\"\" # BEGIN TEST CONFIG\n",
    "hidden: false\n",
    "points: 1\n",
    "failure_message: EXPECTED CIRCUIT TO RETURN THE CORRECT RESULT FOR A RANDOM STATE\n",
    "\"\"\" # END TEST CONFIG\n",
    "def testRandomInitialState():\n",
    "    results = []\n",
    "    for i in range(3):\n",
    "        c = random.uniform(0, 2*np.pi)\n",
    "        initial_state = [(np.cos(c)), (np.sin(c))]\n",
    "        pauli_z_matrix = np.array(\n",
    "                                    [[1, 0],\n",
    "                                     [0,-1]]\n",
    "                                 )\n",
    "        qc = qc_pauli_z(initial_state)\n",
    "        qc.remove_final_measurements()\n",
    "        result_sv = Statevector.from_instruction(qc)\n",
    "        results.append(result_sv.equiv(Statevector(pauli_z_matrix.dot(initial_state))))\n",
    "    return all(results)\n",
    "\n",
    "testRandomInitialState()"
   ]
  },
  {
   "cell_type": "code",
   "execution_count": 10,
   "id": "fd2346cc",
   "metadata": {},
   "outputs": [
    {
     "data": {
      "text/plain": [
       "True"
      ]
     },
     "execution_count": 10,
     "metadata": {},
     "output_type": "execute_result"
    }
   ],
   "source": [
    "\"\"\" # BEGIN TEST CONFIG\n",
    "hidden: false\n",
    "points: 4\n",
    "failure_message: ONE OF THE ABOVE TESTS IS NOT PASSING\n",
    "\"\"\" # END TEST CONFIG\n",
    "def testNoQiskitZGate():\n",
    "    ops = qc_pauli_z().count_ops()\n",
    "    return 'z' not in ops\n",
    "    \n",
    "def testInitialState():\n",
    "    try:\n",
    "        num_initializations = qc_pauli_z().count_ops()['initialize']\n",
    "    except KeyError:\n",
    "        return False\n",
    "    else:\n",
    "        return num_initializations == 1\n",
    "    \n",
    "def testMeasurementPerformed():\n",
    "    try:\n",
    "        num_measurements = qc_pauli_z().count_ops()['measure']\n",
    "    except KeyError:\n",
    "        return False\n",
    "    else:\n",
    "        return num_measurements == 1\n",
    "    \n",
    "def testRandomInitialState():\n",
    "    results = []\n",
    "    for i in range(3):\n",
    "        c = random.uniform(0, 2*np.pi)\n",
    "        initial_state = [(np.cos(c)), (np.sin(c))]\n",
    "        pauli_z_matrix = np.array(\n",
    "                                    [[1, 0],\n",
    "                                     [0,-1]]\n",
    "                                 )\n",
    "        qc = qc_pauli_z(initial_state)\n",
    "        qc.remove_final_measurements()\n",
    "        result_sv = Statevector.from_instruction(qc)\n",
    "        results.append(result_sv.equiv(Statevector(pauli_z_matrix.dot(initial_state))))\n",
    "    return all(results)\n",
    "\n",
    "testRandomInitialState() \\\n",
    "and testMeasurementPerformed() \\\n",
    "and testNoQiskitZGate() \\\n",
    "and testInitialState() \\\n",
    "and qc_pauli_z().num_clbits == 1 \\\n",
    "and qc_pauli_z().num_qubits == 1"
   ]
  },
  {
   "cell_type": "raw",
   "id": "f0a53ed4",
   "metadata": {},
   "source": [
    "# END TESTS"
   ]
  },
  {
   "cell_type": "raw",
   "id": "cdbf439a",
   "metadata": {},
   "source": [
    "# END QUESTION"
   ]
  },
  {
   "cell_type": "raw",
   "id": "1d9a9dd0",
   "metadata": {},
   "source": [
    "# BEGIN QUESTION\n",
    "name: Task 2A\n",
    "points: 10\n",
    "manual: false"
   ]
  },
  {
   "cell_type": "markdown",
   "id": "e90c6e6b",
   "metadata": {},
   "source": [
    "#### Task 2 (2A, 2B, 2C) - Unitary Inverse Puzzles (30 pts)"
   ]
  },
  {
   "cell_type": "markdown",
   "id": "accb5b5d",
   "metadata": {},
   "source": [
    "We'll study the idea of [uncomputation](https://qiskit.org/textbook/ch-algorithms/grover.html#5.2-Uncomputing,-and-Completing-the-Oracle) during our discussion of quantum algorithms. Stated more generally, we may find it helpful to return a qubit to its initial state. \n",
    "\n",
    "Solving this problem can be straightforward due to the properties of unitary gates. However, your task is to return the qubit to its initial state using a single U gate. Complete the partial circuits below such that each circuit yields a state equivalent to `initial_state` parameter *up to a global phase*."
   ]
  },
  {
   "cell_type": "markdown",
   "id": "9d400b98",
   "metadata": {},
   "source": [
    "#### Task 2A"
   ]
  },
  {
   "cell_type": "raw",
   "id": "c4e63aa5",
   "metadata": {},
   "source": [
    "# BEGIN SOLUTION"
   ]
  },
  {
   "cell_type": "code",
   "execution_count": 11,
   "id": "4900c693",
   "metadata": {},
   "outputs": [],
   "source": [
    "def reverse_a(initial_state=[1,0]):\n",
    "    qc = QuantumCircuit(1,1)\n",
    "    qc.initialize(initial_state)\n",
    "    qc.x(0)\n",
    "    qc.h(0)\n",
    "    qc.y(0)\n",
    "    qc.x(0)\n",
    "    qc.z(0)\n",
    "    qc.barrier()\n",
    "    \n",
    "    # BEGIN SOLUTION\n",
    "    # Can use commutation relation XY = iZ to reduce\n",
    "    # Find parameters for U(?,?,?) = XH\n",
    "    theta = 3*np.pi/2\n",
    "    phi = np.pi\n",
    "    lamda = np.pi\n",
    "    qc.u(theta, phi, lamda, 0)\n",
    "    # END SOLUTION\n",
    "\n",
    "    qc.barrier()\n",
    "    qc.measure(0,0)\n",
    "    return qc"
   ]
  },
  {
   "cell_type": "code",
   "execution_count": 12,
   "id": "10a0d264",
   "metadata": {},
   "outputs": [
    {
     "data": {
      "image/png": "[encoded data removed]",
      "text/plain": [
       "<Figure size 675.326x144.48 with 1 Axes>"
      ]
     },
     "execution_count": 12,
     "metadata": {},
     "output_type": "execute_result"
    }
   ],
   "source": [
    "reverse_a().draw(output='mpl')"
   ]
  },
  {
   "cell_type": "raw",
   "id": "641e36fd",
   "metadata": {},
   "source": [
    "# END SOLUTION"
   ]
  },
  {
   "cell_type": "raw",
   "id": "6dad81f9",
   "metadata": {},
   "source": [
    "# BEGIN TESTS"
   ]
  },
  {
   "cell_type": "code",
   "execution_count": 13,
   "id": "d26374bd",
   "metadata": {},
   "outputs": [
    {
     "data": {
      "text/plain": [
       "True"
      ]
     },
     "execution_count": 13,
     "metadata": {},
     "output_type": "execute_result"
    }
   ],
   "source": [
    "\"\"\" # BEGIN TEST CONFIG\n",
    "hidden: false\n",
    "points: 1\n",
    "failure_message: EXPECTED 1 U GATE TO BE ADDED TO ORIGINAL CIRCUIT\n",
    "\"\"\" # END TEST CONFIG\n",
    "def testAcceptableGateUsage2A():\n",
    "    ops = reverse_a().count_ops()\n",
    "    x = ops['x'] == 2\n",
    "    y = ops['y'] == 1\n",
    "    z = ops['z'] == 1\n",
    "    h = ops['h'] == 1\n",
    "    try:\n",
    "        u = ops['u'] == 1\n",
    "    except KeyError:\n",
    "        u = False\n",
    "    return all([x,y,z,h,u])\n",
    "    \n",
    "testAcceptableGateUsage2A()"
   ]
  },
  {
   "cell_type": "code",
   "execution_count": 14,
   "id": "28be6a30",
   "metadata": {},
   "outputs": [
    {
     "data": {
      "text/plain": [
       "True"
      ]
     },
     "execution_count": 14,
     "metadata": {},
     "output_type": "execute_result"
    }
   ],
   "source": [
    "\"\"\" # BEGIN TEST CONFIG\n",
    "hidden: false\n",
    "points: 1\n",
    "failure_message: EXPECTED CIRCUIT TO RETURN |0> given initial_state=|0>\n",
    "\"\"\" # END TEST CONFIG\n",
    "def testKetZero2A():\n",
    "    qc = reverse_a()\n",
    "    qc.remove_final_measurements()\n",
    "    sv = Statevector.from_instruction(qc)\n",
    "    return sv.equiv(Statevector([1,0]))\n",
    "\n",
    "testKetZero2A()"
   ]
  },
  {
   "cell_type": "code",
   "execution_count": 15,
   "id": "32c9e510",
   "metadata": {},
   "outputs": [
    {
     "data": {
      "text/plain": [
       "True"
      ]
     },
     "execution_count": 15,
     "metadata": {},
     "output_type": "execute_result"
    }
   ],
   "source": [
    "\"\"\" # BEGIN TEST CONFIG\n",
    "hidden: false\n",
    "points: 1\n",
    "failure_message: EXPECTED CIRCUIT TO RETURN |1> given initial_state=|1>\n",
    "\"\"\" # END TEST CONFIG\n",
    "def testKetOne2A():\n",
    "    initial_state = [0,1]\n",
    "    qc = reverse_a(initial_state)\n",
    "    qc.remove_final_measurements()\n",
    "    sv = Statevector.from_instruction(qc)\n",
    "    return sv.equiv(Statevector([0,1]))\n",
    "\n",
    "testKetOne2A()"
   ]
  },
  {
   "cell_type": "code",
   "execution_count": 17,
   "id": "97c11a51",
   "metadata": {},
   "outputs": [
    {
     "data": {
      "text/plain": [
       "True"
      ]
     },
     "execution_count": 17,
     "metadata": {},
     "output_type": "execute_result"
    }
   ],
   "source": [
    "\"\"\" # BEGIN TEST CONFIG\n",
    "hidden: false\n",
    "points: 1\n",
    "failure_message: EXPECTED CIRCUIT TO RETURN initial_state for a random initial_state\n",
    "\"\"\" # END TEST CONFIG\n",
    "def testRandomSimple2A():\n",
    "    c = random.uniform(0, 2*np.pi)\n",
    "    initial_state = [(np.cos(c)), (np.sin(c))]\n",
    "    qc = reverse_a(initial_state)\n",
    "    qc.remove_final_measurements()\n",
    "    sv = Statevector.from_instruction(qc)\n",
    "    return sv.equiv(Statevector(initial_state))\n",
    "\n",
    "testRandomSimple2A()"
   ]
  },
  {
   "cell_type": "code",
   "execution_count": 18,
   "id": "f909be58",
   "metadata": {},
   "outputs": [
    {
     "data": {
      "text/plain": [
       "True"
      ]
     },
     "execution_count": 18,
     "metadata": {},
     "output_type": "execute_result"
    }
   ],
   "source": [
    "\"\"\" # BEGIN TEST CONFIG\n",
    "hidden: false\n",
    "points: 6\n",
    "failure_message: ONE OF THE ABOVE TESTS IS NOT PASSING\n",
    "\"\"\" # END TEST CONFIG\n",
    "def testRandomSimple2A():\n",
    "    c = random.uniform(0, 2*np.pi)\n",
    "    initial_state = [(np.cos(c)), (np.sin(c))]\n",
    "    qc = reverse_a(initial_state)\n",
    "    qc.remove_final_measurements()\n",
    "    sv = Statevector.from_instruction(qc)\n",
    "    return sv.equiv(Statevector(initial_state))\n",
    "\n",
    "def testAcceptableGateUsage2A():\n",
    "    ops = reverse_a().count_ops()\n",
    "    x = ops['x'] == 2\n",
    "    y = ops['y'] == 1\n",
    "    z = ops['z'] == 1\n",
    "    h = ops['h'] == 1\n",
    "    try:\n",
    "        u = ops['u'] == 1\n",
    "    except KeyError:\n",
    "        u = False\n",
    "        \n",
    "    return all([x,y,z,h,u])\n",
    "\n",
    "def testKetZero2A():\n",
    "    qc = reverse_a()\n",
    "    qc.remove_final_measurements()\n",
    "    sv = Statevector.from_instruction(qc)\n",
    "    return sv.equiv(Statevector([1,0]))\n",
    "\n",
    "def testKetOne2A():\n",
    "    initial_state = [0,1]\n",
    "    qc = reverse_a(initial_state)\n",
    "    qc.remove_final_measurements()\n",
    "    sv = Statevector.from_instruction(qc)\n",
    "    return sv.equiv(Statevector([0,1]))\n",
    "\n",
    "testRandomSimple2A() \\\n",
    "and testAcceptableGateUsage2A() \\\n",
    "and testKetZero2A() \\\n",
    "and testKetOne2A()"
   ]
  },
  {
   "cell_type": "raw",
   "id": "31b951ca",
   "metadata": {},
   "source": [
    "# END TESTS"
   ]
  },
  {
   "cell_type": "raw",
   "id": "c8f040b7",
   "metadata": {},
   "source": [
    "# END QUESTION"
   ]
  },
  {
   "cell_type": "raw",
   "id": "2833b47b",
   "metadata": {},
   "source": [
    "# BEGIN QUESTION\n",
    "name: Task 2B\n",
    "points: 10\n",
    "manual: false"
   ]
  },
  {
   "cell_type": "markdown",
   "id": "d963f8c1",
   "metadata": {},
   "source": [
    "#### Task 2B"
   ]
  },
  {
   "cell_type": "raw",
   "id": "779cb286",
   "metadata": {},
   "source": [
    "# BEGIN SOLUTION"
   ]
  },
  {
   "cell_type": "code",
   "execution_count": 19,
   "id": "8afc8b2f",
   "metadata": {},
   "outputs": [],
   "source": [
    "def reverse_b(initial_state=[1,0]):\n",
    "    qc = QuantumCircuit(1,1)\n",
    "    qc.initialize(initial_state)\n",
    "    for i in range(5):\n",
    "        qc.x(0)\n",
    "        qc.y(0)\n",
    "        qc.z(0)\n",
    "        qc.h(0)\n",
    "    qc.barrier()\n",
    "    \n",
    "    \n",
    "    # BEGIN SOLUTION\n",
    "    # Use commutation relation YX = -iZ\n",
    "    # so that (HZYX)^5=(-iHZZ)^5=(-iH)^5=-iH\n",
    "    # Hence to measure state within a global we use\n",
    "    # parameters for the U gate such that U == H\n",
    "    theta = np.pi/2\n",
    "    phi = 0\n",
    "    lamda = np.pi\n",
    "    qc.u(theta, phi, lamda, 0)\n",
    "    # END SOLUTION\n",
    "\n",
    "    qc.barrier()\n",
    "    qc.measure(0,0)\n",
    "    return qc"
   ]
  },
  {
   "cell_type": "code",
   "execution_count": 20,
   "id": "47660b22",
   "metadata": {},
   "outputs": [
    {
     "data": {
      "image/png": "[encoded data removed]",
      "text/plain": [
       "<Figure size 1578.33x144.48 with 1 Axes>"
      ]
     },
     "execution_count": 20,
     "metadata": {},
     "output_type": "execute_result"
    }
   ],
   "source": [
    "reverse_b().draw(output='mpl')"
   ]
  },
  {
   "cell_type": "raw",
   "id": "dc7ff3d0",
   "metadata": {},
   "source": [
    "# END SOLUTION"
   ]
  },
  {
   "cell_type": "raw",
   "id": "338fc3ba",
   "metadata": {},
   "source": [
    "# BEGIN TESTS"
   ]
  },
  {
   "cell_type": "code",
   "execution_count": 21,
   "id": "45074fc7",
   "metadata": {},
   "outputs": [
    {
     "data": {
      "text/plain": [
       "True"
      ]
     },
     "execution_count": 21,
     "metadata": {},
     "output_type": "execute_result"
    }
   ],
   "source": [
    "\"\"\" # BEGIN TEST CONFIG\n",
    "hidden: false\n",
    "points: 1\n",
    "failure_message: EXPECTED 1 U GATE TO BE ADDED TO ORIGINAL CIRCUIT\n",
    "\"\"\" # END TEST CONFIG\n",
    "def testAcceptableGateUsage2B():\n",
    "    ops = reverse_b().count_ops()\n",
    "    x = ops['x'] == 5\n",
    "    y = ops['y'] == 5\n",
    "    z = ops['z'] == 5\n",
    "    h = ops['h'] == 5\n",
    "    try:\n",
    "        u = ops['u'] == 1\n",
    "    except KeyError:\n",
    "        u = False\n",
    "    return all([x,y,z,h,u])\n",
    "    \n",
    "testAcceptableGateUsage2B()"
   ]
  },
  {
   "cell_type": "code",
   "execution_count": 22,
   "id": "6107b585",
   "metadata": {},
   "outputs": [
    {
     "data": {
      "text/plain": [
       "True"
      ]
     },
     "execution_count": 22,
     "metadata": {},
     "output_type": "execute_result"
    }
   ],
   "source": [
    "\"\"\" # BEGIN TEST CONFIG\n",
    "hidden: false\n",
    "points: 1\n",
    "failure_message: EXPECTED CIRCUIT TO RETURN |0> given initial_state=|0>\n",
    "\"\"\" # END TEST CONFIG\n",
    "def testKetZero2B():\n",
    "    qc = reverse_b()\n",
    "    qc.remove_final_measurements()\n",
    "    sv = Statevector.from_instruction(qc)\n",
    "    return sv.equiv(Statevector([1,0]))\n",
    "\n",
    "testKetZero2B()"
   ]
  },
  {
   "cell_type": "code",
   "execution_count": 23,
   "id": "37730284",
   "metadata": {},
   "outputs": [
    {
     "data": {
      "text/plain": [
       "True"
      ]
     },
     "execution_count": 23,
     "metadata": {},
     "output_type": "execute_result"
    }
   ],
   "source": [
    "\"\"\" # BEGIN TEST CONFIG\n",
    "hidden: false\n",
    "points: 1\n",
    "failure_message: EXPECTED CIRCUIT TO RETURN |1> given initial_state=|1>\n",
    "\"\"\" # END TEST CONFIG\n",
    "def testKetOne2B():\n",
    "    initial_state = [0,1]\n",
    "    qc = reverse_b(initial_state)\n",
    "    qc.remove_final_measurements()\n",
    "    sv = Statevector.from_instruction(qc)\n",
    "    return sv.equiv(Statevector([0,1]))\n",
    "\n",
    "testKetOne2B()"
   ]
  },
  {
   "cell_type": "code",
   "execution_count": 24,
   "id": "62c071fa",
   "metadata": {},
   "outputs": [
    {
     "data": {
      "text/plain": [
       "True"
      ]
     },
     "execution_count": 24,
     "metadata": {},
     "output_type": "execute_result"
    }
   ],
   "source": [
    "\"\"\" # BEGIN TEST CONFIG\n",
    "hidden: false\n",
    "points: 1\n",
    "failure_message: EXPECTED CIRCUIT TO RETURN initial_state for a random initial_state\n",
    "\"\"\" # END TEST CONFIG\n",
    "def testRandomSimple2B():\n",
    "    c = random.uniform(0, 2*np.pi)\n",
    "    initial_state = [(np.cos(c)), (np.sin(c))]\n",
    "    qc = reverse_b(initial_state)\n",
    "    qc.remove_final_measurements()\n",
    "    sv = Statevector.from_instruction(qc)\n",
    "    return sv.equiv(Statevector(initial_state))\n",
    "\n",
    "testRandomSimple2B()"
   ]
  },
  {
   "cell_type": "code",
   "execution_count": 25,
   "id": "b5cf7d93",
   "metadata": {},
   "outputs": [
    {
     "data": {
      "text/plain": [
       "True"
      ]
     },
     "execution_count": 25,
     "metadata": {},
     "output_type": "execute_result"
    }
   ],
   "source": [
    "\"\"\" # BEGIN TEST CONFIG\n",
    "hidden: false\n",
    "points: 6\n",
    "failure_message: ONE OF THE ABOVE TESTS IS NOT PASSING\n",
    "\"\"\" # END TEST CONFIG\n",
    "def testRandomSimple2B():\n",
    "    c = random.uniform(0, 2*np.pi)\n",
    "    initial_state = [(np.cos(c)), (np.sin(c))]\n",
    "    qc = reverse_b(initial_state)\n",
    "    qc.remove_final_measurements()\n",
    "    sv = Statevector.from_instruction(qc)\n",
    "    return sv.equiv(Statevector(initial_state))\n",
    "\n",
    "def testAcceptableGateUsage2B():\n",
    "    ops = reverse_b().count_ops()\n",
    "    x = ops['x'] == 5\n",
    "    y = ops['y'] == 5\n",
    "    z = ops['z'] == 5\n",
    "    h = ops['h'] == 5\n",
    "    try:\n",
    "        u = ops['u'] == 1\n",
    "    except KeyError:\n",
    "        u = False\n",
    "    return all([x,y,z,h,u])\n",
    "\n",
    "def testKetZero2B():\n",
    "    qc = reverse_b()\n",
    "    qc.remove_final_measurements()\n",
    "    sv = Statevector.from_instruction(qc)\n",
    "    return sv.equiv(Statevector([1,0]))\n",
    "\n",
    "def testKetOne2B():\n",
    "    initial_state = [0,1]\n",
    "    qc = reverse_b(initial_state)\n",
    "    qc.remove_final_measurements()\n",
    "    sv = Statevector.from_instruction(qc)\n",
    "    return sv.equiv(Statevector([0,1]))\n",
    "\n",
    "testRandomSimple2B() \\\n",
    "and testAcceptableGateUsage2B() \\\n",
    "and testKetZero2B() \\\n",
    "and testKetOne2B()"
   ]
  },
  {
   "cell_type": "raw",
   "id": "8fdbedf1",
   "metadata": {},
   "source": [
    "# END TESTS"
   ]
  },
  {
   "cell_type": "raw",
   "id": "732f17b9",
   "metadata": {},
   "source": [
    "# END QUESTION"
   ]
  },
  {
   "cell_type": "raw",
   "id": "d27f1cfd",
   "metadata": {},
   "source": [
    "# BEGIN QUESTION\n",
    "name: Task 2C\n",
    "points: 10\n",
    "manual: false"
   ]
  },
  {
   "cell_type": "markdown",
   "id": "d08c3ef9",
   "metadata": {},
   "source": [
    "#### Task 2C\n",
    "\n",
    "**Hint**: The P gate generalizes rotation about the Z-axis to an arbitrary angle $\\phi$, where\n",
    "$P(\\phi)=\\begin{pmatrix} 1 & 0 \\\\ 0 & e^{i\\phi} \\end{pmatrix}$"
   ]
  },
  {
   "cell_type": "raw",
   "id": "75350c8a",
   "metadata": {},
   "source": [
    "# BEGIN SOLUTION"
   ]
  },
  {
   "cell_type": "code",
   "execution_count": 26,
   "id": "e2da5e86",
   "metadata": {},
   "outputs": [],
   "source": [
    "def reverse_c(initial_state=[1,0]):\n",
    "    qc = QuantumCircuit(1,1)\n",
    "    qc.initialize(initial_state)\n",
    "    qc.x(0)\n",
    "    for i in range(1,6):\n",
    "        qc.p((-1)**(i)*np.pi/(2**i), 0)\n",
    "    qc.z(0)\n",
    "    qc.barrier()\n",
    "    \n",
    "    # BEGIN SOLUTION\n",
    "    # Trick: combine P gates and Z into a single P gate\n",
    "    # Note that Z == P(pi)\n",
    "    # Find parameters for U(?,?,?) = (P(-11pi/32)*X)\n",
    "    theta = np.pi\n",
    "    phi = np.pi\n",
    "    lamda = -21*np.pi/32\n",
    "    qc.u(theta, phi, lamda, 0)\n",
    "    # END SOLUTION\n",
    "\n",
    "    qc.barrier()\n",
    "    qc.measure(0,0)\n",
    "    return qc"
   ]
  },
  {
   "cell_type": "code",
   "execution_count": 27,
   "id": "eb53ff26",
   "metadata": {},
   "outputs": [
    {
     "data": {
      "image/png": "[encoded data removed]",
      "text/plain": [
       "<Figure size 855.926x144.48 with 1 Axes>"
      ]
     },
     "execution_count": 27,
     "metadata": {},
     "output_type": "execute_result"
    }
   ],
   "source": [
    "reverse_c().draw(output='mpl')"
   ]
  },
  {
   "cell_type": "raw",
   "id": "af8f90ec",
   "metadata": {},
   "source": [
    "# END SOLUTION"
   ]
  },
  {
   "cell_type": "raw",
   "id": "88b2690f",
   "metadata": {},
   "source": [
    "# BEGIN TESTS"
   ]
  },
  {
   "cell_type": "code",
   "execution_count": 28,
   "id": "1a686ce3",
   "metadata": {},
   "outputs": [
    {
     "data": {
      "text/plain": [
       "True"
      ]
     },
     "execution_count": 28,
     "metadata": {},
     "output_type": "execute_result"
    }
   ],
   "source": [
    "\"\"\" # BEGIN TEST CONFIG\n",
    "hidden: false\n",
    "points: 1\n",
    "failure_message: EXPECTED 1 U GATE TO BE ADDED TO ORIGINAL CIRCUIT\n",
    "\"\"\" # END TEST CONFIG\n",
    "def testAcceptableGateUsage2C():\n",
    "    ops = reverse_c().count_ops()\n",
    "    x = ops['x'] == 1\n",
    "    y = not 'y' in ops\n",
    "    z = ops['z'] == 1\n",
    "    h = not 'h' in ops\n",
    "    p = ops['p'] == 5\n",
    "    try:\n",
    "        u = ops['u'] == 1\n",
    "    except KeyError:\n",
    "        u = False\n",
    "    return all([x,y,z,h,p,u])\n",
    "    \n",
    "testAcceptableGateUsage2C()"
   ]
  },
  {
   "cell_type": "code",
   "execution_count": 29,
   "id": "7e5009b9",
   "metadata": {},
   "outputs": [
    {
     "data": {
      "text/plain": [
       "True"
      ]
     },
     "execution_count": 29,
     "metadata": {},
     "output_type": "execute_result"
    }
   ],
   "source": [
    "\"\"\" # BEGIN TEST CONFIG\n",
    "hidden: false\n",
    "points: 1\n",
    "failure_message: EXPECTED CIRCUIT TO RETURN |0> given initial_state=|0>\n",
    "\"\"\" # END TEST CONFIG\n",
    "def testKetZero2C():\n",
    "    qc = reverse_c()\n",
    "    qc.remove_final_measurements()\n",
    "    sv = Statevector.from_instruction(qc)\n",
    "    return sv.equiv(Statevector([1,0]))\n",
    "\n",
    "testKetZero2C()"
   ]
  },
  {
   "cell_type": "code",
   "execution_count": 30,
   "id": "605fd9a0",
   "metadata": {},
   "outputs": [
    {
     "data": {
      "text/plain": [
       "True"
      ]
     },
     "execution_count": 30,
     "metadata": {},
     "output_type": "execute_result"
    }
   ],
   "source": [
    "\"\"\" # BEGIN TEST CONFIG\n",
    "hidden: false\n",
    "points: 1\n",
    "failure_message: EXPECTED CIRCUIT TO RETURN |1> given initial_state=|1>\n",
    "\"\"\" # END TEST CONFIG\n",
    "def testKetOne2C():\n",
    "    initial_state = [0,1]\n",
    "    qc = reverse_c(initial_state)\n",
    "    qc.remove_final_measurements()\n",
    "    sv = Statevector.from_instruction(qc)\n",
    "    return sv.equiv(Statevector([0,1]))\n",
    "\n",
    "testKetOne2C()"
   ]
  },
  {
   "cell_type": "code",
   "execution_count": 31,
   "id": "24ab920c",
   "metadata": {},
   "outputs": [
    {
     "data": {
      "text/plain": [
       "True"
      ]
     },
     "execution_count": 31,
     "metadata": {},
     "output_type": "execute_result"
    }
   ],
   "source": [
    "\"\"\" # BEGIN TEST CONFIG\n",
    "hidden: false\n",
    "points: 1\n",
    "failure_message: EXPECTED CIRCUIT TO RETURN initial_state for a random initial_state\n",
    "\"\"\" # END TEST CONFIG\n",
    "def testRandomSimple2C():\n",
    "    c = random.uniform(0, 2*np.pi)\n",
    "    initial_state = [(np.cos(c)), (np.sin(c))]\n",
    "    qc = reverse_c(initial_state)\n",
    "    qc.remove_final_measurements()\n",
    "    sv = Statevector.from_instruction(qc)\n",
    "    return sv.equiv(Statevector(initial_state))\n",
    "\n",
    "testRandomSimple2C()"
   ]
  },
  {
   "cell_type": "code",
   "execution_count": 32,
   "id": "629fde65",
   "metadata": {},
   "outputs": [
    {
     "data": {
      "text/plain": [
       "True"
      ]
     },
     "execution_count": 32,
     "metadata": {},
     "output_type": "execute_result"
    }
   ],
   "source": [
    "\"\"\" # BEGIN TEST CONFIG\n",
    "hidden: false\n",
    "points: 6\n",
    "failure_message: Random state not passing.\n",
    "\"\"\" # END TEST CONFIG\n",
    "def testRandomSimple2C():\n",
    "    c = random.uniform(0, 2*np.pi)\n",
    "    initial_state = [(np.cos(c)), (np.sin(c))]\n",
    "    qc = reverse_c(initial_state)\n",
    "    qc.remove_final_measurements()\n",
    "    sv = Statevector.from_instruction(qc)\n",
    "    return sv.equiv(Statevector(initial_state))\n",
    "\n",
    "def testAcceptableGateUsage2C():\n",
    "    ops = reverse_c().count_ops()\n",
    "    x = ops['x'] == 1\n",
    "    y = not 'y' in ops\n",
    "    z = ops['z'] == 1\n",
    "    h = not 'h' in ops\n",
    "    p = ops['p'] == 5\n",
    "    try:\n",
    "        u = ops['u'] == 1\n",
    "    except KeyError:\n",
    "        u = False\n",
    "    return all([x,y,z,h,p,u])\n",
    "\n",
    "def testKetZero2C():\n",
    "    qc = reverse_c()\n",
    "    qc.remove_final_measurements()\n",
    "    sv = Statevector.from_instruction(qc)\n",
    "    return sv.equiv(Statevector([1,0]))\n",
    "\n",
    "def testKetOne2C():\n",
    "    initial_state = [0,1]\n",
    "    qc = reverse_c(initial_state)\n",
    "    qc.remove_final_measurements()\n",
    "    sv = Statevector.from_instruction(qc)\n",
    "    return sv.equiv(Statevector([0,1]))\n",
    "    \n",
    "testRandomSimple2C() \\\n",
    "and testAcceptableGateUsage2C() \\\n",
    "and testKetOne2C() \\\n",
    "and testKetZero2C()"
   ]
  },
  {
   "cell_type": "raw",
   "id": "16fc0296",
   "metadata": {},
   "source": [
    "# END TESTS"
   ]
  },
  {
   "cell_type": "raw",
   "id": "ef8b541e",
   "metadata": {},
   "source": [
    "# END QUESTION"
   ]
  },
  {
   "cell_type": "raw",
   "id": "5deaaf0a",
   "metadata": {},
   "source": [
    "# BEGIN QUESTION\n",
    "name: Task 3A\n",
    "points: 10\n",
    "manual: true"
   ]
  },
  {
   "cell_type": "markdown",
   "id": "76348419",
   "metadata": {},
   "source": [
    "#### Task 3 (3A, 3B, 3C) - Using Rotation to Obtain Probabilities (30 pts)"
   ]
  },
  {
   "cell_type": "markdown",
   "id": "2ecb55b8",
   "metadata": {},
   "source": [
    "#### Task 3A \n",
    "Fill in the function below to return a single-qubit circuit such that\n",
    "- the probability of seeing $|1\\rangle$ on measurement is `0.25`\n",
    "- your circuit only uses gates from the following list: X, Y, Z, P, H, U\n",
    "\n",
    "Verify your solution over `1024` trials and plot the results in a histogram. Do not use the initialize function."
   ]
  },
  {
   "cell_type": "raw",
   "id": "589ebdd0",
   "metadata": {},
   "source": [
    "# BEGIN SOLUTION"
   ]
  },
  {
   "cell_type": "code",
   "execution_count": 33,
   "id": "d2f4f077",
   "metadata": {},
   "outputs": [],
   "source": [
    "def qc_rot_a():\n",
    "    # BEGIN SOLUTION\n",
    "    # Find wave amplitudes for ket zero and ket one\n",
    "    # Use amplitudes to determine the proportion of rotation needed \n",
    "    qc = QuantumCircuit(1,1)\n",
    "    theta = np.pi/3\n",
    "    phi = 0\n",
    "    lamda = 0\n",
    "    qc.u(theta, phi, lamda, 0)\n",
    "    qc.measure(0,0)\n",
    "    return qc\n",
    "    # END SOLUTION"
   ]
  },
  {
   "cell_type": "code",
   "execution_count": 34,
   "id": "85306c49",
   "metadata": {},
   "outputs": [
    {
     "data": {
      "image/png": "[encoded data removed]",
      "text/plain": [
       "<Figure size 193.726x144.48 with 1 Axes>"
      ]
     },
     "execution_count": 34,
     "metadata": {},
     "output_type": "execute_result"
    }
   ],
   "source": [
    "qc_rot_a().draw(output='mpl')"
   ]
  },
  {
   "cell_type": "code",
   "execution_count": 35,
   "id": "08cdbf22",
   "metadata": {},
   "outputs": [
    {
     "data": {
      "image/png": "[encoded data removed]",
      "text/plain": [
       "<Figure size 504x360 with 1 Axes>"
      ]
     },
     "execution_count": 35,
     "metadata": {},
     "output_type": "execute_result"
    }
   ],
   "source": [
    "# Plot your results in this cell!\n",
    "\n",
    "# BEGIN SOLUTION\n",
    "qc = qc_rot_a()\n",
    "qasm_sim = BasicAer.get_backend(\"qasm_simulator\")\n",
    "job = execute(qc, qasm_sim)\n",
    "counts = job.result().get_counts()\n",
    "plot_histogram(counts)\n",
    "# END SOLUTION"
   ]
  },
  {
   "cell_type": "raw",
   "id": "d12b3cd4",
   "metadata": {},
   "source": [
    "# END SOLUTION"
   ]
  },
  {
   "cell_type": "raw",
   "id": "69567f24",
   "metadata": {},
   "source": [
    "# END QUESTION"
   ]
  },
  {
   "cell_type": "raw",
   "id": "b8eceed0",
   "metadata": {},
   "source": [
    "# BEGIN QUESTION\n",
    "name: Task 3B\n",
    "points: 10\n",
    "manual: true"
   ]
  },
  {
   "cell_type": "markdown",
   "id": "b91f15b8",
   "metadata": {},
   "source": [
    "#### Task 3B - Rotation Operator Gates\n",
    "This time, fill in the function below to return a single-qubit circuit such that\n",
    "- the probability of seeing $|0\\rangle$ on measurement is `0.75`\n",
    "- your circuit only uses gates from the following list: [RX, RY, RZ](https://en.wikipedia.org/wiki/Quantum_logic_gate#Rotation_operator_gates)\n",
    "\n",
    "Again, verify your solution over `1024` trials and plot the results in a histogram. Do not use the initialize function."
   ]
  },
  {
   "cell_type": "raw",
   "id": "765657a8",
   "metadata": {},
   "source": [
    "# BEGIN SOLUTION"
   ]
  },
  {
   "cell_type": "code",
   "execution_count": 36,
   "id": "ca8b8321",
   "metadata": {},
   "outputs": [],
   "source": [
    "def qc_rot_b():\n",
    "    # BEGIN SOLUTION\n",
    "    # Using the provided link, it can be seen that RX(pi) = -iX\n",
    "    # From this info and part A, we need to use RX(pi/3) to get the desired state\n",
    "    qc = QuantumCircuit(1,1)\n",
    "    qc.rx(np.pi/3, 0)\n",
    "    qc.measure(0,0)\n",
    "    return qc\n",
    "    # END SOLUTION"
   ]
  },
  {
   "cell_type": "code",
   "execution_count": 37,
   "id": "6900839b",
   "metadata": {},
   "outputs": [
    {
     "data": {
      "image/png": "[encoded data removed]",
      "text/plain": [
       "<Figure size 193.726x144.48 with 1 Axes>"
      ]
     },
     "execution_count": 37,
     "metadata": {},
     "output_type": "execute_result"
    }
   ],
   "source": [
    "qc_rot_b().draw(output='mpl')"
   ]
  },
  {
   "cell_type": "code",
   "execution_count": 38,
   "id": "ef3d4136",
   "metadata": {},
   "outputs": [
    {
     "data": {
      "image/png": "[encoded data removed]",
      "text/plain": [
       "<Figure size 504x360 with 1 Axes>"
      ]
     },
     "execution_count": 38,
     "metadata": {},
     "output_type": "execute_result"
    }
   ],
   "source": [
    "# Plot your results in this cell!\n",
    "\n",
    "# BEGIN SOLUTION\n",
    "qasm_sim = BasicAer.get_backend(\"qasm_simulator\")\n",
    "job = execute(qc_rot_b(), qasm_sim)\n",
    "counts = job.result().get_counts()\n",
    "plot_histogram(counts)\n",
    "# END SOLUTION"
   ]
  },
  {
   "cell_type": "raw",
   "id": "4007389b",
   "metadata": {},
   "source": [
    "# END SOLUTION"
   ]
  },
  {
   "cell_type": "raw",
   "id": "50de472d",
   "metadata": {},
   "source": [
    "# END QUESTION"
   ]
  },
  {
   "cell_type": "raw",
   "id": "34a71343",
   "metadata": {},
   "source": [
    "# BEGIN QUESTION\n",
    "name: Task 3C\n",
    "points: 10\n",
    "manual: true"
   ]
  },
  {
   "cell_type": "markdown",
   "id": "6bdeb1dd",
   "metadata": {},
   "source": [
    "#### Task 3C\n",
    "Suppose we apply a Z gate to your circuit from task 3B just before measuring. How will the probability of seeing $|0\\rangle$ change from that of the original circuit? Does the modified circuit produce a state equivalent to the original circuit up to a global phase?"
   ]
  },
  {
   "cell_type": "raw",
   "id": "ebae3cfd",
   "metadata": {},
   "source": [
    "# BEGIN SOLUTION"
   ]
  },
  {
   "cell_type": "markdown",
   "id": "4f2c8616",
   "metadata": {},
   "source": [
    "The probability of seeing $|0\\rangle$ won't change since Z is just a rotation about the z-axis. However, it's not equivalent up to a global phase since you can't pull out a factor. "
   ]
  },
  {
   "cell_type": "raw",
   "id": "77ef3217",
   "metadata": {},
   "source": [
    "# END SOLUTION"
   ]
  },
  {
   "cell_type": "raw",
   "id": "b095dbee",
   "metadata": {},
   "source": [
    "# END QUESTION"
   ]
  },
  {
   "cell_type": "raw",
   "id": "443369b2",
   "metadata": {},
   "source": [
    "# BEGIN QUESTION\n",
    "name: Task 4\n",
    "points: 10\n",
    "manual: true"
   ]
  },
  {
   "cell_type": "markdown",
   "id": "bcab8816",
   "metadata": {},
   "source": [
    "#### Task 4 - P vs. RZ (10 pts)\n",
    "In task 2C, the P gate was introduced, and in lecture and task 3B, you've seen the RZ gate. Both are related to Z-axis rotations, but what utility is there to having each? Is there a mathematical relationship between them? If so, describe it. \n",
    "\n",
    "Feel free to use any resources for your research, including `lecture 6: A single qubit`."
   ]
  },
  {
   "cell_type": "raw",
   "id": "03855fee",
   "metadata": {},
   "source": [
    "# BEGIN SOLUTION"
   ]
  },
  {
   "cell_type": "markdown",
   "id": "e03bd816",
   "metadata": {},
   "source": [
    "Source: https://quantum-computing.ibm.com/composer/docs/iqx/operations_glossary#phase-gate\n",
    "\n",
    "The P gate is equivalent up to a global phase with RZ. The P gate applies a phase to $|1\\rangle$ of $e^{i\\theta}$. Up to a global phase of $e^{i\\theta / 2}$, it is equivalent to $RZ(\\theta)$\n"
   ]
  },
  {
   "cell_type": "raw",
   "id": "d01924a7",
   "metadata": {},
   "source": [
    "# END SOLUTION"
   ]
  },
  {
   "cell_type": "raw",
   "id": "a5b38994",
   "metadata": {},
   "source": [
    "# END QUESTION"
   ]
  },
  {
   "cell_type": "raw",
   "id": "35accf88",
   "metadata": {},
   "source": [
    "# BEGIN QUESTION\n",
    "name: Task 5A\n",
    "points: 10\n",
    "manual: true"
   ]
  },
  {
   "cell_type": "markdown",
   "id": "39c69e52",
   "metadata": {},
   "source": [
    "#### Task 5 (5A, 5B) - Transpiling Circuits (20 pts)\n",
    "When you submit a job to IBM, the quantum computer will most likely run a different circuit than you built. This is because the hardware is capable of performing a very limited set of operations relative to the number of unitary gates. For IBM devices, the transpile step reduces all single-qubit operations to I, X, [SX](https://qiskit.org/documentation/stubs/qiskit.circuit.library.SXGate.html), and RZ ([source](https://qiskit.org/textbook/ch-states/single-qubit-gates.html#7.-The-U-gate--)).\n",
    "\n",
    "#### Task 5A\n",
    "- Choose an IBM quantum computer\n",
    "- Use the [transpile](https://qiskit.org/documentation/stubs/qiskit.compiler.transpile.html) method to optimize the given circuit for the backend\n",
    "- Draw the transpiled circuit\n",
    "\n",
    "Note: you do not need the execute function for this task. The goal is just to run the preprocessing step locally."
   ]
  },
  {
   "cell_type": "code",
   "execution_count": 39,
   "id": "f656d5d1",
   "metadata": {
    "scrolled": true
   },
   "outputs": [
    {
     "data": {
      "image/png": "[encoded data removed]",
      "text/plain": [
       "<Figure size 735.526x144.48 with 1 Axes>"
      ]
     },
     "execution_count": 39,
     "metadata": {},
     "output_type": "execute_result"
    }
   ],
   "source": [
    "qc_rand = random_circuit(1, 10, measure=True, seed=6)\n",
    "qc_rand.draw(output='mpl')"
   ]
  },
  {
   "cell_type": "raw",
   "id": "2e5b3959",
   "metadata": {},
   "source": [
    "# BEGIN SOLUTION"
   ]
  },
  {
   "cell_type": "code",
   "execution_count": 40,
   "id": "92bccb9c",
   "metadata": {},
   "outputs": [
    {
     "name": "stdout",
     "output_type": "stream",
     "text": [
      "ibmq_lima\n",
      "ibmq_quito\n",
      "ibmq_manila\n",
      "ibm_nairobi\n",
      "ibm_oslo\n"
     ]
    },
    {
     "data": {
      "image/png": "[encoded data removed]",
      "text/plain": [
       "<Figure size 359.931x385.28 with 1 Axes>"
      ]
     },
     "execution_count": 40,
     "metadata": {},
     "output_type": "execute_result"
    }
   ],
   "source": [
    "IBMQ.load_account()\n",
    "# BEGIN SOLUTION\n",
    "provider = IBMQ.get_provider(hub='ibm-q')\n",
    "for backend in provider.backends():\n",
    "    status = backend.status().to_dict()\n",
    "    if status['operational'] and status['status_msg']=='active':\n",
    "        if 'simulator' not in status['backend_name']:\n",
    "            print(status['backend_name'])\n",
    "            \n",
    "transpile(qc_rand, provider.get_backend('ibmq_lima')).draw(output='mpl')\n",
    "# END SOLUTION"
   ]
  },
  {
   "cell_type": "raw",
   "id": "ce893888",
   "metadata": {},
   "source": [
    "# END SOLUTION"
   ]
  },
  {
   "cell_type": "raw",
   "id": "33951df0",
   "metadata": {},
   "source": [
    "# END QUESTION"
   ]
  },
  {
   "cell_type": "raw",
   "id": "be486f7d",
   "metadata": {},
   "source": [
    "# BEGIN QUESTION\n",
    "name: Task 5B\n",
    "points: 10\n",
    "manual: true"
   ]
  },
  {
   "cell_type": "markdown",
   "id": "5eaabd56",
   "metadata": {},
   "source": [
    "#### Task 5B\n",
    "Which gates and how many of each are used in the transpiled circuit?"
   ]
  },
  {
   "cell_type": "raw",
   "id": "538b6ce2",
   "metadata": {},
   "source": [
    "# BEGIN SOLUTION"
   ]
  },
  {
   "cell_type": "markdown",
   "id": "a2f3c9fc",
   "metadata": {},
   "source": [
    "SX and RZ are used. There is one SX gate used and one RZ gate used. "
   ]
  },
  {
   "cell_type": "raw",
   "id": "c3c79924",
   "metadata": {},
   "source": [
    "# END SOLUTION"
   ]
  },
  {
   "cell_type": "raw",
   "id": "d0144766",
   "metadata": {},
   "source": [
    "# END QUESTION"
   ]
  },
  {
   "cell_type": "markdown",
   "id": "244f370b",
   "metadata": {},
   "source": [
    "## Conclusion\n",
    "\n",
    "Next up: the EV bomb!"
   ]
  }
 ],
 "metadata": {
  "kernelspec": {
   "display_name": "Python 3",
   "language": "python",
   "name": "python3"
  },
  "language_info": {
   "codemirror_mode": {
    "name": "ipython",
    "version": 3
   },
   "file_extension": ".py",
   "mimetype": "text/x-python",
   "name": "python",
   "nbconvert_exporter": "python",
   "pygments_lexer": "ipython3",
   "version": "3.7.0"
  }
 },
 "nbformat": 4,
 "nbformat_minor": 5
}
