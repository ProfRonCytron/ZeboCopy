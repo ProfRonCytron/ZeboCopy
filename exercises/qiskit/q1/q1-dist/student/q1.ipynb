{
 "cells": [
  {
   "cell_type": "code",
   "execution_count": null,
   "id": "75ba700c",
   "metadata": {
    "deletable": false,
    "editable": false
   },
   "outputs": [],
   "source": [
    "# Initialize Otter\n",
    "import otter\n",
    "grader = otter.Notebook(\"q1.ipynb\")"
   ]
  },
  {
   "cell_type": "markdown",
   "id": "e91a3c1f",
   "metadata": {},
   "source": [
    "# Qiskit Assignment 1\n",
    "## Practice with Pauli Gates and other Qiskit tools\n",
    "Welcome to your second Qiskit assignment!\n",
    "\n",
    "### Learning Objectives\n",
    "1. Build Pauli gates from Qiskit's U gate\n",
    "2. Use the U gate to reverse a series of operations\n",
    "3. Visualize rotations using the Bloch Sphere"
   ]
  },
  {
   "cell_type": "markdown",
   "id": "969f534a",
   "metadata": {},
   "source": [
    "**NAME**: REPLACE WITH YOUR NAME\n",
    "\n",
    "**STUDENT ID**: REPLACE WITH YOUR STUDENT ID"
   ]
  },
  {
   "cell_type": "code",
   "execution_count": 1,
   "id": "05ee66b0",
   "metadata": {},
   "outputs": [],
   "source": [
    "# Import Qiskit and other needed packages\n",
    "from qiskit import *\n",
    "from qiskit.visualization import plot_histogram\n",
    "from qiskit.quantum_info import Statevector\n",
    "from qiskit.circuit.random import random_circuit\n",
    "import numpy as np\n",
    "import pprint\n",
    "import random"
   ]
  },
  {
   "cell_type": "markdown",
   "id": "e1f3421a",
   "metadata": {},
   "source": [
    "#### Task 1 - Constructing Pauli Z gate from u Gate\n",
    "We can use [Qiskit's U Gate](https://qiskit.org/documentation/stubs/qiskit.circuit.QuantumCircuit.u.html#qiskit.circuit.QuantumCircuit.u) to construct arbitrary quantum operations. Fill in the function below to return `qc_pauli_z`, a QuantumCircuit satisfying the following conditions:\n",
    "- it has 1 qubit, [initialized](https://qiskit.org/documentation/stubs/qiskit.circuit.QuantumCircuit.initialize.html#qiskit.circuit.QuantumCircuit.initialize) to the parameter `initial_state`\n",
    "- it has 1 classical bit\n",
    "- it has a U gate with parameters which perform the same rotation as a Pauli Z gate\n",
    "- it does not use the built in Z gate\n",
    "- it performs a measurement following the rotation"
   ]
  },
  {
   "cell_type": "code",
   "execution_count": 2,
   "id": "28ccbeeb",
   "metadata": {
    "tags": []
   },
   "outputs": [],
   "source": [
    "def qc_pauli_z(initial_state=[1,0]):\n",
    "    ..."
   ]
  },
  {
   "cell_type": "code",
   "execution_count": 3,
   "id": "7a18ee9b",
   "metadata": {
    "tags": []
   },
   "outputs": [],
   "source": [
    "qc_pauli_z().draw(output='mpl')"
   ]
  },
  {
   "cell_type": "code",
   "execution_count": null,
   "id": "d0945fab",
   "metadata": {
    "deletable": false,
    "editable": false
   },
   "outputs": [],
   "source": [
    "grader.check(\"Task 1\")"
   ]
  },
  {
   "cell_type": "markdown",
   "id": "260965ee",
   "metadata": {},
   "source": [
    "#### Task 2 (2A, 2B, 2C) - Unitary Inverse Puzzles"
   ]
  },
  {
   "cell_type": "markdown",
   "id": "167861e1",
   "metadata": {},
   "source": [
    "We'll study the idea of [uncomputation](https://qiskit.org/textbook/ch-algorithms/grover.html#5.2-Uncomputing,-and-Completing-the-Oracle) during our discussion of quantum algorithms. In general, we may find it helpful to return a qubit to its initial state. \n",
    "\n",
    "This process is typically straightforward due to the properties of unitary gates. However, your task is to do so using only a single U gate. Complete the partial circuits below such that the measurements will yield a state equivalent to `initial_state` *up to a global phase*."
   ]
  },
  {
   "cell_type": "markdown",
   "id": "19c63c11",
   "metadata": {},
   "source": [
    "#### Task 2A"
   ]
  },
  {
   "cell_type": "code",
   "execution_count": 7,
   "id": "d53fc67e",
   "metadata": {
    "tags": []
   },
   "outputs": [],
   "source": [
    "def reverse_a(initial_state=[1,0]):\n",
    "    qc = QuantumCircuit(1,1)\n",
    "    qc.initialize(initial_state)\n",
    "    qc.x(0)\n",
    "    qc.h(0)\n",
    "    qc.y(0)\n",
    "    qc.x(0)\n",
    "    qc.z(0)\n",
    "    qc.barrier()\n",
    "    \n",
    "   ...\n",
    "\n",
    "    qc.barrier()\n",
    "    qc.measure(0,0)\n",
    "    return qc"
   ]
  },
  {
   "cell_type": "code",
   "execution_count": 8,
   "id": "194fd83d",
   "metadata": {
    "tags": []
   },
   "outputs": [],
   "source": [
    "reverse_a().draw(output='mpl')"
   ]
  },
  {
   "cell_type": "code",
   "execution_count": null,
   "id": "f2a60ab4",
   "metadata": {
    "deletable": false,
    "editable": false
   },
   "outputs": [],
   "source": [
    "grader.check(\"Task 2A\")"
   ]
  },
  {
   "cell_type": "markdown",
   "id": "963e375c",
   "metadata": {},
   "source": [
    "#### Task 2B"
   ]
  },
  {
   "cell_type": "code",
   "execution_count": 12,
   "id": "a8a8511f",
   "metadata": {
    "tags": []
   },
   "outputs": [],
   "source": [
    "def reverse_b(initial_state=[1,0]):\n",
    "    qc = QuantumCircuit(1,1)\n",
    "    qc.initialize(initial_state)\n",
    "    for i in range(5):\n",
    "        qc.x(0)\n",
    "        qc.y(0)\n",
    "        qc.z(0)\n",
    "        qc.h(0)\n",
    "    qc.barrier()\n",
    "    \n",
    "    \n",
    "    ...\n",
    "\n",
    "    qc.barrier()\n",
    "    qc.measure(0,0)\n",
    "    return qc"
   ]
  },
  {
   "cell_type": "code",
   "execution_count": 13,
   "id": "4c49e1ec",
   "metadata": {
    "tags": []
   },
   "outputs": [],
   "source": [
    "reverse_b().draw(output='mpl')"
   ]
  },
  {
   "cell_type": "code",
   "execution_count": null,
   "id": "463dc227",
   "metadata": {
    "deletable": false,
    "editable": false
   },
   "outputs": [],
   "source": [
    "grader.check(\"Task 2B\")"
   ]
  },
  {
   "cell_type": "markdown",
   "id": "88108f3a",
   "metadata": {},
   "source": [
    "#### Task 2C\n",
    "\n",
    "**Hint**: The P gate generalizes rotation about the Z-axis to an arbitrary angle $\\phi$, where\n",
    "$P(\\phi)=\\begin{pmatrix} 1 & 0 \\\\ 0 & e^{i\\phi} \\end{pmatrix}$"
   ]
  },
  {
   "cell_type": "code",
   "execution_count": 17,
   "id": "c98e3e20",
   "metadata": {
    "tags": []
   },
   "outputs": [],
   "source": [
    "def reverse_c(initial_state=[1,0]):\n",
    "    qc = QuantumCircuit(1,1)\n",
    "    qc.initialize(initial_state)\n",
    "    qc.x(0)\n",
    "    for i in range(1,6):\n",
    "        qc.p((-1)**(i)*np.pi/(2**i), 0)\n",
    "    qc.z(0)\n",
    "    qc.barrier()\n",
    "    \n",
    "    ...\n",
    "\n",
    "    qc.barrier()\n",
    "    qc.measure(0,0)\n",
    "    return qc"
   ]
  },
  {
   "cell_type": "code",
   "execution_count": 18,
   "id": "cd9ba63d",
   "metadata": {
    "tags": []
   },
   "outputs": [],
   "source": [
    "reverse_c().draw(output='mpl')"
   ]
  },
  {
   "cell_type": "code",
   "execution_count": null,
   "id": "0934b24a",
   "metadata": {
    "deletable": false,
    "editable": false
   },
   "outputs": [],
   "source": [
    "grader.check(\"Task 2C\")"
   ]
  },
  {
   "cell_type": "markdown",
   "id": "31f44b1f",
   "metadata": {},
   "source": [
    "<!-- BEGIN QUESTION -->\n",
    "\n",
    "#### Task 3 (3A, 3B, 3C) - Using Rotation to Obtain Probabilities"
   ]
  },
  {
   "cell_type": "markdown",
   "id": "929c9009",
   "metadata": {},
   "source": [
    "#### Task 3A \n",
    "Fill in the function below to return `qc_rot_a`, a single-qubit QuantumCircuit satisfying the following conditions:\n",
    "- it performs a measurement to a single classical bit\n",
    "- Pr(seeing $|0\\rangle$ on measurement) = `0.75`\n",
    "- your circuit only uses gates from the following list: X, Y, Z, P, H, U\n",
    "\n",
    "Plot your results using a histogram to verify your solution over `1024` trials."
   ]
  },
  {
   "cell_type": "code",
   "execution_count": 22,
   "id": "77fd7eae",
   "metadata": {
    "tags": []
   },
   "outputs": [],
   "source": [
    "def qc_rot_a():\n",
    "    ...\n",
    "    return qc"
   ]
  },
  {
   "cell_type": "code",
   "execution_count": 23,
   "id": "af0a211e",
   "metadata": {
    "tags": []
   },
   "outputs": [],
   "source": [
    "qc_rot_a().draw(output='mpl')"
   ]
  },
  {
   "cell_type": "code",
   "execution_count": 24,
   "id": "4b42716a",
   "metadata": {
    "tags": []
   },
   "outputs": [],
   "source": [
    "# Plot your results in this cell!\n",
    "\n",
    "..."
   ]
  },
  {
   "cell_type": "markdown",
   "id": "eb2e77e5",
   "metadata": {},
   "source": [
    "<!-- END QUESTION -->\n",
    "\n",
    "<!-- BEGIN QUESTION -->\n",
    "\n",
    "#### Task 3B - Rotation Operator Gates\n",
    "Again, fill in the function below to return `qc_rot_b`, a single-qubit QuantumCircuit satisfying the following conditions:\n",
    "- it performs a measurement to a single classical bit\n",
    "- Pr(seeing $|0\\rangle$ on measurement) = `0.75`\n",
    "- your circuit only uses gates from the following list: [RX, RY, RZ](https://en.wikipedia.org/wiki/Quantum_logic_gate#Rotation_operator_gates)\n",
    "\n",
    "Plot your results using a histogram to verify your solution over `1024` trials."
   ]
  },
  {
   "cell_type": "code",
   "execution_count": 25,
   "id": "773043a8",
   "metadata": {
    "tags": []
   },
   "outputs": [],
   "source": [
    "def qc_rot_b():\n",
    "    ...\n",
    "    return qc"
   ]
  },
  {
   "cell_type": "code",
   "execution_count": 26,
   "id": "bbb7e874",
   "metadata": {
    "tags": []
   },
   "outputs": [],
   "source": [
    "qc_rot_b().draw(output='mpl')"
   ]
  },
  {
   "cell_type": "code",
   "execution_count": 27,
   "id": "c3681587",
   "metadata": {
    "tags": []
   },
   "outputs": [],
   "source": [
    "# Plot your results in this cell!\n",
    "\n",
    "..."
   ]
  },
  {
   "cell_type": "markdown",
   "id": "63b6a765",
   "metadata": {},
   "source": [
    "<!-- END QUESTION -->\n",
    "\n",
    "<!-- BEGIN QUESTION -->\n",
    "\n",
    "#### Task 3C\n",
    "Suppose we apply a Z gate to your circuit from task 3B just before measuring. How will the probability of measuring $|0\\rangle$ change from that of the original circuit? Will measurement on the modified circuit yield a state equivalent to the original circuit up to a global phase?"
   ]
  },
  {
   "cell_type": "markdown",
   "id": "f84861b7",
   "metadata": {},
   "source": [
    "_Type your answer here, replacing this text._"
   ]
  },
  {
   "cell_type": "markdown",
   "id": "fa41ec43",
   "metadata": {},
   "source": [
    "<!-- END QUESTION -->\n",
    "\n",
    "#### Task 4 - P vs. RZ\n",
    "In tasks 2C, the P gate was introduced. In lecture and task 3B, you've seen the RZ gate. Both are related to Z-axis rotations, but what utility is there to having each? Is there a mathematical relationship between them? If so, describe it. \n",
    "\n",
    "Feel free to use any resources for your research, including `lecture 6: A single qubit`."
   ]
  },
  {
   "cell_type": "markdown",
   "id": "20940bc4",
   "metadata": {},
   "source": [
    "_Type your answer here, replacing this text._"
   ]
  },
  {
   "cell_type": "markdown",
   "id": "810ea570",
   "metadata": {},
   "source": [
    "<!-- END QUESTION -->\n",
    "\n",
    "<!-- BEGIN QUESTION -->\n",
    "\n",
    "#### Task 5 (5A, 5B) - Transpiling Circuits \n",
    "When you submit a job to IBM, the quantum computer will most likely run a different circuit than you built. This is because the quantum computer can only do a very limited set of operations relative to the number of unitary gates. For IBM devices, the transpile step reduces all single-qubit operations to I, X, [SX](https://qiskit.org/documentation/stubs/qiskit.circuit.library.SXGate.html), and RZ ([source](https://qiskit.org/textbook/ch-states/single-qubit-gates.html#7.-The-U-gate--)).\n",
    "\n",
    "#### Task 5A\n",
    "Choose one of the IBM backends (see the first assignment for a refresher on this). Use the [transpile](https://qiskit.org/documentation/stubs/qiskit.compiler.transpile.html) method to optimize the given circuit for the backend. Draw the transpiled circuit."
   ]
  },
  {
   "cell_type": "code",
   "execution_count": 28,
   "id": "0ad9841a",
   "metadata": {
    "scrolled": true
   },
   "outputs": [],
   "source": [
    "qc_rand = random_circuit(1, 10, measure=True, seed=6)\n",
    "qc_rand.draw(output='mpl')"
   ]
  },
  {
   "cell_type": "code",
   "execution_count": 29,
   "id": "83ad3228",
   "metadata": {
    "tags": []
   },
   "outputs": [],
   "source": [
    "IBMQ.load_account()\n",
    "..."
   ]
  },
  {
   "cell_type": "markdown",
   "id": "10eb21b8",
   "metadata": {},
   "source": [
    "<!-- END QUESTION -->\n",
    "\n",
    "<!-- BEGIN QUESTION -->\n",
    "\n",
    "#### Task 5B\n",
    "Which gates from {I, X, SX, RZ}, and how many of each, are used in the transpiled circuit?"
   ]
  },
  {
   "cell_type": "markdown",
   "id": "f5dbd3fc",
   "metadata": {},
   "source": [
    "_Type your answer here, replacing this text._"
   ]
  },
  {
   "cell_type": "markdown",
   "id": "5f66cd2f",
   "metadata": {},
   "source": [
    "<!-- END QUESTION -->\n",
    "\n",
    "## Conclusion\n",
    "\n",
    "Next week: the EV bomb!"
   ]
  },
  {
   "cell_type": "markdown",
   "id": "92a75936",
   "metadata": {
    "deletable": false,
    "editable": false
   },
   "source": [
    "---\n",
    "\n",
    "To double-check your work, the cell below will rerun all of the autograder tests."
   ]
  },
  {
   "cell_type": "code",
   "execution_count": null,
   "id": "86c9b6c7",
   "metadata": {
    "deletable": false,
    "editable": false
   },
   "outputs": [],
   "source": [
    "grader.check_all()"
   ]
  },
  {
   "cell_type": "markdown",
   "id": "d3df3071",
   "metadata": {
    "deletable": false,
    "editable": false
   },
   "source": [
    "## Submission\n",
    "\n",
    "Make sure you have run all cells in your notebook in order before running the cell below, so that all images/graphs appear in the output. The cell below will generate a zip file for you to submit. **Please save before exporting!**"
   ]
  },
  {
   "cell_type": "code",
   "execution_count": null,
   "id": "7ab5719c",
   "metadata": {
    "deletable": false,
    "editable": false
   },
   "outputs": [],
   "source": [
    "# Save your notebook first, then run this cell to export your submission.\n",
    "grader.export(pdf=False)"
   ]
  },
  {
   "cell_type": "markdown",
   "id": "77397a8c",
   "metadata": {},
   "source": [
    " "
   ]
  }
 ],
 "metadata": {
  "kernelspec": {
   "display_name": "Python 3",
   "language": "python",
   "name": "python3"
  },
  "language_info": {
   "codemirror_mode": {
    "name": "ipython",
    "version": 3
   },
   "file_extension": ".py",
   "mimetype": "text/x-python",
   "name": "python",
   "nbconvert_exporter": "python",
   "pygments_lexer": "ipython3",
   "version": "3.7.0"
  },
  "otter": {
   "tests": {
    "Task 1": {
     "name": "Task 1",
     "points": 10,
     "suites": [
      {
       "cases": [
        {
         "code": ">>> qc_pauli_z().num_clbits == 1 and qc_pauli_z().num_qubits == 1\nTrue",
         "failure_message": "Incorrect number of qubits or classical bits.",
         "hidden": false,
         "locked": false,
         "points": 1
        },
        {
         "code": ">>> def testNoQiskitZGate():\n...     ops = qc_pauli_z().count_ops()\n...     return 'z' not in ops\n...     \n>>> def testInitialState():\n...     try:\n...         num_initializations = qc_pauli_z().count_ops()['initialize']\n...     except KeyError:\n...         return False\n...     else:\n...         return num_initializations == 1\n...     \n>>> def testMeasurementPerformed():\n...     try:\n...         num_measurements = qc_pauli_z().count_ops()['measure']\n...     except KeyError:\n...         return False\n...     else:\n...         return num_measurements == 1\n...     \n>>> testMeasurementPerformed() and testNoQiskitZGate() and testInitialState()\nTrue",
         "failure_message": "Circuit requirements not satisfied, see bullet list.",
         "hidden": false,
         "locked": false,
         "points": 5
        },
        {
         "code": ">>> def testRandomInitialState():\n...     # let's choose something interesting as our initial state!\n...     c = random.uniform(0, 2*np.pi)\n...     initial_state = [(np.cos(c)), (np.sin(c))]\n...     pauli_z_matrix = np.array(\n...                                 [[1, 0],\n...                                  [0,-1]]\n...                              )\n...     \n...     qc = qc_pauli_z(initial_state)\n...     qc.remove_final_measurements()\n...     result_sv = Statevector.from_instruction(qc)\n...     \n...     return result_sv.equiv(Statevector(pauli_z_matrix.dot(initial_state)))\n>>> \n>>> testRandomInitialState()\nTrue",
         "failure_message": "Incorrect state returned.",
         "hidden": false,
         "locked": false,
         "points": 4
        }
       ],
       "scored": true,
       "setup": "",
       "teardown": "",
       "type": "doctest"
      }
     ]
    },
    "Task 2A": {
     "name": "Task 2A",
     "points": 10,
     "suites": [
      {
       "cases": [
        {
         "code": ">>> def testAcceptableGateUsage2A():\n...     ops = reverse_a().count_ops()\n...     x = ops['x'] == 2\n...     y = ops['y'] == 1\n...     z = ops['z'] == 1\n...     h = ops['h'] == 1\n...     try:\n...         u = ops['u'] == 1\n...     except KeyError:\n...         u = False\n...         \n...     return all([x,y,z,h,u])\n...     \n>>> testAcceptableGateUsage2A()\nTrue",
         "failure_message": "Circuit requirements not satisfied, check bullet list.",
         "hidden": false,
         "locked": false,
         "points": 4
        },
        {
         "code": ">>> def testKetZero2A():\n...     qc = reverse_a()\n...     qc.remove_final_measurements()\n...     sv = Statevector.from_instruction(qc)\n...     return sv.equiv(Statevector([1,0]))\n>>> \n>>> def testKetOne2A():\n...     initial_state = [0,1]\n...     qc = reverse_a(initial_state)\n...     qc.remove_final_measurements()\n...     sv = Statevector.from_instruction(qc)\n...     return sv.equiv(Statevector([0,1]))\n...     \n>>> testKetZero2A() and testKetOne2A()\nTrue",
         "failure_message": "Basis states not passing.",
         "hidden": false,
         "locked": false,
         "points": 2
        },
        {
         "code": ">>> def testRandomSimple2A():\n...     c = random.uniform(0, 2*np.pi)\n...     initial_state = [(np.cos(c)), (np.sin(c))]\n...     qc = reverse_a(initial_state)\n...     qc.remove_final_measurements()\n...     sv = Statevector.from_instruction(qc)\n...     return sv.equiv(Statevector(initial_state))\n...     \n>>> testRandomSimple2A()\nTrue",
         "failure_message": "Random state not passing.",
         "hidden": false,
         "locked": false,
         "points": 4
        }
       ],
       "scored": true,
       "setup": "",
       "teardown": "",
       "type": "doctest"
      }
     ]
    },
    "Task 2B": {
     "name": "Task 2B",
     "points": 10,
     "suites": [
      {
       "cases": [
        {
         "code": ">>> def testAcceptableGateUsage2B():\n...     ops = reverse_b().count_ops()\n...     x = ops['x'] == 5\n...     y = ops['y'] == 5\n...     z = ops['z'] == 5\n...     h = ops['h'] == 5\n...     try:\n...         u = ops['u'] == 1\n...     except KeyError:\n...         u = False\n...     return all([x,y,z,h,u])\n...     \n>>> testAcceptableGateUsage2B()\nTrue",
         "failure_message": "Circuit requirements not satisfied, check bullet list.",
         "hidden": false,
         "locked": false,
         "points": 4
        },
        {
         "code": ">>> def testKetZero2B():\n...     qc = reverse_b()\n...     qc.remove_final_measurements()\n...     sv = Statevector.from_instruction(qc)\n...     return sv.equiv(Statevector([1,0]))\n>>> \n>>> def testKetOne2B():\n...     initial_state = [0,1]\n...     qc = reverse_b(initial_state)\n...     qc.remove_final_measurements()\n...     sv = Statevector.from_instruction(qc)\n...     return sv.equiv(Statevector([0,1]))\n...     \n>>> testKetZero2B() and testKetOne2B()\nTrue",
         "failure_message": "Basis states not passing.",
         "hidden": false,
         "locked": false,
         "points": 2
        },
        {
         "code": ">>> def testRandomSimple2B():\n...     c = random.uniform(0, 2*np.pi)\n...     initial_state = [(np.cos(c)), (np.sin(c))]\n...     qc = reverse_b(initial_state)\n...     qc.remove_final_measurements()\n...     sv = Statevector.from_instruction(qc)\n...     return sv.equiv(Statevector(initial_state))\n...     \n>>> testRandomSimple2B()\nTrue",
         "failure_message": "Random state not passing.",
         "hidden": false,
         "locked": false,
         "points": 4
        }
       ],
       "scored": true,
       "setup": "",
       "teardown": "",
       "type": "doctest"
      }
     ]
    },
    "Task 2C": {
     "name": "Task 2C",
     "points": 10,
     "suites": [
      {
       "cases": [
        {
         "code": ">>> def testAcceptableGateUsage2C():\n...     ops = reverse_c().count_ops()\n...     x = ops['x'] == 1\n...     y = not 'y' in ops\n...     z = ops['z'] == 1\n...     h = not 'h' in ops\n...     p = ops['p'] == 5\n...     try:\n...         u = ops['u'] == 1\n...     except KeyError:\n...         u = False\n...     return all([x,y,z,h,p,u])\n...     \n>>> testAcceptableGateUsage2C()\nTrue",
         "failure_message": "Circuit requirements not satisfied, check bullet list.",
         "hidden": false,
         "locked": false,
         "points": 4
        },
        {
         "code": ">>> def testKetZero2C():\n...     qc = reverse_c()\n...     qc.remove_final_measurements()\n...     sv = Statevector.from_instruction(qc)\n...     return sv.equiv(Statevector([1,0]))\n>>> \n>>> def testKetOne2C():\n...     initial_state = [0,1]\n...     qc = reverse_c(initial_state)\n...     qc.remove_final_measurements()\n...     sv = Statevector.from_instruction(qc)\n...     return sv.equiv(Statevector([0,1]))\n...     \n>>> testKetZero2C() and testKetOne2C()\nTrue",
         "failure_message": "Basis states not passing.",
         "hidden": false,
         "locked": false,
         "points": 2
        },
        {
         "code": ">>> def testRandomSimple2C():\n...     c = random.uniform(0, 2*np.pi)\n...     initial_state = [(np.cos(c)), (np.sin(c))]\n...     qc = reverse_c(initial_state)\n...     qc.remove_final_measurements()\n...     sv = Statevector.from_instruction(qc)\n...     return sv.equiv(Statevector(initial_state))\n...     \n>>> testRandomSimple2C()\nTrue",
         "failure_message": "Random state not passing.",
         "hidden": false,
         "locked": false,
         "points": 4
        }
       ],
       "scored": true,
       "setup": "",
       "teardown": "",
       "type": "doctest"
      }
     ]
    }
   }
  }
 },
 "nbformat": 4,
 "nbformat_minor": 5
}
