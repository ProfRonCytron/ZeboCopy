{
 "cells": [
  {
   "cell_type": "raw",
   "metadata": {
    "colab": {
     "base_uri": "https://localhost:8080/",
     "height": 106
    },
    "id": "LkEewBFnT9xM",
    "outputId": "527ff972-55f5-4327-d634-7eeb9786de7b"
   },
   "source": [
    "# ASSIGNMENT CONFIG\n",
    "config_file: ../config.yml"
   ]
  },
  {
   "cell_type": "markdown",
   "metadata": {
    "id": "97f03115"
   },
   "source": [
    "## Qiskit Assignment 000\n",
    "## README\n",
    "Welcome to your first Quantum Computing assignment! This semester we are using Jupyter Notebooks to distribute assignments and collect your solutions. An advantage of this approach is that much of your work can be automatically graded."
   ]
  },
  {
   "cell_type": "code",
   "execution_count": 3,
   "metadata": {
    "id": "XE2AwONGAOhw"
   },
   "outputs": [],
   "source": [
    "from ipywidgets import interact, interactive, fixed, interact_manual\n",
    "import ipywidgets as widgets\n",
    "from IPython.display import display"
   ]
  },
  {
   "cell_type": "code",
   "execution_count": 4,
   "metadata": {
    "id": "a635Wkc_FNnD"
   },
   "outputs": [],
   "source": [
    "def gen(choices):\n",
    "  return interactive (lambda ans:ans, ans=choices)"
   ]
  },
  {
   "cell_type": "raw",
   "metadata": {
    "id": "ySutt09gVaye"
   },
   "source": [
    "# BEGIN QUESTION\n",
    "name: q1"
   ]
  },
  {
   "cell_type": "markdown",
   "metadata": {
    "id": "Ud7DXUHt-9Jf"
   },
   "source": [
    "What is $1+1$?"
   ]
  },
  {
   "cell_type": "raw",
   "metadata": {
    "id": "Z9R1-Do4V4vX"
   },
   "source": [
    "# BEGIN SOLUTION"
   ]
  },
  {
   "cell_type": "code",
   "execution_count": 5,
   "metadata": {
    "colab": {
     "base_uri": "https://localhost:8080/",
     "height": 49,
     "referenced_widgets": [
      "d5772f7c92164ea4ab0afc4e42087ab6",
      "58c521e6c3fb4169958e54cf5051949b",
      "48fa5c4541254ad89a37e0a1d2d6ecbb",
      "22b01087cd0c4fb2bb69e6ecde0f150c",
      "761439b902e6409ead073a5ea81da2eb",
      "77863af29d4d4171b9d5a48e2b40b4a2",
      "ef6aadd200a9429bbe2de3904d37d27d"
     ]
    },
    "id": "fTw8EFxE_Cl8",
    "outputId": "ef2915c6-ae4f-4e70-a8d7-aba7523d6adc"
   },
   "outputs": [
    {
     "data": {
      "application/vnd.jupyter.widget-view+json": {
       "model_id": "d5772f7c92164ea4ab0afc4e42087ab6",
       "version_major": 2,
       "version_minor": 0
      },
      "text/plain": [
       "interactive(children=(Dropdown(description='ans', options=(0, 1, 2), value=0), Output()), _dom_classes=('widge…"
      ]
     },
     "metadata": {},
     "output_type": "display_data"
    }
   ],
   "source": [
    "ans1 = gen([0,1,2])\n",
    "display(ans1)"
   ]
  },
  {
   "cell_type": "code",
   "execution_count": null,
   "metadata": {
    "colab": {
     "base_uri": "https://localhost:8080/"
    },
    "id": "kTJi5X1yEgkL",
    "outputId": "d3aceaf4-edf3-4506-f255-08226bbe1053"
   },
   "outputs": [
    {
     "data": {
      "text/plain": [
       "71"
      ]
     },
     "execution_count": 7,
     "metadata": {},
     "output_type": "execute_result"
    }
   ],
   "source": [
    "result1 = ans1.result"
   ]
  },
  {
   "cell_type": "raw",
   "metadata": {
    "id": "oQlT4tYMV_GD"
   },
   "source": [
    "# END SOLUTION"
   ]
  },
  {
   "cell_type": "raw",
   "metadata": {
    "id": "SUHBoEBdWS28"
   },
   "source": [
    "# BEGIN TESTS"
   ]
  },
  {
   "cell_type": "code",
   "execution_count": null,
   "metadata": {
    "id": "T7vaGtmQWYxG"
   },
   "outputs": [],
   "source": [
    "assert result1 == 2"
   ]
  },
  {
   "cell_type": "raw",
   "metadata": {},
   "source": [
    "# END TESTS"
   ]
  },
  {
   "cell_type": "raw",
   "metadata": {
    "id": "kLN8qKvHWcIn"
   },
   "source": [
    "# END QUESTION"
   ]
  }
 ],
 "metadata": {
  "colab": {
   "provenance": []
  },
  "kernelspec": {
   "display_name": "Python 3",
   "language": "python",
   "name": "python3"
  },
  "language_info": {
   "codemirror_mode": {
    "name": "ipython",
    "version": 3
   },
   "file_extension": ".py",
   "mimetype": "text/x-python",
   "name": "python",
   "nbconvert_exporter": "python",
   "pygments_lexer": "ipython3",
   "version": "3.7.4"
  },
  "otter": {
   "OK_FORMAT": true,
   "tests": {
    "Task 1": {
     "name": "Task 1",
     "points": 20,
     "suites": [
      {
       "cases": [
        {
         "code": ">>> isinstance(simpleCircuit(), QuantumCircuit)\nTrue",
         "failure_message": "EXPECTED FUNCTION TO RETURN TYPE QuantumCircuit",
         "hidden": false,
         "locked": false,
         "points": 1
        },
        {
         "code": ">>> simpleCircuit().num_clbits == 1\nTrue",
         "failure_message": "EXPECTED CIRCUIT TO HAVE 1 CLASSICAL BIT",
         "hidden": false,
         "locked": false,
         "points": 1
        },
        {
         "code": ">>> simpleCircuit().num_qubits == 1\nTrue",
         "failure_message": "EXPECTED CIRCUIT TO HAVE 1 QUBIT",
         "hidden": false,
         "locked": false,
         "points": 1
        },
        {
         "code": ">>> def testMeasurementPerformedSimple():\n...     ops = simpleCircuit().count_ops()\n...     return (ops['measure'] == 1 if 'measure' in ops else False)\n>>> \n>>> testMeasurementPerformedSimple()\nTrue",
         "failure_message": "EXPECTED CIRCUIT TO PERFORM A MEASUREMENT",
         "hidden": false,
         "locked": false,
         "points": 1
        },
        {
         "code": ">>> def testProbabilitiesSimple():\n...     qc = simpleCircuit()\n...     job = execute(qc, BasicAer.get_backend('statevector_simulator'), shots=1)\n...     return list(job.result().get_statevector(qc)) == [1,0]\n>>> \n>>> testProbabilitiesSimple()\nTrue",
         "failure_message": "EXPECTED CIRCUIT TO PRODUCE STATE |0>",
         "hidden": false,
         "locked": false,
         "points": 1
        },
        {
         "code": ">>> def testMeasurementPerformedSimple():\n...     ops = simpleCircuit().count_ops()\n...     return (ops['measure'] == 1 if 'measure' in ops else False)\n>>> def testProbabilitiesSimple():\n...     qc = simpleCircuit()\n...     job = execute(qc, BasicAer.get_backend('statevector_simulator'), shots=1)\n...     return list(job.result().get_statevector(qc)) == [1,0]\n>>> \n>>> isinstance(simpleCircuit(), QuantumCircuit) \\\n... and simpleCircuit().num_clbits == 1 \\\n... and simpleCircuit().num_qubits == 1 \\\n... and testMeasurementPerformedSimple() \\\n... and testProbabilitiesSimple()\nTrue",
         "failure_message": "ONE OF THE ABOVE TESTS IS NOT PASSING",
         "hidden": false,
         "locked": false,
         "points": 15
        }
       ],
       "scored": true,
       "setup": "",
       "teardown": "",
       "type": "doctest"
      }
     ]
    },
    "Task 3": {
     "name": "Task 3",
     "points": 10,
     "suites": [
      {
       "cases": [
        {
         "code": ">>> '0' in counts and counts['0'] == 468\nTrue",
         "failure_message": "EXPECTED simpleCircuit TO BE RUN 468 TIMES",
         "hidden": false,
         "locked": false,
         "points": 10
        }
       ],
       "scored": true,
       "setup": "",
       "teardown": "",
       "type": "doctest"
      }
     ]
    },
    "Task 5": {
     "name": "Task 5",
     "points": 15,
     "suites": [
      {
       "cases": [
        {
         "code": ">>> isinstance(opposites(), QuantumCircuit)\nTrue",
         "failure_message": "EXPECTED FUNCTION TO RETURN TYPE QuantumCircuit",
         "hidden": false,
         "locked": false,
         "points": 1
        },
        {
         "code": ">>> opposites().num_clbits == 2\nTrue",
         "failure_message": "EXPECTED CIRCUIT TO HAVE 2 CLASSICAL BITS",
         "hidden": false,
         "locked": false,
         "points": 1
        },
        {
         "code": ">>> opposites().num_qubits == 2\nTrue",
         "failure_message": "EXPECTED CIRCUIT TO HAVE 2 QUBITS",
         "hidden": false,
         "locked": false,
         "points": 1
        },
        {
         "code": ">>> def testNoInitialize():\n...     ops = opposites().count_ops()\n...     return 'initialize' not in ops\n>>> \n>>> testNoInitialize()\nTrue",
         "failure_message": "CIRCUIT SHOULD NOT USE INITIALIZE",
         "hidden": false,
         "locked": false,
         "points": 1
        },
        {
         "code": ">>> def testRequirementsOpposites():\n...     ops = opposites().count_ops()\n...     if 'measure' not in ops:\n...         return False\n...     x = 'x' in ops and ops['x'] == 1\n...     return ops['measure'] == 2 and x\n>>> \n>>> testRequirementsOpposites()\nTrue",
         "failure_message": "CIRCUIT SHOULD MEASURE EACH QUBIT TO ITS CORRESPONDING CLASSICAL BIT",
         "hidden": false,
         "locked": false,
         "points": 1
        },
        {
         "code": ">>> def testProbabilitiesOpposites():\n...     qc = opposites().reverse_bits()\n...     job = execute(qc, BasicAer.get_backend('statevector_simulator'), shots=10)\n...     return list(job.result().get_statevector(qc)) == [0, 1, 0, 0]\n>>> \n>>> testProbabilitiesOpposites()\nTrue",
         "failure_message": "Measured unexpected state.",
         "hidden": false,
         "locked": false,
         "points": 1
        },
        {
         "code": ">>> \n>>> def testNoInitialize():\n...     ops = opposites().count_ops()\n...     return 'initialize' not in ops\n>>> def testProbabilitiesOpposites():\n...     qc = opposites().reverse_bits()\n...     job = execute(qc, BasicAer.get_backend('statevector_simulator'), shots=10)\n...     return list(job.result().get_statevector(qc)) == [0, 1, 0, 0]\n>>> def testRequirementsOpposites():\n...     ops = opposites().count_ops()\n...     if 'measure' not in ops:\n...         return False\n...     x = 'x' in ops and ops['x'] == 1\n...     return ops['measure'] == 2 and x\n>>> \n>>> isinstance(opposites(), QuantumCircuit) \\\n... and opposites().num_clbits == 2 \\\n... and opposites().num_qubits == 2 \\\n... and testNoInitialize() \\\n... and testRequirementsOpposites() \\\n... and testProbabilitiesOpposites()\nTrue",
         "failure_message": "ONE OF THE ABOVE TESTS IS NOT PASSING",
         "hidden": false,
         "locked": false,
         "points": 9
        }
       ],
       "scored": true,
       "setup": "",
       "teardown": "",
       "type": "doctest"
      }
     ]
    },
    "Task 6": {
     "name": "Task 6",
     "points": 15,
     "suites": [
      {
       "cases": [
        {
         "code": ">>> '01' in counts_oppo and counts_oppo['01'] == 468\nTrue",
         "failure_message": "EXPECTED opposites TO BE RUN 468 TIMES",
         "hidden": false,
         "locked": false,
         "points": 15
        }
       ],
       "scored": true,
       "setup": "",
       "teardown": "",
       "type": "doctest"
      }
     ]
    }
   }
  },
  "widgets": {
   "application/vnd.jupyter.widget-state+json": {
    "22b01087cd0c4fb2bb69e6ecde0f150c": {
     "model_module": "@jupyter-widgets/base",
     "model_module_version": "1.2.0",
     "model_name": "LayoutModel",
     "state": {
      "_model_module": "@jupyter-widgets/base",
      "_model_module_version": "1.2.0",
      "_model_name": "LayoutModel",
      "_view_count": null,
      "_view_module": "@jupyter-widgets/base",
      "_view_module_version": "1.2.0",
      "_view_name": "LayoutView",
      "align_content": null,
      "align_items": null,
      "align_self": null,
      "border": null,
      "bottom": null,
      "display": null,
      "flex": null,
      "flex_flow": null,
      "grid_area": null,
      "grid_auto_columns": null,
      "grid_auto_flow": null,
      "grid_auto_rows": null,
      "grid_column": null,
      "grid_gap": null,
      "grid_row": null,
      "grid_template_areas": null,
      "grid_template_columns": null,
      "grid_template_rows": null,
      "height": null,
      "justify_content": null,
      "justify_items": null,
      "left": null,
      "margin": null,
      "max_height": null,
      "max_width": null,
      "min_height": null,
      "min_width": null,
      "object_fit": null,
      "object_position": null,
      "order": null,
      "overflow": null,
      "overflow_x": null,
      "overflow_y": null,
      "padding": null,
      "right": null,
      "top": null,
      "visibility": null,
      "width": null
     }
    },
    "48fa5c4541254ad89a37e0a1d2d6ecbb": {
     "model_module": "@jupyter-widgets/output",
     "model_module_version": "1.0.0",
     "model_name": "OutputModel",
     "state": {
      "_dom_classes": [],
      "_model_module": "@jupyter-widgets/output",
      "_model_module_version": "1.0.0",
      "_model_name": "OutputModel",
      "_view_count": null,
      "_view_module": "@jupyter-widgets/output",
      "_view_module_version": "1.0.0",
      "_view_name": "OutputView",
      "layout": "IPY_MODEL_ef6aadd200a9429bbe2de3904d37d27d",
      "msg_id": "",
      "outputs": []
     }
    },
    "58c521e6c3fb4169958e54cf5051949b": {
     "model_module": "@jupyter-widgets/controls",
     "model_module_version": "1.5.0",
     "model_name": "DropdownModel",
     "state": {
      "_dom_classes": [],
      "_model_module": "@jupyter-widgets/controls",
      "_model_module_version": "1.5.0",
      "_model_name": "DropdownModel",
      "_options_labels": [
       "0",
       "1",
       "2"
      ],
      "_view_count": null,
      "_view_module": "@jupyter-widgets/controls",
      "_view_module_version": "1.5.0",
      "_view_name": "DropdownView",
      "description": "ans",
      "description_tooltip": null,
      "disabled": false,
      "index": 2,
      "layout": "IPY_MODEL_761439b902e6409ead073a5ea81da2eb",
      "style": "IPY_MODEL_77863af29d4d4171b9d5a48e2b40b4a2"
     }
    },
    "761439b902e6409ead073a5ea81da2eb": {
     "model_module": "@jupyter-widgets/base",
     "model_module_version": "1.2.0",
     "model_name": "LayoutModel",
     "state": {
      "_model_module": "@jupyter-widgets/base",
      "_model_module_version": "1.2.0",
      "_model_name": "LayoutModel",
      "_view_count": null,
      "_view_module": "@jupyter-widgets/base",
      "_view_module_version": "1.2.0",
      "_view_name": "LayoutView",
      "align_content": null,
      "align_items": null,
      "align_self": null,
      "border": null,
      "bottom": null,
      "display": null,
      "flex": null,
      "flex_flow": null,
      "grid_area": null,
      "grid_auto_columns": null,
      "grid_auto_flow": null,
      "grid_auto_rows": null,
      "grid_column": null,
      "grid_gap": null,
      "grid_row": null,
      "grid_template_areas": null,
      "grid_template_columns": null,
      "grid_template_rows": null,
      "height": null,
      "justify_content": null,
      "justify_items": null,
      "left": null,
      "margin": null,
      "max_height": null,
      "max_width": null,
      "min_height": null,
      "min_width": null,
      "object_fit": null,
      "object_position": null,
      "order": null,
      "overflow": null,
      "overflow_x": null,
      "overflow_y": null,
      "padding": null,
      "right": null,
      "top": null,
      "visibility": null,
      "width": null
     }
    },
    "77863af29d4d4171b9d5a48e2b40b4a2": {
     "model_module": "@jupyter-widgets/controls",
     "model_module_version": "1.5.0",
     "model_name": "DescriptionStyleModel",
     "state": {
      "_model_module": "@jupyter-widgets/controls",
      "_model_module_version": "1.5.0",
      "_model_name": "DescriptionStyleModel",
      "_view_count": null,
      "_view_module": "@jupyter-widgets/base",
      "_view_module_version": "1.2.0",
      "_view_name": "StyleView",
      "description_width": ""
     }
    },
    "d5772f7c92164ea4ab0afc4e42087ab6": {
     "model_module": "@jupyter-widgets/controls",
     "model_module_version": "1.5.0",
     "model_name": "VBoxModel",
     "state": {
      "_dom_classes": [
       "widget-interact"
      ],
      "_model_module": "@jupyter-widgets/controls",
      "_model_module_version": "1.5.0",
      "_model_name": "VBoxModel",
      "_view_count": null,
      "_view_module": "@jupyter-widgets/controls",
      "_view_module_version": "1.5.0",
      "_view_name": "VBoxView",
      "box_style": "",
      "children": [
       "IPY_MODEL_58c521e6c3fb4169958e54cf5051949b",
       "IPY_MODEL_48fa5c4541254ad89a37e0a1d2d6ecbb"
      ],
      "layout": "IPY_MODEL_22b01087cd0c4fb2bb69e6ecde0f150c"
     }
    },
    "ef6aadd200a9429bbe2de3904d37d27d": {
     "model_module": "@jupyter-widgets/base",
     "model_module_version": "1.2.0",
     "model_name": "LayoutModel",
     "state": {
      "_model_module": "@jupyter-widgets/base",
      "_model_module_version": "1.2.0",
      "_model_name": "LayoutModel",
      "_view_count": null,
      "_view_module": "@jupyter-widgets/base",
      "_view_module_version": "1.2.0",
      "_view_name": "LayoutView",
      "align_content": null,
      "align_items": null,
      "align_self": null,
      "border": null,
      "bottom": null,
      "display": null,
      "flex": null,
      "flex_flow": null,
      "grid_area": null,
      "grid_auto_columns": null,
      "grid_auto_flow": null,
      "grid_auto_rows": null,
      "grid_column": null,
      "grid_gap": null,
      "grid_row": null,
      "grid_template_areas": null,
      "grid_template_columns": null,
      "grid_template_rows": null,
      "height": null,
      "justify_content": null,
      "justify_items": null,
      "left": null,
      "margin": null,
      "max_height": null,
      "max_width": null,
      "min_height": null,
      "min_width": null,
      "object_fit": null,
      "object_position": null,
      "order": null,
      "overflow": null,
      "overflow_x": null,
      "overflow_y": null,
      "padding": null,
      "right": null,
      "top": null,
      "visibility": null,
      "width": null
     }
    }
   }
  }
 },
 "nbformat": 4,
 "nbformat_minor": 5
}
